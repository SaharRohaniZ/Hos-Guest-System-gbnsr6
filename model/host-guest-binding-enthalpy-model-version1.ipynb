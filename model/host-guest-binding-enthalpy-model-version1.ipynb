{
 "cells": [
  {
   "cell_type": "markdown",
   "metadata": {},
   "source": [
    "<h1>Installing RDKit</h1>"
   ]
  },
  {
   "cell_type": "code",
   "execution_count": 1,
   "metadata": {},
   "outputs": [],
   "source": [
    "import rdkit\n",
    "import deepchem as dc\n",
    "import pandas as pd\n",
    "import numpy as np\n",
    "import tensorflow as tf\n",
    "import sklearn"
   ]
  },
  {
   "cell_type": "code",
   "execution_count": 2,
   "metadata": {},
   "outputs": [
    {
     "data": {
      "text/plain": [
       "'2.5.0'"
      ]
     },
     "execution_count": 2,
     "metadata": {},
     "output_type": "execute_result"
    }
   ],
   "source": [
    "dc.__version__"
   ]
  },
  {
   "cell_type": "code",
   "execution_count": 3,
   "metadata": {},
   "outputs": [
    {
     "data": {
      "text/plain": [
       "'1.19.5'"
      ]
     },
     "execution_count": 3,
     "metadata": {},
     "output_type": "execute_result"
    }
   ],
   "source": [
    "np.__version__"
   ]
  },
  {
   "cell_type": "code",
   "execution_count": 4,
   "metadata": {},
   "outputs": [
    {
     "data": {
      "text/plain": [
       "'2.6.0'"
      ]
     },
     "execution_count": 4,
     "metadata": {},
     "output_type": "execute_result"
    }
   ],
   "source": [
    "tf.__version__"
   ]
  },
  {
   "cell_type": "code",
   "execution_count": 5,
   "metadata": {},
   "outputs": [],
   "source": [
    "df = pd.read_csv('https://raw.githubusercontent.com/saharctech/Binding-Free-Energy-Prediction-Host-Guest-System/master/Results/dataset.csv')"
   ]
  },
  {
   "cell_type": "code",
   "execution_count": 6,
   "metadata": {},
   "outputs": [
    {
     "data": {
      "text/html": [
       "<div>\n",
       "<style scoped>\n",
       "    .dataframe tbody tr th:only-of-type {\n",
       "        vertical-align: middle;\n",
       "    }\n",
       "\n",
       "    .dataframe tbody tr th {\n",
       "        vertical-align: top;\n",
       "    }\n",
       "\n",
       "    .dataframe thead th {\n",
       "        text-align: right;\n",
       "    }\n",
       "</style>\n",
       "<table border=\"1\" class=\"dataframe\">\n",
       "  <thead>\n",
       "    <tr style=\"text-align: right;\">\n",
       "      <th></th>\n",
       "      <th>dataset group name</th>\n",
       "      <th>Dataset Name</th>\n",
       "      <th>Host</th>\n",
       "      <th>Guest</th>\n",
       "      <th>Ex _G_(kcal/mol)</th>\n",
       "      <th>Ex _G_SEM</th>\n",
       "      <th>EX _H_(kcal/mol)</th>\n",
       "      <th>EX _H_SEM</th>\n",
       "      <th>pb_guest_Etot</th>\n",
       "      <th>pb_guest_VDWAALS</th>\n",
       "      <th>...</th>\n",
       "      <th>gb_host_1-4EEL</th>\n",
       "      <th>gb_host_EELEC</th>\n",
       "      <th>gb_host_EGB</th>\n",
       "      <th>gb_host_ESURF</th>\n",
       "      <th>gb_delta_H</th>\n",
       "      <th>pb_delta_H</th>\n",
       "      <th>EX _delta_H_(kcal/mol)</th>\n",
       "      <th>gb_Ex_difference</th>\n",
       "      <th>SQR_gbnsr6_Ex_difference</th>\n",
       "      <th>pb_Ex_difference</th>\n",
       "    </tr>\n",
       "  </thead>\n",
       "  <tbody>\n",
       "    <tr>\n",
       "      <th>0</th>\n",
       "      <td>Mobley benchmarkset</td>\n",
       "      <td>cd-set1</td>\n",
       "      <td>acd</td>\n",
       "      <td>guest-1</td>\n",
       "      <td>-1.575</td>\n",
       "      <td>0.019</td>\n",
       "      <td>-2.17</td>\n",
       "      <td>0.05</td>\n",
       "      <td>-47.8832</td>\n",
       "      <td>-0.0564</td>\n",
       "      <td>...</td>\n",
       "      <td>423.5761</td>\n",
       "      <td>-428.9520</td>\n",
       "      <td>-96.4471</td>\n",
       "      <td>5.1691</td>\n",
       "      <td>-1.9950</td>\n",
       "      <td>-0.8408</td>\n",
       "      <td>-2.17</td>\n",
       "      <td>0.1750</td>\n",
       "      <td>0.030625</td>\n",
       "      <td>1.3292</td>\n",
       "    </tr>\n",
       "    <tr>\n",
       "      <th>1</th>\n",
       "      <td>Mobley benchmarkset</td>\n",
       "      <td>cd-set1</td>\n",
       "      <td>acd</td>\n",
       "      <td>guest-2</td>\n",
       "      <td>-3.533</td>\n",
       "      <td>0.004</td>\n",
       "      <td>-4.19</td>\n",
       "      <td>0.02</td>\n",
       "      <td>-52.0758</td>\n",
       "      <td>-0.3831</td>\n",
       "      <td>...</td>\n",
       "      <td>412.6663</td>\n",
       "      <td>-397.9784</td>\n",
       "      <td>-106.4154</td>\n",
       "      <td>5.0726</td>\n",
       "      <td>-11.2624</td>\n",
       "      <td>-8.4809</td>\n",
       "      <td>-4.19</td>\n",
       "      <td>-7.0724</td>\n",
       "      <td>50.018842</td>\n",
       "      <td>-4.2909</td>\n",
       "    </tr>\n",
       "    <tr>\n",
       "      <th>2</th>\n",
       "      <td>Mobley benchmarkset</td>\n",
       "      <td>cd-set1</td>\n",
       "      <td>acd</td>\n",
       "      <td>guest-3</td>\n",
       "      <td>-4.606</td>\n",
       "      <td>0.007</td>\n",
       "      <td>-5.46</td>\n",
       "      <td>0.03</td>\n",
       "      <td>-51.5323</td>\n",
       "      <td>-0.6493</td>\n",
       "      <td>...</td>\n",
       "      <td>426.2925</td>\n",
       "      <td>-429.3068</td>\n",
       "      <td>-95.2452</td>\n",
       "      <td>5.1352</td>\n",
       "      <td>-15.4074</td>\n",
       "      <td>-13.8234</td>\n",
       "      <td>-5.46</td>\n",
       "      <td>-9.9474</td>\n",
       "      <td>98.950767</td>\n",
       "      <td>-8.3634</td>\n",
       "    </tr>\n",
       "    <tr>\n",
       "      <th>3</th>\n",
       "      <td>Mobley benchmarkset</td>\n",
       "      <td>cd-set1</td>\n",
       "      <td>acd</td>\n",
       "      <td>guest-4</td>\n",
       "      <td>-2.130</td>\n",
       "      <td>0.016</td>\n",
       "      <td>-2.74</td>\n",
       "      <td>0.02</td>\n",
       "      <td>2.3898</td>\n",
       "      <td>-0.0159</td>\n",
       "      <td>...</td>\n",
       "      <td>420.0687</td>\n",
       "      <td>-416.5215</td>\n",
       "      <td>-97.4461</td>\n",
       "      <td>5.0849</td>\n",
       "      <td>-10.5586</td>\n",
       "      <td>-11.3319</td>\n",
       "      <td>-2.74</td>\n",
       "      <td>-7.8186</td>\n",
       "      <td>61.130506</td>\n",
       "      <td>-8.5919</td>\n",
       "    </tr>\n",
       "    <tr>\n",
       "      <th>4</th>\n",
       "      <td>Mobley benchmarkset</td>\n",
       "      <td>cd-set1</td>\n",
       "      <td>acd</td>\n",
       "      <td>guest-5</td>\n",
       "      <td>-2.510</td>\n",
       "      <td>0.060</td>\n",
       "      <td>-2.99</td>\n",
       "      <td>0.23</td>\n",
       "      <td>-3.2280</td>\n",
       "      <td>-0.9041</td>\n",
       "      <td>...</td>\n",
       "      <td>425.7315</td>\n",
       "      <td>-435.9689</td>\n",
       "      <td>-91.2312</td>\n",
       "      <td>5.0881</td>\n",
       "      <td>-14.5517</td>\n",
       "      <td>-14.0485</td>\n",
       "      <td>-2.99</td>\n",
       "      <td>-11.5617</td>\n",
       "      <td>133.672907</td>\n",
       "      <td>-11.0585</td>\n",
       "    </tr>\n",
       "  </tbody>\n",
       "</table>\n",
       "<p>5 rows × 44 columns</p>\n",
       "</div>"
      ],
      "text/plain": [
       "    dataset group name Dataset Name Host    Guest  Ex _G_(kcal/mol)  \\\n",
       "0  Mobley benchmarkset      cd-set1  acd  guest-1            -1.575   \n",
       "1  Mobley benchmarkset      cd-set1  acd  guest-2            -3.533   \n",
       "2  Mobley benchmarkset      cd-set1  acd  guest-3            -4.606   \n",
       "3  Mobley benchmarkset      cd-set1  acd  guest-4            -2.130   \n",
       "4  Mobley benchmarkset      cd-set1  acd  guest-5            -2.510   \n",
       "\n",
       "   Ex _G_SEM  EX _H_(kcal/mol)  EX _H_SEM  pb_guest_Etot  pb_guest_VDWAALS  \\\n",
       "0      0.019             -2.17       0.05       -47.8832           -0.0564   \n",
       "1      0.004             -4.19       0.02       -52.0758           -0.3831   \n",
       "2      0.007             -5.46       0.03       -51.5323           -0.6493   \n",
       "3      0.016             -2.74       0.02         2.3898           -0.0159   \n",
       "4      0.060             -2.99       0.23        -3.2280           -0.9041   \n",
       "\n",
       "   ...  gb_host_1-4EEL  gb_host_EELEC  gb_host_EGB  gb_host_ESURF  gb_delta_H  \\\n",
       "0  ...        423.5761      -428.9520     -96.4471         5.1691     -1.9950   \n",
       "1  ...        412.6663      -397.9784    -106.4154         5.0726    -11.2624   \n",
       "2  ...        426.2925      -429.3068     -95.2452         5.1352    -15.4074   \n",
       "3  ...        420.0687      -416.5215     -97.4461         5.0849    -10.5586   \n",
       "4  ...        425.7315      -435.9689     -91.2312         5.0881    -14.5517   \n",
       "\n",
       "   pb_delta_H  EX _delta_H_(kcal/mol)  gb_Ex_difference  \\\n",
       "0     -0.8408                   -2.17            0.1750   \n",
       "1     -8.4809                   -4.19           -7.0724   \n",
       "2    -13.8234                   -5.46           -9.9474   \n",
       "3    -11.3319                   -2.74           -7.8186   \n",
       "4    -14.0485                   -2.99          -11.5617   \n",
       "\n",
       "   SQR_gbnsr6_Ex_difference  pb_Ex_difference  \n",
       "0                  0.030625            1.3292  \n",
       "1                 50.018842           -4.2909  \n",
       "2                 98.950767           -8.3634  \n",
       "3                 61.130506           -8.5919  \n",
       "4                133.672907          -11.0585  \n",
       "\n",
       "[5 rows x 44 columns]"
      ]
     },
     "execution_count": 6,
     "metadata": {},
     "output_type": "execute_result"
    }
   ],
   "source": [
    "df.head()"
   ]
  },
  {
   "cell_type": "markdown",
   "metadata": {},
   "source": [
    "<h1>Reading Mobley PDB files</h1>\n",
    "<p>Here each PDB file will be read and saved in Mol data type defined in RDKit and used by DeepChem</p>"
   ]
  },
  {
   "cell_type": "code",
   "execution_count": 7,
   "metadata": {},
   "outputs": [],
   "source": [
    "# Dictionary with complex names as keys and molecule as values\n",
    "PDBs = {}\n",
    "from os import listdir\n",
    "from os.path import isfile, join\n",
    "mypath = '/Users/misspotato/Documents/Github/Binding-Free-Energy-Prediction-Host-Guest-System/PDB'\n",
    "onlyfiles = [f for f in listdir(mypath) if isfile(join(mypath, f))]\n",
    "for f in onlyfiles:\n",
    "    PDBs.update({f.split('.')[0].replace('s', '') : rdkit.Chem.rdmolfiles.MolFromPDBFile(mypath + '/' + f)})"
   ]
  },
  {
   "cell_type": "code",
   "execution_count": 8,
   "metadata": {},
   "outputs": [],
   "source": [
    "# Randomly shuffling the PDBs\n",
    "import random\n",
    "l = list(PDBs.items())\n",
    "random.shuffle(l)\n",
    "PDBs = dict(l)"
   ]
  },
  {
   "cell_type": "markdown",
   "metadata": {},
   "source": [
    "<h1>Featurizing</h1>\n",
    "<p>GraphConv model needs ConvMolFeaturizer</p>"
   ]
  },
  {
   "cell_type": "code",
   "execution_count": 9,
   "metadata": {},
   "outputs": [],
   "source": [
    "featurizer = dc.feat.ConvMolFeaturizer(per_atom_fragmentation=False)\n",
    "TRAIN_SET = .8\n",
    "VAL_SET = .2"
   ]
  },
  {
   "cell_type": "code",
   "execution_count": 10,
   "metadata": {},
   "outputs": [],
   "source": [
    "# PDBs.pop('',None)\n",
    "# X = []\n",
    "# X_ids = []\n",
    "# # one_add = 0 if len(PDBs.keys()) % 2 == 0 else 1\n",
    "# for k in PDBs.keys():\n",
    "#     X_ids.append(k)\n",
    "#     X.append(featurizer.featurize(PDBs[k]))\n",
    "# split_index = int(len(X) * TRAIN_SET)\n",
    "# X = [x[0] for x in X]\n",
    "# X_train_featurized = X[:split_index]\n",
    "# X_test_featurized = X[split_index:]"
   ]
  },
  {
   "cell_type": "code",
   "execution_count": 11,
   "metadata": {},
   "outputs": [],
   "source": [
    "PDBs.pop('',None)\n",
    "X = []\n",
    "X_ids = []\n",
    "# one_add = 0 if len(PDBs.keys()) % 2 == 0 else 1\n",
    "for k in PDBs.keys():\n",
    "    X_ids.append(k)\n",
    "    X.append(featurizer.featurize(PDBs[k]))\n",
    "train_split_index = int(len(X) * TRAIN_SET)\n",
    "val_split_index = int(len(X) * VAL_SET)\n",
    "X = [x[0] for x in X]\n",
    "X_train_featurized = X[:train_split_index]\n",
    "# X_val_featurized = X[train_split_index: (train_split_index + val_split_index)]\n",
    "X_val_featurized = X[train_split_index:]\n",
    "X_test_featurized = X[train_split_index:]"
   ]
  },
  {
   "cell_type": "code",
   "execution_count": 12,
   "metadata": {},
   "outputs": [],
   "source": [
    "host_names = [i.split('-')[0] for i in X_ids]\n",
    "guest_names = ['guest-' + (i.split('-')[1].replace('s', '')) for i in X_ids]"
   ]
  },
  {
   "cell_type": "code",
   "execution_count": 13,
   "metadata": {},
   "outputs": [],
   "source": [
    "# host_names_train = host_names[:split_index]\n",
    "# guest_names_train = guest_names[:split_index]\n",
    "# host_names_test = host_names[split_index:]\n",
    "# guest_names_test = guest_names[split_index:]"
   ]
  },
  {
   "cell_type": "code",
   "execution_count": 14,
   "metadata": {},
   "outputs": [],
   "source": [
    "# train\n",
    "host_names_train = host_names[:train_split_index]\n",
    "guest_names_train = guest_names[:train_split_index]\n",
    "# Val\n",
    "# host_names_val = host_names[train_split_index:(train_split_index + val_split_index)]\n",
    "# guest_names_val = guest_names[train_split_index:(train_split_index + val_split_index)]\n",
    "host_names_val = host_names[train_split_index:]\n",
    "guest_names_val = guest_names[train_split_index:]\n",
    "# test\n",
    "host_names_test = host_names[train_split_index:]\n",
    "guest_names_test = guest_names[train_split_index:]\n"
   ]
  },
  {
   "cell_type": "code",
   "execution_count": 15,
   "metadata": {},
   "outputs": [
    {
     "name": "stdout",
     "output_type": "stream",
     "text": [
      "8\n"
     ]
    }
   ],
   "source": [
    "a = set(host_names_train)\n",
    "print(len(a))"
   ]
  },
  {
   "cell_type": "code",
   "execution_count": 16,
   "metadata": {},
   "outputs": [
    {
     "name": "stdout",
     "output_type": "stream",
     "text": [
      "5\n"
     ]
    }
   ],
   "source": [
    "a = set(host_names_test)\n",
    "print(len(a))"
   ]
  },
  {
   "cell_type": "code",
   "execution_count": 17,
   "metadata": {},
   "outputs": [
    {
     "data": {
      "text/plain": [
       "['OAH',\n",
       " 'acd',\n",
       " 'temoa',\n",
       " 'OAH',\n",
       " 'acd',\n",
       " 'temoa',\n",
       " 'bcd',\n",
       " 'bcd',\n",
       " 'bcd',\n",
       " 'oa',\n",
       " 'bcd',\n",
       " 'bcd',\n",
       " 'acd',\n",
       " 'acd',\n",
       " 'acd']"
      ]
     },
     "execution_count": 17,
     "metadata": {},
     "output_type": "execute_result"
    }
   ],
   "source": [
    "host_names_test"
   ]
  },
  {
   "cell_type": "code",
   "execution_count": 18,
   "metadata": {},
   "outputs": [
    {
     "data": {
      "text/plain": [
       "['acd',\n",
       " 'temoa',\n",
       " 'OAH',\n",
       " 'acd',\n",
       " 'bcd',\n",
       " 'acd',\n",
       " 'bcd',\n",
       " 'bcd',\n",
       " 'OAME',\n",
       " 'acd',\n",
       " 'bcd',\n",
       " 'OAH',\n",
       " 'acd',\n",
       " 'oa',\n",
       " 'acd',\n",
       " 'bcd',\n",
       " 'CB8',\n",
       " 'bcd',\n",
       " 'OAA',\n",
       " 'bcd',\n",
       " 'bcd',\n",
       " 'bcd',\n",
       " 'acd',\n",
       " 'CB8',\n",
       " 'OAME',\n",
       " 'temoa',\n",
       " 'OAME',\n",
       " 'OAH',\n",
       " 'acd',\n",
       " 'acd',\n",
       " 'CB8',\n",
       " 'acd',\n",
       " 'CB8',\n",
       " 'temoa',\n",
       " 'oa',\n",
       " 'acd',\n",
       " 'bcd',\n",
       " 'bcd',\n",
       " 'oa',\n",
       " 'oa',\n",
       " 'acd',\n",
       " 'bcd',\n",
       " 'acd',\n",
       " 'OAH',\n",
       " 'acd',\n",
       " 'bcd',\n",
       " 'acd',\n",
       " 'acd',\n",
       " 'CB8',\n",
       " 'CB8',\n",
       " 'CB8',\n",
       " 'bcd',\n",
       " 'CB8',\n",
       " 'oa',\n",
       " 'bcd',\n",
       " 'bcd',\n",
       " 'acd']"
      ]
     },
     "execution_count": 18,
     "metadata": {},
     "output_type": "execute_result"
    }
   ],
   "source": [
    "host_names_train"
   ]
  },
  {
   "cell_type": "code",
   "execution_count": 19,
   "metadata": {},
   "outputs": [
    {
     "data": {
      "text/plain": [
       "15"
      ]
     },
     "execution_count": 19,
     "metadata": {},
     "output_type": "execute_result"
    }
   ],
   "source": [
    "len(host_names_test)"
   ]
  },
  {
   "cell_type": "code",
   "execution_count": 20,
   "metadata": {},
   "outputs": [
    {
     "data": {
      "text/plain": [
       "57"
      ]
     },
     "execution_count": 20,
     "metadata": {},
     "output_type": "execute_result"
    }
   ],
   "source": [
    "len(host_names_train)"
   ]
  },
  {
   "cell_type": "code",
   "execution_count": 21,
   "metadata": {},
   "outputs": [
    {
     "data": {
      "text/plain": [
       "15"
      ]
     },
     "execution_count": 21,
     "metadata": {},
     "output_type": "execute_result"
    }
   ],
   "source": [
    "len(host_names_val)"
   ]
  },
  {
   "cell_type": "code",
   "execution_count": 22,
   "metadata": {},
   "outputs": [],
   "source": [
    "# x_add_train, x_add_test, y_train, y_test = [], [], [], []\n",
    "# for i in range(len(host_names_train)):\n",
    "#     new_df = df[(df['Host'] == host_names_train[i]) & (df['Guest'] == guest_names_train[i])]\n",
    "#     y_train.append(new_df['EX _H_(kcal/mol)'].to_numpy()[0])\n",
    "#     x_add_train.append(new_df[[c for c in df.columns if ('Etot' not in c) and ('delta' not in c)\n",
    "#                          and ('Ex_difference' not in c) and ('gb_' in c or 'VDWAALS' in c)]].to_numpy()[0])\n",
    "# y_train = np.array(y_train)\n",
    "    \n",
    "# for i in range(len(host_names_test)):\n",
    "#     new_df = df[(df['Host'] == host_names_test[i]) & (df['Guest'] == guest_names_test[i])]\n",
    "#     y_test.append(new_df['EX _H_(kcal/mol)'].to_numpy()[0])\n",
    "#     x_add_test.append(new_df[[c for c in df.columns if ('Etot' not in c) and ('delta' not in c)\n",
    "#                          and ('Ex_difference' not in c) and ('gb_' in c or 'VDWAALS' in c)]].to_numpy()[0])\n",
    "# y_test = np.array(y_test)"
   ]
  },
  {
   "cell_type": "code",
   "execution_count": 23,
   "metadata": {},
   "outputs": [],
   "source": [
    "x_add_train, x_add_val, x_add_test, y_train, y_val, y_test = [], [], [], [], [], []\n",
    "# Train\n",
    "for i in range(len(host_names_train)):\n",
    "    new_df = df[(df['Host'] == host_names_train[i]) & (df['Guest'] == guest_names_train[i])]\n",
    "    y_train.append(new_df['EX _H_(kcal/mol)'].to_numpy()[0])\n",
    "    x_add_train.append(new_df[[c for c in df.columns if ('Etot' not in c) and ('delta' not in c)\n",
    "                         and ('Ex_difference' not in c) and ('gb_' in c or 'VDWAALS' in c)]].to_numpy()[0])\n",
    "y_train = np.array(y_train)\n",
    "# Val\n",
    "for i in range(len(host_names_val)):\n",
    "    new_df = df[(df['Host'] == host_names_val[i]) & (df['Guest'] == guest_names_val[i])]\n",
    "    y_val.append(new_df['EX _H_(kcal/mol)'].to_numpy()[0])\n",
    "    x_add_val.append(new_df[[c for c in df.columns if ('Etot' not in c) and ('delta' not in c)\n",
    "                         and ('Ex_difference' not in c) and ('gb_' in c or 'VDWAALS' in c)]].to_numpy()[0])\n",
    "y_val = np.array(y_val)\n",
    "\n",
    "# Test\n",
    "for i in range(len(host_names_test)):\n",
    "    new_df = df[(df['Host'] == host_names_test[i]) & (df['Guest'] == guest_names_test[i])]\n",
    "    y_test.append(new_df['EX _H_(kcal/mol)'].to_numpy()[0])\n",
    "    x_add_test.append(new_df[[c for c in df.columns if ('Etot' not in c) and ('delta' not in c)\n",
    "                         and ('Ex_difference' not in c) and ('gb_' in c or 'VDWAALS' in c)]].to_numpy()[0])\n",
    "y_test = np.array(y_test)"
   ]
  },
  {
   "cell_type": "code",
   "execution_count": 24,
   "metadata": {},
   "outputs": [
    {
     "data": {
      "text/plain": [
       "15"
      ]
     },
     "execution_count": 24,
     "metadata": {},
     "output_type": "execute_result"
    }
   ],
   "source": [
    "len(y_val)"
   ]
  },
  {
   "cell_type": "code",
   "execution_count": 25,
   "metadata": {},
   "outputs": [],
   "source": [
    "# from deepchem.metrics import to_one_hot\n",
    "# from deepchem.feat.mol_graphs import ConvMol\n",
    "\n",
    "# x_preprocessed_train, x_preprocessed_test = [], []\n",
    "\n",
    "# ## for X train\n",
    "# multiConvMol = ConvMol.agglomerate_mols(X_train_featurized)\n",
    "# x_preprocessed_train = [multiConvMol.get_atom_features(), multiConvMol.deg_slice, np.array(multiConvMol.membership)]\n",
    "# for i in range(1, len(multiConvMol.get_deg_adjacency_lists())):\n",
    "#     x_preprocessed_train.append(multiConvMol.get_deg_adjacency_lists()[i])\n",
    "# x_preprocessed_train.append(np.array(x_add_train))\n",
    "\n",
    "# ## for X test\n",
    "# multiConvMol = ConvMol.agglomerate_mols(X_test_featurized)\n",
    "# x_preprocessed_test = [multiConvMol.get_atom_features(), multiConvMol.deg_slice, np.array(multiConvMol.membership)]\n",
    "# for i in range(1, len(multiConvMol.get_deg_adjacency_lists())):\n",
    "#     x_preprocessed_test.append(multiConvMol.get_deg_adjacency_lists()[i])\n",
    "# x_preprocessed_test.append(np.array(x_add_test))"
   ]
  },
  {
   "cell_type": "code",
   "execution_count": 26,
   "metadata": {},
   "outputs": [],
   "source": [
    "from deepchem.metrics import to_one_hot\n",
    "from deepchem.feat.mol_graphs import ConvMol\n",
    "\n",
    "x_preprocessed_train, x_preprocessed_val, x_preprocessed_test = [], [], []\n",
    "\n",
    "## for X train\n",
    "multiConvMol = ConvMol.agglomerate_mols(X_train_featurized)\n",
    "x_preprocessed_train = [multiConvMol.get_atom_features(), multiConvMol.deg_slice, np.array(multiConvMol.membership)]\n",
    "for i in range(1, len(multiConvMol.get_deg_adjacency_lists())):\n",
    "    x_preprocessed_train.append(multiConvMol.get_deg_adjacency_lists()[i])\n",
    "x_preprocessed_train.append(np.array(x_add_train))\n",
    "\n",
    "## for X val\n",
    "multiConvMol = ConvMol.agglomerate_mols(X_val_featurized)\n",
    "x_preprocessed_val = [multiConvMol.get_atom_features(), multiConvMol.deg_slice, np.array(multiConvMol.membership)]\n",
    "for i in range(1, len(multiConvMol.get_deg_adjacency_lists())):\n",
    "    x_preprocessed_val.append(multiConvMol.get_deg_adjacency_lists()[i])\n",
    "x_preprocessed_val.append(np.array(x_add_val))\n",
    "\n",
    "\n",
    "## for X test\n",
    "multiConvMol = ConvMol.agglomerate_mols(X_test_featurized)\n",
    "x_preprocessed_test = [multiConvMol.get_atom_features(), multiConvMol.deg_slice, np.array(multiConvMol.membership)]\n",
    "for i in range(1, len(multiConvMol.get_deg_adjacency_lists())):\n",
    "    x_preprocessed_test.append(multiConvMol.get_deg_adjacency_lists()[i])\n",
    "x_preprocessed_test.append(np.array(x_add_test))"
   ]
  },
  {
   "cell_type": "code",
   "execution_count": 27,
   "metadata": {},
   "outputs": [],
   "source": [
    "# x_train = np.full([14, np.max([v.shape[0] for v in x_preprocessed_train]),\n",
    "#                   np.max([v.shape[1] for v in x_preprocessed_train if len(v.shape) > 1])], 1.123456)\n",
    "# for i,j in enumerate(x_preprocessed_train):\n",
    "#     if len(j.shape) > 1:\n",
    "#         x_train[i][:j.shape[0],:j.shape[1]] = np.array(j)\n",
    "#     else:\n",
    "#         x_train[i][:len(j), :1] = np.array(j).reshape(j.shape[0], 1)\n",
    "# x_train = x_train.reshape([1] + list(x_train.shape))\n",
    "\n",
    "# x_test = np.full([14, np.max([v.shape[0] for v in x_preprocessed_test]),\n",
    "#                   np.max([v.shape[1] for v in x_preprocessed_test if len(v.shape) > 1])], 1.123456)\n",
    "# for i,j in enumerate(x_preprocessed_test):\n",
    "#     if len(j.shape) > 1:\n",
    "#         x_test[i][:j.shape[0],:j.shape[1]] = np.array(j)\n",
    "#     else:\n",
    "#         x_test[i][:len(j), :1] = np.array(j).reshape(j.shape[0], 1)\n",
    "# x_test = x_test.reshape([1] + list(x_test.shape))"
   ]
  },
  {
   "cell_type": "code",
   "execution_count": 28,
   "metadata": {},
   "outputs": [],
   "source": [
    "# Train\n",
    "x_train = np.full([14, np.max([v.shape[0] for v in x_preprocessed_train]),\n",
    "                  np.max([v.shape[1] for v in x_preprocessed_train if len(v.shape) > 1])], 1.123456)\n",
    "for i,j in enumerate(x_preprocessed_train):\n",
    "    if len(j.shape) > 1:\n",
    "        x_train[i][:j.shape[0],:j.shape[1]] = np.array(j)\n",
    "    else:\n",
    "        x_train[i][:len(j), :1] = np.array(j).reshape(j.shape[0], 1)\n",
    "x_train = x_train.reshape([1] + list(x_train.shape))\n",
    "\n",
    "# Validation\n",
    "x_val = np.full([14, np.max([v.shape[0] for v in x_preprocessed_val]),\n",
    "                  np.max([v.shape[1] for v in x_preprocessed_val if len(v.shape) > 1])], 1.123456)\n",
    "for i,j in enumerate(x_preprocessed_val):\n",
    "    if len(j.shape) > 1:\n",
    "        x_val[i][:j.shape[0],:j.shape[1]] = np.array(j)\n",
    "    else:\n",
    "        x_val[i][:len(j), :1] = np.array(j).reshape(j.shape[0], 1)\n",
    "x_val = x_val.reshape([1] + list(x_val.shape))\n",
    "\n",
    "# Test\n",
    "x_test = np.full([14, np.max([v.shape[0] for v in x_preprocessed_test]),\n",
    "                  np.max([v.shape[1] for v in x_preprocessed_test if len(v.shape) > 1])], 1.123456)\n",
    "for i,j in enumerate(x_preprocessed_test):\n",
    "    if len(j.shape) > 1:\n",
    "        x_test[i][:j.shape[0],:j.shape[1]] = np.array(j)\n",
    "    else:\n",
    "        x_test[i][:len(j), :1] = np.array(j).reshape(j.shape[0], 1)\n",
    "x_test = x_test.reshape([1] + list(x_test.shape))"
   ]
  },
  {
   "cell_type": "markdown",
   "metadata": {},
   "source": [
    "<h1>Physics Guided Neural Network Model</h1>"
   ]
  },
  {
   "cell_type": "code",
   "execution_count": 29,
   "metadata": {},
   "outputs": [],
   "source": [
    "# X_features = []\n",
    "# for x_feat in X:\n",
    "#     multiConvMol = ConvMol.agglomerate_mols([x_feat])\n",
    "#     new_x_feat = [multiConvMol.get_atom_features(), multiConvMol.deg_slice, np.array(multiConvMol.membership)]\n",
    "#     for i in range(1, len(multiConvMol.get_deg_adjacency_lists())):\n",
    "#         new_x_feat.append(multiConvMol.get_deg_adjacency_lists()[i])\n",
    "#     X_features.append(new_x_feat)"
   ]
  },
  {
   "cell_type": "code",
   "execution_count": 30,
   "metadata": {},
   "outputs": [
    {
     "data": {
      "text/plain": [
       "57"
      ]
     },
     "execution_count": 30,
     "metadata": {},
     "output_type": "execute_result"
    }
   ],
   "source": [
    "## !!!!!!!! important\n",
    "## !!!!!!!! important\n",
    "## !!!!!!!! important\n",
    "## !!!!!!!! important\n",
    "batch_size = len(host_names_train)\n",
    "batch_size\n",
    "# batch_size=10"
   ]
  },
  {
   "cell_type": "code",
   "execution_count": 31,
   "metadata": {},
   "outputs": [
    {
     "name": "stderr",
     "output_type": "stream",
     "text": [
      "2021-10-12 18:34:35.778209: I tensorflow/core/platform/cpu_feature_guard.cc:142] This TensorFlow binary is optimized with oneAPI Deep Neural Network Library (oneDNN) to use the following CPU instructions in performance-critical operations:  AVX2 FMA\n",
      "To enable them in other operations, rebuild TensorFlow with the appropriate compiler flags.\n"
     ]
    }
   ],
   "source": [
    "from deepchem.models.layers import GraphConv, GraphPool, GraphGather\n",
    "import tensorflow as tf\n",
    "import tensorflow.keras.layers as layers\n",
    "from tensorflow.keras.layers import Dense, Input, BatchNormalization, Concatenate\n",
    "from tensorflow.keras import initializers\n",
    "\n",
    "\n",
    "class GBGraphConvModel(tf.keras.Model):\n",
    "\n",
    "  def modify_graphgather(self, batch_size):\n",
    "    self.readout.batch_size = batch_size\n",
    "    self.batch_size = batch_size\n",
    "  def __init__(self, batch_size):\n",
    "    super(GBGraphConvModel, self).__init__()\n",
    "    self.input_shapes = None\n",
    "    self.batch_size = batch_size\n",
    "    self.gc1 = GraphConv(32, activation_fn=tf.nn.tanh)\n",
    "    self.batch_norm1 = layers.BatchNormalization()\n",
    "    self.gp1 = GraphPool()\n",
    "\n",
    "    self.gc2 = GraphConv(32, activation_fn=tf.nn.tanh)\n",
    "    self.batch_norm2 = layers.BatchNormalization()\n",
    "    self.gp2 = GraphPool()\n",
    "\n",
    "    self.dense1 = layers.Dense(64, activation=tf.nn.tanh)\n",
    "    self.batch_norm3 = layers.BatchNormalization()\n",
    "    self.readout = GraphGather(batch_size=self.batch_size, activation_fn=tf.nn.tanh)\n",
    "\n",
    "    self.dense2 = layers.Dense(1)\n",
    "    self.dense3 = layers.Dense(1, \n",
    "         kernel_initializer=initializers.Constant([.5, -1, -1, 1, 1, 1, 1, 1, -1, -1, -1, -1, -1, -1, -1, -1]),\n",
    "         bias_initializer=initializers.Zeros())\n",
    "\n",
    "  def call(self, inputs):\n",
    "    inputs = inputs[0]\n",
    "    x = []\n",
    "#     input_shapes = [[4822, 75], [11, 2], [4822], [1142, 1], [1635, 2], [2042, 3],\n",
    "#                    [3, 4], [0, 5], [0, 6], [0, 7], [0, 8], [0, 9], [0, 10]]\n",
    "    for i in range(len(self.input_shapes)):\n",
    "        x.append(tf.reshape(inputs[i][inputs[i] != 1.123456], self.input_shapes[i]))\n",
    "    for i in range(1, len(self.input_shapes)):\n",
    "        x[i] = tf.cast(x[i], tf.int32)\n",
    "    x_add = tf.reshape(inputs[13][inputs[13] != 1.123456], [self.batch_size, 15])\n",
    "    gc1_output = self.gc1(x)\n",
    "    batch_norm1_output = self.batch_norm1(gc1_output)\n",
    "    gp1_output = self.gp1([batch_norm1_output] + x[1:])\n",
    "\n",
    "    gc2_output = self.gc2([gp1_output] + x[1:])\n",
    "    batch_norm2_output = self.batch_norm1(gc2_output)\n",
    "    gp2_output = self.gp2([batch_norm2_output] + x[1:])\n",
    "\n",
    "    dense1_output = self.dense1(gp2_output)\n",
    "    batch_norm3_output = self.batch_norm3(dense1_output)\n",
    "    readout_output = self.readout([batch_norm3_output] + x[1:])\n",
    "    \n",
    "    model_var = self.dense2(readout_output)\n",
    "    binding_affinity = tf.concat([model_var, x_add], axis=1)\n",
    "    return self.dense3(binding_affinity)\n",
    "hybrid_model = GBGraphConvModel(train_split_index)\n",
    "hybrid_model.compile(loss='mse', optimizer='adam')"
   ]
  },
  {
   "cell_type": "code",
   "execution_count": 32,
   "metadata": {
    "scrolled": true
   },
   "outputs": [],
   "source": [
    "# # Training\n",
    "# model.input_shapes = [i.shape for i in x_preprocessed_train]\n",
    "# history_train_hybrid = model.fit(x_train, y_train.reshape([1, -1]), epochs=100)"
   ]
  },
  {
   "cell_type": "code",
   "execution_count": 33,
   "metadata": {},
   "outputs": [],
   "source": [
    "# loss = model.fit(x_train, y_train.reshape([1, -1]), epochs=1)"
   ]
  },
  {
   "cell_type": "code",
   "execution_count": 34,
   "metadata": {},
   "outputs": [],
   "source": [
    "# loss.history['loss']"
   ]
  },
  {
   "cell_type": "code",
   "execution_count": 35,
   "metadata": {},
   "outputs": [
    {
     "name": "stderr",
     "output_type": "stream",
     "text": [
      "2021-10-12 18:34:35.875916: I tensorflow/compiler/mlir/mlir_graph_optimization_pass.cc:185] None of the MLIR Optimization Passes are enabled (registered 2)\n",
      "/Users/misspotato/opt/miniconda3/envs/rdkit-deepchem-jupyter/lib/python3.9/site-packages/tensorflow/python/framework/indexed_slices.py:447: UserWarning: Converting sparse IndexedSlices(IndexedSlices(indices=Tensor(\"gradient_tape/gb_graph_conv_model/graph_pool_1/Reshape_14:0\", shape=(1195,), dtype=int32), values=Tensor(\"gradient_tape/gb_graph_conv_model/graph_pool_1/Reshape_13:0\", shape=(1195, 32), dtype=float32), dense_shape=Tensor(\"gradient_tape/gb_graph_conv_model/graph_pool_1/Cast_4:0\", shape=(2,), dtype=int32))) to a dense Tensor of unknown shape. This may consume a large amount of memory.\n",
      "  warnings.warn(\n",
      "/Users/misspotato/opt/miniconda3/envs/rdkit-deepchem-jupyter/lib/python3.9/site-packages/tensorflow/python/framework/indexed_slices.py:447: UserWarning: Converting sparse IndexedSlices(IndexedSlices(indices=Tensor(\"gradient_tape/gb_graph_conv_model/graph_pool_1/Reshape_17:0\", shape=(3852,), dtype=int32), values=Tensor(\"gradient_tape/gb_graph_conv_model/graph_pool_1/Reshape_16:0\", shape=(3852, 32), dtype=float32), dense_shape=Tensor(\"gradient_tape/gb_graph_conv_model/graph_pool_1/Cast_5:0\", shape=(2,), dtype=int32))) to a dense Tensor of unknown shape. This may consume a large amount of memory.\n",
      "  warnings.warn(\n",
      "/Users/misspotato/opt/miniconda3/envs/rdkit-deepchem-jupyter/lib/python3.9/site-packages/tensorflow/python/framework/indexed_slices.py:447: UserWarning: Converting sparse IndexedSlices(IndexedSlices(indices=Tensor(\"gradient_tape/gb_graph_conv_model/graph_pool_1/Reshape_20:0\", shape=(7779,), dtype=int32), values=Tensor(\"gradient_tape/gb_graph_conv_model/graph_pool_1/Reshape_19:0\", shape=(7779, 32), dtype=float32), dense_shape=Tensor(\"gradient_tape/gb_graph_conv_model/graph_pool_1/Cast_6:0\", shape=(2,), dtype=int32))) to a dense Tensor of unknown shape. This may consume a large amount of memory.\n",
      "  warnings.warn(\n",
      "/Users/misspotato/opt/miniconda3/envs/rdkit-deepchem-jupyter/lib/python3.9/site-packages/tensorflow/python/framework/indexed_slices.py:447: UserWarning: Converting sparse IndexedSlices(IndexedSlices(indices=Tensor(\"gradient_tape/gb_graph_conv_model/graph_pool_1/Reshape_23:0\", shape=(36,), dtype=int32), values=Tensor(\"gradient_tape/gb_graph_conv_model/graph_pool_1/Reshape_22:0\", shape=(36, 32), dtype=float32), dense_shape=Tensor(\"gradient_tape/gb_graph_conv_model/graph_pool_1/Cast_7:0\", shape=(2,), dtype=int32))) to a dense Tensor of unknown shape. This may consume a large amount of memory.\n",
      "  warnings.warn(\n",
      "/Users/misspotato/opt/miniconda3/envs/rdkit-deepchem-jupyter/lib/python3.9/site-packages/tensorflow/python/framework/indexed_slices.py:447: UserWarning: Converting sparse IndexedSlices(IndexedSlices(indices=Tensor(\"gradient_tape/gb_graph_conv_model/graph_conv_1/Reshape_11:0\", shape=(1195,), dtype=int32), values=Tensor(\"gradient_tape/gb_graph_conv_model/graph_conv_1/Reshape_10:0\", shape=(1195, 32), dtype=float32), dense_shape=Tensor(\"gradient_tape/gb_graph_conv_model/graph_conv_1/Cast:0\", shape=(2,), dtype=int32))) to a dense Tensor of unknown shape. This may consume a large amount of memory.\n",
      "  warnings.warn(\n",
      "/Users/misspotato/opt/miniconda3/envs/rdkit-deepchem-jupyter/lib/python3.9/site-packages/tensorflow/python/framework/indexed_slices.py:447: UserWarning: Converting sparse IndexedSlices(IndexedSlices(indices=Tensor(\"gradient_tape/gb_graph_conv_model/graph_conv_1/Reshape_13:0\", shape=(3852,), dtype=int32), values=Tensor(\"gradient_tape/gb_graph_conv_model/graph_conv_1/Reshape_12:0\", shape=(3852, 32), dtype=float32), dense_shape=Tensor(\"gradient_tape/gb_graph_conv_model/graph_conv_1/Cast_1:0\", shape=(2,), dtype=int32))) to a dense Tensor of unknown shape. This may consume a large amount of memory.\n",
      "  warnings.warn(\n",
      "/Users/misspotato/opt/miniconda3/envs/rdkit-deepchem-jupyter/lib/python3.9/site-packages/tensorflow/python/framework/indexed_slices.py:447: UserWarning: Converting sparse IndexedSlices(IndexedSlices(indices=Tensor(\"gradient_tape/gb_graph_conv_model/graph_conv_1/Reshape_15:0\", shape=(7779,), dtype=int32), values=Tensor(\"gradient_tape/gb_graph_conv_model/graph_conv_1/Reshape_14:0\", shape=(7779, 32), dtype=float32), dense_shape=Tensor(\"gradient_tape/gb_graph_conv_model/graph_conv_1/Cast_2:0\", shape=(2,), dtype=int32))) to a dense Tensor of unknown shape. This may consume a large amount of memory.\n",
      "  warnings.warn(\n",
      "/Users/misspotato/opt/miniconda3/envs/rdkit-deepchem-jupyter/lib/python3.9/site-packages/tensorflow/python/framework/indexed_slices.py:447: UserWarning: Converting sparse IndexedSlices(IndexedSlices(indices=Tensor(\"gradient_tape/gb_graph_conv_model/graph_conv_1/Reshape_17:0\", shape=(36,), dtype=int32), values=Tensor(\"gradient_tape/gb_graph_conv_model/graph_conv_1/Reshape_16:0\", shape=(36, 32), dtype=float32), dense_shape=Tensor(\"gradient_tape/gb_graph_conv_model/graph_conv_1/Cast_3:0\", shape=(2,), dtype=int32))) to a dense Tensor of unknown shape. This may consume a large amount of memory.\n",
      "  warnings.warn(\n",
      "/Users/misspotato/opt/miniconda3/envs/rdkit-deepchem-jupyter/lib/python3.9/site-packages/tensorflow/python/framework/indexed_slices.py:447: UserWarning: Converting sparse IndexedSlices(IndexedSlices(indices=Tensor(\"gradient_tape/gb_graph_conv_model/graph_conv_1/Reshape_19:0\", shape=(0,), dtype=int32), values=Tensor(\"gradient_tape/gb_graph_conv_model/graph_conv_1/Reshape_18:0\", shape=(0, 32), dtype=float32), dense_shape=Tensor(\"gradient_tape/gb_graph_conv_model/graph_conv_1/Cast_4:0\", shape=(2,), dtype=int32))) to a dense Tensor of unknown shape. This may consume a large amount of memory.\n",
      "  warnings.warn(\n",
      "/Users/misspotato/opt/miniconda3/envs/rdkit-deepchem-jupyter/lib/python3.9/site-packages/tensorflow/python/framework/indexed_slices.py:447: UserWarning: Converting sparse IndexedSlices(IndexedSlices(indices=Tensor(\"gradient_tape/gb_graph_conv_model/graph_conv_1/Reshape_21:0\", shape=(0,), dtype=int32), values=Tensor(\"gradient_tape/gb_graph_conv_model/graph_conv_1/Reshape_20:0\", shape=(0, 32), dtype=float32), dense_shape=Tensor(\"gradient_tape/gb_graph_conv_model/graph_conv_1/Cast_5:0\", shape=(2,), dtype=int32))) to a dense Tensor of unknown shape. This may consume a large amount of memory.\n",
      "  warnings.warn(\n",
      "/Users/misspotato/opt/miniconda3/envs/rdkit-deepchem-jupyter/lib/python3.9/site-packages/tensorflow/python/framework/indexed_slices.py:447: UserWarning: Converting sparse IndexedSlices(IndexedSlices(indices=Tensor(\"gradient_tape/gb_graph_conv_model/graph_conv_1/Reshape_23:0\", shape=(0,), dtype=int32), values=Tensor(\"gradient_tape/gb_graph_conv_model/graph_conv_1/Reshape_22:0\", shape=(0, 32), dtype=float32), dense_shape=Tensor(\"gradient_tape/gb_graph_conv_model/graph_conv_1/Cast_6:0\", shape=(2,), dtype=int32))) to a dense Tensor of unknown shape. This may consume a large amount of memory.\n",
      "  warnings.warn(\n",
      "/Users/misspotato/opt/miniconda3/envs/rdkit-deepchem-jupyter/lib/python3.9/site-packages/tensorflow/python/framework/indexed_slices.py:447: UserWarning: Converting sparse IndexedSlices(IndexedSlices(indices=Tensor(\"gradient_tape/gb_graph_conv_model/graph_conv_1/Reshape_25:0\", shape=(0,), dtype=int32), values=Tensor(\"gradient_tape/gb_graph_conv_model/graph_conv_1/Reshape_24:0\", shape=(0, 32), dtype=float32), dense_shape=Tensor(\"gradient_tape/gb_graph_conv_model/graph_conv_1/Cast_7:0\", shape=(2,), dtype=int32))) to a dense Tensor of unknown shape. This may consume a large amount of memory.\n",
      "  warnings.warn(\n",
      "/Users/misspotato/opt/miniconda3/envs/rdkit-deepchem-jupyter/lib/python3.9/site-packages/tensorflow/python/framework/indexed_slices.py:447: UserWarning: Converting sparse IndexedSlices(IndexedSlices(indices=Tensor(\"gradient_tape/gb_graph_conv_model/graph_conv_1/Reshape_27:0\", shape=(0,), dtype=int32), values=Tensor(\"gradient_tape/gb_graph_conv_model/graph_conv_1/Reshape_26:0\", shape=(0, 32), dtype=float32), dense_shape=Tensor(\"gradient_tape/gb_graph_conv_model/graph_conv_1/Cast_8:0\", shape=(2,), dtype=int32))) to a dense Tensor of unknown shape. This may consume a large amount of memory.\n",
      "  warnings.warn(\n",
      "/Users/misspotato/opt/miniconda3/envs/rdkit-deepchem-jupyter/lib/python3.9/site-packages/tensorflow/python/framework/indexed_slices.py:447: UserWarning: Converting sparse IndexedSlices(IndexedSlices(indices=Tensor(\"gradient_tape/gb_graph_conv_model/graph_conv_1/Reshape_29:0\", shape=(0,), dtype=int32), values=Tensor(\"gradient_tape/gb_graph_conv_model/graph_conv_1/Reshape_28:0\", shape=(0, 32), dtype=float32), dense_shape=Tensor(\"gradient_tape/gb_graph_conv_model/graph_conv_1/Cast_9:0\", shape=(2,), dtype=int32))) to a dense Tensor of unknown shape. This may consume a large amount of memory.\n",
      "  warnings.warn(\n",
      "/Users/misspotato/opt/miniconda3/envs/rdkit-deepchem-jupyter/lib/python3.9/site-packages/tensorflow/python/framework/indexed_slices.py:447: UserWarning: Converting sparse IndexedSlices(IndexedSlices(indices=Tensor(\"gradient_tape/gb_graph_conv_model/graph_pool/Reshape_14:0\", shape=(1195,), dtype=int32), values=Tensor(\"gradient_tape/gb_graph_conv_model/graph_pool/Reshape_13:0\", shape=(1195, 32), dtype=float32), dense_shape=Tensor(\"gradient_tape/gb_graph_conv_model/graph_pool/Cast_4:0\", shape=(2,), dtype=int32))) to a dense Tensor of unknown shape. This may consume a large amount of memory.\n",
      "  warnings.warn(\n",
      "/Users/misspotato/opt/miniconda3/envs/rdkit-deepchem-jupyter/lib/python3.9/site-packages/tensorflow/python/framework/indexed_slices.py:447: UserWarning: Converting sparse IndexedSlices(IndexedSlices(indices=Tensor(\"gradient_tape/gb_graph_conv_model/graph_pool/Reshape_17:0\", shape=(3852,), dtype=int32), values=Tensor(\"gradient_tape/gb_graph_conv_model/graph_pool/Reshape_16:0\", shape=(3852, 32), dtype=float32), dense_shape=Tensor(\"gradient_tape/gb_graph_conv_model/graph_pool/Cast_5:0\", shape=(2,), dtype=int32))) to a dense Tensor of unknown shape. This may consume a large amount of memory.\n",
      "  warnings.warn(\n",
      "/Users/misspotato/opt/miniconda3/envs/rdkit-deepchem-jupyter/lib/python3.9/site-packages/tensorflow/python/framework/indexed_slices.py:447: UserWarning: Converting sparse IndexedSlices(IndexedSlices(indices=Tensor(\"gradient_tape/gb_graph_conv_model/graph_pool/Reshape_20:0\", shape=(7779,), dtype=int32), values=Tensor(\"gradient_tape/gb_graph_conv_model/graph_pool/Reshape_19:0\", shape=(7779, 32), dtype=float32), dense_shape=Tensor(\"gradient_tape/gb_graph_conv_model/graph_pool/Cast_6:0\", shape=(2,), dtype=int32))) to a dense Tensor of unknown shape. This may consume a large amount of memory.\n",
      "  warnings.warn(\n",
      "/Users/misspotato/opt/miniconda3/envs/rdkit-deepchem-jupyter/lib/python3.9/site-packages/tensorflow/python/framework/indexed_slices.py:447: UserWarning: Converting sparse IndexedSlices(IndexedSlices(indices=Tensor(\"gradient_tape/gb_graph_conv_model/graph_pool/Reshape_23:0\", shape=(36,), dtype=int32), values=Tensor(\"gradient_tape/gb_graph_conv_model/graph_pool/Reshape_22:0\", shape=(36, 32), dtype=float32), dense_shape=Tensor(\"gradient_tape/gb_graph_conv_model/graph_pool/Cast_7:0\", shape=(2,), dtype=int32))) to a dense Tensor of unknown shape. This may consume a large amount of memory.\n",
      "  warnings.warn(\n"
     ]
    },
    {
     "name": "stdout",
     "output_type": "stream",
     "text": [
      "1/1 [==============================] - 5s 5s/step - loss: 107.8397\n",
      "1/1 [==============================] - 1s 801ms/step - loss: 90.7419\n",
      "1/1 [==============================] - 0s 55ms/step - loss: 78.8533\n",
      "1/1 [==============================] - 0s 23ms/step - loss: 83.9327\n",
      "1/1 [==============================] - 0s 54ms/step - loss: 74.6427\n",
      "1/1 [==============================] - 0s 22ms/step - loss: 74.5855\n",
      "1/1 [==============================] - 0s 54ms/step - loss: 68.7958\n",
      "1/1 [==============================] - 0s 22ms/step - loss: 65.2552\n",
      "1/1 [==============================] - 0s 45ms/step - loss: 60.5438\n",
      "1/1 [==============================] - 0s 22ms/step - loss: 56.7787\n",
      "1/1 [==============================] - 0s 52ms/step - loss: 55.4690\n",
      "1/1 [==============================] - 0s 22ms/step - loss: 50.7684\n",
      "1/1 [==============================] - 0s 53ms/step - loss: 53.7697\n",
      "1/1 [==============================] - 0s 22ms/step - loss: 47.4358\n",
      "1/1 [==============================] - 0s 52ms/step - loss: 51.6666\n",
      "1/1 [==============================] - 0s 22ms/step - loss: 46.0204\n",
      "1/1 [==============================] - 0s 48ms/step - loss: 48.0497\n",
      "1/1 [==============================] - 0s 22ms/step - loss: 46.1149\n",
      "1/1 [==============================] - 0s 54ms/step - loss: 43.8759\n",
      "1/1 [==============================] - 0s 22ms/step - loss: 47.1359\n",
      "1/1 [==============================] - 0s 53ms/step - loss: 40.3929\n",
      "1/1 [==============================] - 0s 22ms/step - loss: 48.3166\n",
      "1/1 [==============================] - 0s 55ms/step - loss: 38.7178\n",
      "1/1 [==============================] - 0s 22ms/step - loss: 49.2546\n",
      "1/1 [==============================] - 0s 44ms/step - loss: 38.5845\n",
      "1/1 [==============================] - 0s 22ms/step - loss: 49.5050\n",
      "1/1 [==============================] - 0s 54ms/step - loss: 38.7037\n",
      "1/1 [==============================] - 0s 22ms/step - loss: 48.5950\n",
      "1/1 [==============================] - 0s 51ms/step - loss: 38.1075\n",
      "1/1 [==============================] - 0s 22ms/step - loss: 46.9747\n",
      "1/1 [==============================] - 0s 56ms/step - loss: 36.6218\n",
      "1/1 [==============================] - 0s 22ms/step - loss: 44.9730\n",
      "1/1 [==============================] - 0s 44ms/step - loss: 35.1041\n",
      "1/1 [==============================] - 0s 22ms/step - loss: 42.7503\n",
      "1/1 [==============================] - 0s 55ms/step - loss: 34.2298\n",
      "1/1 [==============================] - 0s 22ms/step - loss: 40.7215\n",
      "1/1 [==============================] - 0s 53ms/step - loss: 34.0504\n",
      "1/1 [==============================] - 0s 22ms/step - loss: 39.0519\n",
      "1/1 [==============================] - 0s 54ms/step - loss: 33.9539\n",
      "1/1 [==============================] - 0s 22ms/step - loss: 37.9158\n",
      "1/1 [==============================] - 0s 45ms/step - loss: 33.6334\n",
      "1/1 [==============================] - 0s 23ms/step - loss: 37.2191\n",
      "1/1 [==============================] - 0s 55ms/step - loss: 33.3863\n",
      "1/1 [==============================] - 0s 22ms/step - loss: 36.9746\n",
      "1/1 [==============================] - 0s 53ms/step - loss: 33.1117\n",
      "1/1 [==============================] - 0s 23ms/step - loss: 36.9715\n",
      "1/1 [==============================] - 0s 55ms/step - loss: 32.9852\n",
      "1/1 [==============================] - 0s 22ms/step - loss: 37.2928\n",
      "1/1 [==============================] - 0s 46ms/step - loss: 32.8615\n",
      "1/1 [==============================] - 0s 23ms/step - loss: 37.6219\n",
      "1/1 [==============================] - 0s 54ms/step - loss: 32.4932\n",
      "1/1 [==============================] - 0s 23ms/step - loss: 38.0185\n",
      "1/1 [==============================] - 0s 53ms/step - loss: 32.2274\n",
      "1/1 [==============================] - 0s 23ms/step - loss: 38.5577\n",
      "1/1 [==============================] - 0s 55ms/step - loss: 31.9585\n",
      "1/1 [==============================] - 0s 22ms/step - loss: 39.2005\n",
      "1/1 [==============================] - 0s 46ms/step - loss: 31.8217\n",
      "1/1 [==============================] - 0s 23ms/step - loss: 39.8101\n",
      "1/1 [==============================] - 0s 53ms/step - loss: 31.9594\n",
      "1/1 [==============================] - 0s 23ms/step - loss: 40.1543\n",
      "1/1 [==============================] - 0s 52ms/step - loss: 31.9881\n",
      "1/1 [==============================] - 0s 23ms/step - loss: 40.1266\n",
      "1/1 [==============================] - 0s 54ms/step - loss: 31.7743\n",
      "1/1 [==============================] - 0s 24ms/step - loss: 39.7725\n",
      "1/1 [==============================] - 0s 53ms/step - loss: 31.4814\n",
      "1/1 [==============================] - 0s 23ms/step - loss: 39.2385\n",
      "1/1 [==============================] - 0s 53ms/step - loss: 31.1675\n",
      "1/1 [==============================] - 0s 22ms/step - loss: 38.7365\n",
      "1/1 [==============================] - 0s 52ms/step - loss: 31.0202\n",
      "1/1 [==============================] - 0s 23ms/step - loss: 38.3068\n",
      "1/1 [==============================] - 0s 53ms/step - loss: 30.9351\n",
      "1/1 [==============================] - 0s 24ms/step - loss: 38.0259\n",
      "1/1 [==============================] - 0s 52ms/step - loss: 30.7345\n",
      "1/1 [==============================] - 0s 23ms/step - loss: 37.8844\n",
      "1/1 [==============================] - 0s 52ms/step - loss: 30.5442\n",
      "1/1 [==============================] - 0s 22ms/step - loss: 37.9374\n",
      "1/1 [==============================] - 0s 52ms/step - loss: 30.2833\n",
      "1/1 [==============================] - 0s 23ms/step - loss: 38.1669\n",
      "1/1 [==============================] - 0s 52ms/step - loss: 30.1559\n",
      "1/1 [==============================] - 0s 24ms/step - loss: 38.4703\n",
      "1/1 [==============================] - 0s 52ms/step - loss: 30.1038\n",
      "1/1 [==============================] - 0s 25ms/step - loss: 38.7127\n",
      "1/1 [==============================] - 0s 52ms/step - loss: 30.0234\n",
      "1/1 [==============================] - 0s 23ms/step - loss: 38.8336\n",
      "1/1 [==============================] - 0s 52ms/step - loss: 29.9385\n",
      "1/1 [==============================] - 0s 24ms/step - loss: 38.8613\n",
      "1/1 [==============================] - 0s 53ms/step - loss: 29.7717\n",
      "1/1 [==============================] - 0s 25ms/step - loss: 38.8239\n",
      "1/1 [==============================] - 0s 53ms/step - loss: 29.5916\n",
      "1/1 [==============================] - 0s 24ms/step - loss: 38.7699\n",
      "1/1 [==============================] - 0s 53ms/step - loss: 29.4928\n",
      "1/1 [==============================] - 0s 22ms/step - loss: 38.7242\n",
      "1/1 [==============================] - 0s 52ms/step - loss: 29.3304\n",
      "1/1 [==============================] - 0s 24ms/step - loss: 38.6947\n",
      "1/1 [==============================] - 0s 52ms/step - loss: 29.1463\n",
      "1/1 [==============================] - 0s 24ms/step - loss: 38.6812\n",
      "1/1 [==============================] - 0s 53ms/step - loss: 29.0040\n",
      "1/1 [==============================] - 0s 22ms/step - loss: 38.6873\n",
      "1/1 [==============================] - 0s 53ms/step - loss: 28.9405\n",
      "1/1 [==============================] - 0s 24ms/step - loss: 38.6825\n",
      "1/1 [==============================] - 0s 53ms/step - loss: 28.8513\n",
      "1/1 [==============================] - 0s 23ms/step - loss: 38.6402\n",
      "1/1 [==============================] - 0s 52ms/step - loss: 28.7150\n",
      "1/1 [==============================] - 0s 25ms/step - loss: 38.5164\n",
      "1/1 [==============================] - 0s 55ms/step - loss: 28.6210\n",
      "1/1 [==============================] - 0s 23ms/step - loss: 38.4288\n",
      "1/1 [==============================] - 0s 53ms/step - loss: 28.5668\n",
      "1/1 [==============================] - 0s 23ms/step - loss: 38.3518\n",
      "1/1 [==============================] - 0s 55ms/step - loss: 28.4315\n",
      "1/1 [==============================] - 0s 24ms/step - loss: 38.2615\n",
      "1/1 [==============================] - 0s 53ms/step - loss: 28.3848\n",
      "1/1 [==============================] - 0s 24ms/step - loss: 38.1751\n",
      "1/1 [==============================] - 0s 54ms/step - loss: 28.2602\n",
      "1/1 [==============================] - 0s 24ms/step - loss: 38.0953\n",
      "1/1 [==============================] - 0s 53ms/step - loss: 28.1457\n",
      "1/1 [==============================] - 0s 24ms/step - loss: 37.9924\n",
      "1/1 [==============================] - 0s 52ms/step - loss: 28.0770\n",
      "1/1 [==============================] - 0s 23ms/step - loss: 37.9167\n",
      "1/1 [==============================] - 0s 52ms/step - loss: 28.0061\n",
      "1/1 [==============================] - 0s 25ms/step - loss: 37.8726\n"
     ]
    },
    {
     "name": "stdout",
     "output_type": "stream",
     "text": [
      "1/1 [==============================] - 0s 53ms/step - loss: 27.9094\n",
      "1/1 [==============================] - 0s 24ms/step - loss: 37.7979\n",
      "1/1 [==============================] - 0s 52ms/step - loss: 27.8437\n",
      "1/1 [==============================] - 0s 22ms/step - loss: 37.7418\n",
      "1/1 [==============================] - 0s 52ms/step - loss: 27.6699\n",
      "1/1 [==============================] - 0s 22ms/step - loss: 37.7026\n",
      "1/1 [==============================] - 0s 53ms/step - loss: 27.6020\n",
      "1/1 [==============================] - 0s 24ms/step - loss: 37.7109\n",
      "1/1 [==============================] - 0s 52ms/step - loss: 27.4834\n",
      "1/1 [==============================] - 0s 22ms/step - loss: 37.6932\n",
      "1/1 [==============================] - 0s 52ms/step - loss: 27.4159\n",
      "1/1 [==============================] - 0s 22ms/step - loss: 37.6351\n",
      "1/1 [==============================] - 0s 52ms/step - loss: 27.3368\n",
      "1/1 [==============================] - 0s 21ms/step - loss: 37.6383\n",
      "1/1 [==============================] - 0s 45ms/step - loss: 27.2630\n",
      "1/1 [==============================] - 0s 23ms/step - loss: 37.7617\n",
      "1/1 [==============================] - 0s 52ms/step - loss: 27.1965\n",
      "1/1 [==============================] - 0s 22ms/step - loss: 37.8977\n",
      "1/1 [==============================] - 0s 52ms/step - loss: 27.1101\n",
      "1/1 [==============================] - 0s 23ms/step - loss: 37.9645\n",
      "1/1 [==============================] - 0s 53ms/step - loss: 26.9629\n",
      "1/1 [==============================] - 0s 22ms/step - loss: 37.9450\n",
      "1/1 [==============================] - 0s 45ms/step - loss: 26.8809\n",
      "1/1 [==============================] - 0s 23ms/step - loss: 37.8914\n",
      "1/1 [==============================] - 0s 52ms/step - loss: 26.8779\n",
      "1/1 [==============================] - 0s 22ms/step - loss: 37.8412\n",
      "1/1 [==============================] - 0s 52ms/step - loss: 26.7813\n",
      "1/1 [==============================] - 0s 24ms/step - loss: 37.7319\n",
      "1/1 [==============================] - 0s 54ms/step - loss: 26.7874\n",
      "1/1 [==============================] - 0s 22ms/step - loss: 37.5176\n",
      "1/1 [==============================] - 0s 47ms/step - loss: 26.6386\n",
      "1/1 [==============================] - 0s 25ms/step - loss: 37.3654\n",
      "1/1 [==============================] - 0s 52ms/step - loss: 26.6172\n",
      "1/1 [==============================] - 0s 23ms/step - loss: 37.2993\n",
      "1/1 [==============================] - 0s 53ms/step - loss: 26.5537\n",
      "1/1 [==============================] - 0s 23ms/step - loss: 37.2506\n",
      "1/1 [==============================] - 0s 56ms/step - loss: 26.4511\n",
      "1/1 [==============================] - 0s 22ms/step - loss: 37.1962\n",
      "1/1 [==============================] - 0s 46ms/step - loss: 26.3377\n",
      "1/1 [==============================] - 0s 22ms/step - loss: 37.1470\n",
      "1/1 [==============================] - 0s 53ms/step - loss: 26.3145\n",
      "1/1 [==============================] - 0s 22ms/step - loss: 37.1194\n",
      "1/1 [==============================] - 0s 57ms/step - loss: 26.1676\n",
      "1/1 [==============================] - 0s 23ms/step - loss: 37.1381\n",
      "1/1 [==============================] - 0s 55ms/step - loss: 26.1593\n",
      "1/1 [==============================] - 0s 27ms/step - loss: 37.2132\n",
      "1/1 [==============================] - 0s 51ms/step - loss: 26.0213\n",
      "1/1 [==============================] - 0s 27ms/step - loss: 37.2856\n",
      "1/1 [==============================] - 0s 58ms/step - loss: 25.9873\n",
      "1/1 [==============================] - 0s 27ms/step - loss: 37.2475\n",
      "1/1 [==============================] - 0s 60ms/step - loss: 25.9051\n",
      "1/1 [==============================] - 0s 27ms/step - loss: 37.1162\n",
      "1/1 [==============================] - 0s 61ms/step - loss: 25.7872\n",
      "1/1 [==============================] - 0s 28ms/step - loss: 37.0902\n",
      "1/1 [==============================] - 0s 49ms/step - loss: 25.7318\n",
      "1/1 [==============================] - 0s 28ms/step - loss: 37.0682\n",
      "1/1 [==============================] - 0s 62ms/step - loss: 25.6546\n",
      "1/1 [==============================] - 0s 27ms/step - loss: 36.9630\n",
      "1/1 [==============================] - 0s 59ms/step - loss: 25.5109\n",
      "1/1 [==============================] - 0s 28ms/step - loss: 36.8982\n",
      "1/1 [==============================] - 0s 61ms/step - loss: 25.4180\n",
      "1/1 [==============================] - 0s 27ms/step - loss: 36.9338\n",
      "1/1 [==============================] - 0s 51ms/step - loss: 25.3368\n",
      "1/1 [==============================] - 0s 28ms/step - loss: 37.0213\n",
      "1/1 [==============================] - 0s 57ms/step - loss: 25.2675\n",
      "1/1 [==============================] - 0s 27ms/step - loss: 37.1507\n",
      "1/1 [==============================] - 0s 62ms/step - loss: 25.1853\n",
      "1/1 [==============================] - 0s 27ms/step - loss: 37.2510\n",
      "1/1 [==============================] - 0s 60ms/step - loss: 25.1100\n",
      "1/1 [==============================] - 0s 28ms/step - loss: 37.2920\n",
      "1/1 [==============================] - 0s 51ms/step - loss: 25.0361\n",
      "1/1 [==============================] - 0s 28ms/step - loss: 37.2845\n",
      "1/1 [==============================] - 0s 60ms/step - loss: 24.9219\n",
      "1/1 [==============================] - 0s 27ms/step - loss: 37.2285\n",
      "1/1 [==============================] - 0s 59ms/step - loss: 24.8378\n",
      "1/1 [==============================] - 0s 27ms/step - loss: 37.1418\n",
      "1/1 [==============================] - 0s 63ms/step - loss: 24.7038\n",
      "1/1 [==============================] - 0s 28ms/step - loss: 37.1277\n",
      "1/1 [==============================] - 0s 59ms/step - loss: 24.6468\n",
      "1/1 [==============================] - 0s 27ms/step - loss: 37.1547\n"
     ]
    }
   ],
   "source": [
    "losses, val_losses = [], []\n",
    "max_epoch = 100\n",
    "val_size = len(y_val)\n",
    "train_size = len(y_train)\n",
    "\n",
    "for epoch in range(max_epoch):\n",
    "    hybrid_model.modify_graphgather(train_size)\n",
    "    hybrid_model.input_shapes = [i.shape for i in x_preprocessed_train]\n",
    "    loss = hybrid_model.fit(x_train, y_train.reshape([1, -1]), epochs=1)\n",
    "#     metric = dc.metrics.Metric(dc.metrics.score_function.rms_score)\n",
    "    losses.append(loss.history['loss'])\n",
    "    hybrid_model.input_shapes = [i.shape for i in x_preprocessed_val]\n",
    "    hybrid_model.modify_graphgather(val_size)\n",
    "    val_losses.append(hybrid_model.evaluate(x_val, y_val.reshape([1, -1])))"
   ]
  },
  {
   "cell_type": "code",
   "execution_count": 36,
   "metadata": {},
   "outputs": [
    {
     "data": {
      "text/plain": [
       "Text(0, 0.5, 'Loss (Kcal/mol)')"
      ]
     },
     "execution_count": 36,
     "metadata": {},
     "output_type": "execute_result"
    },
    {
     "data": {
      "image/png": "[encoded data removed]",
      "text/plain": [
       "<Figure size 432x288 with 1 Axes>"
      ]
     },
     "metadata": {
      "needs_background": "light"
     },
     "output_type": "display_data"
    }
   ],
   "source": [
    "import matplotlib.pyplot as plt\n",
    "# f, ax = plt.subplots()\n",
    "plt.plot(range(len(losses)), losses, label='train loss')\n",
    "plt.plot(range(len(val_losses)), val_losses, label='val loss')\n",
    "plt.legend(loc='upper right');\n",
    "plt.xlabel(\"Epoch\")\n",
    "plt.ylabel(\"Loss (Kcal/mol)\")"
   ]
  },
  {
   "cell_type": "code",
   "execution_count": 37,
   "metadata": {},
   "outputs": [],
   "source": [
    "# import matplotlib.pyplot as plt\n",
    "# plt.plot(history_val_hybrid.history['loss'])\n",
    "# plt.xlabel(\"Epoch\")\n",
    "# plt.ylabel(\"Loss (Kcal/mol)\")\n",
    "# plt.xlim(-1, 60)"
   ]
  },
  {
   "cell_type": "code",
   "execution_count": 38,
   "metadata": {},
   "outputs": [
    {
     "data": {
      "text/plain": [
       "15"
      ]
     },
     "execution_count": 38,
     "metadata": {},
     "output_type": "execute_result"
    }
   ],
   "source": [
    "len(y_test)"
   ]
  },
  {
   "cell_type": "code",
   "execution_count": 39,
   "metadata": {},
   "outputs": [],
   "source": [
    "hybrid_model.input_shapes = [i.shape for i in x_preprocessed_test]\n",
    "hybrid_model.modify_graphgather(len(y_test))"
   ]
  },
  {
   "cell_type": "code",
   "execution_count": 40,
   "metadata": {},
   "outputs": [
    {
     "name": "stdout",
     "output_type": "stream",
     "text": [
      "1/1 [==============================] - 0s 40ms/step - loss: 37.1547\n"
     ]
    }
   ],
   "source": [
    "evalu = hybrid_model.evaluate(x_test, y_test.reshape([1, -1]))"
   ]
  },
  {
   "cell_type": "code",
   "execution_count": 41,
   "metadata": {},
   "outputs": [
    {
     "name": "stdout",
     "output_type": "stream",
     "text": [
      "6.095463125582176\n"
     ]
    }
   ],
   "source": [
    "pgnn_rmse_test = np.sqrt(evalu)\n",
    "print(pgnn_rmse_test)"
   ]
  },
  {
   "cell_type": "code",
   "execution_count": 42,
   "metadata": {},
   "outputs": [],
   "source": [
    "train_loss = losses[-1]"
   ]
  },
  {
   "cell_type": "code",
   "execution_count": 43,
   "metadata": {},
   "outputs": [
    {
     "data": {
      "text/plain": [
       "4.96455196360566"
      ]
     },
     "execution_count": 43,
     "metadata": {},
     "output_type": "execute_result"
    }
   ],
   "source": [
    "import math\n",
    "train_hybrid_rmse = math.sqrt(train_loss[0])\n",
    "train_hybrid_rmse"
   ]
  },
  {
   "cell_type": "markdown",
   "metadata": {},
   "source": [
    "<h1> Physics based model RMSE </h1>"
   ]
  },
  {
   "cell_type": "code",
   "execution_count": 44,
   "metadata": {},
   "outputs": [],
   "source": [
    "import math\n",
    "train_sum=0\n",
    "for i in range(len(host_names_train)):\n",
    "    new_df = df[(df['Host'] == host_names_train[i]) & (df['Guest'] == guest_names_train[i])]\n",
    "    train_sum += new_df['gb_Ex_difference'].to_numpy()[0] **2\n",
    "\n",
    "\n",
    "test_sum = 0\n",
    "for i in range(len(host_names_test)):\n",
    "    new_df = df[(df['Host'] == host_names_test[i]) & (df['Guest'] == guest_names_test[i])]\n",
    "    test_sum += new_df['gb_Ex_difference'].to_numpy()[0] **2\n",
    "    "
   ]
  },
  {
   "cell_type": "code",
   "execution_count": 45,
   "metadata": {},
   "outputs": [],
   "source": [
    "physics_based_rmse_train = math.sqrt(train_sum / len(host_names_train))"
   ]
  },
  {
   "cell_type": "code",
   "execution_count": 46,
   "metadata": {},
   "outputs": [],
   "source": [
    "physics_based_rmse_test = math.sqrt((test_sum) / len(host_names_test))"
   ]
  },
  {
   "cell_type": "code",
   "execution_count": 47,
   "metadata": {},
   "outputs": [
    {
     "name": "stdout",
     "output_type": "stream",
     "text": [
      "RMSE on training set is : 9.421390033891058\n",
      "RMSE on testing set is : 7.850885824542349\n",
      "RMSE of the total data: 9.116540038105953\n"
     ]
    }
   ],
   "source": [
    "print(f\"RMSE on training set is : {physics_based_rmse_train}\")\n",
    "print(f\"RMSE on testing set is : {physics_based_rmse_test}\")\n",
    "# Total rmse\n",
    "total_rmse_physics = np.sqrt(np.mean((df['EX _H_(kcal/mol)'].to_numpy() - df['gb_delta_H'].to_numpy())**2))\n",
    "print(f\"RMSE of the total data: {total_rmse_physics}\")"
   ]
  },
  {
   "cell_type": "code",
   "execution_count": 48,
   "metadata": {},
   "outputs": [
    {
     "data": {
      "text/plain": [
       "[<matplotlib.lines.Line2D at 0x7f815f85f790>]"
      ]
     },
     "execution_count": 48,
     "metadata": {},
     "output_type": "execute_result"
    },
    {
     "data": {
      "image/png": "[encoded data removed]",
      "text/plain": [
       "<Figure size 432x288 with 1 Axes>"
      ]
     },
     "metadata": {
      "needs_background": "light"
     },
     "output_type": "display_data"
    }
   ],
   "source": [
    "import matplotlib.pyplot as plt\n",
    "\n",
    "plt.title(\"Experimental vs GBNSR6\")\n",
    "plt.scatter(x=df['EX _H_(kcal/mol)'], y=df['gb_delta_H'])\n",
    "plt.xlabel(\"Experimental Delta H\")\n",
    "plt.ylabel(\"GBNSR6 Delta H\")\n",
    "plt.xlim(-25, 5)\n",
    "plt.ylim(-25,5)\n",
    "\n",
    "#reference line\n",
    "plt.plot([-25, 5], [-25, 5], color='green', lw=1)"
   ]
  },
  {
   "cell_type": "code",
   "execution_count": 49,
   "metadata": {},
   "outputs": [
    {
     "data": {
      "text/plain": [
       "[<matplotlib.lines.Line2D at 0x7f814f433fa0>]"
      ]
     },
     "execution_count": 49,
     "metadata": {},
     "output_type": "execute_result"
    },
    {
     "data": {
      "image/png": "[encoded data removed]",
      "text/plain": [
       "<Figure size 432x288 with 1 Axes>"
      ]
     },
     "metadata": {
      "needs_background": "light"
     },
     "output_type": "display_data"
    }
   ],
   "source": [
    "plt.title(\"Experimental vs PBSA\")\n",
    "plt.scatter(x=df['EX _H_(kcal/mol)'] ,y=df['pb_delta_H'], color='orange')\n",
    "plt.xlabel(\"Experimental Delta H\")\n",
    "plt.ylabel(\"PBSA Delta H\")\n",
    "plt.xlim(-25, 5)\n",
    "plt.ylim(-25,5)\n",
    "#reference line\n",
    "plt.plot([-25,5],[-25,5], color='green')"
   ]
  },
  {
   "cell_type": "code",
   "execution_count": 50,
   "metadata": {},
   "outputs": [
    {
     "data": {
      "text/plain": [
       "<matplotlib.legend.Legend at 0x7f814f5c8a30>"
      ]
     },
     "execution_count": 50,
     "metadata": {},
     "output_type": "execute_result"
    },
    {
     "data": {
      "image/png": "[encoded data removed]",
      "text/plain": [
       "<Figure size 432x288 with 1 Axes>"
      ]
     },
     "metadata": {
      "needs_background": "light"
     },
     "output_type": "display_data"
    }
   ],
   "source": [
    "ax = plt.subplot()\n",
    "# plt.title(\"PBSA vs GBNSR6\")\n",
    "plt.xlabel('Experimental ∆H (kcal/mol)')\n",
    "plt.ylabel('Physics-based model ∆H (kcal/mol)')\n",
    "ax.scatter(x=df[\"EX _H_(kcal/mol)\"], y=df['gb_delta_H'], label=\"GBNSR6\")\n",
    "ax.scatter(x=df[\"EX _H_(kcal/mol)\"], y=df['pb_delta_H'], label=\"PBSA\", color=\"orange\")\n",
    "plt.xlim(-25,5)\n",
    "plt.ylim(-25,5)\n",
    "#reference line\n",
    "plt.plot([-25,5],[-25,5],color='green')\n",
    "plt.legend()"
   ]
  },
  {
   "cell_type": "code",
   "execution_count": 51,
   "metadata": {},
   "outputs": [
    {
     "name": "stdout",
     "output_type": "stream",
     "text": [
      "0.16443424102892118\n"
     ]
    }
   ],
   "source": [
    "gb_correlation_matrix = np.corrcoef(df['gb_delta_H'], df['EX _H_(kcal/mol)'])\n",
    "gb_correlation_gbex = gb_correlation_matrix[0,1]\n",
    "gb_r_squared = gb_correlation_gbex**2\n",
    "print(gb_r_squared)"
   ]
  },
  {
   "cell_type": "code",
   "execution_count": 52,
   "metadata": {},
   "outputs": [
    {
     "name": "stdout",
     "output_type": "stream",
     "text": [
      "0.1098144445778738\n"
     ]
    }
   ],
   "source": [
    "pb_correlation_matrix = np.corrcoef(df['pb_delta_H'], df['EX _H_(kcal/mol)'])\n",
    "pb_correlation_pbex = pb_correlation_matrix[0,1]\n",
    "pb_r_squared = pb_correlation_pbex**2\n",
    "print(pb_r_squared)"
   ]
  },
  {
   "cell_type": "markdown",
   "metadata": {},
   "source": [
    "<h1> Data Driven Model </h1>"
   ]
  },
  {
   "cell_type": "code",
   "execution_count": 53,
   "metadata": {},
   "outputs": [],
   "source": [
    "## !!!!!!!! important\n",
    "## !!!!!!!! important\n",
    "## !!!!!!!! important\n",
    "## !!!!!!!! important\n",
    "input_shapes = [i.shape for i in x_preprocessed_train]"
   ]
  },
  {
   "cell_type": "code",
   "execution_count": 54,
   "metadata": {},
   "outputs": [
    {
     "data": {
      "text/plain": [
       "57"
      ]
     },
     "execution_count": 54,
     "metadata": {},
     "output_type": "execute_result"
    }
   ],
   "source": [
    "batch_size = len(host_names_train)\n",
    "batch_size\n",
    "# batch_size=10"
   ]
  },
  {
   "cell_type": "code",
   "execution_count": 55,
   "metadata": {},
   "outputs": [],
   "source": [
    "# from deepchem.models.layers import GraphConv, GraphPool, GraphGather\n",
    "# import tensorflow as tf\n",
    "# import tensorflow.keras.layers as layers\n",
    "# from tensorflow.keras.layers import Dense, Input, BatchNormalization, Concatenate\n",
    "# from tensorflow.keras import initializers\n",
    "\n",
    "# # batch_size = int(len(df) / 2)\n",
    "\n",
    "# class GBGraphConvModel(tf.keras.Model):\n",
    "\n",
    "#     def __init__(self):\n",
    "#         super(GBGraphConvModel, self).__init__()\n",
    "#         self.input_shapes = input_shapes\n",
    "#         self.gc1 = GraphConv(64, activation_fn=tf.nn.tanh)\n",
    "#         self.batch_norm1 = layers.BatchNormalization()\n",
    "#         self.gp1 = GraphPool()\n",
    "\n",
    "#         self.gc2 = GraphConv(64, activation_fn=tf.nn.tanh)\n",
    "#         self.batch_norm2 = layers.BatchNormalization()\n",
    "#         self.gp2 = GraphPool()\n",
    "\n",
    "#         self.dense1 = layers.Dense(128, activation=tf.nn.tanh)\n",
    "#         self.batch_norm3 = layers.BatchNormalization()\n",
    "#         self.readout = GraphGather(batch_size=batch_size, activation_fn=tf.nn.tanh)\n",
    "\n",
    "#         self.dense2 = layers.Dense(1)\n",
    "#     #     self.dense3 = layers.Dense(1, \n",
    "#     #          kernel_initializer=initializers.Constant([.5, -1, -1, 1, 1, 1, 1, 1, -1, -1, -1, -1, -1, -1, -1, -1]),\n",
    "#     #          bias_initializer=initializers.Zeros())\n",
    "\n",
    "#     def call(self, inputs):\n",
    "#         inputs = inputs[0]\n",
    "#         x = []\n",
    "#     #     input_shapes = [[4822, 75], [11, 2], [4822], [1142, 1], [1635, 2], [2042, 3],\n",
    "#     #                    [3, 4], [0, 5], [0, 6], [0, 7], [0, 8], [0, 9], [0, 10]]\n",
    "#         for i in range(len(self.input_shapes)):\n",
    "#             x.append(tf.reshape(inputs[i][inputs[i] != 1.123456], self.input_shapes[i]))\n",
    "#         for i in range(1, len(self.input_shapes)):\n",
    "#             x[i] = tf.cast(x[i], tf.int32)\n",
    "#         x_add = tf.reshape(inputs[13][inputs[13] != 1.123456], [batch_size, 15])\n",
    "#         gc1_output = self.gc1(x)\n",
    "#         batch_norm1_output = self.batch_norm1(gc1_output)\n",
    "#         gp1_output = self.gp1([batch_norm1_output] + x[1:])\n",
    "\n",
    "#         gc2_output = self.gc2([gp1_output] + x[1:])\n",
    "#         batch_norm2_output = self.batch_norm1(gc2_output)\n",
    "#         gp2_output = self.gp2([batch_norm2_output] + x[1:])\n",
    "\n",
    "#         dense1_output = self.dense1(gp2_output)\n",
    "#         batch_norm3_output = self.batch_norm3(dense1_output)\n",
    "#         readout_output = self.readout([batch_norm3_output] + x[1:])\n",
    "\n",
    "#         model_var = self.dense2(readout_output)\n",
    "#     #     binding_affinity = tf.concat([model_var, x_add], axis=1)\n",
    "#         return model_var #self.dense3(binding_affinity)\n",
    "# model = GBGraphConvModel()\n",
    "# model.compile(loss='mse', optimizer='adam')"
   ]
  },
  {
   "cell_type": "code",
   "execution_count": 56,
   "metadata": {},
   "outputs": [],
   "source": [
    "from deepchem.models.layers import GraphConv, GraphPool, GraphGather\n",
    "import tensorflow as tf\n",
    "import tensorflow.keras.layers as layers\n",
    "from tensorflow.keras.layers import Dense, Input, BatchNormalization, Concatenate\n",
    "from tensorflow.keras import initializers\n",
    "\n",
    "# batch_size = int(len(df) / 2)\n",
    "\n",
    "class GBGraphConvModel(tf.keras.Model):\n",
    "   \n",
    "    def modify_graphgather(self, batch_size):\n",
    "        self.readout.batch_size = batch_size\n",
    "        self.batch_size = batch_size\n",
    "\n",
    "    def __init__(self, batch_size):\n",
    "        super(GBGraphConvModel, self).__init__()\n",
    "        self.input_shapes = None\n",
    "        self.batch_size = batch_size\n",
    "        self.gc1 = GraphConv(32, activation_fn=tf.nn.tanh)\n",
    "        self.batch_norm1 = layers.BatchNormalization()\n",
    "        self.gp1 = GraphPool()\n",
    "\n",
    "        self.gc2 = GraphConv(32, activation_fn=tf.nn.tanh)\n",
    "        self.batch_norm2 = layers.BatchNormalization()\n",
    "        self.gp2 = GraphPool()\n",
    "\n",
    "        self.dense1 = layers.Dense(64, activation=tf.nn.tanh)\n",
    "        self.batch_norm3 = layers.BatchNormalization()\n",
    "        self.readout = GraphGather(batch_size=self.batch_size, activation_fn=tf.nn.tanh)\n",
    "\n",
    "        self.dense2 = layers.Dense(1)\n",
    "    #     self.dense3 = layers.Dense(1, \n",
    "    #          kernel_initializer=initializers.Constant([.5, -1, -1, 1, 1, 1, 1, 1, -1, -1, -1, -1, -1, -1, -1, -1]),\n",
    "    #          bias_initializer=initializers.Zeros())\n",
    "\n",
    "    def call(self, inputs):\n",
    "        inputs = inputs[0]\n",
    "        x = []\n",
    "    #     input_shapes = [[4822, 75], [11, 2], [4822], [1142, 1], [1635, 2], [2042, 3],\n",
    "    #                    [3, 4], [0, 5], [0, 6], [0, 7], [0, 8], [0, 9], [0, 10]]\n",
    "        for i in range(len(self.input_shapes)):\n",
    "            x.append(tf.reshape(inputs[i][inputs[i] != 1.123456], self.input_shapes[i]))\n",
    "        for i in range(1, len(self.input_shapes)):\n",
    "            x[i] = tf.cast(x[i], tf.int32)\n",
    "        x_add = tf.reshape(inputs[13][inputs[13] != 1.123456], [self.batch_size, 15])\n",
    "        gc1_output = self.gc1(x)\n",
    "        batch_norm1_output = self.batch_norm1(gc1_output)\n",
    "        gp1_output = self.gp1([batch_norm1_output] + x[1:])\n",
    "\n",
    "        gc2_output = self.gc2([gp1_output] + x[1:])\n",
    "        batch_norm2_output = self.batch_norm1(gc2_output)\n",
    "        gp2_output = self.gp2([batch_norm2_output] + x[1:])\n",
    "\n",
    "        dense1_output = self.dense1(gp2_output)\n",
    "        batch_norm3_output = self.batch_norm3(dense1_output)\n",
    "        readout_output = self.readout([batch_norm3_output] + x[1:])\n",
    "\n",
    "        model_var = self.dense2(readout_output)\n",
    "    #     binding_affinity = tf.concat([model_var, x_add], axis=1)\n",
    "        return model_var #self.dense3(binding_affinity)\n",
    "dd_model = GBGraphConvModel(train_split_index)\n",
    "dd_model.compile(loss='mse', optimizer='adam')"
   ]
  },
  {
   "cell_type": "code",
   "execution_count": 57,
   "metadata": {},
   "outputs": [],
   "source": [
    "# history_dd_train = model.fit(x_train, y_train.reshape([1, -1]), epochs=200)\n",
    "\n",
    "# history_dd_train = model.fit(x_train, y_train.reshape([1, -1]), epochs=100)"
   ]
  },
  {
   "cell_type": "code",
   "execution_count": 58,
   "metadata": {},
   "outputs": [
    {
     "name": "stderr",
     "output_type": "stream",
     "text": [
      "/Users/misspotato/opt/miniconda3/envs/rdkit-deepchem-jupyter/lib/python3.9/site-packages/tensorflow/python/framework/indexed_slices.py:447: UserWarning: Converting sparse IndexedSlices(IndexedSlices(indices=Tensor(\"gradient_tape/gb_graph_conv_model_1/graph_pool_3/Reshape_14:0\", shape=(1195,), dtype=int32), values=Tensor(\"gradient_tape/gb_graph_conv_model_1/graph_pool_3/Reshape_13:0\", shape=(1195, 32), dtype=float32), dense_shape=Tensor(\"gradient_tape/gb_graph_conv_model_1/graph_pool_3/Cast_4:0\", shape=(2,), dtype=int32))) to a dense Tensor of unknown shape. This may consume a large amount of memory.\n",
      "  warnings.warn(\n",
      "/Users/misspotato/opt/miniconda3/envs/rdkit-deepchem-jupyter/lib/python3.9/site-packages/tensorflow/python/framework/indexed_slices.py:447: UserWarning: Converting sparse IndexedSlices(IndexedSlices(indices=Tensor(\"gradient_tape/gb_graph_conv_model_1/graph_pool_3/Reshape_17:0\", shape=(3852,), dtype=int32), values=Tensor(\"gradient_tape/gb_graph_conv_model_1/graph_pool_3/Reshape_16:0\", shape=(3852, 32), dtype=float32), dense_shape=Tensor(\"gradient_tape/gb_graph_conv_model_1/graph_pool_3/Cast_5:0\", shape=(2,), dtype=int32))) to a dense Tensor of unknown shape. This may consume a large amount of memory.\n",
      "  warnings.warn(\n",
      "/Users/misspotato/opt/miniconda3/envs/rdkit-deepchem-jupyter/lib/python3.9/site-packages/tensorflow/python/framework/indexed_slices.py:447: UserWarning: Converting sparse IndexedSlices(IndexedSlices(indices=Tensor(\"gradient_tape/gb_graph_conv_model_1/graph_pool_3/Reshape_20:0\", shape=(7779,), dtype=int32), values=Tensor(\"gradient_tape/gb_graph_conv_model_1/graph_pool_3/Reshape_19:0\", shape=(7779, 32), dtype=float32), dense_shape=Tensor(\"gradient_tape/gb_graph_conv_model_1/graph_pool_3/Cast_6:0\", shape=(2,), dtype=int32))) to a dense Tensor of unknown shape. This may consume a large amount of memory.\n",
      "  warnings.warn(\n",
      "/Users/misspotato/opt/miniconda3/envs/rdkit-deepchem-jupyter/lib/python3.9/site-packages/tensorflow/python/framework/indexed_slices.py:447: UserWarning: Converting sparse IndexedSlices(IndexedSlices(indices=Tensor(\"gradient_tape/gb_graph_conv_model_1/graph_pool_3/Reshape_23:0\", shape=(36,), dtype=int32), values=Tensor(\"gradient_tape/gb_graph_conv_model_1/graph_pool_3/Reshape_22:0\", shape=(36, 32), dtype=float32), dense_shape=Tensor(\"gradient_tape/gb_graph_conv_model_1/graph_pool_3/Cast_7:0\", shape=(2,), dtype=int32))) to a dense Tensor of unknown shape. This may consume a large amount of memory.\n",
      "  warnings.warn(\n",
      "/Users/misspotato/opt/miniconda3/envs/rdkit-deepchem-jupyter/lib/python3.9/site-packages/tensorflow/python/framework/indexed_slices.py:447: UserWarning: Converting sparse IndexedSlices(IndexedSlices(indices=Tensor(\"gradient_tape/gb_graph_conv_model_1/graph_conv_3/Reshape_11:0\", shape=(1195,), dtype=int32), values=Tensor(\"gradient_tape/gb_graph_conv_model_1/graph_conv_3/Reshape_10:0\", shape=(1195, 32), dtype=float32), dense_shape=Tensor(\"gradient_tape/gb_graph_conv_model_1/graph_conv_3/Cast:0\", shape=(2,), dtype=int32))) to a dense Tensor of unknown shape. This may consume a large amount of memory.\n",
      "  warnings.warn(\n",
      "/Users/misspotato/opt/miniconda3/envs/rdkit-deepchem-jupyter/lib/python3.9/site-packages/tensorflow/python/framework/indexed_slices.py:447: UserWarning: Converting sparse IndexedSlices(IndexedSlices(indices=Tensor(\"gradient_tape/gb_graph_conv_model_1/graph_conv_3/Reshape_13:0\", shape=(3852,), dtype=int32), values=Tensor(\"gradient_tape/gb_graph_conv_model_1/graph_conv_3/Reshape_12:0\", shape=(3852, 32), dtype=float32), dense_shape=Tensor(\"gradient_tape/gb_graph_conv_model_1/graph_conv_3/Cast_1:0\", shape=(2,), dtype=int32))) to a dense Tensor of unknown shape. This may consume a large amount of memory.\n",
      "  warnings.warn(\n",
      "/Users/misspotato/opt/miniconda3/envs/rdkit-deepchem-jupyter/lib/python3.9/site-packages/tensorflow/python/framework/indexed_slices.py:447: UserWarning: Converting sparse IndexedSlices(IndexedSlices(indices=Tensor(\"gradient_tape/gb_graph_conv_model_1/graph_conv_3/Reshape_15:0\", shape=(7779,), dtype=int32), values=Tensor(\"gradient_tape/gb_graph_conv_model_1/graph_conv_3/Reshape_14:0\", shape=(7779, 32), dtype=float32), dense_shape=Tensor(\"gradient_tape/gb_graph_conv_model_1/graph_conv_3/Cast_2:0\", shape=(2,), dtype=int32))) to a dense Tensor of unknown shape. This may consume a large amount of memory.\n",
      "  warnings.warn(\n",
      "/Users/misspotato/opt/miniconda3/envs/rdkit-deepchem-jupyter/lib/python3.9/site-packages/tensorflow/python/framework/indexed_slices.py:447: UserWarning: Converting sparse IndexedSlices(IndexedSlices(indices=Tensor(\"gradient_tape/gb_graph_conv_model_1/graph_conv_3/Reshape_17:0\", shape=(36,), dtype=int32), values=Tensor(\"gradient_tape/gb_graph_conv_model_1/graph_conv_3/Reshape_16:0\", shape=(36, 32), dtype=float32), dense_shape=Tensor(\"gradient_tape/gb_graph_conv_model_1/graph_conv_3/Cast_3:0\", shape=(2,), dtype=int32))) to a dense Tensor of unknown shape. This may consume a large amount of memory.\n",
      "  warnings.warn(\n",
      "/Users/misspotato/opt/miniconda3/envs/rdkit-deepchem-jupyter/lib/python3.9/site-packages/tensorflow/python/framework/indexed_slices.py:447: UserWarning: Converting sparse IndexedSlices(IndexedSlices(indices=Tensor(\"gradient_tape/gb_graph_conv_model_1/graph_conv_3/Reshape_19:0\", shape=(0,), dtype=int32), values=Tensor(\"gradient_tape/gb_graph_conv_model_1/graph_conv_3/Reshape_18:0\", shape=(0, 32), dtype=float32), dense_shape=Tensor(\"gradient_tape/gb_graph_conv_model_1/graph_conv_3/Cast_4:0\", shape=(2,), dtype=int32))) to a dense Tensor of unknown shape. This may consume a large amount of memory.\n",
      "  warnings.warn(\n",
      "/Users/misspotato/opt/miniconda3/envs/rdkit-deepchem-jupyter/lib/python3.9/site-packages/tensorflow/python/framework/indexed_slices.py:447: UserWarning: Converting sparse IndexedSlices(IndexedSlices(indices=Tensor(\"gradient_tape/gb_graph_conv_model_1/graph_conv_3/Reshape_21:0\", shape=(0,), dtype=int32), values=Tensor(\"gradient_tape/gb_graph_conv_model_1/graph_conv_3/Reshape_20:0\", shape=(0, 32), dtype=float32), dense_shape=Tensor(\"gradient_tape/gb_graph_conv_model_1/graph_conv_3/Cast_5:0\", shape=(2,), dtype=int32))) to a dense Tensor of unknown shape. This may consume a large amount of memory.\n",
      "  warnings.warn(\n",
      "/Users/misspotato/opt/miniconda3/envs/rdkit-deepchem-jupyter/lib/python3.9/site-packages/tensorflow/python/framework/indexed_slices.py:447: UserWarning: Converting sparse IndexedSlices(IndexedSlices(indices=Tensor(\"gradient_tape/gb_graph_conv_model_1/graph_conv_3/Reshape_23:0\", shape=(0,), dtype=int32), values=Tensor(\"gradient_tape/gb_graph_conv_model_1/graph_conv_3/Reshape_22:0\", shape=(0, 32), dtype=float32), dense_shape=Tensor(\"gradient_tape/gb_graph_conv_model_1/graph_conv_3/Cast_6:0\", shape=(2,), dtype=int32))) to a dense Tensor of unknown shape. This may consume a large amount of memory.\n",
      "  warnings.warn(\n",
      "/Users/misspotato/opt/miniconda3/envs/rdkit-deepchem-jupyter/lib/python3.9/site-packages/tensorflow/python/framework/indexed_slices.py:447: UserWarning: Converting sparse IndexedSlices(IndexedSlices(indices=Tensor(\"gradient_tape/gb_graph_conv_model_1/graph_conv_3/Reshape_25:0\", shape=(0,), dtype=int32), values=Tensor(\"gradient_tape/gb_graph_conv_model_1/graph_conv_3/Reshape_24:0\", shape=(0, 32), dtype=float32), dense_shape=Tensor(\"gradient_tape/gb_graph_conv_model_1/graph_conv_3/Cast_7:0\", shape=(2,), dtype=int32))) to a dense Tensor of unknown shape. This may consume a large amount of memory.\n",
      "  warnings.warn(\n",
      "/Users/misspotato/opt/miniconda3/envs/rdkit-deepchem-jupyter/lib/python3.9/site-packages/tensorflow/python/framework/indexed_slices.py:447: UserWarning: Converting sparse IndexedSlices(IndexedSlices(indices=Tensor(\"gradient_tape/gb_graph_conv_model_1/graph_conv_3/Reshape_27:0\", shape=(0,), dtype=int32), values=Tensor(\"gradient_tape/gb_graph_conv_model_1/graph_conv_3/Reshape_26:0\", shape=(0, 32), dtype=float32), dense_shape=Tensor(\"gradient_tape/gb_graph_conv_model_1/graph_conv_3/Cast_8:0\", shape=(2,), dtype=int32))) to a dense Tensor of unknown shape. This may consume a large amount of memory.\n",
      "  warnings.warn(\n",
      "/Users/misspotato/opt/miniconda3/envs/rdkit-deepchem-jupyter/lib/python3.9/site-packages/tensorflow/python/framework/indexed_slices.py:447: UserWarning: Converting sparse IndexedSlices(IndexedSlices(indices=Tensor(\"gradient_tape/gb_graph_conv_model_1/graph_conv_3/Reshape_29:0\", shape=(0,), dtype=int32), values=Tensor(\"gradient_tape/gb_graph_conv_model_1/graph_conv_3/Reshape_28:0\", shape=(0, 32), dtype=float32), dense_shape=Tensor(\"gradient_tape/gb_graph_conv_model_1/graph_conv_3/Cast_9:0\", shape=(2,), dtype=int32))) to a dense Tensor of unknown shape. This may consume a large amount of memory.\n",
      "  warnings.warn(\n",
      "/Users/misspotato/opt/miniconda3/envs/rdkit-deepchem-jupyter/lib/python3.9/site-packages/tensorflow/python/framework/indexed_slices.py:447: UserWarning: Converting sparse IndexedSlices(IndexedSlices(indices=Tensor(\"gradient_tape/gb_graph_conv_model_1/graph_pool_2/Reshape_14:0\", shape=(1195,), dtype=int32), values=Tensor(\"gradient_tape/gb_graph_conv_model_1/graph_pool_2/Reshape_13:0\", shape=(1195, 32), dtype=float32), dense_shape=Tensor(\"gradient_tape/gb_graph_conv_model_1/graph_pool_2/Cast_4:0\", shape=(2,), dtype=int32))) to a dense Tensor of unknown shape. This may consume a large amount of memory.\n",
      "  warnings.warn(\n",
      "/Users/misspotato/opt/miniconda3/envs/rdkit-deepchem-jupyter/lib/python3.9/site-packages/tensorflow/python/framework/indexed_slices.py:447: UserWarning: Converting sparse IndexedSlices(IndexedSlices(indices=Tensor(\"gradient_tape/gb_graph_conv_model_1/graph_pool_2/Reshape_17:0\", shape=(3852,), dtype=int32), values=Tensor(\"gradient_tape/gb_graph_conv_model_1/graph_pool_2/Reshape_16:0\", shape=(3852, 32), dtype=float32), dense_shape=Tensor(\"gradient_tape/gb_graph_conv_model_1/graph_pool_2/Cast_5:0\", shape=(2,), dtype=int32))) to a dense Tensor of unknown shape. This may consume a large amount of memory.\n",
      "  warnings.warn(\n",
      "/Users/misspotato/opt/miniconda3/envs/rdkit-deepchem-jupyter/lib/python3.9/site-packages/tensorflow/python/framework/indexed_slices.py:447: UserWarning: Converting sparse IndexedSlices(IndexedSlices(indices=Tensor(\"gradient_tape/gb_graph_conv_model_1/graph_pool_2/Reshape_20:0\", shape=(7779,), dtype=int32), values=Tensor(\"gradient_tape/gb_graph_conv_model_1/graph_pool_2/Reshape_19:0\", shape=(7779, 32), dtype=float32), dense_shape=Tensor(\"gradient_tape/gb_graph_conv_model_1/graph_pool_2/Cast_6:0\", shape=(2,), dtype=int32))) to a dense Tensor of unknown shape. This may consume a large amount of memory.\n",
      "  warnings.warn(\n",
      "/Users/misspotato/opt/miniconda3/envs/rdkit-deepchem-jupyter/lib/python3.9/site-packages/tensorflow/python/framework/indexed_slices.py:447: UserWarning: Converting sparse IndexedSlices(IndexedSlices(indices=Tensor(\"gradient_tape/gb_graph_conv_model_1/graph_pool_2/Reshape_23:0\", shape=(36,), dtype=int32), values=Tensor(\"gradient_tape/gb_graph_conv_model_1/graph_pool_2/Reshape_22:0\", shape=(36, 32), dtype=float32), dense_shape=Tensor(\"gradient_tape/gb_graph_conv_model_1/graph_pool_2/Cast_7:0\", shape=(2,), dtype=int32))) to a dense Tensor of unknown shape. This may consume a large amount of memory.\n",
      "  warnings.warn(\n"
     ]
    },
    {
     "name": "stdout",
     "output_type": "stream",
     "text": [
      "1/1 [==============================] - 4s 4s/step - loss: 23.5349\n",
      "1/1 [==============================] - 1s 768ms/step - loss: 39.4899\n",
      "1/1 [==============================] - 0s 58ms/step - loss: 19.7842\n",
      "1/1 [==============================] - 0s 27ms/step - loss: 39.1143\n",
      "1/1 [==============================] - 0s 57ms/step - loss: 17.4053\n",
      "1/1 [==============================] - 0s 27ms/step - loss: 38.2678\n",
      "1/1 [==============================] - 0s 56ms/step - loss: 15.9117\n",
      "1/1 [==============================] - 0s 29ms/step - loss: 37.7494\n",
      "1/1 [==============================] - 0s 57ms/step - loss: 15.0620\n",
      "1/1 [==============================] - 0s 26ms/step - loss: 37.6179\n",
      "1/1 [==============================] - 0s 57ms/step - loss: 14.9229\n",
      "1/1 [==============================] - 0s 27ms/step - loss: 37.0874\n",
      "1/1 [==============================] - 0s 56ms/step - loss: 14.1673\n",
      "1/1 [==============================] - 0s 26ms/step - loss: 36.4234\n",
      "1/1 [==============================] - 0s 61ms/step - loss: 13.8373\n",
      "1/1 [==============================] - 0s 29ms/step - loss: 35.9366\n",
      "1/1 [==============================] - 0s 57ms/step - loss: 13.4758\n",
      "1/1 [==============================] - 0s 27ms/step - loss: 35.4578\n",
      "1/1 [==============================] - 0s 57ms/step - loss: 13.1003\n",
      "1/1 [==============================] - 0s 26ms/step - loss: 35.2092\n",
      "1/1 [==============================] - 0s 56ms/step - loss: 12.8001\n",
      "1/1 [==============================] - 0s 26ms/step - loss: 34.9430\n",
      "1/1 [==============================] - 0s 58ms/step - loss: 12.5159\n",
      "1/1 [==============================] - 0s 29ms/step - loss: 34.4753\n",
      "1/1 [==============================] - 0s 58ms/step - loss: 12.3510\n",
      "1/1 [==============================] - 0s 26ms/step - loss: 34.0461\n",
      "1/1 [==============================] - 0s 56ms/step - loss: 12.1701\n",
      "1/1 [==============================] - 0s 29ms/step - loss: 33.7296\n",
      "1/1 [==============================] - 0s 57ms/step - loss: 11.9791\n",
      "1/1 [==============================] - 0s 26ms/step - loss: 33.5739\n",
      "1/1 [==============================] - 0s 48ms/step - loss: 11.8356\n",
      "1/1 [==============================] - 0s 27ms/step - loss: 33.3856\n",
      "1/1 [==============================] - 0s 56ms/step - loss: 11.7087\n",
      "1/1 [==============================] - 0s 26ms/step - loss: 33.2994\n",
      "1/1 [==============================] - 0s 59ms/step - loss: 11.6017\n",
      "1/1 [==============================] - 0s 27ms/step - loss: 33.3837\n",
      "1/1 [==============================] - 0s 58ms/step - loss: 11.4908\n",
      "1/1 [==============================] - 0s 26ms/step - loss: 33.5258\n",
      "1/1 [==============================] - 0s 49ms/step - loss: 11.3870\n",
      "1/1 [==============================] - 0s 26ms/step - loss: 33.6866\n",
      "1/1 [==============================] - 0s 55ms/step - loss: 11.3099\n",
      "1/1 [==============================] - 0s 28ms/step - loss: 33.9163\n",
      "1/1 [==============================] - 0s 58ms/step - loss: 11.2317\n",
      "1/1 [==============================] - 0s 28ms/step - loss: 34.1945\n",
      "1/1 [==============================] - 0s 62ms/step - loss: 11.1677\n",
      "1/1 [==============================] - 0s 27ms/step - loss: 34.4683\n",
      "1/1 [==============================] - 0s 49ms/step - loss: 11.1081\n",
      "1/1 [==============================] - 0s 28ms/step - loss: 34.7783\n",
      "1/1 [==============================] - 0s 57ms/step - loss: 11.0546\n",
      "1/1 [==============================] - 0s 27ms/step - loss: 35.0668\n",
      "1/1 [==============================] - 0s 58ms/step - loss: 10.9838\n",
      "1/1 [==============================] - 0s 29ms/step - loss: 35.3651\n",
      "1/1 [==============================] - 0s 60ms/step - loss: 10.9122\n",
      "1/1 [==============================] - 0s 27ms/step - loss: 35.5412\n",
      "1/1 [==============================] - 0s 50ms/step - loss: 10.8682\n",
      "1/1 [==============================] - 0s 28ms/step - loss: 35.5817\n",
      "1/1 [==============================] - 0s 57ms/step - loss: 10.8311\n",
      "1/1 [==============================] - 0s 27ms/step - loss: 35.6276\n",
      "1/1 [==============================] - 0s 59ms/step - loss: 10.7985\n",
      "1/1 [==============================] - 0s 27ms/step - loss: 35.7230\n",
      "1/1 [==============================] - 0s 59ms/step - loss: 10.7608\n",
      "1/1 [==============================] - 0s 30ms/step - loss: 35.8092\n",
      "1/1 [==============================] - 0s 50ms/step - loss: 10.7368\n",
      "1/1 [==============================] - 0s 27ms/step - loss: 35.9095\n",
      "1/1 [==============================] - 0s 60ms/step - loss: 10.7174\n",
      "1/1 [==============================] - 0s 27ms/step - loss: 36.0313\n",
      "1/1 [==============================] - 0s 59ms/step - loss: 10.6977\n",
      "1/1 [==============================] - 0s 27ms/step - loss: 36.2078\n",
      "1/1 [==============================] - 0s 60ms/step - loss: 10.6814\n",
      "1/1 [==============================] - 0s 27ms/step - loss: 36.4671\n",
      "1/1 [==============================] - 0s 48ms/step - loss: 10.6672\n",
      "1/1 [==============================] - 0s 28ms/step - loss: 36.7418\n",
      "1/1 [==============================] - 0s 58ms/step - loss: 10.6549\n",
      "1/1 [==============================] - 0s 27ms/step - loss: 36.9623\n",
      "1/1 [==============================] - 0s 61ms/step - loss: 10.6445\n",
      "1/1 [==============================] - 0s 27ms/step - loss: 37.1437\n",
      "1/1 [==============================] - 0s 58ms/step - loss: 10.6355\n",
      "1/1 [==============================] - 0s 27ms/step - loss: 37.2731\n",
      "1/1 [==============================] - 0s 50ms/step - loss: 10.6272\n",
      "1/1 [==============================] - 0s 26ms/step - loss: 37.3276\n",
      "1/1 [==============================] - 0s 58ms/step - loss: 10.6193\n",
      "1/1 [==============================] - 0s 28ms/step - loss: 37.3633\n",
      "1/1 [==============================] - 0s 59ms/step - loss: 10.6106\n",
      "1/1 [==============================] - 0s 27ms/step - loss: 37.4363\n",
      "1/1 [==============================] - 0s 59ms/step - loss: 10.6037\n",
      "1/1 [==============================] - 0s 28ms/step - loss: 37.5812\n",
      "1/1 [==============================] - 0s 58ms/step - loss: 10.5981\n",
      "1/1 [==============================] - 0s 27ms/step - loss: 37.7486\n",
      "1/1 [==============================] - 0s 61ms/step - loss: 10.5919\n",
      "1/1 [==============================] - 0s 27ms/step - loss: 37.9075\n",
      "1/1 [==============================] - 0s 60ms/step - loss: 10.5860\n",
      "1/1 [==============================] - 0s 27ms/step - loss: 38.0804\n",
      "1/1 [==============================] - 0s 59ms/step - loss: 10.5787\n",
      "1/1 [==============================] - 0s 30ms/step - loss: 38.2625\n",
      "1/1 [==============================] - 0s 60ms/step - loss: 10.5708\n",
      "1/1 [==============================] - 0s 28ms/step - loss: 38.4561\n",
      "1/1 [==============================] - 0s 60ms/step - loss: 10.5647\n",
      "1/1 [==============================] - 0s 27ms/step - loss: 38.6699\n",
      "1/1 [==============================] - 0s 63ms/step - loss: 10.5614\n",
      "1/1 [==============================] - 0s 27ms/step - loss: 38.8385\n",
      "1/1 [==============================] - 0s 58ms/step - loss: 10.5560\n",
      "1/1 [==============================] - 0s 32ms/step - loss: 38.9870\n",
      "1/1 [==============================] - 0s 57ms/step - loss: 10.5550\n",
      "1/1 [==============================] - 0s 27ms/step - loss: 39.2483\n",
      "1/1 [==============================] - 0s 62ms/step - loss: 10.5547\n",
      "1/1 [==============================] - 0s 27ms/step - loss: 39.6137\n",
      "1/1 [==============================] - 0s 61ms/step - loss: 10.5544\n",
      "1/1 [==============================] - 0s 27ms/step - loss: 39.8961\n",
      "1/1 [==============================] - 0s 59ms/step - loss: 10.5540\n",
      "1/1 [==============================] - 0s 29ms/step - loss: 40.0252\n",
      "1/1 [==============================] - 0s 59ms/step - loss: 10.5537\n",
      "1/1 [==============================] - 0s 28ms/step - loss: 40.0437\n",
      "1/1 [==============================] - 0s 59ms/step - loss: 10.5534\n",
      "1/1 [==============================] - 0s 27ms/step - loss: 40.0140\n",
      "1/1 [==============================] - 0s 63ms/step - loss: 10.5531\n",
      "1/1 [==============================] - 0s 27ms/step - loss: 39.9686\n",
      "1/1 [==============================] - 0s 59ms/step - loss: 10.5527\n",
      "1/1 [==============================] - 0s 29ms/step - loss: 39.9089\n",
      "1/1 [==============================] - 0s 58ms/step - loss: 10.5523\n",
      "1/1 [==============================] - 0s 26ms/step - loss: 39.8263\n"
     ]
    },
    {
     "name": "stdout",
     "output_type": "stream",
     "text": [
      "1/1 [==============================] - 0s 61ms/step - loss: 10.5519\n",
      "1/1 [==============================] - 0s 28ms/step - loss: 39.7206\n",
      "1/1 [==============================] - 0s 58ms/step - loss: 10.5515\n",
      "1/1 [==============================] - 0s 26ms/step - loss: 39.6116\n",
      "1/1 [==============================] - 0s 62ms/step - loss: 10.5511\n",
      "1/1 [==============================] - 0s 29ms/step - loss: 39.5238\n",
      "1/1 [==============================] - 0s 56ms/step - loss: 10.5506\n",
      "1/1 [==============================] - 0s 26ms/step - loss: 39.4635\n",
      "1/1 [==============================] - 0s 58ms/step - loss: 10.5502\n",
      "1/1 [==============================] - 0s 26ms/step - loss: 39.4253\n",
      "1/1 [==============================] - 0s 57ms/step - loss: 10.5498\n",
      "1/1 [==============================] - 0s 27ms/step - loss: 39.3858\n",
      "1/1 [==============================] - 0s 59ms/step - loss: 10.5493\n",
      "1/1 [==============================] - 0s 28ms/step - loss: 39.3340\n",
      "1/1 [==============================] - 0s 58ms/step - loss: 10.5487\n",
      "1/1 [==============================] - 0s 26ms/step - loss: 39.2790\n",
      "1/1 [==============================] - 0s 58ms/step - loss: 10.5482\n",
      "1/1 [==============================] - 0s 26ms/step - loss: 39.2155\n",
      "1/1 [==============================] - 0s 58ms/step - loss: 10.5477\n",
      "1/1 [==============================] - 0s 27ms/step - loss: 39.1495\n",
      "1/1 [==============================] - 0s 59ms/step - loss: 10.5472\n",
      "1/1 [==============================] - 0s 29ms/step - loss: 39.0924\n",
      "1/1 [==============================] - 0s 58ms/step - loss: 10.5467\n",
      "1/1 [==============================] - 0s 26ms/step - loss: 39.0365\n",
      "1/1 [==============================] - 0s 60ms/step - loss: 10.5462\n",
      "1/1 [==============================] - 0s 27ms/step - loss: 38.9726\n",
      "1/1 [==============================] - 0s 59ms/step - loss: 10.5456\n",
      "1/1 [==============================] - 0s 26ms/step - loss: 38.8964\n",
      "1/1 [==============================] - 0s 59ms/step - loss: 10.5449\n",
      "1/1 [==============================] - 0s 28ms/step - loss: 38.8077\n",
      "1/1 [==============================] - 0s 57ms/step - loss: 10.5446\n",
      "1/1 [==============================] - 0s 26ms/step - loss: 38.7201\n",
      "1/1 [==============================] - 0s 59ms/step - loss: 10.5448\n",
      "1/1 [==============================] - 0s 26ms/step - loss: 38.6415\n",
      "1/1 [==============================] - 0s 61ms/step - loss: 10.5441\n",
      "1/1 [==============================] - 0s 27ms/step - loss: 38.5533\n",
      "1/1 [==============================] - 0s 48ms/step - loss: 10.5438\n",
      "1/1 [==============================] - 0s 26ms/step - loss: 38.4522\n",
      "1/1 [==============================] - 0s 59ms/step - loss: 10.5437\n",
      "1/1 [==============================] - 0s 26ms/step - loss: 38.3475\n",
      "1/1 [==============================] - 0s 59ms/step - loss: 10.5436\n",
      "1/1 [==============================] - 0s 27ms/step - loss: 38.2475\n",
      "1/1 [==============================] - 0s 57ms/step - loss: 10.5434\n",
      "1/1 [==============================] - 0s 27ms/step - loss: 38.1548\n",
      "1/1 [==============================] - 0s 52ms/step - loss: 10.5431\n",
      "1/1 [==============================] - 0s 27ms/step - loss: 38.0684\n",
      "1/1 [==============================] - 0s 60ms/step - loss: 10.5429\n",
      "1/1 [==============================] - 0s 27ms/step - loss: 37.9877\n",
      "1/1 [==============================] - 0s 59ms/step - loss: 10.5426\n",
      "1/1 [==============================] - 0s 27ms/step - loss: 37.9079\n",
      "1/1 [==============================] - 0s 58ms/step - loss: 10.5425\n",
      "1/1 [==============================] - 0s 29ms/step - loss: 37.8260\n",
      "1/1 [==============================] - 0s 49ms/step - loss: 10.5425\n",
      "1/1 [==============================] - 0s 27ms/step - loss: 37.7410\n",
      "1/1 [==============================] - 0s 62ms/step - loss: 10.5423\n",
      "1/1 [==============================] - 0s 27ms/step - loss: 37.6552\n",
      "1/1 [==============================] - 0s 58ms/step - loss: 10.5421\n",
      "1/1 [==============================] - 0s 27ms/step - loss: 37.5745\n",
      "1/1 [==============================] - 0s 60ms/step - loss: 10.5420\n",
      "1/1 [==============================] - 0s 27ms/step - loss: 37.5041\n",
      "1/1 [==============================] - 0s 51ms/step - loss: 10.5420\n",
      "1/1 [==============================] - 0s 30ms/step - loss: 37.4437\n",
      "1/1 [==============================] - 0s 60ms/step - loss: 10.5419\n",
      "1/1 [==============================] - 0s 27ms/step - loss: 37.3891\n",
      "1/1 [==============================] - 0s 62ms/step - loss: 10.5418\n",
      "1/1 [==============================] - 0s 27ms/step - loss: 37.3384\n",
      "1/1 [==============================] - 0s 58ms/step - loss: 10.5417\n",
      "1/1 [==============================] - 0s 27ms/step - loss: 37.2925\n",
      "1/1 [==============================] - 0s 51ms/step - loss: 10.5416\n",
      "1/1 [==============================] - 0s 28ms/step - loss: 37.2522\n",
      "1/1 [==============================] - 0s 59ms/step - loss: 10.5416\n",
      "1/1 [==============================] - 0s 29ms/step - loss: 37.2167\n",
      "1/1 [==============================] - 0s 60ms/step - loss: 10.5415\n",
      "1/1 [==============================] - 0s 28ms/step - loss: 37.1863\n",
      "1/1 [==============================] - 0s 63ms/step - loss: 10.5414\n",
      "1/1 [==============================] - 0s 28ms/step - loss: 37.1631\n",
      "1/1 [==============================] - 0s 50ms/step - loss: 10.5414\n",
      "1/1 [==============================] - 0s 28ms/step - loss: 37.1453\n",
      "1/1 [==============================] - 0s 60ms/step - loss: 10.5413\n",
      "1/1 [==============================] - 0s 27ms/step - loss: 37.1324\n"
     ]
    }
   ],
   "source": [
    "losses, val_losses = [], []\n",
    "max_epoch = 100\n",
    "val_size = len(y_val)\n",
    "train_size = len(y_train)\n",
    "\n",
    "for epoch in range(max_epoch):\n",
    "    dd_model.modify_graphgather(train_size)\n",
    "    dd_model.input_shapes = [i.shape for i in x_preprocessed_train]\n",
    "    loss = dd_model.fit(x_train, y_train.reshape([1, -1]), epochs=1)\n",
    "#     metric = dc.metrics.Metric(dc.metrics.score_function.rms_score)\n",
    "    losses.append(loss.history['loss'])\n",
    "    dd_model.input_shapes = [i.shape for i in x_preprocessed_val]\n",
    "    dd_model.modify_graphgather(val_size)\n",
    "    val_losses.append(dd_model.evaluate(x_val, y_val.reshape([1, -1])))"
   ]
  },
  {
   "cell_type": "code",
   "execution_count": 78,
   "metadata": {},
   "outputs": [
    {
     "data": {
      "text/plain": [
       "(0.0, 50.0)"
      ]
     },
     "execution_count": 78,
     "metadata": {},
     "output_type": "execute_result"
    },
    {
     "data": {
      "image/png": "[encoded data removed]",
      "text/plain": [
       "<Figure size 432x288 with 1 Axes>"
      ]
     },
     "metadata": {
      "needs_background": "light"
     },
     "output_type": "display_data"
    }
   ],
   "source": [
    "import matplotlib.pyplot as plt\n",
    "# f, ax = plt.subplots()\n",
    "plt.plot(range(len(losses)), losses, label='train loss')\n",
    "plt.plot(range(len(val_losses)), val_losses, label='val loss')\n",
    "plt.legend(loc='upper right');\n",
    "plt.xlabel(\"Epoch\")\n",
    "plt.ylabel(\"Loss (Kcal/mol)\")\n",
    "plt.ylim(0,50)"
   ]
  },
  {
   "cell_type": "code",
   "execution_count": 60,
   "metadata": {},
   "outputs": [
    {
     "name": "stdout",
     "output_type": "stream",
     "text": [
      "1/1 [==============================] - 0s 26ms/step - loss: 37.1324\n"
     ]
    }
   ],
   "source": [
    "dd_model.input_shapes = [i.shape for i in x_preprocessed_test]\n",
    "dd_model.modify_graphgather(len(y_test))\n",
    "test_pgnn_loss = dd_model.evaluate(x_test, y_test.reshape([1, -1]))"
   ]
  },
  {
   "cell_type": "code",
   "execution_count": 61,
   "metadata": {},
   "outputs": [
    {
     "name": "stdout",
     "output_type": "stream",
     "text": [
      "6.093636066643241\n"
     ]
    }
   ],
   "source": [
    "dd_rmse_test = np.sqrt(test_pgnn_loss)\n",
    "print(dd_rmse_test)"
   ]
  },
  {
   "cell_type": "code",
   "execution_count": 62,
   "metadata": {},
   "outputs": [
    {
     "data": {
      "text/plain": [
       "[10.541329383850098]"
      ]
     },
     "execution_count": 62,
     "metadata": {},
     "output_type": "execute_result"
    }
   ],
   "source": [
    "train_loss = losses[-1]\n",
    "train_loss"
   ]
  },
  {
   "cell_type": "code",
   "execution_count": 63,
   "metadata": {},
   "outputs": [
    {
     "data": {
      "text/plain": [
       "3.2467413484677365"
      ]
     },
     "execution_count": 63,
     "metadata": {},
     "output_type": "execute_result"
    }
   ],
   "source": [
    "import math\n",
    "train_dd_rmse = math.sqrt(train_loss[0])\n",
    "train_dd_rmse"
   ]
  },
  {
   "cell_type": "markdown",
   "metadata": {},
   "source": [
    "<h1> Model Comparisons </h1>"
   ]
  },
  {
   "cell_type": "code",
   "execution_count": 69,
   "metadata": {},
   "outputs": [
    {
     "name": "stdout",
     "output_type": "stream",
     "text": [
      "+-----------------------------+\n",
      "|        Test Set RMSE        |\n",
      "+--------+-------------+------+\n",
      "| GBNSR6 | Data Driven | PGNN |\n",
      "+--------+-------------+------+\n",
      "|  7.85  |     6.09    | 6.10 |\n",
      "+--------+-------------+------+\n"
     ]
    }
   ],
   "source": [
    "# Test\n",
    "from prettytable import PrettyTable\n",
    "rmse_table = PrettyTable()\n",
    "rmse_table.title=\"Test Set RMSE\"\n",
    "rmse_table.field_names = [\"GBNSR6\", \"Data Driven\", \"PGNN\"]\n",
    "rmse_table.add_row([\"{:.2f}\".format(physics_based_rmse_test), \"{:.2f}\".format(dd_rmse_test),\"{:.2f}\".format(pgnn_rmse_test)])\n",
    "print(rmse_table)"
   ]
  },
  {
   "cell_type": "code",
   "execution_count": 65,
   "metadata": {},
   "outputs": [
    {
     "name": "stdout",
     "output_type": "stream",
     "text": [
      "+-----------------------------+\n",
      "|        Train Set RMSE       |\n",
      "+--------+-------------+------+\n",
      "| GBNSR6 | Data Driven | PGNN |\n",
      "+--------+-------------+------+\n",
      "|  9.42  |     3.25    | 4.96 |\n",
      "+--------+-------------+------+\n"
     ]
    }
   ],
   "source": [
    "# Train\n",
    "rmse_table = PrettyTable()\n",
    "rmse_table.title=\"Train Set RMSE\"\n",
    "rmse_table.field_names = [\"GBNSR6\", \"Data Driven\", \"PGNN\"]\n",
    "rmse_table.add_row([\"{:.2f}\".format(physics_based_rmse_train), \"{:.2f}\".format(train_dd_rmse),\"{:.2f}\".format(train_hybrid_rmse)])\n",
    "print(rmse_table)"
   ]
  },
  {
   "cell_type": "markdown",
   "metadata": {},
   "source": [
    "<h1> Loss per epoch </h1>"
   ]
  },
  {
   "cell_type": "code",
   "execution_count": 66,
   "metadata": {},
   "outputs": [],
   "source": [
    "# print(model.summary())"
   ]
  },
  {
   "cell_type": "code",
   "execution_count": 67,
   "metadata": {},
   "outputs": [],
   "source": [
    "# import matplotlib.pyplot as plt\n",
    "# plt.plot(history_train_hybrid.history['loss'])\n",
    "# plt.xlabel(\"Epoch\")\n",
    "# plt.ylabel(\"Loss (Kcal/mol)\")\n",
    "# plt.xlim(-1, 60)"
   ]
  },
  {
   "cell_type": "code",
   "execution_count": null,
   "metadata": {},
   "outputs": [],
   "source": []
  },
  {
   "cell_type": "code",
   "execution_count": null,
   "metadata": {},
   "outputs": [],
   "source": []
  }
 ],
 "metadata": {
  "kernelspec": {
   "display_name": "rdkit-deepchem-jupyter",
   "language": "python",
   "name": "rdkit-deepchem-jupyter"
  },
  "language_info": {
   "codemirror_mode": {
    "name": "ipython",
    "version": 3
   },
   "file_extension": ".py",
   "mimetype": "text/x-python",
   "name": "python",
   "nbconvert_exporter": "python",
   "pygments_lexer": "ipython3",
   "version": "3.9.7"
  }
 },
 "nbformat": 4,
 "nbformat_minor": 4
}
