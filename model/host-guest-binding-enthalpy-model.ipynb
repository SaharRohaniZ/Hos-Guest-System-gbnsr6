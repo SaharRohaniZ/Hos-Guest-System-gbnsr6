{
 "cells": [
  {
   "cell_type": "markdown",
   "metadata": {},
   "source": [
    "<h1>Installing RDKit</h1>"
   ]
  },
  {
   "cell_type": "code",
   "execution_count": 1,
   "metadata": {},
   "outputs": [],
   "source": [
    "import rdkit\n",
    "import deepchem as dc\n",
    "import pandas as pd\n",
    "import numpy as np\n",
    "import tensorflow as tf\n",
    "import sklearn"
   ]
  },
  {
   "cell_type": "code",
   "execution_count": 2,
   "metadata": {},
   "outputs": [
    {
     "data": {
      "text/plain": [
       "'2.5.0'"
      ]
     },
     "execution_count": 2,
     "metadata": {},
     "output_type": "execute_result"
    }
   ],
   "source": [
    "dc.__version__"
   ]
  },
  {
   "cell_type": "code",
   "execution_count": 3,
   "metadata": {},
   "outputs": [
    {
     "data": {
      "text/plain": [
       "'1.19.5'"
      ]
     },
     "execution_count": 3,
     "metadata": {},
     "output_type": "execute_result"
    }
   ],
   "source": [
    "np.__version__"
   ]
  },
  {
   "cell_type": "code",
   "execution_count": 4,
   "metadata": {},
   "outputs": [
    {
     "data": {
      "text/plain": [
       "'2.6.0'"
      ]
     },
     "execution_count": 4,
     "metadata": {},
     "output_type": "execute_result"
    }
   ],
   "source": [
    "tf.__version__"
   ]
  },
  {
   "cell_type": "code",
   "execution_count": 5,
   "metadata": {},
   "outputs": [],
   "source": [
    "df = pd.read_csv('https://raw.githubusercontent.com/saharctech/Binding-Free-Energy-Prediction-Host-Guest-System/master/Results/dataset.csv')"
   ]
  },
  {
   "cell_type": "code",
   "execution_count": 6,
   "metadata": {},
   "outputs": [
    {
     "data": {
      "text/html": [
       "<div>\n",
       "<style scoped>\n",
       "    .dataframe tbody tr th:only-of-type {\n",
       "        vertical-align: middle;\n",
       "    }\n",
       "\n",
       "    .dataframe tbody tr th {\n",
       "        vertical-align: top;\n",
       "    }\n",
       "\n",
       "    .dataframe thead th {\n",
       "        text-align: right;\n",
       "    }\n",
       "</style>\n",
       "<table border=\"1\" class=\"dataframe\">\n",
       "  <thead>\n",
       "    <tr style=\"text-align: right;\">\n",
       "      <th></th>\n",
       "      <th>Unnamed: 0</th>\n",
       "      <th>ID</th>\n",
       "      <th>dataset group name</th>\n",
       "      <th>Dataset Name</th>\n",
       "      <th>Host</th>\n",
       "      <th>Guest</th>\n",
       "      <th>Ex _G_(kcal/mol)</th>\n",
       "      <th>Ex _G_SEM</th>\n",
       "      <th>EX _H_(kcal/mol)</th>\n",
       "      <th>EX _H_SEM</th>\n",
       "      <th>...</th>\n",
       "      <th>gb_host_1-4EEL</th>\n",
       "      <th>gb_host_EELEC</th>\n",
       "      <th>gb_host_EGB</th>\n",
       "      <th>gb_host_ESURF</th>\n",
       "      <th>gb_delta_H</th>\n",
       "      <th>pb_delta_H</th>\n",
       "      <th>EX _delta_H_(kcal/mol)</th>\n",
       "      <th>gb_Ex_difference</th>\n",
       "      <th>SQR_gbnsr6_Ex_difference</th>\n",
       "      <th>pb_Ex_difference</th>\n",
       "    </tr>\n",
       "  </thead>\n",
       "  <tbody>\n",
       "    <tr>\n",
       "      <th>0</th>\n",
       "      <td>0</td>\n",
       "      <td>1</td>\n",
       "      <td>Mobley benchmarkset</td>\n",
       "      <td>cd-set1</td>\n",
       "      <td>acd</td>\n",
       "      <td>guest-1</td>\n",
       "      <td>-1.575</td>\n",
       "      <td>0.019</td>\n",
       "      <td>-2.17</td>\n",
       "      <td>0.05</td>\n",
       "      <td>...</td>\n",
       "      <td>423.5761</td>\n",
       "      <td>-428.9520</td>\n",
       "      <td>-96.4471</td>\n",
       "      <td>5.1691</td>\n",
       "      <td>-1.9950</td>\n",
       "      <td>-0.8408</td>\n",
       "      <td>-2.17</td>\n",
       "      <td>0.1750</td>\n",
       "      <td>0.030625</td>\n",
       "      <td>1.3292</td>\n",
       "    </tr>\n",
       "    <tr>\n",
       "      <th>1</th>\n",
       "      <td>1</td>\n",
       "      <td>2</td>\n",
       "      <td>Mobley benchmarkset</td>\n",
       "      <td>cd-set1</td>\n",
       "      <td>acd</td>\n",
       "      <td>guest-2</td>\n",
       "      <td>-3.533</td>\n",
       "      <td>0.004</td>\n",
       "      <td>-4.19</td>\n",
       "      <td>0.02</td>\n",
       "      <td>...</td>\n",
       "      <td>412.6663</td>\n",
       "      <td>-397.9784</td>\n",
       "      <td>-106.4154</td>\n",
       "      <td>5.0726</td>\n",
       "      <td>-11.2624</td>\n",
       "      <td>-8.4809</td>\n",
       "      <td>-4.19</td>\n",
       "      <td>-7.0724</td>\n",
       "      <td>50.018842</td>\n",
       "      <td>-4.2909</td>\n",
       "    </tr>\n",
       "    <tr>\n",
       "      <th>2</th>\n",
       "      <td>2</td>\n",
       "      <td>3</td>\n",
       "      <td>Mobley benchmarkset</td>\n",
       "      <td>cd-set1</td>\n",
       "      <td>acd</td>\n",
       "      <td>guest-3</td>\n",
       "      <td>-4.606</td>\n",
       "      <td>0.007</td>\n",
       "      <td>-5.46</td>\n",
       "      <td>0.03</td>\n",
       "      <td>...</td>\n",
       "      <td>426.2925</td>\n",
       "      <td>-429.3068</td>\n",
       "      <td>-95.2452</td>\n",
       "      <td>5.1352</td>\n",
       "      <td>-15.4074</td>\n",
       "      <td>-13.8234</td>\n",
       "      <td>-5.46</td>\n",
       "      <td>-9.9474</td>\n",
       "      <td>98.950767</td>\n",
       "      <td>-8.3634</td>\n",
       "    </tr>\n",
       "    <tr>\n",
       "      <th>3</th>\n",
       "      <td>3</td>\n",
       "      <td>4</td>\n",
       "      <td>Mobley benchmarkset</td>\n",
       "      <td>cd-set1</td>\n",
       "      <td>acd</td>\n",
       "      <td>guest-4</td>\n",
       "      <td>-2.130</td>\n",
       "      <td>0.016</td>\n",
       "      <td>-2.74</td>\n",
       "      <td>0.02</td>\n",
       "      <td>...</td>\n",
       "      <td>420.0687</td>\n",
       "      <td>-416.5215</td>\n",
       "      <td>-97.4461</td>\n",
       "      <td>5.0849</td>\n",
       "      <td>-10.5586</td>\n",
       "      <td>-11.3319</td>\n",
       "      <td>-2.74</td>\n",
       "      <td>-7.8186</td>\n",
       "      <td>61.130506</td>\n",
       "      <td>-8.5919</td>\n",
       "    </tr>\n",
       "    <tr>\n",
       "      <th>4</th>\n",
       "      <td>4</td>\n",
       "      <td>5</td>\n",
       "      <td>Mobley benchmarkset</td>\n",
       "      <td>cd-set1</td>\n",
       "      <td>acd</td>\n",
       "      <td>guest-5</td>\n",
       "      <td>-2.510</td>\n",
       "      <td>0.060</td>\n",
       "      <td>-2.99</td>\n",
       "      <td>0.23</td>\n",
       "      <td>...</td>\n",
       "      <td>425.7315</td>\n",
       "      <td>-435.9689</td>\n",
       "      <td>-91.2312</td>\n",
       "      <td>5.0881</td>\n",
       "      <td>-14.5517</td>\n",
       "      <td>-14.0485</td>\n",
       "      <td>-2.99</td>\n",
       "      <td>-11.5617</td>\n",
       "      <td>133.672907</td>\n",
       "      <td>-11.0585</td>\n",
       "    </tr>\n",
       "  </tbody>\n",
       "</table>\n",
       "<p>5 rows × 46 columns</p>\n",
       "</div>"
      ],
      "text/plain": [
       "   Unnamed: 0  ID   dataset group name Dataset Name Host    Guest  \\\n",
       "0           0   1  Mobley benchmarkset      cd-set1  acd  guest-1   \n",
       "1           1   2  Mobley benchmarkset      cd-set1  acd  guest-2   \n",
       "2           2   3  Mobley benchmarkset      cd-set1  acd  guest-3   \n",
       "3           3   4  Mobley benchmarkset      cd-set1  acd  guest-4   \n",
       "4           4   5  Mobley benchmarkset      cd-set1  acd  guest-5   \n",
       "\n",
       "   Ex _G_(kcal/mol)  Ex _G_SEM  EX _H_(kcal/mol)  EX _H_SEM  ...  \\\n",
       "0            -1.575      0.019             -2.17       0.05  ...   \n",
       "1            -3.533      0.004             -4.19       0.02  ...   \n",
       "2            -4.606      0.007             -5.46       0.03  ...   \n",
       "3            -2.130      0.016             -2.74       0.02  ...   \n",
       "4            -2.510      0.060             -2.99       0.23  ...   \n",
       "\n",
       "   gb_host_1-4EEL  gb_host_EELEC  gb_host_EGB  gb_host_ESURF  gb_delta_H  \\\n",
       "0        423.5761      -428.9520     -96.4471         5.1691     -1.9950   \n",
       "1        412.6663      -397.9784    -106.4154         5.0726    -11.2624   \n",
       "2        426.2925      -429.3068     -95.2452         5.1352    -15.4074   \n",
       "3        420.0687      -416.5215     -97.4461         5.0849    -10.5586   \n",
       "4        425.7315      -435.9689     -91.2312         5.0881    -14.5517   \n",
       "\n",
       "   pb_delta_H  EX _delta_H_(kcal/mol)  gb_Ex_difference  \\\n",
       "0     -0.8408                   -2.17            0.1750   \n",
       "1     -8.4809                   -4.19           -7.0724   \n",
       "2    -13.8234                   -5.46           -9.9474   \n",
       "3    -11.3319                   -2.74           -7.8186   \n",
       "4    -14.0485                   -2.99          -11.5617   \n",
       "\n",
       "   SQR_gbnsr6_Ex_difference  pb_Ex_difference  \n",
       "0                  0.030625            1.3292  \n",
       "1                 50.018842           -4.2909  \n",
       "2                 98.950767           -8.3634  \n",
       "3                 61.130506           -8.5919  \n",
       "4                133.672907          -11.0585  \n",
       "\n",
       "[5 rows x 46 columns]"
      ]
     },
     "execution_count": 6,
     "metadata": {},
     "output_type": "execute_result"
    }
   ],
   "source": [
    "df.head()"
   ]
  },
  {
   "cell_type": "markdown",
   "metadata": {},
   "source": [
    "<h1>Reading Mobley PDB files</h1>\n",
    "<p>Here each PDB file will be read and saved in Mol data type defined in RDKit and used by DeepChem</p>"
   ]
  },
  {
   "cell_type": "code",
   "execution_count": 7,
   "metadata": {},
   "outputs": [],
   "source": [
    "# Dictionary with complex names as keys and molecule as values\n",
    "PDBs = {}\n",
    "from os import listdir\n",
    "from os.path import isfile, join\n",
    "mypath = '.../Documents/Github/Binding-Free-Energy-Prediction-Host-Guest-System/PDB'\n",
    "onlyfiles = [f for f in listdir(mypath) if isfile(join(mypath, f))]\n",
    "for f in onlyfiles:\n",
    "    PDBs.update({f.split('.')[0].replace('s', '') : rdkit.Chem.rdmolfiles.MolFromPDBFile(mypath + '/' + f)})"
   ]
  },
  {
   "cell_type": "code",
   "execution_count": 8,
   "metadata": {},
   "outputs": [],
   "source": [
    "# Randomly shuffling the PDBs\n",
    "import random\n",
    "l = list(PDBs.items())\n",
    "random.shuffle(l)\n",
    "PDBs = dict(l)"
   ]
  },
  {
   "cell_type": "markdown",
   "metadata": {},
   "source": [
    "<h1>Featurizing</h1>\n",
    "<p>GraphConv model needs ConvMolFeaturizer</p>"
   ]
  },
  {
   "cell_type": "code",
   "execution_count": 9,
   "metadata": {},
   "outputs": [],
   "source": [
    "featurizer = dc.feat.ConvMolFeaturizer(per_atom_fragmentation=False)\n",
    "TRAIN_SET = .7"
   ]
  },
  {
   "cell_type": "code",
   "execution_count": 10,
   "metadata": {},
   "outputs": [],
   "source": [
    "PDBs.pop('',None)\n",
    "X = []\n",
    "X_ids = []\n",
    "# one_add = 0 if len(PDBs.keys()) % 2 == 0 else 1\n",
    "for k in PDBs.keys():\n",
    "    X_ids.append(k)\n",
    "    X.append(featurizer.featurize(PDBs[k]))\n",
    "split_index = int(len(X) * TRAIN_SET)\n",
    "X = [x[0] for x in X]\n",
    "X_train_featurized = X[:split_index]\n",
    "X_test_featurized = X[split_index:]"
   ]
  },
  {
   "cell_type": "code",
   "execution_count": 11,
   "metadata": {},
   "outputs": [],
   "source": [
    "host_names = [i.split('-')[0] for i in X_ids]\n",
    "guest_names = ['guest-' + (i.split('-')[1].replace('s', '')) for i in X_ids]"
   ]
  },
  {
   "cell_type": "code",
   "execution_count": 12,
   "metadata": {},
   "outputs": [],
   "source": [
    "host_names_train = host_names[:split_index]\n",
    "guest_names_train = guest_names[:split_index]\n",
    "host_names_test = host_names[split_index:]\n",
    "guest_names_test = guest_names[split_index:]"
   ]
  },
  {
   "cell_type": "code",
   "execution_count": 13,
   "metadata": {},
   "outputs": [
    {
     "data": {
      "text/plain": [
       "50"
      ]
     },
     "execution_count": 13,
     "metadata": {},
     "output_type": "execute_result"
    }
   ],
   "source": [
    "len(host_names_train)"
   ]
  },
  {
   "cell_type": "code",
   "execution_count": 14,
   "metadata": {},
   "outputs": [
    {
     "data": {
      "text/plain": [
       "22"
      ]
     },
     "execution_count": 14,
     "metadata": {},
     "output_type": "execute_result"
    }
   ],
   "source": [
    "len(host_names_test)"
   ]
  },
  {
   "cell_type": "code",
   "execution_count": 15,
   "metadata": {},
   "outputs": [],
   "source": [
    "x_add_train, x_add_test, y_train, y_test = [], [], [], []\n",
    "for i in range(len(host_names_train)):\n",
    "    new_df = df[(df['Host'] == host_names_train[i]) & (df['Guest'] == guest_names_train[i])]\n",
    "    y_train.append(new_df['EX _H_(kcal/mol)'].to_numpy()[0])\n",
    "    x_add_train.append(new_df[[c for c in df.columns if ('Etot' not in c) and ('delta' not in c)\n",
    "                         and ('Ex_difference' not in c) and ('gb_' in c or 'VDWAALS' in c)]].to_numpy()[0])\n",
    "y_train = np.array(y_train)\n",
    "    \n",
    "for i in range(len(host_names_test)):\n",
    "    new_df = df[(df['Host'] == host_names_test[i]) & (df['Guest'] == guest_names_test[i])]\n",
    "    y_test.append(new_df['EX _H_(kcal/mol)'].to_numpy()[0])\n",
    "    x_add_test.append(new_df[[c for c in df.columns if ('Etot' not in c) and ('delta' not in c)\n",
    "                         and ('Ex_difference' not in c) and ('gb_' in c or 'VDWAALS' in c)]].to_numpy()[0])\n",
    "y_test = np.array(y_test)"
   ]
  },
  {
   "cell_type": "code",
   "execution_count": 16,
   "metadata": {},
   "outputs": [],
   "source": [
    "from deepchem.metrics import to_one_hot\n",
    "from deepchem.feat.mol_graphs import ConvMol\n",
    "\n",
    "x_preprocessed_train, x_preprocessed_test = [], []\n",
    "\n",
    "## for X train\n",
    "multiConvMol = ConvMol.agglomerate_mols(X_train_featurized)\n",
    "x_preprocessed_train = [multiConvMol.get_atom_features(), multiConvMol.deg_slice, np.array(multiConvMol.membership)]\n",
    "for i in range(1, len(multiConvMol.get_deg_adjacency_lists())):\n",
    "    x_preprocessed_train.append(multiConvMol.get_deg_adjacency_lists()[i])\n",
    "x_preprocessed_train.append(np.array(x_add_train))\n",
    "\n",
    "## for X test\n",
    "multiConvMol = ConvMol.agglomerate_mols(X_test_featurized)\n",
    "x_preprocessed_test = [multiConvMol.get_atom_features(), multiConvMol.deg_slice, np.array(multiConvMol.membership)]\n",
    "for i in range(1, len(multiConvMol.get_deg_adjacency_lists())):\n",
    "    x_preprocessed_test.append(multiConvMol.get_deg_adjacency_lists()[i])\n",
    "x_preprocessed_test.append(np.array(x_add_test))"
   ]
  },
  {
   "cell_type": "code",
   "execution_count": 17,
   "metadata": {},
   "outputs": [],
   "source": [
    "x_train = np.full([14, np.max([v.shape[0] for v in x_preprocessed_train]),\n",
    "                  np.max([v.shape[1] for v in x_preprocessed_train if len(v.shape) > 1])], 1.123456)\n",
    "for i,j in enumerate(x_preprocessed_train):\n",
    "    if len(j.shape) > 1:\n",
    "        x_train[i][:j.shape[0],:j.shape[1]] = np.array(j)\n",
    "    else:\n",
    "        x_train[i][:len(j), :1] = np.array(j).reshape(j.shape[0], 1)\n",
    "x_train = x_train.reshape([1] + list(x_train.shape))\n",
    "\n",
    "x_test = np.full([14, np.max([v.shape[0] for v in x_preprocessed_test]),\n",
    "                  np.max([v.shape[1] for v in x_preprocessed_test if len(v.shape) > 1])], 1.123456)\n",
    "for i,j in enumerate(x_preprocessed_test):\n",
    "    if len(j.shape) > 1:\n",
    "        x_test[i][:j.shape[0],:j.shape[1]] = np.array(j)\n",
    "    else:\n",
    "        x_test[i][:len(j), :1] = np.array(j).reshape(j.shape[0], 1)\n",
    "x_test = x_test.reshape([1] + list(x_test.shape))"
   ]
  },
  {
   "cell_type": "markdown",
   "metadata": {},
   "source": [
    "<h1>Physics Guided Neural Network Model</h1>"
   ]
  },
  {
   "cell_type": "code",
   "execution_count": 18,
   "metadata": {},
   "outputs": [],
   "source": [
    "# X_features = []\n",
    "# for x_feat in X:\n",
    "#     multiConvMol = ConvMol.agglomerate_mols([x_feat])\n",
    "#     new_x_feat = [multiConvMol.get_atom_features(), multiConvMol.deg_slice, np.array(multiConvMol.membership)]\n",
    "#     for i in range(1, len(multiConvMol.get_deg_adjacency_lists())):\n",
    "#         new_x_feat.append(multiConvMol.get_deg_adjacency_lists()[i])\n",
    "#     X_features.append(new_x_feat)"
   ]
  },
  {
   "cell_type": "code",
   "execution_count": 19,
   "metadata": {},
   "outputs": [
    {
     "data": {
      "text/plain": [
       "50"
      ]
     },
     "execution_count": 19,
     "metadata": {},
     "output_type": "execute_result"
    }
   ],
   "source": [
    "## !!!!!!!! important\n",
    "## !!!!!!!! important\n",
    "## !!!!!!!! important\n",
    "## !!!!!!!! important\n",
    "batch_size = len(host_names_train)\n",
    "batch_size"
   ]
  },
  {
   "cell_type": "code",
   "execution_count": 20,
   "metadata": {},
   "outputs": [
    {
     "name": "stderr",
     "output_type": "stream",
     "text": [
      "2021-10-05 17:57:49.708162: I tensorflow/core/platform/cpu_feature_guard.cc:142] This TensorFlow binary is optimized with oneAPI Deep Neural Network Library (oneDNN) to use the following CPU instructions in performance-critical operations:  AVX2 FMA\n",
      "To enable them in other operations, rebuild TensorFlow with the appropriate compiler flags.\n"
     ]
    }
   ],
   "source": [
    "from deepchem.models.layers import GraphConv, GraphPool, GraphGather\n",
    "import tensorflow as tf\n",
    "import tensorflow.keras.layers as layers\n",
    "from tensorflow.keras.layers import Dense, Input, BatchNormalization, Concatenate\n",
    "from tensorflow.keras import initializers\n",
    "\n",
    "\n",
    "class GBGraphConvModel(tf.keras.Model):\n",
    "\n",
    "  def modify_graphgather(self, batch_size):\n",
    "    self.readout.batch_size = batch_size\n",
    "    self.batch_size = batch_size\n",
    "  def __init__(self, batch_size):\n",
    "    super(GBGraphConvModel, self).__init__()\n",
    "    self.input_shapes = None\n",
    "    self.batch_size = batch_size\n",
    "    self.gc1 = GraphConv(32, activation_fn=tf.nn.tanh)\n",
    "    self.batch_norm1 = layers.BatchNormalization()\n",
    "    self.gp1 = GraphPool()\n",
    "\n",
    "    self.gc2 = GraphConv(32, activation_fn=tf.nn.tanh)\n",
    "    self.batch_norm2 = layers.BatchNormalization()\n",
    "    self.gp2 = GraphPool()\n",
    "\n",
    "    self.dense1 = layers.Dense(64, activation=tf.nn.tanh)\n",
    "    self.batch_norm3 = layers.BatchNormalization()\n",
    "    self.readout = GraphGather(batch_size=self.batch_size, activation_fn=tf.nn.tanh)\n",
    "\n",
    "    self.dense2 = layers.Dense(1)\n",
    "    self.dense3 = layers.Dense(1, \n",
    "         kernel_initializer=initializers.Constant([.5, -1, -1, 1, 1, 1, 1, 1, -1, -1, -1, -1, -1, -1, -1, -1]),\n",
    "         bias_initializer=initializers.Zeros())\n",
    "\n",
    "  def call(self, inputs):\n",
    "    inputs = inputs[0]\n",
    "    x = []\n",
    "#     input_shapes = [[4822, 75], [11, 2], [4822], [1142, 1], [1635, 2], [2042, 3],\n",
    "#                    [3, 4], [0, 5], [0, 6], [0, 7], [0, 8], [0, 9], [0, 10]]\n",
    "    for i in range(len(self.input_shapes)):\n",
    "        x.append(tf.reshape(inputs[i][inputs[i] != 1.123456], self.input_shapes[i]))\n",
    "    for i in range(1, len(self.input_shapes)):\n",
    "        x[i] = tf.cast(x[i], tf.int32)\n",
    "    x_add = tf.reshape(inputs[13][inputs[13] != 1.123456], [self.batch_size, 15])\n",
    "    gc1_output = self.gc1(x)\n",
    "    batch_norm1_output = self.batch_norm1(gc1_output)\n",
    "    gp1_output = self.gp1([batch_norm1_output] + x[1:])\n",
    "\n",
    "    gc2_output = self.gc2([gp1_output] + x[1:])\n",
    "    batch_norm2_output = self.batch_norm1(gc2_output)\n",
    "    gp2_output = self.gp2([batch_norm2_output] + x[1:])\n",
    "\n",
    "    dense1_output = self.dense1(gp2_output)\n",
    "    batch_norm3_output = self.batch_norm3(dense1_output)\n",
    "    readout_output = self.readout([batch_norm3_output] + x[1:])\n",
    "    \n",
    "    model_var = self.dense2(readout_output)\n",
    "    binding_affinity = tf.concat([model_var, x_add], axis=1)\n",
    "    return self.dense3(binding_affinity)\n",
    "model = GBGraphConvModel(split_index)\n",
    "model.compile(loss='mse', optimizer='adam')"
   ]
  },
  {
   "cell_type": "code",
   "execution_count": 21,
   "metadata": {},
   "outputs": [
    {
     "name": "stderr",
     "output_type": "stream",
     "text": [
      "2021-10-05 17:57:49.806230: I tensorflow/compiler/mlir/mlir_graph_optimization_pass.cc:185] None of the MLIR Optimization Passes are enabled (registered 2)\n"
     ]
    },
    {
     "name": "stdout",
     "output_type": "stream",
     "text": [
      "Epoch 1/100\n"
     ]
    },
    {
     "name": "stderr",
     "output_type": "stream",
     "text": [
      "/Users/misspotato/opt/miniconda3/envs/rdkit-deepchem-jupyter/lib/python3.9/site-packages/tensorflow/python/framework/indexed_slices.py:447: UserWarning: Converting sparse IndexedSlices(IndexedSlices(indices=Tensor(\"gradient_tape/gb_graph_conv_model/graph_pool_1/Reshape_14:0\", shape=(1045,), dtype=int32), values=Tensor(\"gradient_tape/gb_graph_conv_model/graph_pool_1/Reshape_13:0\", shape=(1045, 32), dtype=float32), dense_shape=Tensor(\"gradient_tape/gb_graph_conv_model/graph_pool_1/Cast_4:0\", shape=(2,), dtype=int32))) to a dense Tensor of unknown shape. This may consume a large amount of memory.\n",
      "  warnings.warn(\n",
      "/Users/misspotato/opt/miniconda3/envs/rdkit-deepchem-jupyter/lib/python3.9/site-packages/tensorflow/python/framework/indexed_slices.py:447: UserWarning: Converting sparse IndexedSlices(IndexedSlices(indices=Tensor(\"gradient_tape/gb_graph_conv_model/graph_pool_1/Reshape_17:0\", shape=(3372,), dtype=int32), values=Tensor(\"gradient_tape/gb_graph_conv_model/graph_pool_1/Reshape_16:0\", shape=(3372, 32), dtype=float32), dense_shape=Tensor(\"gradient_tape/gb_graph_conv_model/graph_pool_1/Cast_5:0\", shape=(2,), dtype=int32))) to a dense Tensor of unknown shape. This may consume a large amount of memory.\n",
      "  warnings.warn(\n",
      "/Users/misspotato/opt/miniconda3/envs/rdkit-deepchem-jupyter/lib/python3.9/site-packages/tensorflow/python/framework/indexed_slices.py:447: UserWarning: Converting sparse IndexedSlices(IndexedSlices(indices=Tensor(\"gradient_tape/gb_graph_conv_model/graph_pool_1/Reshape_20:0\", shape=(6687,), dtype=int32), values=Tensor(\"gradient_tape/gb_graph_conv_model/graph_pool_1/Reshape_19:0\", shape=(6687, 32), dtype=float32), dense_shape=Tensor(\"gradient_tape/gb_graph_conv_model/graph_pool_1/Cast_6:0\", shape=(2,), dtype=int32))) to a dense Tensor of unknown shape. This may consume a large amount of memory.\n",
      "  warnings.warn(\n",
      "/Users/misspotato/opt/miniconda3/envs/rdkit-deepchem-jupyter/lib/python3.9/site-packages/tensorflow/python/framework/indexed_slices.py:447: UserWarning: Converting sparse IndexedSlices(IndexedSlices(indices=Tensor(\"gradient_tape/gb_graph_conv_model/graph_pool_1/Reshape_23:0\", shape=(32,), dtype=int32), values=Tensor(\"gradient_tape/gb_graph_conv_model/graph_pool_1/Reshape_22:0\", shape=(32, 32), dtype=float32), dense_shape=Tensor(\"gradient_tape/gb_graph_conv_model/graph_pool_1/Cast_7:0\", shape=(2,), dtype=int32))) to a dense Tensor of unknown shape. This may consume a large amount of memory.\n",
      "  warnings.warn(\n",
      "/Users/misspotato/opt/miniconda3/envs/rdkit-deepchem-jupyter/lib/python3.9/site-packages/tensorflow/python/framework/indexed_slices.py:447: UserWarning: Converting sparse IndexedSlices(IndexedSlices(indices=Tensor(\"gradient_tape/gb_graph_conv_model/graph_conv_1/Reshape_11:0\", shape=(1045,), dtype=int32), values=Tensor(\"gradient_tape/gb_graph_conv_model/graph_conv_1/Reshape_10:0\", shape=(1045, 32), dtype=float32), dense_shape=Tensor(\"gradient_tape/gb_graph_conv_model/graph_conv_1/Cast:0\", shape=(2,), dtype=int32))) to a dense Tensor of unknown shape. This may consume a large amount of memory.\n",
      "  warnings.warn(\n",
      "/Users/misspotato/opt/miniconda3/envs/rdkit-deepchem-jupyter/lib/python3.9/site-packages/tensorflow/python/framework/indexed_slices.py:447: UserWarning: Converting sparse IndexedSlices(IndexedSlices(indices=Tensor(\"gradient_tape/gb_graph_conv_model/graph_conv_1/Reshape_13:0\", shape=(3372,), dtype=int32), values=Tensor(\"gradient_tape/gb_graph_conv_model/graph_conv_1/Reshape_12:0\", shape=(3372, 32), dtype=float32), dense_shape=Tensor(\"gradient_tape/gb_graph_conv_model/graph_conv_1/Cast_1:0\", shape=(2,), dtype=int32))) to a dense Tensor of unknown shape. This may consume a large amount of memory.\n",
      "  warnings.warn(\n",
      "/Users/misspotato/opt/miniconda3/envs/rdkit-deepchem-jupyter/lib/python3.9/site-packages/tensorflow/python/framework/indexed_slices.py:447: UserWarning: Converting sparse IndexedSlices(IndexedSlices(indices=Tensor(\"gradient_tape/gb_graph_conv_model/graph_conv_1/Reshape_15:0\", shape=(6687,), dtype=int32), values=Tensor(\"gradient_tape/gb_graph_conv_model/graph_conv_1/Reshape_14:0\", shape=(6687, 32), dtype=float32), dense_shape=Tensor(\"gradient_tape/gb_graph_conv_model/graph_conv_1/Cast_2:0\", shape=(2,), dtype=int32))) to a dense Tensor of unknown shape. This may consume a large amount of memory.\n",
      "  warnings.warn(\n",
      "/Users/misspotato/opt/miniconda3/envs/rdkit-deepchem-jupyter/lib/python3.9/site-packages/tensorflow/python/framework/indexed_slices.py:447: UserWarning: Converting sparse IndexedSlices(IndexedSlices(indices=Tensor(\"gradient_tape/gb_graph_conv_model/graph_conv_1/Reshape_17:0\", shape=(32,), dtype=int32), values=Tensor(\"gradient_tape/gb_graph_conv_model/graph_conv_1/Reshape_16:0\", shape=(32, 32), dtype=float32), dense_shape=Tensor(\"gradient_tape/gb_graph_conv_model/graph_conv_1/Cast_3:0\", shape=(2,), dtype=int32))) to a dense Tensor of unknown shape. This may consume a large amount of memory.\n",
      "  warnings.warn(\n",
      "/Users/misspotato/opt/miniconda3/envs/rdkit-deepchem-jupyter/lib/python3.9/site-packages/tensorflow/python/framework/indexed_slices.py:447: UserWarning: Converting sparse IndexedSlices(IndexedSlices(indices=Tensor(\"gradient_tape/gb_graph_conv_model/graph_conv_1/Reshape_19:0\", shape=(0,), dtype=int32), values=Tensor(\"gradient_tape/gb_graph_conv_model/graph_conv_1/Reshape_18:0\", shape=(0, 32), dtype=float32), dense_shape=Tensor(\"gradient_tape/gb_graph_conv_model/graph_conv_1/Cast_4:0\", shape=(2,), dtype=int32))) to a dense Tensor of unknown shape. This may consume a large amount of memory.\n",
      "  warnings.warn(\n",
      "/Users/misspotato/opt/miniconda3/envs/rdkit-deepchem-jupyter/lib/python3.9/site-packages/tensorflow/python/framework/indexed_slices.py:447: UserWarning: Converting sparse IndexedSlices(IndexedSlices(indices=Tensor(\"gradient_tape/gb_graph_conv_model/graph_conv_1/Reshape_21:0\", shape=(0,), dtype=int32), values=Tensor(\"gradient_tape/gb_graph_conv_model/graph_conv_1/Reshape_20:0\", shape=(0, 32), dtype=float32), dense_shape=Tensor(\"gradient_tape/gb_graph_conv_model/graph_conv_1/Cast_5:0\", shape=(2,), dtype=int32))) to a dense Tensor of unknown shape. This may consume a large amount of memory.\n",
      "  warnings.warn(\n",
      "/Users/misspotato/opt/miniconda3/envs/rdkit-deepchem-jupyter/lib/python3.9/site-packages/tensorflow/python/framework/indexed_slices.py:447: UserWarning: Converting sparse IndexedSlices(IndexedSlices(indices=Tensor(\"gradient_tape/gb_graph_conv_model/graph_conv_1/Reshape_23:0\", shape=(0,), dtype=int32), values=Tensor(\"gradient_tape/gb_graph_conv_model/graph_conv_1/Reshape_22:0\", shape=(0, 32), dtype=float32), dense_shape=Tensor(\"gradient_tape/gb_graph_conv_model/graph_conv_1/Cast_6:0\", shape=(2,), dtype=int32))) to a dense Tensor of unknown shape. This may consume a large amount of memory.\n",
      "  warnings.warn(\n",
      "/Users/misspotato/opt/miniconda3/envs/rdkit-deepchem-jupyter/lib/python3.9/site-packages/tensorflow/python/framework/indexed_slices.py:447: UserWarning: Converting sparse IndexedSlices(IndexedSlices(indices=Tensor(\"gradient_tape/gb_graph_conv_model/graph_conv_1/Reshape_25:0\", shape=(0,), dtype=int32), values=Tensor(\"gradient_tape/gb_graph_conv_model/graph_conv_1/Reshape_24:0\", shape=(0, 32), dtype=float32), dense_shape=Tensor(\"gradient_tape/gb_graph_conv_model/graph_conv_1/Cast_7:0\", shape=(2,), dtype=int32))) to a dense Tensor of unknown shape. This may consume a large amount of memory.\n",
      "  warnings.warn(\n",
      "/Users/misspotato/opt/miniconda3/envs/rdkit-deepchem-jupyter/lib/python3.9/site-packages/tensorflow/python/framework/indexed_slices.py:447: UserWarning: Converting sparse IndexedSlices(IndexedSlices(indices=Tensor(\"gradient_tape/gb_graph_conv_model/graph_conv_1/Reshape_27:0\", shape=(0,), dtype=int32), values=Tensor(\"gradient_tape/gb_graph_conv_model/graph_conv_1/Reshape_26:0\", shape=(0, 32), dtype=float32), dense_shape=Tensor(\"gradient_tape/gb_graph_conv_model/graph_conv_1/Cast_8:0\", shape=(2,), dtype=int32))) to a dense Tensor of unknown shape. This may consume a large amount of memory.\n",
      "  warnings.warn(\n",
      "/Users/misspotato/opt/miniconda3/envs/rdkit-deepchem-jupyter/lib/python3.9/site-packages/tensorflow/python/framework/indexed_slices.py:447: UserWarning: Converting sparse IndexedSlices(IndexedSlices(indices=Tensor(\"gradient_tape/gb_graph_conv_model/graph_conv_1/Reshape_29:0\", shape=(0,), dtype=int32), values=Tensor(\"gradient_tape/gb_graph_conv_model/graph_conv_1/Reshape_28:0\", shape=(0, 32), dtype=float32), dense_shape=Tensor(\"gradient_tape/gb_graph_conv_model/graph_conv_1/Cast_9:0\", shape=(2,), dtype=int32))) to a dense Tensor of unknown shape. This may consume a large amount of memory.\n",
      "  warnings.warn(\n",
      "/Users/misspotato/opt/miniconda3/envs/rdkit-deepchem-jupyter/lib/python3.9/site-packages/tensorflow/python/framework/indexed_slices.py:447: UserWarning: Converting sparse IndexedSlices(IndexedSlices(indices=Tensor(\"gradient_tape/gb_graph_conv_model/graph_pool/Reshape_14:0\", shape=(1045,), dtype=int32), values=Tensor(\"gradient_tape/gb_graph_conv_model/graph_pool/Reshape_13:0\", shape=(1045, 32), dtype=float32), dense_shape=Tensor(\"gradient_tape/gb_graph_conv_model/graph_pool/Cast_4:0\", shape=(2,), dtype=int32))) to a dense Tensor of unknown shape. This may consume a large amount of memory.\n",
      "  warnings.warn(\n",
      "/Users/misspotato/opt/miniconda3/envs/rdkit-deepchem-jupyter/lib/python3.9/site-packages/tensorflow/python/framework/indexed_slices.py:447: UserWarning: Converting sparse IndexedSlices(IndexedSlices(indices=Tensor(\"gradient_tape/gb_graph_conv_model/graph_pool/Reshape_17:0\", shape=(3372,), dtype=int32), values=Tensor(\"gradient_tape/gb_graph_conv_model/graph_pool/Reshape_16:0\", shape=(3372, 32), dtype=float32), dense_shape=Tensor(\"gradient_tape/gb_graph_conv_model/graph_pool/Cast_5:0\", shape=(2,), dtype=int32))) to a dense Tensor of unknown shape. This may consume a large amount of memory.\n",
      "  warnings.warn(\n",
      "/Users/misspotato/opt/miniconda3/envs/rdkit-deepchem-jupyter/lib/python3.9/site-packages/tensorflow/python/framework/indexed_slices.py:447: UserWarning: Converting sparse IndexedSlices(IndexedSlices(indices=Tensor(\"gradient_tape/gb_graph_conv_model/graph_pool/Reshape_20:0\", shape=(6687,), dtype=int32), values=Tensor(\"gradient_tape/gb_graph_conv_model/graph_pool/Reshape_19:0\", shape=(6687, 32), dtype=float32), dense_shape=Tensor(\"gradient_tape/gb_graph_conv_model/graph_pool/Cast_6:0\", shape=(2,), dtype=int32))) to a dense Tensor of unknown shape. This may consume a large amount of memory.\n",
      "  warnings.warn(\n",
      "/Users/misspotato/opt/miniconda3/envs/rdkit-deepchem-jupyter/lib/python3.9/site-packages/tensorflow/python/framework/indexed_slices.py:447: UserWarning: Converting sparse IndexedSlices(IndexedSlices(indices=Tensor(\"gradient_tape/gb_graph_conv_model/graph_pool/Reshape_23:0\", shape=(32,), dtype=int32), values=Tensor(\"gradient_tape/gb_graph_conv_model/graph_pool/Reshape_22:0\", shape=(32, 32), dtype=float32), dense_shape=Tensor(\"gradient_tape/gb_graph_conv_model/graph_pool/Cast_7:0\", shape=(2,), dtype=int32))) to a dense Tensor of unknown shape. This may consume a large amount of memory.\n",
      "  warnings.warn(\n"
     ]
    },
    {
     "name": "stdout",
     "output_type": "stream",
     "text": [
      "1/1 [==============================] - 5s 5s/step - loss: 114.9884\n",
      "Epoch 2/100\n",
      "1/1 [==============================] - 0s 42ms/step - loss: 91.2430\n",
      "Epoch 3/100\n",
      "1/1 [==============================] - 0s 41ms/step - loss: 84.5183\n",
      "Epoch 4/100\n",
      "1/1 [==============================] - 0s 39ms/step - loss: 75.8254\n",
      "Epoch 5/100\n",
      "1/1 [==============================] - 0s 41ms/step - loss: 69.7035\n",
      "Epoch 6/100\n",
      "1/1 [==============================] - 0s 43ms/step - loss: 66.4092\n",
      "Epoch 7/100\n",
      "1/1 [==============================] - 0s 44ms/step - loss: 65.9354\n",
      "Epoch 8/100\n",
      "1/1 [==============================] - 0s 43ms/step - loss: 62.4849\n",
      "Epoch 9/100\n",
      "1/1 [==============================] - 0s 46ms/step - loss: 57.2749\n",
      "Epoch 10/100\n",
      "1/1 [==============================] - 0s 47ms/step - loss: 52.3709\n",
      "Epoch 11/100\n",
      "1/1 [==============================] - 0s 46ms/step - loss: 48.4904\n",
      "Epoch 12/100\n",
      "1/1 [==============================] - 0s 47ms/step - loss: 46.0002\n",
      "Epoch 13/100\n",
      "1/1 [==============================] - 0s 44ms/step - loss: 44.5759\n",
      "Epoch 14/100\n",
      "1/1 [==============================] - 0s 44ms/step - loss: 43.6628\n",
      "Epoch 15/100\n",
      "1/1 [==============================] - 0s 49ms/step - loss: 42.3291\n",
      "Epoch 16/100\n",
      "1/1 [==============================] - 0s 44ms/step - loss: 41.1733\n",
      "Epoch 17/100\n",
      "1/1 [==============================] - 0s 48ms/step - loss: 40.3245\n",
      "Epoch 18/100\n",
      "1/1 [==============================] - 0s 44ms/step - loss: 39.6753\n",
      "Epoch 19/100\n",
      "1/1 [==============================] - 0s 46ms/step - loss: 38.8582\n",
      "Epoch 20/100\n",
      "1/1 [==============================] - 0s 45ms/step - loss: 37.8957\n",
      "Epoch 21/100\n",
      "1/1 [==============================] - 0s 46ms/step - loss: 37.1806\n",
      "Epoch 22/100\n",
      "1/1 [==============================] - 0s 44ms/step - loss: 37.0833\n",
      "Epoch 23/100\n",
      "1/1 [==============================] - 0s 49ms/step - loss: 37.3136\n",
      "Epoch 24/100\n",
      "1/1 [==============================] - 0s 48ms/step - loss: 37.5206\n",
      "Epoch 25/100\n",
      "1/1 [==============================] - 0s 48ms/step - loss: 37.4668\n",
      "Epoch 26/100\n",
      "1/1 [==============================] - 0s 50ms/step - loss: 37.1256\n",
      "Epoch 27/100\n",
      "1/1 [==============================] - 0s 42ms/step - loss: 36.6624\n",
      "Epoch 28/100\n",
      "1/1 [==============================] - 0s 40ms/step - loss: 36.3763\n",
      "Epoch 29/100\n",
      "1/1 [==============================] - 0s 46ms/step - loss: 36.3223\n",
      "Epoch 30/100\n",
      "1/1 [==============================] - 0s 48ms/step - loss: 36.3931\n",
      "Epoch 31/100\n",
      "1/1 [==============================] - 0s 47ms/step - loss: 36.3422\n",
      "Epoch 32/100\n",
      "1/1 [==============================] - 0s 45ms/step - loss: 36.2969\n",
      "Epoch 33/100\n",
      "1/1 [==============================] - 0s 47ms/step - loss: 36.2642\n",
      "Epoch 34/100\n",
      "1/1 [==============================] - 0s 42ms/step - loss: 36.1492\n",
      "Epoch 35/100\n",
      "1/1 [==============================] - 0s 45ms/step - loss: 35.9169\n",
      "Epoch 36/100\n",
      "1/1 [==============================] - 0s 43ms/step - loss: 35.6637\n",
      "Epoch 37/100\n",
      "1/1 [==============================] - 0s 42ms/step - loss: 35.5406\n",
      "Epoch 38/100\n",
      "1/1 [==============================] - 0s 48ms/step - loss: 35.4381\n",
      "Epoch 39/100\n",
      "1/1 [==============================] - 0s 43ms/step - loss: 35.2550\n",
      "Epoch 40/100\n",
      "1/1 [==============================] - 0s 44ms/step - loss: 35.1157\n",
      "Epoch 41/100\n",
      "1/1 [==============================] - 0s 45ms/step - loss: 35.0240\n",
      "Epoch 42/100\n",
      "1/1 [==============================] - 0s 45ms/step - loss: 34.9122\n",
      "Epoch 43/100\n",
      "1/1 [==============================] - 0s 43ms/step - loss: 34.7611\n",
      "Epoch 44/100\n",
      "1/1 [==============================] - 0s 45ms/step - loss: 34.5440\n",
      "Epoch 45/100\n",
      "1/1 [==============================] - 0s 46ms/step - loss: 34.3292\n",
      "Epoch 46/100\n",
      "1/1 [==============================] - 0s 45ms/step - loss: 34.1744\n",
      "Epoch 47/100\n",
      "1/1 [==============================] - 0s 46ms/step - loss: 34.1143\n",
      "Epoch 48/100\n",
      "1/1 [==============================] - 0s 42ms/step - loss: 34.0182\n",
      "Epoch 49/100\n",
      "1/1 [==============================] - 0s 47ms/step - loss: 33.8748\n",
      "Epoch 50/100\n",
      "1/1 [==============================] - 0s 45ms/step - loss: 33.7631\n",
      "Epoch 51/100\n",
      "1/1 [==============================] - 0s 45ms/step - loss: 33.6603\n",
      "Epoch 52/100\n",
      "1/1 [==============================] - 0s 43ms/step - loss: 33.5516\n",
      "Epoch 53/100\n",
      "1/1 [==============================] - 0s 41ms/step - loss: 33.4359\n",
      "Epoch 54/100\n",
      "1/1 [==============================] - 0s 45ms/step - loss: 33.3347\n",
      "Epoch 55/100\n",
      "1/1 [==============================] - 0s 45ms/step - loss: 33.2663\n",
      "Epoch 56/100\n",
      "1/1 [==============================] - 0s 45ms/step - loss: 33.1753\n",
      "Epoch 57/100\n",
      "1/1 [==============================] - 0s 47ms/step - loss: 33.0956\n",
      "Epoch 58/100\n",
      "1/1 [==============================] - 0s 47ms/step - loss: 33.0147\n",
      "Epoch 59/100\n",
      "1/1 [==============================] - 0s 47ms/step - loss: 32.9322\n",
      "Epoch 60/100\n",
      "1/1 [==============================] - 0s 43ms/step - loss: 32.8536\n",
      "Epoch 61/100\n",
      "1/1 [==============================] - 0s 41ms/step - loss: 32.7783\n",
      "Epoch 62/100\n",
      "1/1 [==============================] - 0s 47ms/step - loss: 32.7074\n",
      "Epoch 63/100\n",
      "1/1 [==============================] - 0s 45ms/step - loss: 32.6273\n",
      "Epoch 64/100\n",
      "1/1 [==============================] - 0s 45ms/step - loss: 32.4997\n",
      "Epoch 65/100\n",
      "1/1 [==============================] - 0s 46ms/step - loss: 32.4107\n",
      "Epoch 66/100\n",
      "1/1 [==============================] - 0s 44ms/step - loss: 32.2793\n",
      "Epoch 67/100\n",
      "1/1 [==============================] - 0s 46ms/step - loss: 32.1311\n",
      "Epoch 68/100\n",
      "1/1 [==============================] - 0s 44ms/step - loss: 32.0752\n",
      "Epoch 69/100\n",
      "1/1 [==============================] - 0s 44ms/step - loss: 31.9449\n",
      "Epoch 70/100\n",
      "1/1 [==============================] - 0s 48ms/step - loss: 31.7321\n",
      "Epoch 71/100\n",
      "1/1 [==============================] - 0s 49ms/step - loss: 31.5939\n",
      "Epoch 72/100\n",
      "1/1 [==============================] - 0s 46ms/step - loss: 31.4605\n",
      "Epoch 73/100\n",
      "1/1 [==============================] - 0s 46ms/step - loss: 31.3413\n",
      "Epoch 74/100\n",
      "1/1 [==============================] - 0s 45ms/step - loss: 31.2740\n",
      "Epoch 75/100\n",
      "1/1 [==============================] - 0s 43ms/step - loss: 31.2029\n",
      "Epoch 76/100\n",
      "1/1 [==============================] - 0s 46ms/step - loss: 31.0276\n",
      "Epoch 77/100\n",
      "1/1 [==============================] - 0s 45ms/step - loss: 30.9051\n",
      "Epoch 78/100\n",
      "1/1 [==============================] - 0s 46ms/step - loss: 30.8222\n",
      "Epoch 79/100\n",
      "1/1 [==============================] - 0s 46ms/step - loss: 30.6713\n",
      "Epoch 80/100\n",
      "1/1 [==============================] - 0s 46ms/step - loss: 30.5146\n",
      "Epoch 81/100\n",
      "1/1 [==============================] - 0s 44ms/step - loss: 30.4372\n",
      "Epoch 82/100\n",
      "1/1 [==============================] - 0s 44ms/step - loss: 30.4067\n",
      "Epoch 83/100\n",
      "1/1 [==============================] - 0s 46ms/step - loss: 30.3481\n",
      "Epoch 84/100\n",
      "1/1 [==============================] - 0s 47ms/step - loss: 30.1946\n",
      "Epoch 85/100\n",
      "1/1 [==============================] - 0s 44ms/step - loss: 30.1140\n",
      "Epoch 86/100\n",
      "1/1 [==============================] - 0s 44ms/step - loss: 30.0301\n",
      "Epoch 87/100\n",
      "1/1 [==============================] - 0s 45ms/step - loss: 29.9494\n",
      "Epoch 88/100\n",
      "1/1 [==============================] - 0s 45ms/step - loss: 29.8823\n",
      "Epoch 89/100\n",
      "1/1 [==============================] - 0s 45ms/step - loss: 29.8120\n",
      "Epoch 90/100\n",
      "1/1 [==============================] - 0s 48ms/step - loss: 29.7408\n",
      "Epoch 91/100\n",
      "1/1 [==============================] - 0s 47ms/step - loss: 29.6878\n",
      "Epoch 92/100\n",
      "1/1 [==============================] - 0s 46ms/step - loss: 29.5936\n",
      "Epoch 93/100\n",
      "1/1 [==============================] - 0s 42ms/step - loss: 29.5192\n",
      "Epoch 94/100\n",
      "1/1 [==============================] - 0s 42ms/step - loss: 29.4395\n",
      "Epoch 95/100\n",
      "1/1 [==============================] - 0s 42ms/step - loss: 29.3725\n",
      "Epoch 96/100\n",
      "1/1 [==============================] - 0s 41ms/step - loss: 29.2956\n",
      "Epoch 97/100\n",
      "1/1 [==============================] - 0s 39ms/step - loss: 29.2005\n",
      "Epoch 98/100\n",
      "1/1 [==============================] - 0s 36ms/step - loss: 29.1166\n",
      "Epoch 99/100\n",
      "1/1 [==============================] - 0s 41ms/step - loss: 28.9916\n",
      "Epoch 100/100\n",
      "1/1 [==============================] - 0s 38ms/step - loss: 28.8917\n"
     ]
    }
   ],
   "source": [
    "model.input_shapes = [i.shape for i in x_preprocessed_train]\n",
    "history_train_hybrid = model.fit(x_train, y_train.reshape([1, -1]), epochs=100)"
   ]
  },
  {
   "cell_type": "code",
   "execution_count": 22,
   "metadata": {},
   "outputs": [],
   "source": [
    "model.input_shapes = [i.shape for i in x_preprocessed_test]\n",
    "model.modify_graphgather(len(X) - split_index)"
   ]
  },
  {
   "cell_type": "code",
   "execution_count": 23,
   "metadata": {},
   "outputs": [
    {
     "name": "stdout",
     "output_type": "stream",
     "text": [
      "1/1 [==============================] - 1s 803ms/step - loss: 27.3203\n"
     ]
    },
    {
     "data": {
      "text/plain": [
       "27.320268630981445"
      ]
     },
     "execution_count": 23,
     "metadata": {},
     "output_type": "execute_result"
    }
   ],
   "source": [
    "model.evaluate(x_test, y_test.reshape([1, -1]))"
   ]
  },
  {
   "cell_type": "code",
   "execution_count": 24,
   "metadata": {},
   "outputs": [
    {
     "name": "stdout",
     "output_type": "stream",
     "text": [
      "6.707458535093601\n"
     ]
    }
   ],
   "source": [
    "pgnn_rmse_test = np.sqrt(44.99)\n",
    "print(pgnn_rmse_test)"
   ]
  },
  {
   "cell_type": "code",
   "execution_count": 48,
   "metadata": {},
   "outputs": [
    {
     "data": {
      "text/plain": [
       "5.374941860150675"
      ]
     },
     "execution_count": 48,
     "metadata": {},
     "output_type": "execute_result"
    }
   ],
   "source": [
    "import math\n",
    "train_hybrid_rmse = math.sqrt(28.89)\n",
    "train_hybrid_rmse"
   ]
  },
  {
   "cell_type": "markdown",
   "metadata": {},
   "source": [
    "<h1> Physics based model RMSE </h1>"
   ]
  },
  {
   "cell_type": "code",
   "execution_count": 26,
   "metadata": {},
   "outputs": [],
   "source": [
    "import math\n",
    "train_sum=0\n",
    "for i in range(len(host_names_train)):\n",
    "    new_df = df[(df['Host'] == host_names_train[i]) & (df['Guest'] == guest_names_train[i])]\n",
    "    train_sum += new_df['gb_Ex_difference'].to_numpy()[0] **2\n",
    "\n",
    "\n",
    "test_sum = 0\n",
    "for i in range(len(host_names_test)):\n",
    "    new_df = df[(df['Host'] == host_names_test[i]) & (df['Guest'] == guest_names_test[i])]\n",
    "    test_sum += new_df['gb_Ex_difference'].to_numpy()[0] **2\n",
    "    "
   ]
  },
  {
   "cell_type": "code",
   "execution_count": 27,
   "metadata": {},
   "outputs": [],
   "source": [
    "physics_based_rmse_train = math.sqrt(train_sum / len(host_names_train))"
   ]
  },
  {
   "cell_type": "code",
   "execution_count": 28,
   "metadata": {},
   "outputs": [],
   "source": [
    "physics_based_rmse_test = math.sqrt((test_sum) / len(host_names_test))"
   ]
  },
  {
   "cell_type": "code",
   "execution_count": 29,
   "metadata": {},
   "outputs": [
    {
     "name": "stdout",
     "output_type": "stream",
     "text": [
      "RMSE on training set is : 9.01152001348274\n",
      "RMSE on testing set is : 9.35083641254037\n",
      "RMSE of the total data: 9.11654003810595\n"
     ]
    }
   ],
   "source": [
    "print(f\"RMSE on training set is : {physics_based_rmse_train}\")\n",
    "print(f\"RMSE on testing set is : {physics_based_rmse_test}\")\n",
    "# Total rmse\n",
    "total_rmse_physics = np.sqrt(np.mean((df['EX _H_(kcal/mol)'].to_numpy() - df['gb_delta_H'].to_numpy())**2))\n",
    "print(f\"RMSE of the total data: {total_rmse_physics}\")"
   ]
  },
  {
   "cell_type": "code",
   "execution_count": 30,
   "metadata": {},
   "outputs": [
    {
     "data": {
      "text/plain": [
       "[<matplotlib.lines.Line2D at 0x7fabd4da7f10>]"
      ]
     },
     "execution_count": 30,
     "metadata": {},
     "output_type": "execute_result"
    },
    {
     "data": {
      "image/png": "[encoded data removed]",
      "text/plain": [
       "<Figure size 432x288 with 1 Axes>"
      ]
     },
     "metadata": {
      "needs_background": "light"
     },
     "output_type": "display_data"
    }
   ],
   "source": [
    "import matplotlib.pyplot as plt\n",
    "\n",
    "plt.title(\"Experimental vs GBNSR6\")\n",
    "plt.scatter(x=df['EX _H_(kcal/mol)'], y=df['gb_delta_H'])\n",
    "plt.xlabel(\"Experimental Delta H\")\n",
    "plt.ylabel(\"GBNSR6 Delta H\")\n",
    "plt.xlim(-25, 5)\n",
    "plt.ylim(-25,5)\n",
    "\n",
    "#reference line\n",
    "plt.plot([-25, 5], [-25, 5], color='green', lw=1)"
   ]
  },
  {
   "cell_type": "code",
   "execution_count": 31,
   "metadata": {},
   "outputs": [
    {
     "data": {
      "text/plain": [
       "[<matplotlib.lines.Line2D at 0x7fabd4e5aaf0>]"
      ]
     },
     "execution_count": 31,
     "metadata": {},
     "output_type": "execute_result"
    },
    {
     "data": {
      "image/png": "[encoded data removed]",
      "text/plain": [
       "<Figure size 432x288 with 1 Axes>"
      ]
     },
     "metadata": {
      "needs_background": "light"
     },
     "output_type": "display_data"
    }
   ],
   "source": [
    "plt.title(\"Experimental vs PBSA\")\n",
    "plt.scatter(x=df['EX _H_(kcal/mol)'] ,y=df['pb_delta_H'], color='orange')\n",
    "plt.xlabel(\"Experimental Delta H\")\n",
    "plt.ylabel(\"PBSA Delta H\")\n",
    "plt.xlim(-25, 5)\n",
    "plt.ylim(-25,5)\n",
    "#reference line\n",
    "plt.plot([-25,5],[-25,5], color='green')"
   ]
  },
  {
   "cell_type": "code",
   "execution_count": 32,
   "metadata": {},
   "outputs": [
    {
     "data": {
      "text/plain": [
       "<matplotlib.legend.Legend at 0x7fabd4f00790>"
      ]
     },
     "execution_count": 32,
     "metadata": {},
     "output_type": "execute_result"
    },
    {
     "data": {
      "image/png": "[encoded data removed]",
      "text/plain": [
       "<Figure size 432x288 with 1 Axes>"
      ]
     },
     "metadata": {
      "needs_background": "light"
     },
     "output_type": "display_data"
    }
   ],
   "source": [
    "ax = plt.subplot()\n",
    "plt.title(\"PBSA vs GBNSR6\")\n",
    "plt.xlabel('Experimental Delta H')\n",
    "# plt.ylabel('gb-pb')\n",
    "ax.scatter(x=df[\"EX _H_(kcal/mol)\"], y=df['gb_delta_H'], label=\"GBNSR6\")\n",
    "ax.scatter(x=df[\"EX _H_(kcal/mol)\"], y=df['pb_delta_H'], label=\"PBSA\", color=\"orange\")\n",
    "plt.xlim(-25,5)\n",
    "plt.ylim(-25,5)\n",
    "#reference line\n",
    "plt.plot([-25,5],[-25,5],color='green')\n",
    "plt.legend()"
   ]
  },
  {
   "cell_type": "code",
   "execution_count": 33,
   "metadata": {},
   "outputs": [
    {
     "name": "stdout",
     "output_type": "stream",
     "text": [
      "0.16443424102892062\n"
     ]
    }
   ],
   "source": [
    "gb_correlation_matrix = np.corrcoef(df['gb_delta_H'], df['EX _H_(kcal/mol)'])\n",
    "gb_correlation_gbex = gb_correlation_matrix[0,1]\n",
    "gb_r_squared = gb_correlation_gbex**2\n",
    "print(gb_r_squared)"
   ]
  },
  {
   "cell_type": "code",
   "execution_count": 34,
   "metadata": {},
   "outputs": [
    {
     "name": "stdout",
     "output_type": "stream",
     "text": [
      "0.10981444457787434\n"
     ]
    }
   ],
   "source": [
    "pb_correlation_matrix = np.corrcoef(df['pb_delta_H'], df['EX _H_(kcal/mol)'])\n",
    "pb_correlation_pbex = pb_correlation_matrix[0,1]\n",
    "pb_r_squared = pb_correlation_pbex**2\n",
    "print(pb_r_squared)"
   ]
  },
  {
   "cell_type": "markdown",
   "metadata": {},
   "source": [
    "<h1> Data Driven Model </h1>"
   ]
  },
  {
   "cell_type": "code",
   "execution_count": 35,
   "metadata": {},
   "outputs": [],
   "source": [
    "## !!!!!!!! important\n",
    "## !!!!!!!! important\n",
    "## !!!!!!!! important\n",
    "## !!!!!!!! important\n",
    "input_shapes = [i.shape for i in x_preprocessed_train]"
   ]
  },
  {
   "cell_type": "code",
   "execution_count": 36,
   "metadata": {},
   "outputs": [
    {
     "data": {
      "text/plain": [
       "50"
      ]
     },
     "execution_count": 36,
     "metadata": {},
     "output_type": "execute_result"
    }
   ],
   "source": [
    "batch_size = len(host_names_train)\n",
    "batch_size"
   ]
  },
  {
   "cell_type": "code",
   "execution_count": 37,
   "metadata": {},
   "outputs": [],
   "source": [
    "from deepchem.models.layers import GraphConv, GraphPool, GraphGather\n",
    "import tensorflow as tf\n",
    "import tensorflow.keras.layers as layers\n",
    "from tensorflow.keras.layers import Dense, Input, BatchNormalization, Concatenate\n",
    "from tensorflow.keras import initializers\n",
    "\n",
    "# batch_size = int(len(df) / 2)\n",
    "\n",
    "class GBGraphConvModel(tf.keras.Model):\n",
    "\n",
    "  def __init__(self):\n",
    "    super(GBGraphConvModel, self).__init__()\n",
    "    self.input_shapes = input_shapes\n",
    "    self.gc1 = GraphConv(64, activation_fn=tf.nn.tanh)\n",
    "    self.batch_norm1 = layers.BatchNormalization()\n",
    "    self.gp1 = GraphPool()\n",
    "\n",
    "    self.gc2 = GraphConv(64, activation_fn=tf.nn.tanh)\n",
    "    self.batch_norm2 = layers.BatchNormalization()\n",
    "    self.gp2 = GraphPool()\n",
    "\n",
    "    self.dense1 = layers.Dense(128, activation=tf.nn.tanh)\n",
    "    self.batch_norm3 = layers.BatchNormalization()\n",
    "    self.readout = GraphGather(batch_size=batch_size, activation_fn=tf.nn.tanh)\n",
    "\n",
    "    self.dense2 = layers.Dense(1)\n",
    "#     self.dense3 = layers.Dense(1, \n",
    "#          kernel_initializer=initializers.Constant([.5, -1, -1, 1, 1, 1, 1, 1, -1, -1, -1, -1, -1, -1, -1, -1]),\n",
    "#          bias_initializer=initializers.Zeros())\n",
    "\n",
    "  def call(self, inputs):\n",
    "    inputs = inputs[0]\n",
    "    x = []\n",
    "#     input_shapes = [[4822, 75], [11, 2], [4822], [1142, 1], [1635, 2], [2042, 3],\n",
    "#                    [3, 4], [0, 5], [0, 6], [0, 7], [0, 8], [0, 9], [0, 10]]\n",
    "    for i in range(len(self.input_shapes)):\n",
    "        x.append(tf.reshape(inputs[i][inputs[i] != 1.123456], self.input_shapes[i]))\n",
    "    for i in range(1, len(self.input_shapes)):\n",
    "        x[i] = tf.cast(x[i], tf.int32)\n",
    "    x_add = tf.reshape(inputs[13][inputs[13] != 1.123456], [batch_size, 15])\n",
    "    gc1_output = self.gc1(x)\n",
    "    batch_norm1_output = self.batch_norm1(gc1_output)\n",
    "    gp1_output = self.gp1([batch_norm1_output] + x[1:])\n",
    "\n",
    "    gc2_output = self.gc2([gp1_output] + x[1:])\n",
    "    batch_norm2_output = self.batch_norm1(gc2_output)\n",
    "    gp2_output = self.gp2([batch_norm2_output] + x[1:])\n",
    "\n",
    "    dense1_output = self.dense1(gp2_output)\n",
    "    batch_norm3_output = self.batch_norm3(dense1_output)\n",
    "    readout_output = self.readout([batch_norm3_output] + x[1:])\n",
    "\n",
    "    model_var = self.dense2(readout_output)\n",
    "#     binding_affinity = tf.concat([model_var, x_add], axis=1)\n",
    "    return model_var #self.dense3(binding_affinity)\n",
    "model = GBGraphConvModel()\n",
    "model.compile(loss='mse', optimizer='adam')"
   ]
  },
  {
   "cell_type": "code",
   "execution_count": 38,
   "metadata": {},
   "outputs": [
    {
     "name": "stdout",
     "output_type": "stream",
     "text": [
      "Epoch 1/100\n"
     ]
    },
    {
     "name": "stderr",
     "output_type": "stream",
     "text": [
      "/Users/misspotato/opt/miniconda3/envs/rdkit-deepchem-jupyter/lib/python3.9/site-packages/tensorflow/python/framework/indexed_slices.py:447: UserWarning: Converting sparse IndexedSlices(IndexedSlices(indices=Tensor(\"gradient_tape/gb_graph_conv_model_1/graph_pool_3/Reshape_14:0\", shape=(1045,), dtype=int32), values=Tensor(\"gradient_tape/gb_graph_conv_model_1/graph_pool_3/Reshape_13:0\", shape=(1045, 64), dtype=float32), dense_shape=Tensor(\"gradient_tape/gb_graph_conv_model_1/graph_pool_3/Cast_4:0\", shape=(2,), dtype=int32))) to a dense Tensor of unknown shape. This may consume a large amount of memory.\n",
      "  warnings.warn(\n",
      "/Users/misspotato/opt/miniconda3/envs/rdkit-deepchem-jupyter/lib/python3.9/site-packages/tensorflow/python/framework/indexed_slices.py:447: UserWarning: Converting sparse IndexedSlices(IndexedSlices(indices=Tensor(\"gradient_tape/gb_graph_conv_model_1/graph_pool_3/Reshape_17:0\", shape=(3372,), dtype=int32), values=Tensor(\"gradient_tape/gb_graph_conv_model_1/graph_pool_3/Reshape_16:0\", shape=(3372, 64), dtype=float32), dense_shape=Tensor(\"gradient_tape/gb_graph_conv_model_1/graph_pool_3/Cast_5:0\", shape=(2,), dtype=int32))) to a dense Tensor of unknown shape. This may consume a large amount of memory.\n",
      "  warnings.warn(\n",
      "/Users/misspotato/opt/miniconda3/envs/rdkit-deepchem-jupyter/lib/python3.9/site-packages/tensorflow/python/framework/indexed_slices.py:447: UserWarning: Converting sparse IndexedSlices(IndexedSlices(indices=Tensor(\"gradient_tape/gb_graph_conv_model_1/graph_pool_3/Reshape_20:0\", shape=(6687,), dtype=int32), values=Tensor(\"gradient_tape/gb_graph_conv_model_1/graph_pool_3/Reshape_19:0\", shape=(6687, 64), dtype=float32), dense_shape=Tensor(\"gradient_tape/gb_graph_conv_model_1/graph_pool_3/Cast_6:0\", shape=(2,), dtype=int32))) to a dense Tensor of unknown shape. This may consume a large amount of memory.\n",
      "  warnings.warn(\n",
      "/Users/misspotato/opt/miniconda3/envs/rdkit-deepchem-jupyter/lib/python3.9/site-packages/tensorflow/python/framework/indexed_slices.py:447: UserWarning: Converting sparse IndexedSlices(IndexedSlices(indices=Tensor(\"gradient_tape/gb_graph_conv_model_1/graph_pool_3/Reshape_23:0\", shape=(32,), dtype=int32), values=Tensor(\"gradient_tape/gb_graph_conv_model_1/graph_pool_3/Reshape_22:0\", shape=(32, 64), dtype=float32), dense_shape=Tensor(\"gradient_tape/gb_graph_conv_model_1/graph_pool_3/Cast_7:0\", shape=(2,), dtype=int32))) to a dense Tensor of unknown shape. This may consume a large amount of memory.\n",
      "  warnings.warn(\n",
      "/Users/misspotato/opt/miniconda3/envs/rdkit-deepchem-jupyter/lib/python3.9/site-packages/tensorflow/python/framework/indexed_slices.py:447: UserWarning: Converting sparse IndexedSlices(IndexedSlices(indices=Tensor(\"gradient_tape/gb_graph_conv_model_1/graph_conv_3/Reshape_11:0\", shape=(1045,), dtype=int32), values=Tensor(\"gradient_tape/gb_graph_conv_model_1/graph_conv_3/Reshape_10:0\", shape=(1045, 64), dtype=float32), dense_shape=Tensor(\"gradient_tape/gb_graph_conv_model_1/graph_conv_3/Cast:0\", shape=(2,), dtype=int32))) to a dense Tensor of unknown shape. This may consume a large amount of memory.\n",
      "  warnings.warn(\n",
      "/Users/misspotato/opt/miniconda3/envs/rdkit-deepchem-jupyter/lib/python3.9/site-packages/tensorflow/python/framework/indexed_slices.py:447: UserWarning: Converting sparse IndexedSlices(IndexedSlices(indices=Tensor(\"gradient_tape/gb_graph_conv_model_1/graph_conv_3/Reshape_13:0\", shape=(3372,), dtype=int32), values=Tensor(\"gradient_tape/gb_graph_conv_model_1/graph_conv_3/Reshape_12:0\", shape=(3372, 64), dtype=float32), dense_shape=Tensor(\"gradient_tape/gb_graph_conv_model_1/graph_conv_3/Cast_1:0\", shape=(2,), dtype=int32))) to a dense Tensor of unknown shape. This may consume a large amount of memory.\n",
      "  warnings.warn(\n",
      "/Users/misspotato/opt/miniconda3/envs/rdkit-deepchem-jupyter/lib/python3.9/site-packages/tensorflow/python/framework/indexed_slices.py:447: UserWarning: Converting sparse IndexedSlices(IndexedSlices(indices=Tensor(\"gradient_tape/gb_graph_conv_model_1/graph_conv_3/Reshape_15:0\", shape=(6687,), dtype=int32), values=Tensor(\"gradient_tape/gb_graph_conv_model_1/graph_conv_3/Reshape_14:0\", shape=(6687, 64), dtype=float32), dense_shape=Tensor(\"gradient_tape/gb_graph_conv_model_1/graph_conv_3/Cast_2:0\", shape=(2,), dtype=int32))) to a dense Tensor of unknown shape. This may consume a large amount of memory.\n",
      "  warnings.warn(\n",
      "/Users/misspotato/opt/miniconda3/envs/rdkit-deepchem-jupyter/lib/python3.9/site-packages/tensorflow/python/framework/indexed_slices.py:447: UserWarning: Converting sparse IndexedSlices(IndexedSlices(indices=Tensor(\"gradient_tape/gb_graph_conv_model_1/graph_conv_3/Reshape_17:0\", shape=(32,), dtype=int32), values=Tensor(\"gradient_tape/gb_graph_conv_model_1/graph_conv_3/Reshape_16:0\", shape=(32, 64), dtype=float32), dense_shape=Tensor(\"gradient_tape/gb_graph_conv_model_1/graph_conv_3/Cast_3:0\", shape=(2,), dtype=int32))) to a dense Tensor of unknown shape. This may consume a large amount of memory.\n",
      "  warnings.warn(\n",
      "/Users/misspotato/opt/miniconda3/envs/rdkit-deepchem-jupyter/lib/python3.9/site-packages/tensorflow/python/framework/indexed_slices.py:447: UserWarning: Converting sparse IndexedSlices(IndexedSlices(indices=Tensor(\"gradient_tape/gb_graph_conv_model_1/graph_conv_3/Reshape_19:0\", shape=(0,), dtype=int32), values=Tensor(\"gradient_tape/gb_graph_conv_model_1/graph_conv_3/Reshape_18:0\", shape=(0, 64), dtype=float32), dense_shape=Tensor(\"gradient_tape/gb_graph_conv_model_1/graph_conv_3/Cast_4:0\", shape=(2,), dtype=int32))) to a dense Tensor of unknown shape. This may consume a large amount of memory.\n",
      "  warnings.warn(\n",
      "/Users/misspotato/opt/miniconda3/envs/rdkit-deepchem-jupyter/lib/python3.9/site-packages/tensorflow/python/framework/indexed_slices.py:447: UserWarning: Converting sparse IndexedSlices(IndexedSlices(indices=Tensor(\"gradient_tape/gb_graph_conv_model_1/graph_conv_3/Reshape_21:0\", shape=(0,), dtype=int32), values=Tensor(\"gradient_tape/gb_graph_conv_model_1/graph_conv_3/Reshape_20:0\", shape=(0, 64), dtype=float32), dense_shape=Tensor(\"gradient_tape/gb_graph_conv_model_1/graph_conv_3/Cast_5:0\", shape=(2,), dtype=int32))) to a dense Tensor of unknown shape. This may consume a large amount of memory.\n",
      "  warnings.warn(\n",
      "/Users/misspotato/opt/miniconda3/envs/rdkit-deepchem-jupyter/lib/python3.9/site-packages/tensorflow/python/framework/indexed_slices.py:447: UserWarning: Converting sparse IndexedSlices(IndexedSlices(indices=Tensor(\"gradient_tape/gb_graph_conv_model_1/graph_conv_3/Reshape_23:0\", shape=(0,), dtype=int32), values=Tensor(\"gradient_tape/gb_graph_conv_model_1/graph_conv_3/Reshape_22:0\", shape=(0, 64), dtype=float32), dense_shape=Tensor(\"gradient_tape/gb_graph_conv_model_1/graph_conv_3/Cast_6:0\", shape=(2,), dtype=int32))) to a dense Tensor of unknown shape. This may consume a large amount of memory.\n",
      "  warnings.warn(\n",
      "/Users/misspotato/opt/miniconda3/envs/rdkit-deepchem-jupyter/lib/python3.9/site-packages/tensorflow/python/framework/indexed_slices.py:447: UserWarning: Converting sparse IndexedSlices(IndexedSlices(indices=Tensor(\"gradient_tape/gb_graph_conv_model_1/graph_conv_3/Reshape_25:0\", shape=(0,), dtype=int32), values=Tensor(\"gradient_tape/gb_graph_conv_model_1/graph_conv_3/Reshape_24:0\", shape=(0, 64), dtype=float32), dense_shape=Tensor(\"gradient_tape/gb_graph_conv_model_1/graph_conv_3/Cast_7:0\", shape=(2,), dtype=int32))) to a dense Tensor of unknown shape. This may consume a large amount of memory.\n",
      "  warnings.warn(\n",
      "/Users/misspotato/opt/miniconda3/envs/rdkit-deepchem-jupyter/lib/python3.9/site-packages/tensorflow/python/framework/indexed_slices.py:447: UserWarning: Converting sparse IndexedSlices(IndexedSlices(indices=Tensor(\"gradient_tape/gb_graph_conv_model_1/graph_conv_3/Reshape_27:0\", shape=(0,), dtype=int32), values=Tensor(\"gradient_tape/gb_graph_conv_model_1/graph_conv_3/Reshape_26:0\", shape=(0, 64), dtype=float32), dense_shape=Tensor(\"gradient_tape/gb_graph_conv_model_1/graph_conv_3/Cast_8:0\", shape=(2,), dtype=int32))) to a dense Tensor of unknown shape. This may consume a large amount of memory.\n",
      "  warnings.warn(\n",
      "/Users/misspotato/opt/miniconda3/envs/rdkit-deepchem-jupyter/lib/python3.9/site-packages/tensorflow/python/framework/indexed_slices.py:447: UserWarning: Converting sparse IndexedSlices(IndexedSlices(indices=Tensor(\"gradient_tape/gb_graph_conv_model_1/graph_conv_3/Reshape_29:0\", shape=(0,), dtype=int32), values=Tensor(\"gradient_tape/gb_graph_conv_model_1/graph_conv_3/Reshape_28:0\", shape=(0, 64), dtype=float32), dense_shape=Tensor(\"gradient_tape/gb_graph_conv_model_1/graph_conv_3/Cast_9:0\", shape=(2,), dtype=int32))) to a dense Tensor of unknown shape. This may consume a large amount of memory.\n",
      "  warnings.warn(\n",
      "/Users/misspotato/opt/miniconda3/envs/rdkit-deepchem-jupyter/lib/python3.9/site-packages/tensorflow/python/framework/indexed_slices.py:447: UserWarning: Converting sparse IndexedSlices(IndexedSlices(indices=Tensor(\"gradient_tape/gb_graph_conv_model_1/graph_pool_2/Reshape_14:0\", shape=(1045,), dtype=int32), values=Tensor(\"gradient_tape/gb_graph_conv_model_1/graph_pool_2/Reshape_13:0\", shape=(1045, 64), dtype=float32), dense_shape=Tensor(\"gradient_tape/gb_graph_conv_model_1/graph_pool_2/Cast_4:0\", shape=(2,), dtype=int32))) to a dense Tensor of unknown shape. This may consume a large amount of memory.\n",
      "  warnings.warn(\n",
      "/Users/misspotato/opt/miniconda3/envs/rdkit-deepchem-jupyter/lib/python3.9/site-packages/tensorflow/python/framework/indexed_slices.py:447: UserWarning: Converting sparse IndexedSlices(IndexedSlices(indices=Tensor(\"gradient_tape/gb_graph_conv_model_1/graph_pool_2/Reshape_17:0\", shape=(3372,), dtype=int32), values=Tensor(\"gradient_tape/gb_graph_conv_model_1/graph_pool_2/Reshape_16:0\", shape=(3372, 64), dtype=float32), dense_shape=Tensor(\"gradient_tape/gb_graph_conv_model_1/graph_pool_2/Cast_5:0\", shape=(2,), dtype=int32))) to a dense Tensor of unknown shape. This may consume a large amount of memory.\n",
      "  warnings.warn(\n",
      "/Users/misspotato/opt/miniconda3/envs/rdkit-deepchem-jupyter/lib/python3.9/site-packages/tensorflow/python/framework/indexed_slices.py:447: UserWarning: Converting sparse IndexedSlices(IndexedSlices(indices=Tensor(\"gradient_tape/gb_graph_conv_model_1/graph_pool_2/Reshape_20:0\", shape=(6687,), dtype=int32), values=Tensor(\"gradient_tape/gb_graph_conv_model_1/graph_pool_2/Reshape_19:0\", shape=(6687, 64), dtype=float32), dense_shape=Tensor(\"gradient_tape/gb_graph_conv_model_1/graph_pool_2/Cast_6:0\", shape=(2,), dtype=int32))) to a dense Tensor of unknown shape. This may consume a large amount of memory.\n",
      "  warnings.warn(\n",
      "/Users/misspotato/opt/miniconda3/envs/rdkit-deepchem-jupyter/lib/python3.9/site-packages/tensorflow/python/framework/indexed_slices.py:447: UserWarning: Converting sparse IndexedSlices(IndexedSlices(indices=Tensor(\"gradient_tape/gb_graph_conv_model_1/graph_pool_2/Reshape_23:0\", shape=(32,), dtype=int32), values=Tensor(\"gradient_tape/gb_graph_conv_model_1/graph_pool_2/Reshape_22:0\", shape=(32, 64), dtype=float32), dense_shape=Tensor(\"gradient_tape/gb_graph_conv_model_1/graph_pool_2/Cast_7:0\", shape=(2,), dtype=int32))) to a dense Tensor of unknown shape. This may consume a large amount of memory.\n",
      "  warnings.warn(\n"
     ]
    },
    {
     "name": "stdout",
     "output_type": "stream",
     "text": [
      "1/1 [==============================] - 4s 4s/step - loss: 39.1987\n",
      "Epoch 2/100\n",
      "1/1 [==============================] - 0s 65ms/step - loss: 34.6003\n",
      "Epoch 3/100\n",
      "1/1 [==============================] - 0s 66ms/step - loss: 29.4942\n",
      "Epoch 4/100\n",
      "1/1 [==============================] - 0s 64ms/step - loss: 25.8134\n",
      "Epoch 5/100\n",
      "1/1 [==============================] - 0s 72ms/step - loss: 23.3720\n",
      "Epoch 6/100\n",
      "1/1 [==============================] - 0s 68ms/step - loss: 21.6405\n",
      "Epoch 7/100\n",
      "1/1 [==============================] - 0s 70ms/step - loss: 19.9445\n",
      "Epoch 8/100\n",
      "1/1 [==============================] - 0s 67ms/step - loss: 18.8808\n",
      "Epoch 9/100\n",
      "1/1 [==============================] - 0s 65ms/step - loss: 18.1502\n",
      "Epoch 10/100\n",
      "1/1 [==============================] - 0s 66ms/step - loss: 17.4365\n",
      "Epoch 11/100\n",
      "1/1 [==============================] - 0s 68ms/step - loss: 16.6381\n",
      "Epoch 12/100\n",
      "1/1 [==============================] - 0s 78ms/step - loss: 15.9863\n",
      "Epoch 13/100\n",
      "1/1 [==============================] - 0s 75ms/step - loss: 15.5772\n",
      "Epoch 14/100\n",
      "1/1 [==============================] - 0s 78ms/step - loss: 15.2709\n",
      "Epoch 15/100\n",
      "1/1 [==============================] - 0s 67ms/step - loss: 14.9493\n",
      "Epoch 16/100\n",
      "1/1 [==============================] - 0s 81ms/step - loss: 14.5704\n",
      "Epoch 17/100\n",
      "1/1 [==============================] - 0s 80ms/step - loss: 14.3113\n",
      "Epoch 18/100\n",
      "1/1 [==============================] - 0s 70ms/step - loss: 14.1491\n",
      "Epoch 19/100\n",
      "1/1 [==============================] - 0s 75ms/step - loss: 13.9953\n",
      "Epoch 20/100\n",
      "1/1 [==============================] - 0s 69ms/step - loss: 13.8747\n",
      "Epoch 21/100\n",
      "1/1 [==============================] - 0s 71ms/step - loss: 13.7761\n",
      "Epoch 22/100\n",
      "1/1 [==============================] - 0s 73ms/step - loss: 13.7045\n",
      "Epoch 23/100\n",
      "1/1 [==============================] - 0s 65ms/step - loss: 13.6621\n",
      "Epoch 24/100\n",
      "1/1 [==============================] - 0s 72ms/step - loss: 13.6494\n",
      "Epoch 25/100\n",
      "1/1 [==============================] - 0s 71ms/step - loss: 13.6444\n",
      "Epoch 26/100\n",
      "1/1 [==============================] - 0s 72ms/step - loss: 13.6446\n",
      "Epoch 27/100\n",
      "1/1 [==============================] - 0s 83ms/step - loss: 13.6463\n",
      "Epoch 28/100\n",
      "1/1 [==============================] - 0s 70ms/step - loss: 13.6471\n",
      "Epoch 29/100\n",
      "1/1 [==============================] - 0s 75ms/step - loss: 13.6479\n",
      "Epoch 30/100\n",
      "1/1 [==============================] - 0s 73ms/step - loss: 13.6549\n",
      "Epoch 31/100\n",
      "1/1 [==============================] - 0s 77ms/step - loss: 13.6584\n",
      "Epoch 32/100\n",
      "1/1 [==============================] - 0s 78ms/step - loss: 13.6574\n",
      "Epoch 33/100\n",
      "1/1 [==============================] - 0s 78ms/step - loss: 13.6562\n",
      "Epoch 34/100\n",
      "1/1 [==============================] - 0s 78ms/step - loss: 13.6507\n",
      "Epoch 35/100\n",
      "1/1 [==============================] - 0s 78ms/step - loss: 13.6458\n",
      "Epoch 36/100\n",
      "1/1 [==============================] - 0s 76ms/step - loss: 13.6398\n",
      "Epoch 37/100\n",
      "1/1 [==============================] - 0s 76ms/step - loss: 13.6302\n",
      "Epoch 38/100\n",
      "1/1 [==============================] - 0s 77ms/step - loss: 13.6243\n",
      "Epoch 39/100\n",
      "1/1 [==============================] - 0s 74ms/step - loss: 13.6063\n",
      "Epoch 40/100\n",
      "1/1 [==============================] - 0s 69ms/step - loss: 13.5928\n",
      "Epoch 41/100\n",
      "1/1 [==============================] - 0s 67ms/step - loss: 13.5865\n",
      "Epoch 42/100\n",
      "1/1 [==============================] - 0s 68ms/step - loss: 13.5835\n",
      "Epoch 43/100\n",
      "1/1 [==============================] - 0s 66ms/step - loss: 13.5827\n",
      "Epoch 44/100\n",
      "1/1 [==============================] - 0s 65ms/step - loss: 13.5832\n",
      "Epoch 45/100\n",
      "1/1 [==============================] - 0s 64ms/step - loss: 13.5839\n",
      "Epoch 46/100\n",
      "1/1 [==============================] - 0s 66ms/step - loss: 13.5834\n",
      "Epoch 47/100\n",
      "1/1 [==============================] - 0s 68ms/step - loss: 13.5814\n",
      "Epoch 48/100\n",
      "1/1 [==============================] - 0s 64ms/step - loss: 13.5796\n",
      "Epoch 49/100\n",
      "1/1 [==============================] - 0s 66ms/step - loss: 13.5785\n",
      "Epoch 50/100\n",
      "1/1 [==============================] - 0s 68ms/step - loss: 13.5776\n",
      "Epoch 51/100\n",
      "1/1 [==============================] - 0s 70ms/step - loss: 13.5770\n",
      "Epoch 52/100\n",
      "1/1 [==============================] - 0s 69ms/step - loss: 13.5765\n",
      "Epoch 53/100\n",
      "1/1 [==============================] - 0s 67ms/step - loss: 13.5763\n",
      "Epoch 54/100\n",
      "1/1 [==============================] - 0s 69ms/step - loss: 13.5757\n",
      "Epoch 55/100\n",
      "1/1 [==============================] - 0s 66ms/step - loss: 13.5746\n",
      "Epoch 56/100\n",
      "1/1 [==============================] - 0s 67ms/step - loss: 13.5736\n",
      "Epoch 57/100\n",
      "1/1 [==============================] - 0s 68ms/step - loss: 13.5726\n",
      "Epoch 58/100\n",
      "1/1 [==============================] - 0s 64ms/step - loss: 13.5716\n",
      "Epoch 59/100\n",
      "1/1 [==============================] - ETA: 0s - loss: 13.57 - 0s 64ms/step - loss: 13.5709\n",
      "Epoch 60/100\n",
      "1/1 [==============================] - 0s 65ms/step - loss: 13.5703\n",
      "Epoch 61/100\n",
      "1/1 [==============================] - 0s 64ms/step - loss: 13.5699\n",
      "Epoch 62/100\n",
      "1/1 [==============================] - 0s 63ms/step - loss: 13.5693\n",
      "Epoch 63/100\n",
      "1/1 [==============================] - 0s 67ms/step - loss: 13.5688\n",
      "Epoch 64/100\n",
      "1/1 [==============================] - 0s 65ms/step - loss: 13.5683\n",
      "Epoch 65/100\n",
      "1/1 [==============================] - 0s 64ms/step - loss: 13.5679\n",
      "Epoch 66/100\n",
      "1/1 [==============================] - 0s 63ms/step - loss: 13.5675\n",
      "Epoch 67/100\n",
      "1/1 [==============================] - 0s 67ms/step - loss: 13.5672\n",
      "Epoch 68/100\n",
      "1/1 [==============================] - 0s 63ms/step - loss: 13.5669\n",
      "Epoch 69/100\n",
      "1/1 [==============================] - 0s 65ms/step - loss: 13.5666\n",
      "Epoch 70/100\n",
      "1/1 [==============================] - 0s 65ms/step - loss: 13.5663\n",
      "Epoch 71/100\n",
      "1/1 [==============================] - 0s 66ms/step - loss: 13.5661\n",
      "Epoch 72/100\n",
      "1/1 [==============================] - 0s 64ms/step - loss: 13.5659\n",
      "Epoch 73/100\n",
      "1/1 [==============================] - 0s 67ms/step - loss: 13.5658\n",
      "Epoch 74/100\n",
      "1/1 [==============================] - 0s 65ms/step - loss: 13.5657\n",
      "Epoch 75/100\n",
      "1/1 [==============================] - 0s 63ms/step - loss: 13.5657\n",
      "Epoch 76/100\n",
      "1/1 [==============================] - 0s 68ms/step - loss: 13.5657\n",
      "Epoch 77/100\n",
      "1/1 [==============================] - 0s 65ms/step - loss: 13.5656\n",
      "Epoch 78/100\n",
      "1/1 [==============================] - 0s 65ms/step - loss: 13.5655\n",
      "Epoch 79/100\n",
      "1/1 [==============================] - 0s 65ms/step - loss: 13.5654\n",
      "Epoch 80/100\n",
      "1/1 [==============================] - 0s 60ms/step - loss: 13.5652\n",
      "Epoch 81/100\n",
      "1/1 [==============================] - 0s 64ms/step - loss: 13.5651\n",
      "Epoch 82/100\n",
      "1/1 [==============================] - 0s 67ms/step - loss: 13.5648\n",
      "Epoch 83/100\n",
      "1/1 [==============================] - 0s 67ms/step - loss: 13.5646\n",
      "Epoch 84/100\n",
      "1/1 [==============================] - 0s 67ms/step - loss: 13.5645\n",
      "Epoch 85/100\n",
      "1/1 [==============================] - 0s 66ms/step - loss: 13.5643\n",
      "Epoch 86/100\n",
      "1/1 [==============================] - 0s 64ms/step - loss: 13.5643\n",
      "Epoch 87/100\n",
      "1/1 [==============================] - 0s 67ms/step - loss: 13.5642\n",
      "Epoch 88/100\n",
      "1/1 [==============================] - 0s 63ms/step - loss: 13.5641\n",
      "Epoch 89/100\n",
      "1/1 [==============================] - 0s 62ms/step - loss: 13.5640\n",
      "Epoch 90/100\n",
      "1/1 [==============================] - 0s 63ms/step - loss: 13.5639\n",
      "Epoch 91/100\n",
      "1/1 [==============================] - 0s 64ms/step - loss: 13.5639\n",
      "Epoch 92/100\n",
      "1/1 [==============================] - 0s 63ms/step - loss: 13.5638\n",
      "Epoch 93/100\n",
      "1/1 [==============================] - 0s 69ms/step - loss: 13.5637\n",
      "Epoch 94/100\n",
      "1/1 [==============================] - 0s 68ms/step - loss: 13.5636\n",
      "Epoch 95/100\n",
      "1/1 [==============================] - 0s 57ms/step - loss: 13.5636\n",
      "Epoch 96/100\n",
      "1/1 [==============================] - 0s 61ms/step - loss: 13.5635\n",
      "Epoch 97/100\n",
      "1/1 [==============================] - 0s 62ms/step - loss: 13.5634\n",
      "Epoch 98/100\n",
      "1/1 [==============================] - 0s 61ms/step - loss: 13.5634\n",
      "Epoch 99/100\n",
      "1/1 [==============================] - 0s 62ms/step - loss: 13.5633\n",
      "Epoch 100/100\n",
      "1/1 [==============================] - 0s 62ms/step - loss: 13.5633\n"
     ]
    }
   ],
   "source": [
    "# history_dd_train = model.fit(x_train, y_train.reshape([1, -1]), epochs=200)\n",
    "\n",
    "history_dd_train = model.fit(x_train, y_train.reshape([1, -1]), epochs=100)"
   ]
  },
  {
   "cell_type": "code",
   "execution_count": 39,
   "metadata": {},
   "outputs": [],
   "source": [
    "model.input_shapes = [i.shape for i in x_preprocessed_test]"
   ]
  },
  {
   "cell_type": "code",
   "execution_count": 40,
   "metadata": {},
   "outputs": [
    {
     "name": "stdout",
     "output_type": "stream",
     "text": [
      "1/1 [==============================] - 1s 763ms/step - loss: 32.1225\n"
     ]
    },
    {
     "data": {
      "text/plain": [
       "32.12253952026367"
      ]
     },
     "execution_count": 40,
     "metadata": {},
     "output_type": "execute_result"
    }
   ],
   "source": [
    "model.evaluate(x_test, y_test.reshape([1, -1]))"
   ]
  },
  {
   "cell_type": "code",
   "execution_count": 41,
   "metadata": {},
   "outputs": [
    {
     "name": "stdout",
     "output_type": "stream",
     "text": [
      "6.797793759742936\n"
     ]
    }
   ],
   "source": [
    "dd_rmse_test = np.sqrt(46.21)\n",
    "print(dd_rmse_test)"
   ]
  },
  {
   "cell_type": "code",
   "execution_count": 49,
   "metadata": {},
   "outputs": [
    {
     "data": {
      "text/plain": [
       "3.682390527904394"
      ]
     },
     "execution_count": 49,
     "metadata": {},
     "output_type": "execute_result"
    }
   ],
   "source": [
    "import math\n",
    "train_dd_rmse = math.sqrt(13.56)\n",
    "train_dd_rmse"
   ]
  },
  {
   "cell_type": "code",
   "execution_count": 53,
   "metadata": {},
   "outputs": [
    {
     "data": {
      "text/plain": [
       "Text(0, 0.5, 'Loss (Kcal/mol)')"
      ]
     },
     "execution_count": 53,
     "metadata": {},
     "output_type": "execute_result"
    },
    {
     "data": {
      "image/png": "[encoded data removed]",
      "text/plain": [
       "<Figure size 432x288 with 1 Axes>"
      ]
     },
     "metadata": {
      "needs_background": "light"
     },
     "output_type": "display_data"
    }
   ],
   "source": [
    "import matplotlib.pyplot as plt\n",
    "plt.plot(history_dd_train.history['loss'])\n",
    "plt.xlabel(\"Epoch\")\n",
    "plt.ylabel(\"Loss (Kcal/mol)\")"
   ]
  },
  {
   "cell_type": "markdown",
   "metadata": {},
   "source": [
    "<h1> Model Comparisons </h1>"
   ]
  },
  {
   "cell_type": "code",
   "execution_count": 50,
   "metadata": {},
   "outputs": [
    {
     "name": "stdout",
     "output_type": "stream",
     "text": [
      "+-----------------------------+\n",
      "|        Test Set RMSE        |\n",
      "+--------+-------------+------+\n",
      "| GBNSR6 | Data Driven | PGNN |\n",
      "+--------+-------------+------+\n",
      "|  9.35  |     6.80    | 6.71 |\n",
      "+--------+-------------+------+\n"
     ]
    }
   ],
   "source": [
    "# Test\n",
    "from prettytable import PrettyTable\n",
    "rmse_table = PrettyTable()\n",
    "rmse_table.title=\"Test Set RMSE\"\n",
    "rmse_table.field_names = [\"GBNSR6\", \"Data Driven\", \"PGNN\"]\n",
    "rmse_table.add_row([\"{:.2f}\".format(physics_based_rmse_test), \"{:.2f}\".format(dd_rmse_test),\"{:.2f}\".format(pgnn_rmse_test)])\n",
    "print(rmse_table)"
   ]
  },
  {
   "cell_type": "code",
   "execution_count": 51,
   "metadata": {},
   "outputs": [
    {
     "name": "stdout",
     "output_type": "stream",
     "text": [
      "+-----------------------------+\n",
      "|        Train Set RMSE       |\n",
      "+--------+-------------+------+\n",
      "| GBNSR6 | Data Driven | PGNN |\n",
      "+--------+-------------+------+\n",
      "|  9.01  |     3.68    | 5.37 |\n",
      "+--------+-------------+------+\n"
     ]
    }
   ],
   "source": [
    "# Train\n",
    "rmse_table = PrettyTable()\n",
    "rmse_table.title=\"Train Set RMSE\"\n",
    "rmse_table.field_names = [\"GBNSR6\", \"Data Driven\", \"PGNN\"]\n",
    "rmse_table.add_row([\"{:.2f}\".format(physics_based_rmse_train), \"{:.2f}\".format(train_dd_rmse),\"{:.2f}\".format(train_hybrid_rmse)])\n",
    "print(rmse_table)"
   ]
  },
  {
   "cell_type": "markdown",
   "metadata": {},
   "source": [
    "<h1> Loss per epoch </h1>"
   ]
  },
  {
   "cell_type": "code",
   "execution_count": 46,
   "metadata": {},
   "outputs": [
    {
     "name": "stdout",
     "output_type": "stream",
     "text": [
      "Model: \"gb_graph_conv_model_1\"\n",
      "_________________________________________________________________\n",
      "Layer (type)                 Output Shape              Param #   \n",
      "=================================================================\n",
      "graph_conv_2 (GraphConv)     multiple                  102144    \n",
      "_________________________________________________________________\n",
      "batch_normalization_3 (Batch multiple                  256       \n",
      "_________________________________________________________________\n",
      "graph_pool_2 (GraphPool)     multiple                  0         \n",
      "_________________________________________________________________\n",
      "graph_conv_3 (GraphConv)     multiple                  87360     \n",
      "_________________________________________________________________\n",
      "batch_normalization_4 (Batch multiple                  0 (unused)\n",
      "_________________________________________________________________\n",
      "graph_pool_3 (GraphPool)     multiple                  0         \n",
      "_________________________________________________________________\n",
      "dense_3 (Dense)              multiple                  8320      \n",
      "_________________________________________________________________\n",
      "batch_normalization_5 (Batch multiple                  512       \n",
      "_________________________________________________________________\n",
      "graph_gather_1 (GraphGather) multiple                  0         \n",
      "_________________________________________________________________\n",
      "dense_4 (Dense)              multiple                  257       \n",
      "=================================================================\n",
      "Total params: 198,849\n",
      "Trainable params: 198,465\n",
      "Non-trainable params: 384\n",
      "_________________________________________________________________\n",
      "None\n"
     ]
    }
   ],
   "source": [
    "print(model.summary())"
   ]
  },
  {
   "cell_type": "code",
   "execution_count": 52,
   "metadata": {},
   "outputs": [
    {
     "data": {
      "text/plain": [
       "Text(0, 0.5, 'Loss (Kcal/mol)')"
      ]
     },
     "execution_count": 52,
     "metadata": {},
     "output_type": "execute_result"
    },
    {
     "data": {
      "image/png": "[encoded data removed]",
      "text/plain": [
       "<Figure size 432x288 with 1 Axes>"
      ]
     },
     "metadata": {
      "needs_background": "light"
     },
     "output_type": "display_data"
    }
   ],
   "source": [
    "import matplotlib.pyplot as plt\n",
    "plt.plot(history_train_hybrid.history['loss'])\n",
    "plt.xlabel(\"Epoch\")\n",
    "plt.ylabel(\"Loss (Kcal/mol)\")"
   ]
  },
  {
   "cell_type": "code",
   "execution_count": null,
   "metadata": {},
   "outputs": [],
   "source": []
  }
 ],
 "metadata": {
  "kernelspec": {
   "display_name": "rdkit-deepchem-jupyter",
   "language": "python",
   "name": "rdkit-deepchem-jupyter"
  },
  "language_info": {
   "codemirror_mode": {
    "name": "ipython",
    "version": 3
   },
   "file_extension": ".py",
   "mimetype": "text/x-python",
   "name": "python",
   "nbconvert_exporter": "python",
   "pygments_lexer": "ipython3",
   "version": "3.9.7"
  }
 },
 "nbformat": 4,
 "nbformat_minor": 4
}
