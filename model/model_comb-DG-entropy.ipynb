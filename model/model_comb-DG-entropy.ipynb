{
 "cells": [
  {
   "cell_type": "markdown",
   "metadata": {},
   "source": [
    "<h1>Installing RDKit</h1>"
   ]
  },
  {
   "cell_type": "code",
   "execution_count": 1,
   "metadata": {},
   "outputs": [],
   "source": [
    "import rdkit\n",
    "import deepchem as dc\n",
    "import pandas as pd\n",
    "import numpy as np\n",
    "import tensorflow as tf\n",
    "import sklearn"
   ]
  },
  {
   "cell_type": "code",
   "execution_count": 2,
   "metadata": {},
   "outputs": [
    {
     "data": {
      "text/plain": [
       "'2.5.0'"
      ]
     },
     "execution_count": 2,
     "metadata": {},
     "output_type": "execute_result"
    }
   ],
   "source": [
    "dc.__version__"
   ]
  },
  {
   "cell_type": "code",
   "execution_count": 3,
   "metadata": {},
   "outputs": [
    {
     "data": {
      "text/plain": [
       "'1.19.5'"
      ]
     },
     "execution_count": 3,
     "metadata": {},
     "output_type": "execute_result"
    }
   ],
   "source": [
    "np.__version__"
   ]
  },
  {
   "cell_type": "code",
   "execution_count": 4,
   "metadata": {},
   "outputs": [
    {
     "data": {
      "text/plain": [
       "'2.6.0'"
      ]
     },
     "execution_count": 4,
     "metadata": {},
     "output_type": "execute_result"
    }
   ],
   "source": [
    "tf.__version__"
   ]
  },
  {
   "cell_type": "code",
   "execution_count": 5,
   "metadata": {},
   "outputs": [],
   "source": [
    "df = pd.read_csv('https://raw.githubusercontent.com/saharctech/Binding-Free-Energy-Prediction-Host-Guest-System/master/Results/dataset.csv')\n",
    "#df = pd.read_csv('/Users/misspotato/Documents/GitHub/Binding-Free-Energy-Prediction-Host-Guest-System/Results/dataset.csv')"
   ]
  },
  {
   "cell_type": "code",
   "execution_count": 6,
   "metadata": {},
   "outputs": [
    {
     "data": {
      "text/html": [
       "<div>\n",
       "<style scoped>\n",
       "    .dataframe tbody tr th:only-of-type {\n",
       "        vertical-align: middle;\n",
       "    }\n",
       "\n",
       "    .dataframe tbody tr th {\n",
       "        vertical-align: top;\n",
       "    }\n",
       "\n",
       "    .dataframe thead th {\n",
       "        text-align: right;\n",
       "    }\n",
       "</style>\n",
       "<table border=\"1\" class=\"dataframe\">\n",
       "  <thead>\n",
       "    <tr style=\"text-align: right;\">\n",
       "      <th></th>\n",
       "      <th>dataset group name</th>\n",
       "      <th>Dataset Name</th>\n",
       "      <th>Host</th>\n",
       "      <th>Guest</th>\n",
       "      <th>Ex _G_(kcal/mol)</th>\n",
       "      <th>Ex _G_SEM</th>\n",
       "      <th>EX _H_(kcal/mol)</th>\n",
       "      <th>EX _H_SEM</th>\n",
       "      <th>entropy</th>\n",
       "      <th>pb_guest_Etot</th>\n",
       "      <th>...</th>\n",
       "      <th>gb_host_1-4EEL</th>\n",
       "      <th>gb_host_EELEC</th>\n",
       "      <th>gb_host_EGB</th>\n",
       "      <th>gb_host_ESURF</th>\n",
       "      <th>gb_delta_H</th>\n",
       "      <th>pb_delta_H</th>\n",
       "      <th>EX _delta_H_(kcal/mol)</th>\n",
       "      <th>gb_Ex_difference</th>\n",
       "      <th>SQR_gbnsr6_Ex_difference</th>\n",
       "      <th>pb_Ex_difference</th>\n",
       "    </tr>\n",
       "  </thead>\n",
       "  <tbody>\n",
       "    <tr>\n",
       "      <th>0</th>\n",
       "      <td>Mobley benchmarkset</td>\n",
       "      <td>cd-set1</td>\n",
       "      <td>acd</td>\n",
       "      <td>guest-1</td>\n",
       "      <td>-1.575</td>\n",
       "      <td>0.019</td>\n",
       "      <td>-2.17</td>\n",
       "      <td>0.05</td>\n",
       "      <td>-0.595</td>\n",
       "      <td>-47.8832</td>\n",
       "      <td>...</td>\n",
       "      <td>423.5761</td>\n",
       "      <td>-428.9520</td>\n",
       "      <td>-96.4471</td>\n",
       "      <td>5.1691</td>\n",
       "      <td>-1.9950</td>\n",
       "      <td>-0.8408</td>\n",
       "      <td>-2.17</td>\n",
       "      <td>0.1750</td>\n",
       "      <td>0.030625</td>\n",
       "      <td>1.3292</td>\n",
       "    </tr>\n",
       "    <tr>\n",
       "      <th>1</th>\n",
       "      <td>Mobley benchmarkset</td>\n",
       "      <td>cd-set1</td>\n",
       "      <td>acd</td>\n",
       "      <td>guest-2</td>\n",
       "      <td>-3.533</td>\n",
       "      <td>0.004</td>\n",
       "      <td>-4.19</td>\n",
       "      <td>0.02</td>\n",
       "      <td>-0.657</td>\n",
       "      <td>-52.0758</td>\n",
       "      <td>...</td>\n",
       "      <td>412.6663</td>\n",
       "      <td>-397.9784</td>\n",
       "      <td>-106.4154</td>\n",
       "      <td>5.0726</td>\n",
       "      <td>-11.2624</td>\n",
       "      <td>-8.4809</td>\n",
       "      <td>-4.19</td>\n",
       "      <td>-7.0724</td>\n",
       "      <td>50.018842</td>\n",
       "      <td>-4.2909</td>\n",
       "    </tr>\n",
       "    <tr>\n",
       "      <th>2</th>\n",
       "      <td>Mobley benchmarkset</td>\n",
       "      <td>cd-set1</td>\n",
       "      <td>acd</td>\n",
       "      <td>guest-3</td>\n",
       "      <td>-4.606</td>\n",
       "      <td>0.007</td>\n",
       "      <td>-5.46</td>\n",
       "      <td>0.03</td>\n",
       "      <td>-0.854</td>\n",
       "      <td>-51.5323</td>\n",
       "      <td>...</td>\n",
       "      <td>426.2925</td>\n",
       "      <td>-429.3068</td>\n",
       "      <td>-95.2452</td>\n",
       "      <td>5.1352</td>\n",
       "      <td>-15.4074</td>\n",
       "      <td>-13.8234</td>\n",
       "      <td>-5.46</td>\n",
       "      <td>-9.9474</td>\n",
       "      <td>98.950767</td>\n",
       "      <td>-8.3634</td>\n",
       "    </tr>\n",
       "    <tr>\n",
       "      <th>3</th>\n",
       "      <td>Mobley benchmarkset</td>\n",
       "      <td>cd-set1</td>\n",
       "      <td>acd</td>\n",
       "      <td>guest-4</td>\n",
       "      <td>-2.130</td>\n",
       "      <td>0.016</td>\n",
       "      <td>-2.74</td>\n",
       "      <td>0.02</td>\n",
       "      <td>-0.610</td>\n",
       "      <td>2.3898</td>\n",
       "      <td>...</td>\n",
       "      <td>420.0687</td>\n",
       "      <td>-416.5215</td>\n",
       "      <td>-97.4461</td>\n",
       "      <td>5.0849</td>\n",
       "      <td>-10.5586</td>\n",
       "      <td>-11.3319</td>\n",
       "      <td>-2.74</td>\n",
       "      <td>-7.8186</td>\n",
       "      <td>61.130506</td>\n",
       "      <td>-8.5919</td>\n",
       "    </tr>\n",
       "    <tr>\n",
       "      <th>4</th>\n",
       "      <td>Mobley benchmarkset</td>\n",
       "      <td>cd-set1</td>\n",
       "      <td>acd</td>\n",
       "      <td>guest-5</td>\n",
       "      <td>-2.510</td>\n",
       "      <td>0.060</td>\n",
       "      <td>-2.99</td>\n",
       "      <td>0.23</td>\n",
       "      <td>-0.480</td>\n",
       "      <td>-3.2280</td>\n",
       "      <td>...</td>\n",
       "      <td>425.7315</td>\n",
       "      <td>-435.9689</td>\n",
       "      <td>-91.2312</td>\n",
       "      <td>5.0881</td>\n",
       "      <td>-14.5517</td>\n",
       "      <td>-14.0485</td>\n",
       "      <td>-2.99</td>\n",
       "      <td>-11.5617</td>\n",
       "      <td>133.672907</td>\n",
       "      <td>-11.0585</td>\n",
       "    </tr>\n",
       "  </tbody>\n",
       "</table>\n",
       "<p>5 rows × 45 columns</p>\n",
       "</div>"
      ],
      "text/plain": [
       "    dataset group name Dataset Name Host    Guest  Ex _G_(kcal/mol)  \\\n",
       "0  Mobley benchmarkset      cd-set1  acd  guest-1            -1.575   \n",
       "1  Mobley benchmarkset      cd-set1  acd  guest-2            -3.533   \n",
       "2  Mobley benchmarkset      cd-set1  acd  guest-3            -4.606   \n",
       "3  Mobley benchmarkset      cd-set1  acd  guest-4            -2.130   \n",
       "4  Mobley benchmarkset      cd-set1  acd  guest-5            -2.510   \n",
       "\n",
       "   Ex _G_SEM  EX _H_(kcal/mol)  EX _H_SEM  entropy  pb_guest_Etot  ...  \\\n",
       "0      0.019             -2.17       0.05   -0.595       -47.8832  ...   \n",
       "1      0.004             -4.19       0.02   -0.657       -52.0758  ...   \n",
       "2      0.007             -5.46       0.03   -0.854       -51.5323  ...   \n",
       "3      0.016             -2.74       0.02   -0.610         2.3898  ...   \n",
       "4      0.060             -2.99       0.23   -0.480        -3.2280  ...   \n",
       "\n",
       "   gb_host_1-4EEL  gb_host_EELEC  gb_host_EGB  gb_host_ESURF  gb_delta_H  \\\n",
       "0        423.5761      -428.9520     -96.4471         5.1691     -1.9950   \n",
       "1        412.6663      -397.9784    -106.4154         5.0726    -11.2624   \n",
       "2        426.2925      -429.3068     -95.2452         5.1352    -15.4074   \n",
       "3        420.0687      -416.5215     -97.4461         5.0849    -10.5586   \n",
       "4        425.7315      -435.9689     -91.2312         5.0881    -14.5517   \n",
       "\n",
       "   pb_delta_H  EX _delta_H_(kcal/mol)  gb_Ex_difference  \\\n",
       "0     -0.8408                   -2.17            0.1750   \n",
       "1     -8.4809                   -4.19           -7.0724   \n",
       "2    -13.8234                   -5.46           -9.9474   \n",
       "3    -11.3319                   -2.74           -7.8186   \n",
       "4    -14.0485                   -2.99          -11.5617   \n",
       "\n",
       "   SQR_gbnsr6_Ex_difference  pb_Ex_difference  \n",
       "0                  0.030625            1.3292  \n",
       "1                 50.018842           -4.2909  \n",
       "2                 98.950767           -8.3634  \n",
       "3                 61.130506           -8.5919  \n",
       "4                133.672907          -11.0585  \n",
       "\n",
       "[5 rows x 45 columns]"
      ]
     },
     "execution_count": 6,
     "metadata": {},
     "output_type": "execute_result"
    }
   ],
   "source": [
    "df.head()"
   ]
  },
  {
   "cell_type": "code",
   "execution_count": 7,
   "metadata": {},
   "outputs": [
    {
     "data": {
      "text/plain": [
       "Index(['dataset group name', 'Dataset Name', 'Host', 'Guest',\n",
       "       'Ex _G_(kcal/mol)', 'Ex _G_SEM', 'EX _H_(kcal/mol)', 'EX _H_SEM',\n",
       "       'entropy', 'pb_guest_Etot', 'pb_guest_VDWAALS', 'pb_guest_EELEC',\n",
       "       'pb_guest_EPB', 'pb_guest_ECAVITY', 'pb_host_Etot', 'pb_host_VDWAALS',\n",
       "       'pb_host_EELEC', 'pb_host_EPB', 'pb_host_ECAVITY', 'pb_complex_Etot',\n",
       "       'pb_complex_VDWAALS', 'pb_complex_EELEC', 'pb_complex_EPB',\n",
       "       'pb_complex_ECAVITY', 'gb_Complex_Etot', 'gb_Complex_1-4EEL',\n",
       "       'gb_Complex_EELEC', 'gb_Complex_EGB', 'gb_Complex_ESURF',\n",
       "       'gb_guest_Etot', 'gb_guest_1-4EEL', 'gb_guest_EELEC', 'gb_guest_EGB',\n",
       "       'gb_guest_ESURF', 'gb_host_Etot', 'gb_host_1-4EEL', 'gb_host_EELEC',\n",
       "       'gb_host_EGB', 'gb_host_ESURF', 'gb_delta_H', 'pb_delta_H',\n",
       "       'EX _delta_H_(kcal/mol)', 'gb_Ex_difference',\n",
       "       'SQR_gbnsr6_Ex_difference', 'pb_Ex_difference'],\n",
       "      dtype='object')"
      ]
     },
     "execution_count": 7,
     "metadata": {},
     "output_type": "execute_result"
    }
   ],
   "source": [
    "df.columns"
   ]
  },
  {
   "cell_type": "markdown",
   "metadata": {},
   "source": [
    "<h1>Reading Mobley PDB files</h1>\n",
    "<p>Here each PDB file will be read and saved in Mol data type defined in RDKit and used by DeepChem</p>"
   ]
  },
  {
   "cell_type": "code",
   "execution_count": 8,
   "metadata": {},
   "outputs": [],
   "source": [
    "# Dictionary with complex names as keys and molecule as values\n",
    "PDBs = {}\n",
    "from os import listdir\n",
    "from os.path import isfile, join\n",
    "mypath = '/Users/misspotato/Documents/Github/Binding-Free-Energy-Prediction-Host-Guest-System/PDB'\n",
    "onlyfiles = [f for f in listdir(mypath) if isfile(join(mypath, f))]\n",
    "for f in onlyfiles:\n",
    "    PDBs.update({f.split('.')[0].replace('s', '') : rdkit.Chem.rdmolfiles.MolFromPDBFile(mypath + '/' + f)})"
   ]
  },
  {
   "cell_type": "code",
   "execution_count": 9,
   "metadata": {},
   "outputs": [],
   "source": [
    "# Randomly shuffling the PDBs\n",
    "import random\n",
    "l = list(PDBs.items())\n",
    "random.shuffle(l)\n",
    "PDBs = dict(l)"
   ]
  },
  {
   "cell_type": "markdown",
   "metadata": {},
   "source": [
    "<h1>Featurizing</h1>\n",
    "<p>GraphConv model needs ConvMolFeaturizer</p>"
   ]
  },
  {
   "cell_type": "code",
   "execution_count": 10,
   "metadata": {},
   "outputs": [],
   "source": [
    "featurizer = dc.feat.ConvMolFeaturizer(per_atom_fragmentation=False)\n",
    "TRAIN_SET = .7\n",
    "VAL_SET = .3"
   ]
  },
  {
   "cell_type": "code",
   "execution_count": 11,
   "metadata": {},
   "outputs": [],
   "source": [
    "PDBs.pop('',None)\n",
    "X = []\n",
    "X_ids = []\n",
    "# one_add = 0 if len(PDBs.keys()) % 2 == 0 else 1\n",
    "for k in PDBs.keys():\n",
    "    X_ids.append(k)\n",
    "    X.append(featurizer.featurize(PDBs[k]))\n",
    "train_split_index = int(len(X) * TRAIN_SET)\n",
    "val_split_index = int(len(X) * VAL_SET)\n",
    "X = [x[0] for x in X]\n",
    "X_train_featurized = X[:train_split_index]\n",
    "# X_val_featurized = X[train_split_index: (train_split_index + val_split_index)]\n",
    "X_val_featurized = X[train_split_index:]\n",
    "X_test_featurized = X[train_split_index:]"
   ]
  },
  {
   "cell_type": "code",
   "execution_count": 12,
   "metadata": {},
   "outputs": [],
   "source": [
    "host_names = [i.split('-')[0] for i in X_ids]\n",
    "guest_names = ['guest-' + (i.split('-')[1].replace('s', '')) for i in X_ids]"
   ]
  },
  {
   "cell_type": "code",
   "execution_count": 13,
   "metadata": {},
   "outputs": [],
   "source": [
    "# train\n",
    "host_names_train = host_names[:train_split_index]\n",
    "guest_names_train = guest_names[:train_split_index]\n",
    "# Val\n",
    "# host_names_val = host_names[train_split_index:(train_split_index + val_split_index)]\n",
    "# guest_names_val = guest_names[train_split_index:(train_split_index + val_split_index)]\n",
    "host_names_val = host_names[train_split_index:]\n",
    "guest_names_val = guest_names[train_split_index:]\n",
    "# test\n",
    "host_names_test = host_names[train_split_index:]\n",
    "guest_names_test = guest_names[train_split_index:]\n"
   ]
  },
  {
   "cell_type": "code",
   "execution_count": 14,
   "metadata": {},
   "outputs": [],
   "source": [
    "x_add_train, x_add_val, x_add_test, y_train, y_val, y_test = [], [], [], [], [], []\n",
    "# Train\n",
    "for i in range(len(host_names_train)):\n",
    "    new_df = df[(df['Host'] == host_names_train[i]) & (df['Guest'] == guest_names_train[i])]\n",
    "    y_train.append(new_df['Ex _G_(kcal/mol)'].to_numpy()[0])\n",
    "    x_add_train.append(new_df[[c for c in df.columns if ('Etot' not in c) and ('delta' not in c)\n",
    "                         and ('Ex_difference' not in c) and ('entropy' in c or 'gb_' in c or 'VDWAALS' in c)]].to_numpy()[0])\n",
    "y_train = np.array(y_train)\n",
    "# Val\n",
    "for i in range(len(host_names_val)):\n",
    "    new_df = df[(df['Host'] == host_names_val[i]) & (df['Guest'] == guest_names_val[i])]\n",
    "    y_val.append(new_df['Ex _G_(kcal/mol)'].to_numpy()[0])\n",
    "    x_add_val.append(new_df[[c for c in df.columns if ('Etot' not in c) and ('delta' not in c)\n",
    "                         and ('Ex_difference' not in c) and ('entropy' in c or 'gb_' in c or 'VDWAALS' in c)]].to_numpy()[0])\n",
    "y_val = np.array(y_val)\n",
    "\n",
    "# Test\n",
    "for i in range(len(host_names_test)):\n",
    "    new_df = df[(df['Host'] == host_names_test[i]) & (df['Guest'] == guest_names_test[i])]\n",
    "    y_test.append(new_df['Ex _G_(kcal/mol)'].to_numpy()[0])\n",
    "    x_add_test.append(new_df[[c for c in df.columns if ('Etot' not in c) and ('delta' not in c)\n",
    "                         and ('Ex_difference' not in c) and ('entropy' in c or 'gb_' in c or 'VDWAALS' in c)]].to_numpy()[0])\n",
    "y_test = np.array(y_test)"
   ]
  },
  {
   "cell_type": "code",
   "execution_count": 15,
   "metadata": {},
   "outputs": [
    {
     "data": {
      "text/plain": [
       "[array([  -0.523 ,   -0.688 ,  -29.2511,  -49.0065,  436.7039, -378.1315,\n",
       "        -187.9497,    5.166 ,   16.8888,   11.3413,  -66.0705,    1.9472,\n",
       "         419.815 , -401.3316, -115.9134,    5.1109]),\n",
       " array([ 3.027000e+00, -2.220000e-02, -3.456200e+01, -4.786560e+01,\n",
       "         4.399762e+02, -4.160062e+02, -1.906296e+02,  5.856200e+00,\n",
       "        -5.083530e+01,  5.293590e+01, -6.282810e+01,  1.879500e+00,\n",
       "         4.908115e+02, -4.789553e+02, -1.267906e+02,  5.985300e+00]),\n",
       " array([ 3.5000000e+00,  1.5257000e+00, -4.9006400e+01, -7.5163700e+01,\n",
       "        -2.8479638e+03,  1.6967623e+03, -1.6205690e+02,  5.7789000e+00,\n",
       "        -1.5518500e+01,  3.8735900e+01, -6.0969800e+01,  1.6868000e+00,\n",
       "        -2.8324453e+03,  1.7263218e+03, -1.7513390e+02,  6.2877000e+00]),\n",
       " array([   -5.43  ,    -2.9703,   -41.3311,   -73.5548,   -69.8434,\n",
       "          923.0019, -1695.4159,     8.0727,    14.3225,     3.4192,\n",
       "          -75.9349,     1.8464,   -84.1659,   682.5314, -1393.0275,\n",
       "            8.3952]),\n",
       " array([ 3.157000e+00, -3.575000e-01, -3.476470e+01, -4.740390e+01,\n",
       "         5.015170e+02, -5.132384e+02, -1.705717e+02,  5.672600e+00,\n",
       "         2.583600e+00,  2.906200e+00, -8.235330e+01,  1.481800e+00,\n",
       "         4.989334e+02, -4.874255e+02, -1.259574e+02,  5.935000e+00]),\n",
       " array([   2.371 ,   -0.9454,  -32.0456,  -49.8503,  481.5631, -491.5976,\n",
       "        -118.2863,    5.6113,  -14.3757,    1.9234,   -8.5225,    1.5627,\n",
       "         495.9388, -493.1739, -113.8931,    5.8968]),\n",
       " array([-1.4200000e+00, -7.3990000e-01, -3.7860700e+01, -5.6256200e+01,\n",
       "        -1.5551570e+02,  5.3637430e+02, -1.2064497e+03,  8.6109000e+00,\n",
       "        -7.5175000e+01,  9.4998200e+01, -5.0893300e+01,  2.1034000e+00,\n",
       "        -8.0340800e+01,  6.6184150e+02, -1.3777361e+03,  8.4752000e+00]),\n",
       " array([-6.2400000e+00, -2.4570000e-01, -3.8276600e+01, -5.9942800e+01,\n",
       "        -1.1227270e+02,  4.7840950e+02, -1.1751428e+03,  8.4961000e+00,\n",
       "        -3.2880500e+01,  6.6727400e+01, -5.2459300e+01,  2.0611000e+00,\n",
       "        -7.9392100e+01,  6.4735110e+02, -1.3620348e+03,  8.5704000e+00]),\n",
       " array([-6.570000e-01, -3.831000e-01, -2.713340e+01, -4.407660e+01,\n",
       "         4.289798e+02, -3.760288e+02, -1.764630e+02,  4.988800e+00,\n",
       "         1.631350e+01,  1.156370e+01, -6.678690e+01,  1.743800e+00,\n",
       "         4.126663e+02, -3.979784e+02, -1.064154e+02,  5.072600e+00]),\n",
       " array([   1.268 ,   -1.2949,  -31.7954,  -49.5859,  497.6995, -468.3901,\n",
       "        -186.5306,    5.8182,    1.272 ,   23.0443,  -79.4072,    1.8412,\n",
       "         496.4275, -481.0197, -120.9825,    5.883 ]),\n",
       " array([   3.59  ,   -0.5655,  -36.1953,  -49.791 ,  509.7068, -508.884 ,\n",
       "        -167.3783,    5.6799,   10.098 ,    5.168 ,  -81.4919,    1.6531,\n",
       "         499.6088, -492.163 , -115.7869,    5.9329]),\n",
       " array([-5.4000000e+00, -1.2918000e+00, -3.7269400e+01, -6.0879000e+01,\n",
       "        -1.1285830e+02,  4.9154380e+02, -1.1833259e+03,  8.1792000e+00,\n",
       "        -3.3121900e+01,  6.5225700e+01, -5.0648300e+01,  1.9432000e+00,\n",
       "        -7.9736400e+01,  6.6942610e+02, -1.3816971e+03,  8.3995000e+00]),\n",
       " array([ 4.0800000e+00, -6.9670000e-01, -4.9006400e+01, -6.5736000e+01,\n",
       "        -2.8887892e+03,  1.7113958e+03, -1.6038900e+02,  5.7092000e+00,\n",
       "        -5.0255000e+01,  5.7031800e+01, -5.9110400e+01,  1.6581000e+00,\n",
       "        -2.8324453e+03,  1.7263218e+03, -1.7557460e+02,  6.2230000e+00]),\n",
       " array([  -1.292 ,   -1.0276,  -33.0303,  -49.7544,  471.9799, -474.0232,\n",
       "        -179.0789,    5.7464,  -24.5879,   32.278 ,  -79.8017,    1.785 ,\n",
       "         496.5678, -492.907 , -119.3115,    5.8441]),\n",
       " array([-2.3100000e+00, -4.5620000e-01, -4.0319700e+01, -6.1541100e+01,\n",
       "        -7.4709700e+01,  8.8466890e+02, -1.6691636e+03,  8.2202000e+00,\n",
       "         8.0958000e+00,  3.3681000e+00, -8.2657900e+01,  1.5335000e+00,\n",
       "        -8.2805600e+01,  6.4846150e+02, -1.3629496e+03,  8.4766000e+00]),\n",
       " array([-7.280000e-01,  1.861000e-01, -2.855230e+01, -3.990590e+01,\n",
       "         3.976888e+02, -3.997340e+02, -1.141129e+02,  4.905300e+00,\n",
       "        -2.189160e+01,  7.970200e+00, -9.125200e+00,  1.214400e+00,\n",
       "         4.195804e+02, -4.067168e+02, -1.107382e+02,  5.072000e+00]),\n",
       " array([   1.6   ,   -0.6581,  -30.321 ,  -48.4317,  480.3267, -484.061 ,\n",
       "        -119.0954,    5.6432,  -11.174 ,    5.6233,   -7.7121,    1.5403,\n",
       "         491.5007, -489.2507, -117.1754,    5.9643]),\n",
       " array([-1.4000000e-01, -6.1500000e-01, -3.6705600e+01, -6.1305900e+01,\n",
       "        -3.0355800e+01,  9.0740240e+02, -1.6988547e+03,  8.1761000e+00,\n",
       "         5.2285100e+01, -1.4175800e+01, -7.8853100e+01,  1.6004000e+00,\n",
       "        -8.2640900e+01,  6.7540770e+02, -1.3904029e+03,  8.3838000e+00]),\n",
       " array([-3.490000e-01, -7.710000e-01, -2.971120e+01, -4.742490e+01,\n",
       "         4.335625e+02, -4.227012e+02, -1.450472e+02,  4.881900e+00,\n",
       "         1.083920e+01,  1.980720e+01, -8.190900e+01,  1.625500e+00,\n",
       "         4.227233e+02, -4.144115e+02, -1.019195e+02,  5.088600e+00]),\n",
       " array([  -0.698 ,   -1.357 ,  -30.3812,  -47.7124,  474.3496, -475.6655,\n",
       "        -171.9067,    5.8086,  -14.0914,   29.8356,  -79.6335,    1.7717,\n",
       "         488.441 , -486.002 , -117.8558,    5.9297]),\n",
       " array([  -0.48  ,   -0.9041,  -28.8169,  -46.8309,  414.8143, -431.7111,\n",
       "         -93.5205,    5.0142,  -10.9172,    5.6626,   -7.8776,    1.5514,\n",
       "         425.7315, -435.9689,  -91.2312,    5.0881]),\n",
       " array([-4.5300000e+00,  2.5700000e-02, -4.2544200e+01, -6.0145600e+01,\n",
       "         4.2847590e+02,  5.6946600e+02, -1.6438965e+03,  8.3827000e+00,\n",
       "         7.4494200e+01, -4.3120600e+01, -7.6411600e+01,  1.6193000e+00,\n",
       "         3.5398170e+02,  3.8148000e+02, -1.3486888e+03,  8.6821000e+00]),\n",
       " array([   1.051 ,    1.166 ,  -35.3852,  -54.8286,  485.6057, -498.1806,\n",
       "        -115.4631,    5.6509,  -10.2767,    3.2125,   -8.3784,    1.6348,\n",
       "         495.8825, -501.0026, -111.8485,    5.962 ]),\n",
       " array([-3.3000000e-01, -2.1810000e-01, -4.1400300e+01, -6.3067200e+01,\n",
       "        -1.3771800e+01,  8.7252590e+02, -1.6873975e+03,  8.3041000e+00,\n",
       "         7.4212500e+01, -4.2931100e+01, -7.5907800e+01,  1.6492000e+00,\n",
       "        -8.7984300e+01,  6.9123980e+02, -1.3975653e+03,  8.4456000e+00]),\n",
       " array([   -5.41  ,    -1.8199,   -42.0642,   -67.7373,   -70.0306,\n",
       "          898.3322, -1674.3703,     8.2573,    14.2399,     3.0856,\n",
       "          -74.7381,     1.8524,   -84.2705,   677.3402, -1391.4588,\n",
       "            8.5131]),\n",
       " array([ 2.2500000e+00,  5.7707000e+00, -4.9006400e+01, -6.4049600e+01,\n",
       "        -2.7831928e+03,  1.6852380e+03, -1.5435770e+02,  6.4166000e+00,\n",
       "         4.9252500e+01,  1.5839100e+01, -5.9357900e+01,  3.5237000e+00,\n",
       "        -2.8324453e+03,  1.7263218e+03, -1.7625690e+02,  6.2167000e+00]),\n",
       " array([-3.3000000e-01,  8.0511000e+00, -3.8934200e+01, -5.2620600e+01,\n",
       "         6.4058700e+01,  7.8734310e+02, -1.7277221e+03,  8.0334000e+00,\n",
       "        -1.3397000e+00, -2.9440000e-01, -8.0064300e+01,  1.5421000e+00,\n",
       "         6.5398400e+01,  5.3534590e+02, -1.4154116e+03,  8.3317000e+00]),\n",
       " array([ 2.8000000e-01, -5.7290000e-01, -4.1203600e+01, -6.0936200e+01,\n",
       "        -3.2095900e+01,  8.6385160e+02, -1.6567082e+03,  8.4963000e+00,\n",
       "         5.2222000e+01, -1.4369600e+01, -7.7491400e+01,  1.5842000e+00,\n",
       "        -8.4317900e+01,  6.5405740e+02, -1.3664294e+03,  8.5955000e+00]),\n",
       " array([   0.552 ,   -0.9422,  -34.4403,  -53.2697,  512.5556, -537.8328,\n",
       "        -149.5302,    5.8038,    5.2243,   15.7075,  -80.1689,    1.8496,\n",
       "         507.3313, -530.2231, -104.5699,    5.9692]),\n",
       " array([   2.297 ,   -0.6542,  -25.8244,  -42.5323,  412.5202, -432.5304,\n",
       "         -94.7974,    5.046 ,  -10.7256,    4.2066,   -8.9047,    1.6629,\n",
       "         423.2458, -437.2679,  -91.6246,    5.0761]),\n",
       " array([  -0.854 ,   -0.6493,  -29.093 ,  -48.7146,  443.1017, -410.1856,\n",
       "        -163.6184,    5.327 ,   16.8092,   11.3698,  -66.0578,    2.0628,\n",
       "         426.2925, -429.3068,  -95.2452,    5.1352]),\n",
       " array([ 1.960000e+00, -2.102000e-01, -3.571620e+01, -4.896030e+01,\n",
       "         4.585854e+02, -4.896191e+02, -1.104666e+02,  5.568200e+00,\n",
       "        -3.116460e+01,  1.147110e+01, -8.934300e+00,  1.345300e+00,\n",
       "         4.897499e+02, -5.005384e+02, -1.069270e+02,  5.850100e+00]),\n",
       " array([  -0.574 ,   -0.4231,  -28.3094,  -47.8325,  371.2406, -362.6281,\n",
       "        -167.9881,    5.0255,  -45.4646,   50.6137,  -64.1026,    2.0366,\n",
       "         416.7052, -420.305 , -104.7151,    5.0945]),\n",
       " array([-9.300000e-02, -1.234600e+00, -3.236600e+01, -4.917850e+01,\n",
       "         4.875653e+02, -5.088621e+02, -1.565336e+02,  5.769000e+00,\n",
       "        -9.423700e+00,  2.586090e+01, -7.952810e+01,  1.597500e+00,\n",
       "         4.969890e+02, -5.163177e+02, -1.043053e+02,  5.940500e+00]),\n",
       " array([-4.5800000e+00,  5.1220000e-01, -4.3412500e+01, -6.6347900e+01,\n",
       "         4.3012550e+02,  6.1562730e+02, -1.6876920e+03,  8.2371000e+00,\n",
       "         7.5168900e+01, -4.3735600e+01, -7.4767800e+01,  1.5984000e+00,\n",
       "         3.5495660e+02,  4.3208020e+02, -1.3960541e+03,  8.5682000e+00]),\n",
       " array([-5.600000e-01, -3.717000e-01, -3.193340e+01, -4.624070e+01,\n",
       "         4.370912e+02, -3.955337e+02, -1.666113e+02,  5.000300e+00,\n",
       "         1.455170e+01,  1.215130e+01, -6.688830e+01,  1.598000e+00,\n",
       "         4.225394e+02, -4.186250e+02, -9.756220e+01,  5.107400e+00]),\n",
       " array([-9.0000000e-01,  3.3647000e+00, -4.9006400e+01, -7.0672100e+01,\n",
       "        -2.8553382e+03,  1.6997389e+03, -1.6011980e+02,  5.6790000e+00,\n",
       "        -2.2892900e+01,  4.5406000e+01, -6.0649700e+01,  2.1236000e+00,\n",
       "        -2.8324453e+03,  1.7263218e+03, -1.7520830e+02,  6.2084000e+00]),\n",
       " array([-5.950000e-01, -5.640000e-02, -2.857170e+01, -4.028950e+01,\n",
       "         4.358248e+02, -4.027811e+02, -1.622809e+02,  4.971800e+00,\n",
       "         1.224870e+01,  1.647640e+01, -6.743720e+01,  1.434400e+00,\n",
       "         4.235761e+02, -4.289520e+02, -9.644710e+01,  5.169100e+00]),\n",
       " array([-8.9000000e-01, -1.7120000e-01, -4.3835600e+01, -6.5888500e+01,\n",
       "         2.7545720e+02,  3.0852450e+02, -1.2233913e+03,  8.5960000e+00,\n",
       "        -7.4576000e+01,  9.4319700e+01, -5.0800300e+01,  2.1036000e+00,\n",
       "         3.5003320e+02,  4.2633980e+02, -1.3879470e+03,  8.6836000e+00]),\n",
       " array([ 1.885000e+00, -4.414000e-01, -3.375030e+01, -5.095400e+01,\n",
       "         4.878395e+02, -4.928723e+02, -1.240872e+02,  5.622600e+00,\n",
       "        -1.308890e+01,  1.133600e+00, -7.127400e+00,  1.573500e+00,\n",
       "         5.009283e+02, -4.936747e+02, -1.221523e+02,  5.948300e+00]),\n",
       " array([-2.650000e+00, -9.877000e-01, -3.793350e+01, -6.169890e+01,\n",
       "        -7.263030e+01,  9.228621e+02, -1.703810e+03,  8.081700e+00,\n",
       "         7.239600e+00,  4.699100e+00, -8.339320e+01,  1.518800e+00,\n",
       "        -7.986990e+01,  6.719675e+02, -1.388784e+03,  8.365700e+00]),\n",
       " array([  -0.684 ,   -0.7891,  -28.6474,  -47.4893,  440.7783, -375.2795,\n",
       "        -168.349 ,    5.1137,   28.3717,   16.8307,  -60.8091,    1.9168,\n",
       "         412.4066, -400.939 , -105.059 ,    4.9828]),\n",
       " array([-4.4850000e+00, -5.3070000e-01, -4.3090000e+01, -6.4373100e+01,\n",
       "         3.5790990e+02,  6.7823250e+02, -1.7112585e+03,  8.1930000e+00,\n",
       "         7.4253000e+00,  5.2003000e+00, -8.4218400e+01,  1.5732000e+00,\n",
       "         3.5048460e+02,  4.5179580e+02, -1.4164088e+03,  8.5547000e+00]),\n",
       " array([ 4.9800000e+00,  3.9992000e+00, -4.9006400e+01, -7.1171600e+01,\n",
       "        -2.8344331e+03,  1.6735360e+03, -1.5892000e+02,  5.6814000e+00,\n",
       "        -1.3654000e+00,  1.8630700e+01, -5.9418800e+01,  1.7821000e+00,\n",
       "        -2.8324453e+03,  1.7263218e+03, -1.7605480e+02,  6.2079000e+00]),\n",
       " array([-6.760000e-01, -2.628000e-01, -3.068500e+01, -5.002290e+01,\n",
       "         3.600012e+02, -3.443053e+02, -1.597713e+02,  4.953500e+00,\n",
       "        -4.937230e+01,  5.205180e+01, -6.360220e+01,  1.853700e+00,\n",
       "         4.093735e+02, -3.910571e+02, -1.105583e+02,  5.083300e+00]),\n",
       " array([-2.2300000e+00, -2.0020000e-01, -4.5610600e+01, -6.3669300e+01,\n",
       "         1.3771600e+02,  6.4395770e+02, -1.6532565e+03,  8.3832000e+00,\n",
       "         2.7852600e+01, -2.0421800e+01, -8.1027700e+01,  1.6158000e+00,\n",
       "         1.0986330e+02,  4.3222480e+02, -1.3504146e+03,  8.7115000e+00]),\n",
       " array([-2.5200000e+00, -3.2450000e-01, -4.5220800e+01, -6.5266100e+01,\n",
       "         4.0264490e+02,  6.1019130e+02, -1.6478109e+03,  8.3416000e+00,\n",
       "         5.2392600e+01, -1.5185500e+01, -7.6619600e+01,  1.6404000e+00,\n",
       "         3.5025230e+02,  3.8521850e+02, -1.3503593e+03,  8.6313000e+00]),\n",
       " array([-6.100000e-01, -1.590000e-02, -2.962310e+01, -4.302280e+01,\n",
       "         3.897009e+02, -4.050136e+02, -1.022474e+02,  4.945100e+00,\n",
       "        -3.036780e+01,  1.128090e+01, -8.872300e+00,  1.333000e+00,\n",
       "         4.200687e+02, -4.165215e+02, -9.744610e+01,  5.084900e+00]),\n",
       " array([ 3.086000e+00, -3.816000e-01, -3.246100e+01, -4.599090e+01,\n",
       "         5.106662e+02, -4.559372e+02, -1.942680e+02,  5.729600e+00,\n",
       "         1.609900e+01,  1.149510e+01, -6.711650e+01,  1.724400e+00,\n",
       "         4.945672e+02, -4.759529e+02, -1.278139e+02,  5.950200e+00]),\n",
       " array([  -0.774 ,   -1.3863,  -35.5244,  -56.5251,  477.4768, -487.4827,\n",
       "        -163.2484,    5.523 ,  -22.3874,   36.0319,  -83.2005,    1.8568,\n",
       "         499.8642, -507.2481, -109.4381,    5.9009])]"
      ]
     },
     "execution_count": 15,
     "metadata": {},
     "output_type": "execute_result"
    }
   ],
   "source": [
    "x_add_train"
   ]
  },
  {
   "cell_type": "code",
   "execution_count": 16,
   "metadata": {},
   "outputs": [
    {
     "data": {
      "text/plain": [
       "22"
      ]
     },
     "execution_count": 16,
     "metadata": {},
     "output_type": "execute_result"
    }
   ],
   "source": [
    "len(y_val)"
   ]
  },
  {
   "cell_type": "code",
   "execution_count": 17,
   "metadata": {},
   "outputs": [],
   "source": [
    "from deepchem.metrics import to_one_hot\n",
    "from deepchem.feat.mol_graphs import ConvMol\n",
    "\n",
    "x_preprocessed_train, x_preprocessed_val, x_preprocessed_test = [], [], []\n",
    "\n",
    "## for X train\n",
    "multiConvMol = ConvMol.agglomerate_mols(X_train_featurized)\n",
    "x_preprocessed_train = [multiConvMol.get_atom_features(), multiConvMol.deg_slice, np.array(multiConvMol.membership)]\n",
    "for i in range(1, len(multiConvMol.get_deg_adjacency_lists())):\n",
    "    x_preprocessed_train.append(multiConvMol.get_deg_adjacency_lists()[i])\n",
    "x_preprocessed_train.append(np.array(x_add_train))\n",
    "\n",
    "## for X val\n",
    "multiConvMol = ConvMol.agglomerate_mols(X_val_featurized)\n",
    "x_preprocessed_val = [multiConvMol.get_atom_features(), multiConvMol.deg_slice, np.array(multiConvMol.membership)]\n",
    "for i in range(1, len(multiConvMol.get_deg_adjacency_lists())):\n",
    "    x_preprocessed_val.append(multiConvMol.get_deg_adjacency_lists()[i])\n",
    "x_preprocessed_val.append(np.array(x_add_val))\n",
    "\n",
    "\n",
    "## for X test\n",
    "multiConvMol = ConvMol.agglomerate_mols(X_test_featurized)\n",
    "x_preprocessed_test = [multiConvMol.get_atom_features(), multiConvMol.deg_slice, np.array(multiConvMol.membership)]\n",
    "for i in range(1, len(multiConvMol.get_deg_adjacency_lists())):\n",
    "    x_preprocessed_test.append(multiConvMol.get_deg_adjacency_lists()[i])\n",
    "x_preprocessed_test.append(np.array(x_add_test))"
   ]
  },
  {
   "cell_type": "code",
   "execution_count": 18,
   "metadata": {},
   "outputs": [],
   "source": [
    "# Train\n",
    "x_train = np.full([15, np.max([v.shape[0] for v in x_preprocessed_train]),\n",
    "                  np.max([v.shape[1] for v in x_preprocessed_train if len(v.shape) > 1])], 1.123456)\n",
    "for i,j in enumerate(x_preprocessed_train):\n",
    "    if len(j.shape) > 1:\n",
    "        x_train[i][:j.shape[0],:j.shape[1]] = np.array(j)\n",
    "    else:\n",
    "        x_train[i][:len(j), :1] = np.array(j).reshape(j.shape[0], 1)\n",
    "x_train = x_train.reshape([1] + list(x_train.shape))\n",
    "\n",
    "# Validation\n",
    "x_val = np.full([15, np.max([v.shape[0] for v in x_preprocessed_val]),\n",
    "                  np.max([v.shape[1] for v in x_preprocessed_val if len(v.shape) > 1])], 1.123456)\n",
    "for i,j in enumerate(x_preprocessed_val):\n",
    "    if len(j.shape) > 1:\n",
    "        x_val[i][:j.shape[0],:j.shape[1]] = np.array(j)\n",
    "    else:\n",
    "        x_val[i][:len(j), :1] = np.array(j).reshape(j.shape[0], 1)\n",
    "x_val = x_val.reshape([1] + list(x_val.shape))\n",
    "\n",
    "# Test\n",
    "x_test = np.full([15, np.max([v.shape[0] for v in x_preprocessed_test]),\n",
    "                  np.max([v.shape[1] for v in x_preprocessed_test if len(v.shape) > 1])], 1.123456)\n",
    "for i,j in enumerate(x_preprocessed_test):\n",
    "    if len(j.shape) > 1:\n",
    "        x_test[i][:j.shape[0],:j.shape[1]] = np.array(j)\n",
    "    else:\n",
    "        x_test[i][:len(j), :1] = np.array(j).reshape(j.shape[0], 1)\n",
    "x_test = x_test.reshape([1] + list(x_test.shape))"
   ]
  },
  {
   "cell_type": "code",
   "execution_count": 19,
   "metadata": {},
   "outputs": [
    {
     "data": {
      "text/plain": [
       "(1, 15, 2054, 75)"
      ]
     },
     "execution_count": 19,
     "metadata": {},
     "output_type": "execute_result"
    }
   ],
   "source": [
    "x_test.shape"
   ]
  },
  {
   "cell_type": "markdown",
   "metadata": {},
   "source": [
    "<h1>Physics Guided Neural Network Model</h1>"
   ]
  },
  {
   "cell_type": "code",
   "execution_count": 20,
   "metadata": {},
   "outputs": [],
   "source": [
    "# pgnn_test_accuracy = []\n",
    "# pgnn_train_accuracy = []"
   ]
  },
  {
   "cell_type": "code",
   "execution_count": 21,
   "metadata": {},
   "outputs": [
    {
     "data": {
      "text/plain": [
       "50"
      ]
     },
     "execution_count": 21,
     "metadata": {},
     "output_type": "execute_result"
    }
   ],
   "source": [
    "## !!!!!!!! important\n",
    "## !!!!!!!! important\n",
    "## !!!!!!!! important\n",
    "## !!!!!!!! important\n",
    "batch_size = len(host_names_train)\n",
    "batch_size\n",
    "# batch_size=10"
   ]
  },
  {
   "cell_type": "code",
   "execution_count": 24,
   "metadata": {},
   "outputs": [],
   "source": [
    "from deepchem.models.layers import GraphConv, GraphPool, GraphGather\n",
    "import tensorflow as tf\n",
    "import tensorflow.keras.layers as layers\n",
    "from tensorflow.keras.layers import Dense, Input, BatchNormalization, Concatenate\n",
    "from tensorflow.keras import initializers\n",
    "\n",
    "\n",
    "class GBGraphConvModel(tf.keras.Model):\n",
    "\n",
    "  def modify_graphgather(self, batch_size):\n",
    "    self.readout.batch_size = batch_size\n",
    "    self.batch_size = batch_size\n",
    "  def __init__(self, batch_size):\n",
    "    super(GBGraphConvModel, self).__init__()\n",
    "    self.input_shapes = None\n",
    "    self.batch_size = batch_size\n",
    "    self.gc1 = GraphConv(32, activation_fn=tf.nn.tanh)\n",
    "    self.batch_norm1 = layers.BatchNormalization()\n",
    "    self.gp1 = GraphPool()\n",
    "\n",
    "    self.gc2 = GraphConv(32, activation_fn=tf.nn.tanh)\n",
    "    self.batch_norm2 = layers.BatchNormalization()\n",
    "    self.gp2 = GraphPool()\n",
    "\n",
    "    self.dense1 = layers.Dense(64, activation=tf.nn.tanh)\n",
    "    self.batch_norm3 = layers.BatchNormalization()\n",
    "    self.readout = GraphGather(batch_size=self.batch_size, activation_fn=tf.nn.tanh)\n",
    "\n",
    "    self.dense2 = layers.Dense(1)\n",
    "    self.dense3 = layers.Dense(1, \n",
    "         kernel_initializer=initializers.Constant([.5, 0, -1, -1, 1, 1, 1, 1, 1, -1, -1, -1, -1, -1, -1, -1, -1]),\n",
    "         bias_initializer=initializers.Zeros())\n",
    "\n",
    "  def call(self, inputs):\n",
    "    inputs = inputs[0]\n",
    "    x = []\n",
    "#     input_shapes = [[4822, 75], [11, 2], [4822], [1142, 1], [1635, 2], [2042, 3],\n",
    "#                    [3, 4], [0, 5], [0, 6], [0, 7], [0, 8], [0, 9], [0, 10]]\n",
    "    for i in range(len(self.input_shapes)):\n",
    "        x.append(tf.reshape(inputs[i][inputs[i] != 1.123456], self.input_shapes[i]))\n",
    "    for i in range(1, len(self.input_shapes)):\n",
    "        x[i] = tf.cast(x[i], tf.int32)\n",
    "    x_add = tf.reshape(inputs[13][inputs[13] != 1.123456], [self.batch_size, 16])\n",
    "    gc1_output = self.gc1(x)\n",
    "    batch_norm1_output = self.batch_norm1(gc1_output)\n",
    "    gp1_output = self.gp1([batch_norm1_output] + x[1:])\n",
    "\n",
    "    gc2_output = self.gc2([gp1_output] + x[1:])\n",
    "    batch_norm2_output = self.batch_norm1(gc2_output)\n",
    "    gp2_output = self.gp2([batch_norm2_output] + x[1:])\n",
    "\n",
    "    dense1_output = self.dense1(gp2_output)\n",
    "    batch_norm3_output = self.batch_norm3(dense1_output)\n",
    "    readout_output = self.readout([batch_norm3_output] + x[1:])\n",
    "    \n",
    "    model_var = self.dense2(readout_output)\n",
    "    binding_affinity = tf.concat([model_var, x_add], axis=1)\n",
    "    return self.dense3(binding_affinity)\n",
    "hybrid_model = GBGraphConvModel(train_split_index)\n",
    "hybrid_model.compile(loss='mse', optimizer='adam')"
   ]
  },
  {
   "cell_type": "code",
   "execution_count": 25,
   "metadata": {},
   "outputs": [
    {
     "name": "stderr",
     "output_type": "stream",
     "text": [
      "/Users/misspotato/opt/miniconda3/envs/rdkit-deepchem-jupyter/lib/python3.9/site-packages/tensorflow/python/framework/indexed_slices.py:447: UserWarning: Converting sparse IndexedSlices(IndexedSlices(indices=Tensor(\"gradient_tape/gb_graph_conv_model_1/graph_pool_3/Reshape_14:0\", shape=(1049,), dtype=int32), values=Tensor(\"gradient_tape/gb_graph_conv_model_1/graph_pool_3/Reshape_13:0\", shape=(1049, 32), dtype=float32), dense_shape=Tensor(\"gradient_tape/gb_graph_conv_model_1/graph_pool_3/Cast_4:0\", shape=(2,), dtype=int32))) to a dense Tensor of unknown shape. This may consume a large amount of memory.\n",
      "  warnings.warn(\n",
      "/Users/misspotato/opt/miniconda3/envs/rdkit-deepchem-jupyter/lib/python3.9/site-packages/tensorflow/python/framework/indexed_slices.py:447: UserWarning: Converting sparse IndexedSlices(IndexedSlices(indices=Tensor(\"gradient_tape/gb_graph_conv_model_1/graph_pool_3/Reshape_17:0\", shape=(3634,), dtype=int32), values=Tensor(\"gradient_tape/gb_graph_conv_model_1/graph_pool_3/Reshape_16:0\", shape=(3634, 32), dtype=float32), dense_shape=Tensor(\"gradient_tape/gb_graph_conv_model_1/graph_pool_3/Cast_5:0\", shape=(2,), dtype=int32))) to a dense Tensor of unknown shape. This may consume a large amount of memory.\n",
      "  warnings.warn(\n",
      "/Users/misspotato/opt/miniconda3/envs/rdkit-deepchem-jupyter/lib/python3.9/site-packages/tensorflow/python/framework/indexed_slices.py:447: UserWarning: Converting sparse IndexedSlices(IndexedSlices(indices=Tensor(\"gradient_tape/gb_graph_conv_model_1/graph_pool_3/Reshape_20:0\", shape=(6897,), dtype=int32), values=Tensor(\"gradient_tape/gb_graph_conv_model_1/graph_pool_3/Reshape_19:0\", shape=(6897, 32), dtype=float32), dense_shape=Tensor(\"gradient_tape/gb_graph_conv_model_1/graph_pool_3/Cast_6:0\", shape=(2,), dtype=int32))) to a dense Tensor of unknown shape. This may consume a large amount of memory.\n",
      "  warnings.warn(\n",
      "/Users/misspotato/opt/miniconda3/envs/rdkit-deepchem-jupyter/lib/python3.9/site-packages/tensorflow/python/framework/indexed_slices.py:447: UserWarning: Converting sparse IndexedSlices(IndexedSlices(indices=Tensor(\"gradient_tape/gb_graph_conv_model_1/graph_pool_3/Reshape_23:0\", shape=(32,), dtype=int32), values=Tensor(\"gradient_tape/gb_graph_conv_model_1/graph_pool_3/Reshape_22:0\", shape=(32, 32), dtype=float32), dense_shape=Tensor(\"gradient_tape/gb_graph_conv_model_1/graph_pool_3/Cast_7:0\", shape=(2,), dtype=int32))) to a dense Tensor of unknown shape. This may consume a large amount of memory.\n",
      "  warnings.warn(\n",
      "/Users/misspotato/opt/miniconda3/envs/rdkit-deepchem-jupyter/lib/python3.9/site-packages/tensorflow/python/framework/indexed_slices.py:447: UserWarning: Converting sparse IndexedSlices(IndexedSlices(indices=Tensor(\"gradient_tape/gb_graph_conv_model_1/graph_conv_3/Reshape_11:0\", shape=(1049,), dtype=int32), values=Tensor(\"gradient_tape/gb_graph_conv_model_1/graph_conv_3/Reshape_10:0\", shape=(1049, 32), dtype=float32), dense_shape=Tensor(\"gradient_tape/gb_graph_conv_model_1/graph_conv_3/Cast:0\", shape=(2,), dtype=int32))) to a dense Tensor of unknown shape. This may consume a large amount of memory.\n",
      "  warnings.warn(\n",
      "/Users/misspotato/opt/miniconda3/envs/rdkit-deepchem-jupyter/lib/python3.9/site-packages/tensorflow/python/framework/indexed_slices.py:447: UserWarning: Converting sparse IndexedSlices(IndexedSlices(indices=Tensor(\"gradient_tape/gb_graph_conv_model_1/graph_conv_3/Reshape_13:0\", shape=(3634,), dtype=int32), values=Tensor(\"gradient_tape/gb_graph_conv_model_1/graph_conv_3/Reshape_12:0\", shape=(3634, 32), dtype=float32), dense_shape=Tensor(\"gradient_tape/gb_graph_conv_model_1/graph_conv_3/Cast_1:0\", shape=(2,), dtype=int32))) to a dense Tensor of unknown shape. This may consume a large amount of memory.\n",
      "  warnings.warn(\n",
      "/Users/misspotato/opt/miniconda3/envs/rdkit-deepchem-jupyter/lib/python3.9/site-packages/tensorflow/python/framework/indexed_slices.py:447: UserWarning: Converting sparse IndexedSlices(IndexedSlices(indices=Tensor(\"gradient_tape/gb_graph_conv_model_1/graph_conv_3/Reshape_15:0\", shape=(6897,), dtype=int32), values=Tensor(\"gradient_tape/gb_graph_conv_model_1/graph_conv_3/Reshape_14:0\", shape=(6897, 32), dtype=float32), dense_shape=Tensor(\"gradient_tape/gb_graph_conv_model_1/graph_conv_3/Cast_2:0\", shape=(2,), dtype=int32))) to a dense Tensor of unknown shape. This may consume a large amount of memory.\n",
      "  warnings.warn(\n",
      "/Users/misspotato/opt/miniconda3/envs/rdkit-deepchem-jupyter/lib/python3.9/site-packages/tensorflow/python/framework/indexed_slices.py:447: UserWarning: Converting sparse IndexedSlices(IndexedSlices(indices=Tensor(\"gradient_tape/gb_graph_conv_model_1/graph_conv_3/Reshape_17:0\", shape=(32,), dtype=int32), values=Tensor(\"gradient_tape/gb_graph_conv_model_1/graph_conv_3/Reshape_16:0\", shape=(32, 32), dtype=float32), dense_shape=Tensor(\"gradient_tape/gb_graph_conv_model_1/graph_conv_3/Cast_3:0\", shape=(2,), dtype=int32))) to a dense Tensor of unknown shape. This may consume a large amount of memory.\n",
      "  warnings.warn(\n",
      "/Users/misspotato/opt/miniconda3/envs/rdkit-deepchem-jupyter/lib/python3.9/site-packages/tensorflow/python/framework/indexed_slices.py:447: UserWarning: Converting sparse IndexedSlices(IndexedSlices(indices=Tensor(\"gradient_tape/gb_graph_conv_model_1/graph_conv_3/Reshape_19:0\", shape=(0,), dtype=int32), values=Tensor(\"gradient_tape/gb_graph_conv_model_1/graph_conv_3/Reshape_18:0\", shape=(0, 32), dtype=float32), dense_shape=Tensor(\"gradient_tape/gb_graph_conv_model_1/graph_conv_3/Cast_4:0\", shape=(2,), dtype=int32))) to a dense Tensor of unknown shape. This may consume a large amount of memory.\n",
      "  warnings.warn(\n",
      "/Users/misspotato/opt/miniconda3/envs/rdkit-deepchem-jupyter/lib/python3.9/site-packages/tensorflow/python/framework/indexed_slices.py:447: UserWarning: Converting sparse IndexedSlices(IndexedSlices(indices=Tensor(\"gradient_tape/gb_graph_conv_model_1/graph_conv_3/Reshape_21:0\", shape=(0,), dtype=int32), values=Tensor(\"gradient_tape/gb_graph_conv_model_1/graph_conv_3/Reshape_20:0\", shape=(0, 32), dtype=float32), dense_shape=Tensor(\"gradient_tape/gb_graph_conv_model_1/graph_conv_3/Cast_5:0\", shape=(2,), dtype=int32))) to a dense Tensor of unknown shape. This may consume a large amount of memory.\n",
      "  warnings.warn(\n",
      "/Users/misspotato/opt/miniconda3/envs/rdkit-deepchem-jupyter/lib/python3.9/site-packages/tensorflow/python/framework/indexed_slices.py:447: UserWarning: Converting sparse IndexedSlices(IndexedSlices(indices=Tensor(\"gradient_tape/gb_graph_conv_model_1/graph_conv_3/Reshape_23:0\", shape=(0,), dtype=int32), values=Tensor(\"gradient_tape/gb_graph_conv_model_1/graph_conv_3/Reshape_22:0\", shape=(0, 32), dtype=float32), dense_shape=Tensor(\"gradient_tape/gb_graph_conv_model_1/graph_conv_3/Cast_6:0\", shape=(2,), dtype=int32))) to a dense Tensor of unknown shape. This may consume a large amount of memory.\n",
      "  warnings.warn(\n",
      "/Users/misspotato/opt/miniconda3/envs/rdkit-deepchem-jupyter/lib/python3.9/site-packages/tensorflow/python/framework/indexed_slices.py:447: UserWarning: Converting sparse IndexedSlices(IndexedSlices(indices=Tensor(\"gradient_tape/gb_graph_conv_model_1/graph_conv_3/Reshape_25:0\", shape=(0,), dtype=int32), values=Tensor(\"gradient_tape/gb_graph_conv_model_1/graph_conv_3/Reshape_24:0\", shape=(0, 32), dtype=float32), dense_shape=Tensor(\"gradient_tape/gb_graph_conv_model_1/graph_conv_3/Cast_7:0\", shape=(2,), dtype=int32))) to a dense Tensor of unknown shape. This may consume a large amount of memory.\n",
      "  warnings.warn(\n",
      "/Users/misspotato/opt/miniconda3/envs/rdkit-deepchem-jupyter/lib/python3.9/site-packages/tensorflow/python/framework/indexed_slices.py:447: UserWarning: Converting sparse IndexedSlices(IndexedSlices(indices=Tensor(\"gradient_tape/gb_graph_conv_model_1/graph_conv_3/Reshape_27:0\", shape=(0,), dtype=int32), values=Tensor(\"gradient_tape/gb_graph_conv_model_1/graph_conv_3/Reshape_26:0\", shape=(0, 32), dtype=float32), dense_shape=Tensor(\"gradient_tape/gb_graph_conv_model_1/graph_conv_3/Cast_8:0\", shape=(2,), dtype=int32))) to a dense Tensor of unknown shape. This may consume a large amount of memory.\n",
      "  warnings.warn(\n",
      "/Users/misspotato/opt/miniconda3/envs/rdkit-deepchem-jupyter/lib/python3.9/site-packages/tensorflow/python/framework/indexed_slices.py:447: UserWarning: Converting sparse IndexedSlices(IndexedSlices(indices=Tensor(\"gradient_tape/gb_graph_conv_model_1/graph_conv_3/Reshape_29:0\", shape=(0,), dtype=int32), values=Tensor(\"gradient_tape/gb_graph_conv_model_1/graph_conv_3/Reshape_28:0\", shape=(0, 32), dtype=float32), dense_shape=Tensor(\"gradient_tape/gb_graph_conv_model_1/graph_conv_3/Cast_9:0\", shape=(2,), dtype=int32))) to a dense Tensor of unknown shape. This may consume a large amount of memory.\n",
      "  warnings.warn(\n",
      "/Users/misspotato/opt/miniconda3/envs/rdkit-deepchem-jupyter/lib/python3.9/site-packages/tensorflow/python/framework/indexed_slices.py:447: UserWarning: Converting sparse IndexedSlices(IndexedSlices(indices=Tensor(\"gradient_tape/gb_graph_conv_model_1/graph_pool_2/Reshape_14:0\", shape=(1049,), dtype=int32), values=Tensor(\"gradient_tape/gb_graph_conv_model_1/graph_pool_2/Reshape_13:0\", shape=(1049, 32), dtype=float32), dense_shape=Tensor(\"gradient_tape/gb_graph_conv_model_1/graph_pool_2/Cast_4:0\", shape=(2,), dtype=int32))) to a dense Tensor of unknown shape. This may consume a large amount of memory.\n",
      "  warnings.warn(\n",
      "/Users/misspotato/opt/miniconda3/envs/rdkit-deepchem-jupyter/lib/python3.9/site-packages/tensorflow/python/framework/indexed_slices.py:447: UserWarning: Converting sparse IndexedSlices(IndexedSlices(indices=Tensor(\"gradient_tape/gb_graph_conv_model_1/graph_pool_2/Reshape_17:0\", shape=(3634,), dtype=int32), values=Tensor(\"gradient_tape/gb_graph_conv_model_1/graph_pool_2/Reshape_16:0\", shape=(3634, 32), dtype=float32), dense_shape=Tensor(\"gradient_tape/gb_graph_conv_model_1/graph_pool_2/Cast_5:0\", shape=(2,), dtype=int32))) to a dense Tensor of unknown shape. This may consume a large amount of memory.\n",
      "  warnings.warn(\n",
      "/Users/misspotato/opt/miniconda3/envs/rdkit-deepchem-jupyter/lib/python3.9/site-packages/tensorflow/python/framework/indexed_slices.py:447: UserWarning: Converting sparse IndexedSlices(IndexedSlices(indices=Tensor(\"gradient_tape/gb_graph_conv_model_1/graph_pool_2/Reshape_20:0\", shape=(6897,), dtype=int32), values=Tensor(\"gradient_tape/gb_graph_conv_model_1/graph_pool_2/Reshape_19:0\", shape=(6897, 32), dtype=float32), dense_shape=Tensor(\"gradient_tape/gb_graph_conv_model_1/graph_pool_2/Cast_6:0\", shape=(2,), dtype=int32))) to a dense Tensor of unknown shape. This may consume a large amount of memory.\n",
      "  warnings.warn(\n",
      "/Users/misspotato/opt/miniconda3/envs/rdkit-deepchem-jupyter/lib/python3.9/site-packages/tensorflow/python/framework/indexed_slices.py:447: UserWarning: Converting sparse IndexedSlices(IndexedSlices(indices=Tensor(\"gradient_tape/gb_graph_conv_model_1/graph_pool_2/Reshape_23:0\", shape=(32,), dtype=int32), values=Tensor(\"gradient_tape/gb_graph_conv_model_1/graph_pool_2/Reshape_22:0\", shape=(32, 32), dtype=float32), dense_shape=Tensor(\"gradient_tape/gb_graph_conv_model_1/graph_pool_2/Cast_7:0\", shape=(2,), dtype=int32))) to a dense Tensor of unknown shape. This may consume a large amount of memory.\n",
      "  warnings.warn(\n"
     ]
    },
    {
     "name": "stdout",
     "output_type": "stream",
     "text": [
      "1/1 [==============================] - 5s 5s/step - loss: 96.9502\n",
      "1/1 [==============================] - 1s 890ms/step - loss: 55.3031\n",
      "1/1 [==============================] - 0s 57ms/step - loss: 69.3594\n",
      "1/1 [==============================] - 0s 33ms/step - loss: 59.1021\n",
      "1/1 [==============================] - 0s 53ms/step - loss: 65.3559\n",
      "1/1 [==============================] - 0s 30ms/step - loss: 54.9250\n",
      "1/1 [==============================] - 0s 55ms/step - loss: 60.9844\n",
      "1/1 [==============================] - 0s 33ms/step - loss: 48.4539\n",
      "1/1 [==============================] - 0s 57ms/step - loss: 56.1919\n",
      "1/1 [==============================] - 0s 32ms/step - loss: 45.2437\n",
      "1/1 [==============================] - 0s 54ms/step - loss: 53.9386\n",
      "1/1 [==============================] - 0s 31ms/step - loss: 44.5008\n",
      "1/1 [==============================] - 0s 52ms/step - loss: 52.8452\n",
      "1/1 [==============================] - 0s 34ms/step - loss: 42.7555\n",
      "1/1 [==============================] - 0s 60ms/step - loss: 50.8461\n",
      "1/1 [==============================] - 0s 35ms/step - loss: 39.0733\n",
      "1/1 [==============================] - 0s 56ms/step - loss: 47.0032\n",
      "1/1 [==============================] - 0s 34ms/step - loss: 35.1946\n",
      "1/1 [==============================] - 0s 57ms/step - loss: 42.1677\n",
      "1/1 [==============================] - 0s 33ms/step - loss: 32.7783\n",
      "1/1 [==============================] - 0s 54ms/step - loss: 38.4100\n",
      "1/1 [==============================] - 0s 29ms/step - loss: 32.9128\n",
      "1/1 [==============================] - 0s 54ms/step - loss: 35.9629\n",
      "1/1 [==============================] - 0s 34ms/step - loss: 35.3704\n",
      "1/1 [==============================] - 0s 56ms/step - loss: 35.1395\n",
      "1/1 [==============================] - 0s 31ms/step - loss: 37.6662\n",
      "1/1 [==============================] - 0s 55ms/step - loss: 35.1306\n",
      "1/1 [==============================] - 0s 32ms/step - loss: 38.1509\n",
      "1/1 [==============================] - 0s 56ms/step - loss: 34.9248\n",
      "1/1 [==============================] - 0s 30ms/step - loss: 36.4206\n",
      "1/1 [==============================] - 0s 52ms/step - loss: 33.7580\n",
      "1/1 [==============================] - 0s 34ms/step - loss: 33.1965\n",
      "1/1 [==============================] - 0s 57ms/step - loss: 31.9817\n",
      "1/1 [==============================] - 0s 35ms/step - loss: 29.8123\n",
      "1/1 [==============================] - 0s 54ms/step - loss: 30.6111\n",
      "1/1 [==============================] - 0s 31ms/step - loss: 27.2394\n",
      "1/1 [==============================] - 0s 51ms/step - loss: 29.9536\n",
      "1/1 [==============================] - 0s 28ms/step - loss: 25.8499\n",
      "1/1 [==============================] - 0s 46ms/step - loss: 29.6498\n",
      "1/1 [==============================] - 0s 31ms/step - loss: 25.4168\n",
      "1/1 [==============================] - 0s 48ms/step - loss: 29.5401\n",
      "1/1 [==============================] - 0s 29ms/step - loss: 25.7637\n",
      "1/1 [==============================] - 0s 50ms/step - loss: 29.4585\n",
      "1/1 [==============================] - 0s 31ms/step - loss: 26.6856\n",
      "1/1 [==============================] - 0s 42ms/step - loss: 29.4128\n",
      "1/1 [==============================] - 0s 32ms/step - loss: 28.0332\n",
      "1/1 [==============================] - 0s 48ms/step - loss: 29.2550\n",
      "1/1 [==============================] - 0s 30ms/step - loss: 29.4583\n",
      "1/1 [==============================] - 0s 53ms/step - loss: 29.0884\n",
      "1/1 [==============================] - 0s 30ms/step - loss: 30.5005\n",
      "1/1 [==============================] - 0s 50ms/step - loss: 28.7536\n",
      "1/1 [==============================] - 0s 30ms/step - loss: 30.8516\n",
      "1/1 [==============================] - 0s 43ms/step - loss: 28.4596\n",
      "1/1 [==============================] - 0s 33ms/step - loss: 30.4864\n",
      "1/1 [==============================] - 0s 48ms/step - loss: 28.2446\n",
      "1/1 [==============================] - 0s 33ms/step - loss: 29.6922\n",
      "1/1 [==============================] - 0s 51ms/step - loss: 28.1803\n",
      "1/1 [==============================] - 0s 35ms/step - loss: 28.8191\n",
      "1/1 [==============================] - 0s 55ms/step - loss: 28.2040\n",
      "1/1 [==============================] - 0s 33ms/step - loss: 28.1754\n",
      "1/1 [==============================] - 0s 41ms/step - loss: 28.3312\n",
      "1/1 [==============================] - 0s 31ms/step - loss: 27.9011\n",
      "1/1 [==============================] - 0s 48ms/step - loss: 28.2254\n",
      "1/1 [==============================] - 0s 34ms/step - loss: 28.0801\n",
      "1/1 [==============================] - 0s 51ms/step - loss: 28.0122\n",
      "1/1 [==============================] - 0s 32ms/step - loss: 28.6278\n",
      "1/1 [==============================] - 0s 52ms/step - loss: 27.6785\n",
      "1/1 [==============================] - 0s 31ms/step - loss: 29.3120\n",
      "1/1 [==============================] - 0s 42ms/step - loss: 27.4396\n",
      "1/1 [==============================] - 0s 31ms/step - loss: 29.8303\n",
      "1/1 [==============================] - 0s 49ms/step - loss: 27.3250\n",
      "1/1 [==============================] - 0s 31ms/step - loss: 30.0308\n",
      "1/1 [==============================] - 0s 49ms/step - loss: 27.2597\n",
      "1/1 [==============================] - 0s 31ms/step - loss: 29.8302\n",
      "1/1 [==============================] - 0s 52ms/step - loss: 27.1645\n",
      "1/1 [==============================] - 0s 31ms/step - loss: 29.3015\n",
      "1/1 [==============================] - 0s 42ms/step - loss: 27.0137\n",
      "1/1 [==============================] - 0s 32ms/step - loss: 28.7434\n",
      "1/1 [==============================] - 0s 50ms/step - loss: 26.7691\n",
      "1/1 [==============================] - 0s 31ms/step - loss: 28.2657\n",
      "1/1 [==============================] - 0s 50ms/step - loss: 26.6336\n",
      "1/1 [==============================] - 0s 35ms/step - loss: 27.9667\n",
      "1/1 [==============================] - 0s 58ms/step - loss: 26.4225\n",
      "1/1 [==============================] - 0s 32ms/step - loss: 27.9846\n",
      "1/1 [==============================] - 0s 43ms/step - loss: 26.2823\n",
      "1/1 [==============================] - 0s 32ms/step - loss: 28.4258\n",
      "1/1 [==============================] - 0s 50ms/step - loss: 26.1468\n",
      "1/1 [==============================] - 0s 31ms/step - loss: 29.1339\n",
      "1/1 [==============================] - 0s 50ms/step - loss: 26.0264\n",
      "1/1 [==============================] - 0s 30ms/step - loss: 29.9178\n",
      "1/1 [==============================] - 0s 52ms/step - loss: 25.9367\n",
      "1/1 [==============================] - 0s 29ms/step - loss: 30.5079\n",
      "1/1 [==============================] - 0s 49ms/step - loss: 25.8289\n",
      "1/1 [==============================] - 0s 31ms/step - loss: 30.6604\n",
      "1/1 [==============================] - 0s 50ms/step - loss: 25.6862\n",
      "1/1 [==============================] - 0s 29ms/step - loss: 30.3731\n",
      "1/1 [==============================] - 0s 52ms/step - loss: 25.5388\n",
      "1/1 [==============================] - 0s 31ms/step - loss: 29.8415\n",
      "1/1 [==============================] - 0s 56ms/step - loss: 25.3745\n",
      "1/1 [==============================] - 0s 30ms/step - loss: 29.3117\n",
      "1/1 [==============================] - 0s 50ms/step - loss: 25.2632\n",
      "1/1 [==============================] - 0s 31ms/step - loss: 28.9209\n",
      "1/1 [==============================] - 0s 50ms/step - loss: 25.2634\n",
      "1/1 [==============================] - 0s 31ms/step - loss: 28.7064\n",
      "1/1 [==============================] - 0s 54ms/step - loss: 25.2161\n",
      "1/1 [==============================] - 0s 31ms/step - loss: 28.8382\n",
      "1/1 [==============================] - 0s 56ms/step - loss: 25.0593\n",
      "1/1 [==============================] - 0s 32ms/step - loss: 29.2608\n",
      "1/1 [==============================] - 0s 50ms/step - loss: 24.9687\n",
      "1/1 [==============================] - 0s 30ms/step - loss: 29.7077\n",
      "1/1 [==============================] - 0s 50ms/step - loss: 24.9165\n",
      "1/1 [==============================] - 0s 30ms/step - loss: 30.0830\n",
      "1/1 [==============================] - 0s 52ms/step - loss: 24.8146\n",
      "1/1 [==============================] - 0s 32ms/step - loss: 30.3430\n",
      "1/1 [==============================] - 0s 54ms/step - loss: 24.7575\n",
      "1/1 [==============================] - 0s 30ms/step - loss: 30.4373\n",
      "1/1 [==============================] - 0s 51ms/step - loss: 24.6766\n",
      "1/1 [==============================] - 0s 31ms/step - loss: 30.3533\n",
      "1/1 [==============================] - 0s 52ms/step - loss: 24.5620\n",
      "1/1 [==============================] - 0s 31ms/step - loss: 30.1226\n"
     ]
    },
    {
     "name": "stdout",
     "output_type": "stream",
     "text": [
      "1/1 [==============================] - 0s 55ms/step - loss: 24.4872\n",
      "1/1 [==============================] - 0s 34ms/step - loss: 29.9156\n",
      "1/1 [==============================] - 0s 57ms/step - loss: 24.3918\n",
      "1/1 [==============================] - 0s 31ms/step - loss: 29.8511\n",
      "1/1 [==============================] - 0s 49ms/step - loss: 24.2703\n",
      "1/1 [==============================] - 0s 29ms/step - loss: 29.9237\n",
      "1/1 [==============================] - 0s 49ms/step - loss: 24.2205\n",
      "1/1 [==============================] - 0s 30ms/step - loss: 30.1406\n",
      "1/1 [==============================] - 0s 53ms/step - loss: 24.1551\n",
      "1/1 [==============================] - 0s 31ms/step - loss: 30.3805\n",
      "1/1 [==============================] - 0s 54ms/step - loss: 24.0774\n",
      "1/1 [==============================] - 0s 29ms/step - loss: 30.5141\n",
      "1/1 [==============================] - 0s 51ms/step - loss: 23.9924\n",
      "1/1 [==============================] - 0s 31ms/step - loss: 30.6149\n",
      "1/1 [==============================] - 0s 49ms/step - loss: 23.8694\n",
      "1/1 [==============================] - 0s 30ms/step - loss: 30.5569\n",
      "1/1 [==============================] - 0s 53ms/step - loss: 23.7885\n",
      "1/1 [==============================] - 0s 33ms/step - loss: 30.3146\n",
      "1/1 [==============================] - 0s 61ms/step - loss: 23.8486\n",
      "1/1 [==============================] - 0s 34ms/step - loss: 30.0182\n",
      "1/1 [==============================] - 0s 56ms/step - loss: 23.7613\n",
      "1/1 [==============================] - 0s 35ms/step - loss: 29.8476\n",
      "1/1 [==============================] - 0s 57ms/step - loss: 23.6148\n",
      "1/1 [==============================] - 0s 34ms/step - loss: 29.8524\n",
      "1/1 [==============================] - 0s 52ms/step - loss: 23.5650\n",
      "1/1 [==============================] - 0s 31ms/step - loss: 29.9886\n",
      "1/1 [==============================] - 0s 60ms/step - loss: 23.5207\n",
      "1/1 [==============================] - 0s 31ms/step - loss: 30.2309\n",
      "1/1 [==============================] - 0s 48ms/step - loss: 23.4711\n",
      "1/1 [==============================] - 0s 30ms/step - loss: 30.4918\n",
      "1/1 [==============================] - 0s 49ms/step - loss: 23.3403\n",
      "1/1 [==============================] - 0s 33ms/step - loss: 30.6200\n",
      "1/1 [==============================] - 0s 55ms/step - loss: 23.2731\n",
      "1/1 [==============================] - 0s 40ms/step - loss: 30.4878\n",
      "1/1 [==============================] - 0s 54ms/step - loss: 23.1882\n",
      "1/1 [==============================] - 0s 30ms/step - loss: 30.1514\n",
      "1/1 [==============================] - 0s 49ms/step - loss: 23.1148\n",
      "1/1 [==============================] - 0s 30ms/step - loss: 29.8498\n",
      "1/1 [==============================] - 0s 49ms/step - loss: 23.1021\n",
      "1/1 [==============================] - 0s 30ms/step - loss: 29.8299\n",
      "1/1 [==============================] - 0s 53ms/step - loss: 22.9805\n",
      "1/1 [==============================] - 0s 31ms/step - loss: 29.9287\n",
      "1/1 [==============================] - 0s 43ms/step - loss: 22.9031\n",
      "1/1 [==============================] - 0s 31ms/step - loss: 30.0605\n",
      "1/1 [==============================] - 0s 48ms/step - loss: 22.8209\n",
      "1/1 [==============================] - 0s 30ms/step - loss: 30.0950\n",
      "1/1 [==============================] - 0s 50ms/step - loss: 22.7190\n",
      "1/1 [==============================] - 0s 31ms/step - loss: 30.0923\n",
      "1/1 [==============================] - 0s 54ms/step - loss: 22.6705\n",
      "1/1 [==============================] - 0s 30ms/step - loss: 30.0618\n",
      "1/1 [==============================] - 0s 44ms/step - loss: 22.5994\n",
      "1/1 [==============================] - 0s 30ms/step - loss: 29.8595\n",
      "1/1 [==============================] - 0s 50ms/step - loss: 22.5138\n",
      "1/1 [==============================] - 0s 30ms/step - loss: 29.5377\n",
      "1/1 [==============================] - 0s 49ms/step - loss: 22.4451\n",
      "1/1 [==============================] - 0s 31ms/step - loss: 29.3046\n",
      "1/1 [==============================] - 0s 52ms/step - loss: 22.3644\n",
      "1/1 [==============================] - 0s 31ms/step - loss: 29.1509\n",
      "1/1 [==============================] - 0s 42ms/step - loss: 22.2974\n",
      "1/1 [==============================] - 0s 30ms/step - loss: 29.1180\n",
      "1/1 [==============================] - 0s 49ms/step - loss: 22.2196\n",
      "1/1 [==============================] - 0s 29ms/step - loss: 29.1197\n",
      "1/1 [==============================] - 0s 50ms/step - loss: 22.1404\n",
      "1/1 [==============================] - 0s 30ms/step - loss: 29.1126\n",
      "1/1 [==============================] - 0s 52ms/step - loss: 21.9996\n",
      "1/1 [==============================] - 0s 31ms/step - loss: 28.9782\n",
      "1/1 [==============================] - 0s 43ms/step - loss: 21.9203\n",
      "1/1 [==============================] - 0s 30ms/step - loss: 28.7249\n",
      "1/1 [==============================] - 0s 48ms/step - loss: 21.8766\n",
      "1/1 [==============================] - 0s 30ms/step - loss: 28.5983\n",
      "1/1 [==============================] - 0s 49ms/step - loss: 21.8344\n",
      "1/1 [==============================] - 0s 31ms/step - loss: 28.5217\n",
      "1/1 [==============================] - 0s 51ms/step - loss: 21.7054\n",
      "1/1 [==============================] - 0s 31ms/step - loss: 28.5920\n",
      "1/1 [==============================] - 0s 43ms/step - loss: 21.6952\n",
      "1/1 [==============================] - 0s 31ms/step - loss: 28.6109\n",
      "1/1 [==============================] - 0s 49ms/step - loss: 21.5830\n",
      "1/1 [==============================] - 0s 30ms/step - loss: 28.5735\n",
      "1/1 [==============================] - 0s 52ms/step - loss: 21.4772\n",
      "1/1 [==============================] - 0s 33ms/step - loss: 28.4509\n"
     ]
    }
   ],
   "source": [
    "pgnn_losses, pgnn_val_losses = [], []\n",
    "max_epoch = 100\n",
    "val_size = len(y_val)\n",
    "train_size = len(y_train)\n",
    "\n",
    "for epoch in range(max_epoch):\n",
    "    hybrid_model.modify_graphgather(train_size)\n",
    "    hybrid_model.input_shapes = [i.shape for i in x_preprocessed_train]\n",
    "    loss = hybrid_model.fit(x_train, y_train.reshape([1, -1]), epochs=1)\n",
    "#     metric = dc.metrics.Metric(dc.metrics.score_function.rms_score)\n",
    "    pgnn_losses.append(loss.history['loss'])\n",
    "    hybrid_model.input_shapes = [i.shape for i in x_preprocessed_val]\n",
    "    hybrid_model.modify_graphgather(val_size)\n",
    "    pgnn_val_losses.append(hybrid_model.evaluate(x_val, y_val.reshape([1, -1])))"
   ]
  },
  {
   "cell_type": "code",
   "execution_count": 26,
   "metadata": {},
   "outputs": [
    {
     "data": {
      "image/png": "[encoded data removed]",
      "text/plain": [
       "<Figure size 432x288 with 1 Axes>"
      ]
     },
     "metadata": {
      "needs_background": "light"
     },
     "output_type": "display_data"
    }
   ],
   "source": [
    "import matplotlib.pyplot as plt\n",
    "# f, ax = plt.subplots()\n",
    "plt.plot(range(len(pgnn_losses)), pgnn_losses, label='train loss')\n",
    "plt.plot(range(len(pgnn_val_losses)), pgnn_val_losses, label='val loss')\n",
    "plt.legend(loc='upper right');\n",
    "plt.xlabel(\"Epoch\")\n",
    "plt.ylabel(\"Loss (Kcal/mol)\")\n",
    "plt.savefig('comb_loss.png')"
   ]
  },
  {
   "cell_type": "code",
   "execution_count": 27,
   "metadata": {},
   "outputs": [],
   "source": [
    "hybrid_model.input_shapes = [i.shape for i in x_preprocessed_test]\n",
    "hybrid_model.modify_graphgather(len(y_test))"
   ]
  },
  {
   "cell_type": "code",
   "execution_count": 28,
   "metadata": {},
   "outputs": [
    {
     "name": "stdout",
     "output_type": "stream",
     "text": [
      "1/1 [==============================] - 0s 28ms/step - loss: 28.4509\n"
     ]
    }
   ],
   "source": [
    "evalu = hybrid_model.evaluate(x_test, y_test.reshape([1, -1]))"
   ]
  },
  {
   "cell_type": "code",
   "execution_count": 29,
   "metadata": {},
   "outputs": [
    {
     "name": "stdout",
     "output_type": "stream",
     "text": [
      "5.333936458499534\n"
     ]
    }
   ],
   "source": [
    "pgnn_rmse_test = np.sqrt(evalu)\n",
    "print(pgnn_rmse_test)"
   ]
  },
  {
   "cell_type": "code",
   "execution_count": 30,
   "metadata": {},
   "outputs": [],
   "source": [
    "train_loss = pgnn_losses[-1]"
   ]
  },
  {
   "cell_type": "code",
   "execution_count": 31,
   "metadata": {},
   "outputs": [
    {
     "data": {
      "text/plain": [
       "4.634346256179826"
      ]
     },
     "execution_count": 31,
     "metadata": {},
     "output_type": "execute_result"
    }
   ],
   "source": [
    "import math\n",
    "train_hybrid_rmse = math.sqrt(train_loss[0])\n",
    "train_hybrid_rmse"
   ]
  },
  {
   "cell_type": "code",
   "execution_count": 853,
   "metadata": {},
   "outputs": [],
   "source": [
    "pgnn_test_accuracy.append(pgnn_rmse_test)\n",
    "pgnn_train_accuracy.append(train_hybrid_rmse)"
   ]
  },
  {
   "cell_type": "code",
   "execution_count": 854,
   "metadata": {},
   "outputs": [
    {
     "name": "stdout",
     "output_type": "stream",
     "text": [
      "[4.247915991158998, 4.35898908322064, 6.944077955959831, 6.510748852202416, 5.414611524347312, 5.933509208272808, 4.313666365638178, 4.970641537867484, 5.242358140968035, 6.948171569937173, 6.618310393952759, 4.790422206102478]\n"
     ]
    }
   ],
   "source": [
    "print(pgnn_test_accuracy)"
   ]
  },
  {
   "cell_type": "markdown",
   "metadata": {},
   "source": [
    "<h1> Physics based model RMSE </h1>"
   ]
  },
  {
   "cell_type": "code",
   "execution_count": 36,
   "metadata": {},
   "outputs": [],
   "source": [
    "import math\n",
    "train_sum=0\n",
    "for i in range(len(host_names_train)):\n",
    "    new_df = df[(df['Host'] == host_names_train[i]) & (df['Guest'] == guest_names_train[i])]\n",
    "    train_sum += new_df['gb_Ex_difference'].to_numpy()[0] **2\n",
    "\n",
    "\n",
    "test_sum = 0\n",
    "for i in range(len(host_names_test)):\n",
    "    new_df = df[(df['Host'] == host_names_test[i]) & (df['Guest'] == guest_names_test[i])]\n",
    "    test_sum += new_df['gb_Ex_difference'].to_numpy()[0] **2\n",
    "    "
   ]
  },
  {
   "cell_type": "code",
   "execution_count": 37,
   "metadata": {},
   "outputs": [],
   "source": [
    "physics_based_rmse_train = math.sqrt(train_sum / len(host_names_train))"
   ]
  },
  {
   "cell_type": "code",
   "execution_count": 38,
   "metadata": {},
   "outputs": [],
   "source": [
    "physics_based_rmse_test = math.sqrt((test_sum) / len(host_names_test))"
   ]
  },
  {
   "cell_type": "code",
   "execution_count": 47,
   "metadata": {},
   "outputs": [
    {
     "name": "stdout",
     "output_type": "stream",
     "text": [
      "RMSE on training set is : 9.566673166822417\n",
      "RMSE on testing set is : 7.9998636043486275\n",
      "RMSE of the total data: 9.116540038105953\n"
     ]
    }
   ],
   "source": [
    "print(f\"RMSE on training set is : {physics_based_rmse_train}\")\n",
    "print(f\"RMSE on testing set is : {physics_based_rmse_test}\")\n",
    "# Total rmse\n",
    "total_rmse_physics = np.sqrt(np.mean((df['EX _H_(kcal/mol)'].to_numpy() - df['gb_delta_H'].to_numpy())**2))\n",
    "print(f\"RMSE of the total data: {total_rmse_physics}\")"
   ]
  },
  {
   "cell_type": "code",
   "execution_count": 13,
   "metadata": {},
   "outputs": [
    {
     "name": "stdout",
     "output_type": "stream",
     "text": [
      "9.116540038105953\n"
     ]
    }
   ],
   "source": [
    "# RMSE gbnsr6 vs experimental\n",
    "from sklearn.metrics import mean_squared_error\n",
    "import math\n",
    "mse_gb_ex = mean_squared_error(df['EX _delta_H_(kcal/mol)'], df['gb_delta_H'])\n",
    "rmse_gbnsr6_ex = math.sqrt(mse_gb_ex)\n",
    "print(rmse_gbnsr6_ex)"
   ]
  },
  {
   "cell_type": "code",
   "execution_count": 14,
   "metadata": {},
   "outputs": [
    {
     "name": "stdout",
     "output_type": "stream",
     "text": [
      "7.662234345322445\n"
     ]
    }
   ],
   "source": [
    "# RMSE pbsa vs experimental\n",
    "mse_pb_ex = mean_squared_error(df['EX _delta_H_(kcal/mol)'], df['pb_delta_H'])\n",
    "rmse_pbsa_ex = math.sqrt(mse_pb_ex)\n",
    "print(rmse_pbsa_ex)"
   ]
  },
  {
   "cell_type": "code",
   "execution_count": 15,
   "metadata": {},
   "outputs": [
    {
     "name": "stdout",
     "output_type": "stream",
     "text": [
      "2.482988596122065\n"
     ]
    }
   ],
   "source": [
    "# RMSE gbnsr6 vs pbsa\n",
    "mse_gb_pb = mean_squared_error(df['pb_delta_H'], df['gb_delta_H'])\n",
    "rmse_gb_pb = math.sqrt(mse_gb_pb)\n",
    "print(rmse_gb_pb)"
   ]
  },
  {
   "cell_type": "code",
   "execution_count": 48,
   "metadata": {},
   "outputs": [
    {
     "data": {
      "text/plain": [
       "[<matplotlib.lines.Line2D at 0x7f8db5d015e0>]"
      ]
     },
     "execution_count": 48,
     "metadata": {},
     "output_type": "execute_result"
    },
    {
     "data": {
      "image/png": "[encoded data removed]",
      "text/plain": [
       "<Figure size 432x288 with 1 Axes>"
      ]
     },
     "metadata": {
      "needs_background": "light"
     },
     "output_type": "display_data"
    }
   ],
   "source": [
    "import matplotlib.pyplot as plt\n",
    "\n",
    "plt.title(\"Experimental vs GBNSR6\")\n",
    "plt.scatter(x=df['EX _H_(kcal/mol)'], y=df['gb_delta_H'])\n",
    "plt.xlabel(\"Experimental Delta H\")\n",
    "plt.ylabel(\"GBNSR6 Delta H\")\n",
    "plt.xlim(-25, 5)\n",
    "plt.ylim(-25,5)\n",
    "\n",
    "#reference line\n",
    "plt.plot([-25, 5], [-25, 5], color='green', lw=1)"
   ]
  },
  {
   "cell_type": "code",
   "execution_count": 49,
   "metadata": {},
   "outputs": [
    {
     "data": {
      "text/plain": [
       "[<matplotlib.lines.Line2D at 0x7f8d78c8bbb0>]"
      ]
     },
     "execution_count": 49,
     "metadata": {},
     "output_type": "execute_result"
    },
    {
     "data": {
      "image/png": "[encoded data removed]",
      "text/plain": [
       "<Figure size 432x288 with 1 Axes>"
      ]
     },
     "metadata": {
      "needs_background": "light"
     },
     "output_type": "display_data"
    }
   ],
   "source": [
    "plt.title(\"Experimental vs PBSA\")\n",
    "plt.scatter(x=df['EX _H_(kcal/mol)'] ,y=df['pb_delta_H'], color='orange')\n",
    "plt.xlabel(\"Experimental Delta H\")\n",
    "plt.ylabel(\"PBSA Delta H\")\n",
    "plt.xlim(-25, 5)\n",
    "plt.ylim(-25,5)\n",
    "#reference line\n",
    "plt.plot([-25,5],[-25,5], color='green')"
   ]
  },
  {
   "cell_type": "code",
   "execution_count": 77,
   "metadata": {},
   "outputs": [
    {
     "data": {
      "image/png": "[encoded data removed]",
      "text/plain": [
       "<Figure size 432x288 with 1 Axes>"
      ]
     },
     "metadata": {
      "needs_background": "light"
     },
     "output_type": "display_data"
    }
   ],
   "source": [
    "ax = plt.subplot()\n",
    "# plt.title(\"PBSA vs GBNSR6\")\n",
    "plt.xlabel('Experimental ∆H (kcal/mol)')\n",
    "plt.ylabel('Physics-based model ∆H (kcal/mol)')\n",
    "ax.scatter(x=df[\"EX _H_(kcal/mol)\"], y=df['gb_delta_H'], label=\"GBNSR6\")\n",
    "ax.scatter(x=df[\"EX _H_(kcal/mol)\"], y=df['pb_delta_H'], label=\"PBSA\", color=\"orange\")\n",
    "plt.xlim(-25,5)\n",
    "plt.ylim(-25,5)\n",
    "#reference line\n",
    "plt.plot([-25,5],[-25,5],color='green')\n",
    "plt.legend()\n",
    "plt.savefig('gb-pb.png')"
   ]
  },
  {
   "cell_type": "code",
   "execution_count": 51,
   "metadata": {},
   "outputs": [
    {
     "name": "stdout",
     "output_type": "stream",
     "text": [
      "0.16443424102892118\n"
     ]
    }
   ],
   "source": [
    "gb_correlation_matrix = np.corrcoef(df['gb_delta_H'], df['EX _H_(kcal/mol)'])\n",
    "gb_correlation_gbex = gb_correlation_matrix[0,1]\n",
    "gb_r_squared = gb_correlation_gbex**2\n",
    "print(gb_r_squared)"
   ]
  },
  {
   "cell_type": "code",
   "execution_count": 52,
   "metadata": {},
   "outputs": [
    {
     "name": "stdout",
     "output_type": "stream",
     "text": [
      "0.1098144445778738\n"
     ]
    }
   ],
   "source": [
    "pb_correlation_matrix = np.corrcoef(df['pb_delta_H'], df['EX _H_(kcal/mol)'])\n",
    "pb_correlation_pbex = pb_correlation_matrix[0,1]\n",
    "pb_r_squared = pb_correlation_pbex**2\n",
    "print(pb_r_squared)"
   ]
  },
  {
   "cell_type": "code",
   "execution_count": 17,
   "metadata": {},
   "outputs": [
    {
     "name": "stdout",
     "output_type": "stream",
     "text": [
      "0.8901482846824414\n"
     ]
    }
   ],
   "source": [
    "pbgb_correlation_matrix = np.corrcoef(df['gb_delta_H'], df['pb_delta_H'])\n",
    "pbgb_correlation = pbgb_correlation_matrix[0,1]\n",
    "pbgb_r_squared = pbgb_correlation**2\n",
    "print(pbgb_r_squared)"
   ]
  },
  {
   "cell_type": "markdown",
   "metadata": {},
   "source": [
    "<h1> Data Driven Model </h1>"
   ]
  },
  {
   "cell_type": "code",
   "execution_count": 855,
   "metadata": {},
   "outputs": [],
   "source": [
    "## !!!!!!!! important\n",
    "## !!!!!!!! important\n",
    "## !!!!!!!! important\n",
    "## !!!!!!!! important\n",
    "input_shapes = [i.shape for i in x_preprocessed_train]"
   ]
  },
  {
   "cell_type": "code",
   "execution_count": 856,
   "metadata": {},
   "outputs": [],
   "source": [
    "# dd_test_accuracy = []\n",
    "# dd_train_accuracy = []"
   ]
  },
  {
   "cell_type": "code",
   "execution_count": 857,
   "metadata": {},
   "outputs": [
    {
     "data": {
      "text/plain": [
       "50"
      ]
     },
     "execution_count": 857,
     "metadata": {},
     "output_type": "execute_result"
    }
   ],
   "source": [
    "batch_size = len(host_names_train)\n",
    "batch_size\n",
    "# batch_size=10"
   ]
  },
  {
   "cell_type": "code",
   "execution_count": 858,
   "metadata": {},
   "outputs": [],
   "source": [
    "from deepchem.models.layers import GraphConv, GraphPool, GraphGather\n",
    "import tensorflow as tf\n",
    "import tensorflow.keras.layers as layers\n",
    "from tensorflow.keras.layers import Dense, Input, BatchNormalization, Concatenate\n",
    "from tensorflow.keras import initializers\n",
    "\n",
    "# batch_size = int(len(df) / 2)\n",
    "\n",
    "class GBGraphConvModel(tf.keras.Model):\n",
    "   \n",
    "    def modify_graphgather(self, batch_size):\n",
    "        self.readout.batch_size = batch_size\n",
    "        self.batch_size = batch_size\n",
    "\n",
    "    def __init__(self, batch_size):\n",
    "        super(GBGraphConvModel, self).__init__()\n",
    "        self.input_shapes = None\n",
    "        self.batch_size = batch_size\n",
    "        self.gc1 = GraphConv(32, activation_fn=tf.nn.tanh)\n",
    "        self.batch_norm1 = layers.BatchNormalization()\n",
    "        self.gp1 = GraphPool()\n",
    "\n",
    "        self.gc2 = GraphConv(32, activation_fn=tf.nn.tanh)\n",
    "        self.batch_norm2 = layers.BatchNormalization()\n",
    "        self.gp2 = GraphPool()\n",
    "\n",
    "        self.dense1 = layers.Dense(64, activation=tf.nn.tanh)\n",
    "        self.batch_norm3 = layers.BatchNormalization()\n",
    "        self.readout = GraphGather(batch_size=self.batch_size, activation_fn=tf.nn.tanh)\n",
    "\n",
    "        self.dense2 = layers.Dense(1)\n",
    "    #     self.dense3 = layers.Dense(1, \n",
    "    #          kernel_initializer=initializers.Constant([.5, -1, -1, 1, 1, 1, 1, 1, -1, -1, -1, -1, -1, -1, -1, -1]),\n",
    "    #          bias_initializer=initializers.Zeros())\n",
    "\n",
    "    def call(self, inputs):\n",
    "        inputs = inputs[0]\n",
    "        x = []\n",
    "    #     input_shapes = [[4822, 75], [11, 2], [4822], [1142, 1], [1635, 2], [2042, 3],\n",
    "    #                    [3, 4], [0, 5], [0, 6], [0, 7], [0, 8], [0, 9], [0, 10]]\n",
    "        for i in range(len(self.input_shapes)):\n",
    "            x.append(tf.reshape(inputs[i][inputs[i] != 1.123456], self.input_shapes[i]))\n",
    "        for i in range(1, len(self.input_shapes)):\n",
    "            x[i] = tf.cast(x[i], tf.int32)\n",
    "        x_add = tf.reshape(inputs[13][inputs[13] != 1.123456], [self.batch_size, 15])\n",
    "        gc1_output = self.gc1(x)\n",
    "        batch_norm1_output = self.batch_norm1(gc1_output)\n",
    "        gp1_output = self.gp1([batch_norm1_output] + x[1:])\n",
    "\n",
    "        gc2_output = self.gc2([gp1_output] + x[1:])\n",
    "        batch_norm2_output = self.batch_norm1(gc2_output)\n",
    "        gp2_output = self.gp2([batch_norm2_output] + x[1:])\n",
    "\n",
    "        dense1_output = self.dense1(gp2_output)\n",
    "        batch_norm3_output = self.batch_norm3(dense1_output)\n",
    "        readout_output = self.readout([batch_norm3_output] + x[1:])\n",
    "\n",
    "        model_var = self.dense2(readout_output)\n",
    "    #     binding_affinity = tf.concat([model_var, x_add], axis=1)\n",
    "        return model_var #self.dense3(binding_affinity)\n",
    "dd_model = GBGraphConvModel(train_split_index)\n",
    "dd_model.compile(loss='mse', optimizer='adam')"
   ]
  },
  {
   "cell_type": "code",
   "execution_count": 859,
   "metadata": {},
   "outputs": [
    {
     "name": "stderr",
     "output_type": "stream",
     "text": [
      "/Users/misspotato/opt/miniconda3/envs/rdkit-deepchem-jupyter/lib/python3.9/site-packages/tensorflow/python/framework/indexed_slices.py:447: UserWarning: Converting sparse IndexedSlices(IndexedSlices(indices=Tensor(\"gradient_tape/gb_graph_conv_model_49/graph_pool_99/Reshape_14:0\", shape=(1057,), dtype=int32), values=Tensor(\"gradient_tape/gb_graph_conv_model_49/graph_pool_99/Reshape_13:0\", shape=(1057, 32), dtype=float32), dense_shape=Tensor(\"gradient_tape/gb_graph_conv_model_49/graph_pool_99/Cast_4:0\", shape=(2,), dtype=int32))) to a dense Tensor of unknown shape. This may consume a large amount of memory.\n",
      "  warnings.warn(\n",
      "/Users/misspotato/opt/miniconda3/envs/rdkit-deepchem-jupyter/lib/python3.9/site-packages/tensorflow/python/framework/indexed_slices.py:447: UserWarning: Converting sparse IndexedSlices(IndexedSlices(indices=Tensor(\"gradient_tape/gb_graph_conv_model_49/graph_pool_99/Reshape_17:0\", shape=(3502,), dtype=int32), values=Tensor(\"gradient_tape/gb_graph_conv_model_49/graph_pool_99/Reshape_16:0\", shape=(3502, 32), dtype=float32), dense_shape=Tensor(\"gradient_tape/gb_graph_conv_model_49/graph_pool_99/Cast_5:0\", shape=(2,), dtype=int32))) to a dense Tensor of unknown shape. This may consume a large amount of memory.\n",
      "  warnings.warn(\n",
      "/Users/misspotato/opt/miniconda3/envs/rdkit-deepchem-jupyter/lib/python3.9/site-packages/tensorflow/python/framework/indexed_slices.py:447: UserWarning: Converting sparse IndexedSlices(IndexedSlices(indices=Tensor(\"gradient_tape/gb_graph_conv_model_49/graph_pool_99/Reshape_20:0\", shape=(6855,), dtype=int32), values=Tensor(\"gradient_tape/gb_graph_conv_model_49/graph_pool_99/Reshape_19:0\", shape=(6855, 32), dtype=float32), dense_shape=Tensor(\"gradient_tape/gb_graph_conv_model_49/graph_pool_99/Cast_6:0\", shape=(2,), dtype=int32))) to a dense Tensor of unknown shape. This may consume a large amount of memory.\n",
      "  warnings.warn(\n",
      "/Users/misspotato/opt/miniconda3/envs/rdkit-deepchem-jupyter/lib/python3.9/site-packages/tensorflow/python/framework/indexed_slices.py:447: UserWarning: Converting sparse IndexedSlices(IndexedSlices(indices=Tensor(\"gradient_tape/gb_graph_conv_model_49/graph_pool_99/Reshape_23:0\", shape=(36,), dtype=int32), values=Tensor(\"gradient_tape/gb_graph_conv_model_49/graph_pool_99/Reshape_22:0\", shape=(36, 32), dtype=float32), dense_shape=Tensor(\"gradient_tape/gb_graph_conv_model_49/graph_pool_99/Cast_7:0\", shape=(2,), dtype=int32))) to a dense Tensor of unknown shape. This may consume a large amount of memory.\n",
      "  warnings.warn(\n",
      "/Users/misspotato/opt/miniconda3/envs/rdkit-deepchem-jupyter/lib/python3.9/site-packages/tensorflow/python/framework/indexed_slices.py:447: UserWarning: Converting sparse IndexedSlices(IndexedSlices(indices=Tensor(\"gradient_tape/gb_graph_conv_model_49/graph_conv_99/Reshape_11:0\", shape=(1057,), dtype=int32), values=Tensor(\"gradient_tape/gb_graph_conv_model_49/graph_conv_99/Reshape_10:0\", shape=(1057, 32), dtype=float32), dense_shape=Tensor(\"gradient_tape/gb_graph_conv_model_49/graph_conv_99/Cast:0\", shape=(2,), dtype=int32))) to a dense Tensor of unknown shape. This may consume a large amount of memory.\n",
      "  warnings.warn(\n",
      "/Users/misspotato/opt/miniconda3/envs/rdkit-deepchem-jupyter/lib/python3.9/site-packages/tensorflow/python/framework/indexed_slices.py:447: UserWarning: Converting sparse IndexedSlices(IndexedSlices(indices=Tensor(\"gradient_tape/gb_graph_conv_model_49/graph_conv_99/Reshape_13:0\", shape=(3502,), dtype=int32), values=Tensor(\"gradient_tape/gb_graph_conv_model_49/graph_conv_99/Reshape_12:0\", shape=(3502, 32), dtype=float32), dense_shape=Tensor(\"gradient_tape/gb_graph_conv_model_49/graph_conv_99/Cast_1:0\", shape=(2,), dtype=int32))) to a dense Tensor of unknown shape. This may consume a large amount of memory.\n",
      "  warnings.warn(\n",
      "/Users/misspotato/opt/miniconda3/envs/rdkit-deepchem-jupyter/lib/python3.9/site-packages/tensorflow/python/framework/indexed_slices.py:447: UserWarning: Converting sparse IndexedSlices(IndexedSlices(indices=Tensor(\"gradient_tape/gb_graph_conv_model_49/graph_conv_99/Reshape_15:0\", shape=(6855,), dtype=int32), values=Tensor(\"gradient_tape/gb_graph_conv_model_49/graph_conv_99/Reshape_14:0\", shape=(6855, 32), dtype=float32), dense_shape=Tensor(\"gradient_tape/gb_graph_conv_model_49/graph_conv_99/Cast_2:0\", shape=(2,), dtype=int32))) to a dense Tensor of unknown shape. This may consume a large amount of memory.\n",
      "  warnings.warn(\n",
      "/Users/misspotato/opt/miniconda3/envs/rdkit-deepchem-jupyter/lib/python3.9/site-packages/tensorflow/python/framework/indexed_slices.py:447: UserWarning: Converting sparse IndexedSlices(IndexedSlices(indices=Tensor(\"gradient_tape/gb_graph_conv_model_49/graph_conv_99/Reshape_17:0\", shape=(36,), dtype=int32), values=Tensor(\"gradient_tape/gb_graph_conv_model_49/graph_conv_99/Reshape_16:0\", shape=(36, 32), dtype=float32), dense_shape=Tensor(\"gradient_tape/gb_graph_conv_model_49/graph_conv_99/Cast_3:0\", shape=(2,), dtype=int32))) to a dense Tensor of unknown shape. This may consume a large amount of memory.\n",
      "  warnings.warn(\n",
      "/Users/misspotato/opt/miniconda3/envs/rdkit-deepchem-jupyter/lib/python3.9/site-packages/tensorflow/python/framework/indexed_slices.py:447: UserWarning: Converting sparse IndexedSlices(IndexedSlices(indices=Tensor(\"gradient_tape/gb_graph_conv_model_49/graph_conv_99/Reshape_19:0\", shape=(0,), dtype=int32), values=Tensor(\"gradient_tape/gb_graph_conv_model_49/graph_conv_99/Reshape_18:0\", shape=(0, 32), dtype=float32), dense_shape=Tensor(\"gradient_tape/gb_graph_conv_model_49/graph_conv_99/Cast_4:0\", shape=(2,), dtype=int32))) to a dense Tensor of unknown shape. This may consume a large amount of memory.\n",
      "  warnings.warn(\n",
      "/Users/misspotato/opt/miniconda3/envs/rdkit-deepchem-jupyter/lib/python3.9/site-packages/tensorflow/python/framework/indexed_slices.py:447: UserWarning: Converting sparse IndexedSlices(IndexedSlices(indices=Tensor(\"gradient_tape/gb_graph_conv_model_49/graph_conv_99/Reshape_21:0\", shape=(0,), dtype=int32), values=Tensor(\"gradient_tape/gb_graph_conv_model_49/graph_conv_99/Reshape_20:0\", shape=(0, 32), dtype=float32), dense_shape=Tensor(\"gradient_tape/gb_graph_conv_model_49/graph_conv_99/Cast_5:0\", shape=(2,), dtype=int32))) to a dense Tensor of unknown shape. This may consume a large amount of memory.\n",
      "  warnings.warn(\n",
      "/Users/misspotato/opt/miniconda3/envs/rdkit-deepchem-jupyter/lib/python3.9/site-packages/tensorflow/python/framework/indexed_slices.py:447: UserWarning: Converting sparse IndexedSlices(IndexedSlices(indices=Tensor(\"gradient_tape/gb_graph_conv_model_49/graph_conv_99/Reshape_23:0\", shape=(0,), dtype=int32), values=Tensor(\"gradient_tape/gb_graph_conv_model_49/graph_conv_99/Reshape_22:0\", shape=(0, 32), dtype=float32), dense_shape=Tensor(\"gradient_tape/gb_graph_conv_model_49/graph_conv_99/Cast_6:0\", shape=(2,), dtype=int32))) to a dense Tensor of unknown shape. This may consume a large amount of memory.\n",
      "  warnings.warn(\n",
      "/Users/misspotato/opt/miniconda3/envs/rdkit-deepchem-jupyter/lib/python3.9/site-packages/tensorflow/python/framework/indexed_slices.py:447: UserWarning: Converting sparse IndexedSlices(IndexedSlices(indices=Tensor(\"gradient_tape/gb_graph_conv_model_49/graph_conv_99/Reshape_25:0\", shape=(0,), dtype=int32), values=Tensor(\"gradient_tape/gb_graph_conv_model_49/graph_conv_99/Reshape_24:0\", shape=(0, 32), dtype=float32), dense_shape=Tensor(\"gradient_tape/gb_graph_conv_model_49/graph_conv_99/Cast_7:0\", shape=(2,), dtype=int32))) to a dense Tensor of unknown shape. This may consume a large amount of memory.\n",
      "  warnings.warn(\n",
      "/Users/misspotato/opt/miniconda3/envs/rdkit-deepchem-jupyter/lib/python3.9/site-packages/tensorflow/python/framework/indexed_slices.py:447: UserWarning: Converting sparse IndexedSlices(IndexedSlices(indices=Tensor(\"gradient_tape/gb_graph_conv_model_49/graph_conv_99/Reshape_27:0\", shape=(0,), dtype=int32), values=Tensor(\"gradient_tape/gb_graph_conv_model_49/graph_conv_99/Reshape_26:0\", shape=(0, 32), dtype=float32), dense_shape=Tensor(\"gradient_tape/gb_graph_conv_model_49/graph_conv_99/Cast_8:0\", shape=(2,), dtype=int32))) to a dense Tensor of unknown shape. This may consume a large amount of memory.\n",
      "  warnings.warn(\n",
      "/Users/misspotato/opt/miniconda3/envs/rdkit-deepchem-jupyter/lib/python3.9/site-packages/tensorflow/python/framework/indexed_slices.py:447: UserWarning: Converting sparse IndexedSlices(IndexedSlices(indices=Tensor(\"gradient_tape/gb_graph_conv_model_49/graph_conv_99/Reshape_29:0\", shape=(0,), dtype=int32), values=Tensor(\"gradient_tape/gb_graph_conv_model_49/graph_conv_99/Reshape_28:0\", shape=(0, 32), dtype=float32), dense_shape=Tensor(\"gradient_tape/gb_graph_conv_model_49/graph_conv_99/Cast_9:0\", shape=(2,), dtype=int32))) to a dense Tensor of unknown shape. This may consume a large amount of memory.\n",
      "  warnings.warn(\n",
      "/Users/misspotato/opt/miniconda3/envs/rdkit-deepchem-jupyter/lib/python3.9/site-packages/tensorflow/python/framework/indexed_slices.py:447: UserWarning: Converting sparse IndexedSlices(IndexedSlices(indices=Tensor(\"gradient_tape/gb_graph_conv_model_49/graph_pool_98/Reshape_14:0\", shape=(1057,), dtype=int32), values=Tensor(\"gradient_tape/gb_graph_conv_model_49/graph_pool_98/Reshape_13:0\", shape=(1057, 32), dtype=float32), dense_shape=Tensor(\"gradient_tape/gb_graph_conv_model_49/graph_pool_98/Cast_4:0\", shape=(2,), dtype=int32))) to a dense Tensor of unknown shape. This may consume a large amount of memory.\n",
      "  warnings.warn(\n",
      "/Users/misspotato/opt/miniconda3/envs/rdkit-deepchem-jupyter/lib/python3.9/site-packages/tensorflow/python/framework/indexed_slices.py:447: UserWarning: Converting sparse IndexedSlices(IndexedSlices(indices=Tensor(\"gradient_tape/gb_graph_conv_model_49/graph_pool_98/Reshape_17:0\", shape=(3502,), dtype=int32), values=Tensor(\"gradient_tape/gb_graph_conv_model_49/graph_pool_98/Reshape_16:0\", shape=(3502, 32), dtype=float32), dense_shape=Tensor(\"gradient_tape/gb_graph_conv_model_49/graph_pool_98/Cast_5:0\", shape=(2,), dtype=int32))) to a dense Tensor of unknown shape. This may consume a large amount of memory.\n",
      "  warnings.warn(\n",
      "/Users/misspotato/opt/miniconda3/envs/rdkit-deepchem-jupyter/lib/python3.9/site-packages/tensorflow/python/framework/indexed_slices.py:447: UserWarning: Converting sparse IndexedSlices(IndexedSlices(indices=Tensor(\"gradient_tape/gb_graph_conv_model_49/graph_pool_98/Reshape_20:0\", shape=(6855,), dtype=int32), values=Tensor(\"gradient_tape/gb_graph_conv_model_49/graph_pool_98/Reshape_19:0\", shape=(6855, 32), dtype=float32), dense_shape=Tensor(\"gradient_tape/gb_graph_conv_model_49/graph_pool_98/Cast_6:0\", shape=(2,), dtype=int32))) to a dense Tensor of unknown shape. This may consume a large amount of memory.\n",
      "  warnings.warn(\n",
      "/Users/misspotato/opt/miniconda3/envs/rdkit-deepchem-jupyter/lib/python3.9/site-packages/tensorflow/python/framework/indexed_slices.py:447: UserWarning: Converting sparse IndexedSlices(IndexedSlices(indices=Tensor(\"gradient_tape/gb_graph_conv_model_49/graph_pool_98/Reshape_23:0\", shape=(36,), dtype=int32), values=Tensor(\"gradient_tape/gb_graph_conv_model_49/graph_pool_98/Reshape_22:0\", shape=(36, 32), dtype=float32), dense_shape=Tensor(\"gradient_tape/gb_graph_conv_model_49/graph_pool_98/Cast_7:0\", shape=(2,), dtype=int32))) to a dense Tensor of unknown shape. This may consume a large amount of memory.\n",
      "  warnings.warn(\n"
     ]
    },
    {
     "name": "stdout",
     "output_type": "stream",
     "text": [
      "1/1 [==============================] - 5s 5s/step - loss: 27.7377\n",
      "1/1 [==============================] - 1s 780ms/step - loss: 16.4176\n",
      "1/1 [==============================] - 0s 51ms/step - loss: 23.6812\n",
      "1/1 [==============================] - 0s 31ms/step - loss: 16.4641\n",
      "1/1 [==============================] - 0s 51ms/step - loss: 21.0602\n",
      "1/1 [==============================] - 0s 31ms/step - loss: 16.6043\n",
      "1/1 [==============================] - 0s 51ms/step - loss: 18.6109\n",
      "1/1 [==============================] - 0s 32ms/step - loss: 16.9684\n",
      "1/1 [==============================] - 0s 52ms/step - loss: 17.1644\n",
      "1/1 [==============================] - 0s 31ms/step - loss: 17.2222\n",
      "1/1 [==============================] - 0s 51ms/step - loss: 16.0629\n",
      "1/1 [==============================] - 0s 31ms/step - loss: 17.1211\n",
      "1/1 [==============================] - 0s 51ms/step - loss: 14.9291\n",
      "1/1 [==============================] - 0s 32ms/step - loss: 16.9013\n",
      "1/1 [==============================] - 0s 51ms/step - loss: 13.7595\n",
      "1/1 [==============================] - 0s 33ms/step - loss: 16.7126\n",
      "1/1 [==============================] - 0s 52ms/step - loss: 13.2226\n",
      "1/1 [==============================] - 0s 31ms/step - loss: 16.7258\n",
      "1/1 [==============================] - 0s 51ms/step - loss: 12.6504\n",
      "1/1 [==============================] - 0s 32ms/step - loss: 16.5575\n",
      "1/1 [==============================] - 0s 50ms/step - loss: 12.1375\n",
      "1/1 [==============================] - 0s 32ms/step - loss: 16.3553\n",
      "1/1 [==============================] - 0s 51ms/step - loss: 11.6547\n",
      "1/1 [==============================] - 0s 32ms/step - loss: 16.1424\n",
      "1/1 [==============================] - 0s 51ms/step - loss: 11.4116\n",
      "1/1 [==============================] - 0s 30ms/step - loss: 16.0172\n",
      "1/1 [==============================] - 0s 50ms/step - loss: 10.9403\n",
      "1/1 [==============================] - 0s 31ms/step - loss: 16.0163\n",
      "1/1 [==============================] - 0s 52ms/step - loss: 10.5532\n",
      "1/1 [==============================] - 0s 31ms/step - loss: 16.0324\n",
      "1/1 [==============================] - 0s 50ms/step - loss: 10.1628\n",
      "1/1 [==============================] - 0s 31ms/step - loss: 16.0400\n",
      "1/1 [==============================] - 0s 53ms/step - loss: 9.7562\n",
      "1/1 [==============================] - 0s 37ms/step - loss: 16.1400\n",
      "1/1 [==============================] - 0s 51ms/step - loss: 9.4191\n",
      "1/1 [==============================] - 0s 31ms/step - loss: 16.5275\n",
      "1/1 [==============================] - 0s 51ms/step - loss: 9.1277\n",
      "1/1 [==============================] - 0s 32ms/step - loss: 17.1363\n",
      "1/1 [==============================] - 0s 51ms/step - loss: 8.8368\n",
      "1/1 [==============================] - 0s 31ms/step - loss: 17.7120\n",
      "1/1 [==============================] - 0s 44ms/step - loss: 8.6149\n",
      "1/1 [==============================] - 0s 31ms/step - loss: 18.0331\n",
      "1/1 [==============================] - 0s 52ms/step - loss: 8.3806\n",
      "1/1 [==============================] - 0s 32ms/step - loss: 18.0213\n",
      "1/1 [==============================] - 0s 53ms/step - loss: 8.1657\n",
      "1/1 [==============================] - 0s 32ms/step - loss: 17.8108\n",
      "1/1 [==============================] - 0s 50ms/step - loss: 7.9457\n",
      "1/1 [==============================] - 0s 31ms/step - loss: 17.5171\n",
      "1/1 [==============================] - 0s 45ms/step - loss: 7.7831\n",
      "1/1 [==============================] - 0s 31ms/step - loss: 17.2121\n",
      "1/1 [==============================] - 0s 50ms/step - loss: 7.6611\n",
      "1/1 [==============================] - 0s 32ms/step - loss: 16.9321\n",
      "1/1 [==============================] - 0s 51ms/step - loss: 7.5474\n",
      "1/1 [==============================] - 0s 32ms/step - loss: 16.7037\n",
      "1/1 [==============================] - 0s 50ms/step - loss: 7.3779\n",
      "1/1 [==============================] - 0s 33ms/step - loss: 16.4377\n",
      "1/1 [==============================] - 0s 44ms/step - loss: 7.2094\n",
      "1/1 [==============================] - 0s 32ms/step - loss: 16.2439\n",
      "1/1 [==============================] - 0s 51ms/step - loss: 7.1151\n",
      "1/1 [==============================] - 0s 31ms/step - loss: 16.0122\n",
      "1/1 [==============================] - 0s 51ms/step - loss: 7.0202\n",
      "1/1 [==============================] - 0s 32ms/step - loss: 15.7215\n",
      "1/1 [==============================] - 0s 51ms/step - loss: 6.9286\n",
      "1/1 [==============================] - 0s 33ms/step - loss: 15.3713\n",
      "1/1 [==============================] - 0s 44ms/step - loss: 6.8558\n",
      "1/1 [==============================] - 0s 32ms/step - loss: 14.9659\n",
      "1/1 [==============================] - 0s 52ms/step - loss: 6.7889\n",
      "1/1 [==============================] - 0s 31ms/step - loss: 14.4841\n",
      "1/1 [==============================] - 0s 52ms/step - loss: 6.7265\n",
      "1/1 [==============================] - 0s 32ms/step - loss: 14.1914\n",
      "1/1 [==============================] - 0s 52ms/step - loss: 6.6676\n",
      "1/1 [==============================] - 0s 32ms/step - loss: 13.9967\n",
      "1/1 [==============================] - 0s 42ms/step - loss: 6.6092\n",
      "1/1 [==============================] - 0s 31ms/step - loss: 13.8244\n",
      "1/1 [==============================] - 0s 50ms/step - loss: 6.5484\n",
      "1/1 [==============================] - 0s 33ms/step - loss: 13.6752\n",
      "1/1 [==============================] - 0s 50ms/step - loss: 6.5109\n",
      "1/1 [==============================] - 0s 34ms/step - loss: 13.5494\n",
      "1/1 [==============================] - 0s 51ms/step - loss: 6.4721\n",
      "1/1 [==============================] - 0s 33ms/step - loss: 13.4157\n",
      "1/1 [==============================] - 0s 42ms/step - loss: 6.4297\n",
      "1/1 [==============================] - 0s 32ms/step - loss: 13.2712\n",
      "1/1 [==============================] - 0s 50ms/step - loss: 6.4028\n",
      "1/1 [==============================] - 0s 33ms/step - loss: 13.1769\n",
      "1/1 [==============================] - 0s 51ms/step - loss: 6.3810\n",
      "1/1 [==============================] - 0s 34ms/step - loss: 13.0790\n",
      "1/1 [==============================] - 0s 81ms/step - loss: 6.3534\n",
      "1/1 [==============================] - 0s 50ms/step - loss: 12.8099\n",
      "1/1 [==============================] - 0s 89ms/step - loss: 6.3329\n",
      "1/1 [==============================] - 0s 46ms/step - loss: 12.4706\n",
      "1/1 [==============================] - 0s 64ms/step - loss: 6.3149\n",
      "1/1 [==============================] - 0s 34ms/step - loss: 12.1132\n",
      "1/1 [==============================] - 0s 52ms/step - loss: 6.3046\n",
      "1/1 [==============================] - 0s 33ms/step - loss: 11.7589\n",
      "1/1 [==============================] - 0s 53ms/step - loss: 6.2951\n",
      "1/1 [==============================] - 0s 33ms/step - loss: 11.4386\n",
      "1/1 [==============================] - 0s 46ms/step - loss: 6.2867\n",
      "1/1 [==============================] - 0s 32ms/step - loss: 11.1694\n",
      "1/1 [==============================] - 0s 53ms/step - loss: 6.2789\n",
      "1/1 [==============================] - 0s 33ms/step - loss: 10.9368\n",
      "1/1 [==============================] - 0s 50ms/step - loss: 6.2715\n",
      "1/1 [==============================] - 0s 33ms/step - loss: 10.7259\n",
      "1/1 [==============================] - 0s 50ms/step - loss: 6.2645\n",
      "1/1 [==============================] - 0s 30ms/step - loss: 10.5340\n",
      "1/1 [==============================] - 0s 50ms/step - loss: 6.2584\n",
      "1/1 [==============================] - 0s 32ms/step - loss: 10.3443\n",
      "1/1 [==============================] - 0s 50ms/step - loss: 6.2529\n",
      "1/1 [==============================] - 0s 32ms/step - loss: 10.1511\n",
      "1/1 [==============================] - 0s 51ms/step - loss: 6.2457\n",
      "1/1 [==============================] - 0s 32ms/step - loss: 9.9717\n",
      "1/1 [==============================] - 0s 51ms/step - loss: 6.2442\n",
      "1/1 [==============================] - 0s 32ms/step - loss: 9.8091\n",
      "1/1 [==============================] - 0s 50ms/step - loss: 6.2411\n",
      "1/1 [==============================] - 0s 32ms/step - loss: 9.6649\n",
      "1/1 [==============================] - 0s 51ms/step - loss: 6.2402\n",
      "1/1 [==============================] - 0s 32ms/step - loss: 9.5492\n",
      "1/1 [==============================] - 0s 50ms/step - loss: 6.2408\n",
      "1/1 [==============================] - 0s 32ms/step - loss: 9.4694\n",
      "1/1 [==============================] - 0s 52ms/step - loss: 6.2410\n",
      "1/1 [==============================] - 0s 31ms/step - loss: 9.4137\n",
      "1/1 [==============================] - 0s 50ms/step - loss: 6.2412\n",
      "1/1 [==============================] - 0s 32ms/step - loss: 9.3575\n",
      "1/1 [==============================] - 0s 50ms/step - loss: 6.2411\n",
      "1/1 [==============================] - 0s 31ms/step - loss: 9.3039\n",
      "1/1 [==============================] - 0s 50ms/step - loss: 6.2407\n",
      "1/1 [==============================] - 0s 31ms/step - loss: 9.2725\n",
      "1/1 [==============================] - 0s 51ms/step - loss: 6.2398\n",
      "1/1 [==============================] - 0s 30ms/step - loss: 9.2721\n",
      "1/1 [==============================] - 0s 49ms/step - loss: 6.2387\n",
      "1/1 [==============================] - 0s 31ms/step - loss: 9.2881\n",
      "1/1 [==============================] - 0s 52ms/step - loss: 6.2378\n",
      "1/1 [==============================] - 0s 31ms/step - loss: 9.3079\n",
      "1/1 [==============================] - 0s 52ms/step - loss: 6.2369\n",
      "1/1 [==============================] - 0s 31ms/step - loss: 9.3332\n",
      "1/1 [==============================] - 0s 52ms/step - loss: 6.2361\n",
      "1/1 [==============================] - 0s 30ms/step - loss: 9.3620\n",
      "1/1 [==============================] - 0s 50ms/step - loss: 6.2354\n",
      "1/1 [==============================] - 0s 31ms/step - loss: 9.3931\n",
      "1/1 [==============================] - 0s 51ms/step - loss: 6.2349\n",
      "1/1 [==============================] - 0s 31ms/step - loss: 9.4512\n",
      "1/1 [==============================] - 0s 51ms/step - loss: 6.2344\n",
      "1/1 [==============================] - 0s 31ms/step - loss: 9.5367\n",
      "1/1 [==============================] - 0s 51ms/step - loss: 6.2340\n",
      "1/1 [==============================] - 0s 30ms/step - loss: 9.6100\n",
      "1/1 [==============================] - 0s 49ms/step - loss: 6.2334\n",
      "1/1 [==============================] - 0s 31ms/step - loss: 9.6781\n",
      "1/1 [==============================] - 0s 51ms/step - loss: 6.2320\n",
      "1/1 [==============================] - 0s 31ms/step - loss: 9.7556\n",
      "1/1 [==============================] - 0s 51ms/step - loss: 6.2309\n",
      "1/1 [==============================] - 0s 31ms/step - loss: 9.8522\n",
      "1/1 [==============================] - 0s 51ms/step - loss: 6.2305\n",
      "1/1 [==============================] - 0s 31ms/step - loss: 9.9676\n",
      "1/1 [==============================] - 0s 49ms/step - loss: 6.2301\n",
      "1/1 [==============================] - 0s 31ms/step - loss: 10.0877\n",
      "1/1 [==============================] - 0s 51ms/step - loss: 6.2291\n",
      "1/1 [==============================] - 0s 31ms/step - loss: 10.2264\n",
      "1/1 [==============================] - 0s 50ms/step - loss: 6.2280\n",
      "1/1 [==============================] - 0s 31ms/step - loss: 10.3890\n",
      "1/1 [==============================] - 0s 51ms/step - loss: 6.2274\n",
      "1/1 [==============================] - 0s 30ms/step - loss: 10.5539\n",
      "1/1 [==============================] - 0s 50ms/step - loss: 6.2272\n",
      "1/1 [==============================] - 0s 31ms/step - loss: 10.7125\n",
      "1/1 [==============================] - 0s 50ms/step - loss: 6.2269\n",
      "1/1 [==============================] - 0s 30ms/step - loss: 10.8694\n",
      "1/1 [==============================] - 0s 52ms/step - loss: 6.2265\n",
      "1/1 [==============================] - 0s 31ms/step - loss: 11.0227\n",
      "1/1 [==============================] - 0s 51ms/step - loss: 6.2260\n",
      "1/1 [==============================] - 0s 31ms/step - loss: 11.1710\n",
      "1/1 [==============================] - 0s 51ms/step - loss: 6.2255\n",
      "1/1 [==============================] - 0s 31ms/step - loss: 11.3141\n",
      "1/1 [==============================] - 0s 51ms/step - loss: 6.2250\n",
      "1/1 [==============================] - 0s 30ms/step - loss: 11.4494\n",
      "1/1 [==============================] - 0s 58ms/step - loss: 6.2244\n",
      "1/1 [==============================] - 0s 34ms/step - loss: 11.5744\n",
      "1/1 [==============================] - 0s 48ms/step - loss: 6.2239\n",
      "1/1 [==============================] - 0s 30ms/step - loss: 11.6907\n",
      "1/1 [==============================] - 0s 50ms/step - loss: 6.2234\n",
      "1/1 [==============================] - 0s 31ms/step - loss: 11.7930\n",
      "1/1 [==============================] - 0s 51ms/step - loss: 6.2228\n",
      "1/1 [==============================] - 0s 31ms/step - loss: 11.8631\n",
      "1/1 [==============================] - 0s 50ms/step - loss: 6.2222\n",
      "1/1 [==============================] - 0s 30ms/step - loss: 11.8987\n",
      "1/1 [==============================] - 0s 44ms/step - loss: 6.2216\n",
      "1/1 [==============================] - 0s 31ms/step - loss: 11.9355\n",
      "1/1 [==============================] - 0s 51ms/step - loss: 6.2209\n",
      "1/1 [==============================] - 0s 31ms/step - loss: 11.9651\n",
      "1/1 [==============================] - 0s 50ms/step - loss: 6.2202\n",
      "1/1 [==============================] - 0s 31ms/step - loss: 11.9836\n",
      "1/1 [==============================] - 0s 50ms/step - loss: 6.2193\n",
      "1/1 [==============================] - 0s 32ms/step - loss: 12.0103\n",
      "1/1 [==============================] - 0s 44ms/step - loss: 6.2188\n",
      "1/1 [==============================] - 0s 32ms/step - loss: 12.0397\n",
      "1/1 [==============================] - 0s 51ms/step - loss: 6.2186\n",
      "1/1 [==============================] - 0s 32ms/step - loss: 12.0808\n",
      "1/1 [==============================] - 0s 51ms/step - loss: 6.2182\n",
      "1/1 [==============================] - 0s 32ms/step - loss: 12.1299\n",
      "1/1 [==============================] - 0s 50ms/step - loss: 6.2179\n",
      "1/1 [==============================] - 0s 32ms/step - loss: 12.1688\n",
      "1/1 [==============================] - 0s 43ms/step - loss: 6.2175\n",
      "1/1 [==============================] - 0s 32ms/step - loss: 12.1941\n"
     ]
    }
   ],
   "source": [
    "dd_losses, dd_val_losses = [], []\n",
    "max_epoch = 100\n",
    "val_size = len(y_val)\n",
    "train_size = len(y_train)\n",
    "\n",
    "for epoch in range(max_epoch):\n",
    "    dd_model.modify_graphgather(train_size)\n",
    "    dd_model.input_shapes = [i.shape for i in x_preprocessed_train]\n",
    "    loss = dd_model.fit(x_train, y_train.reshape([1, -1]), epochs=1)\n",
    "#     metric = dc.metrics.Metric(dc.metrics.score_function.rms_score)\n",
    "    dd_losses.append(loss.history['loss'])\n",
    "    dd_model.input_shapes = [i.shape for i in x_preprocessed_val]\n",
    "    dd_model.modify_graphgather(val_size)\n",
    "    dd_val_losses.append(dd_model.evaluate(x_val, y_val.reshape([1, -1])))"
   ]
  },
  {
   "cell_type": "code",
   "execution_count": 860,
   "metadata": {},
   "outputs": [
    {
     "data": {
      "image/png": "[encoded data removed]",
      "text/plain": [
       "<Figure size 432x288 with 1 Axes>"
      ]
     },
     "metadata": {
      "needs_background": "light"
     },
     "output_type": "display_data"
    }
   ],
   "source": [
    "import matplotlib.pyplot as plt\n",
    "# f, ax = plt.subplots()\n",
    "plt.plot(range(len(dd_losses)), dd_losses, label='train loss')\n",
    "plt.plot(range(len(dd_val_losses)), dd_val_losses, label='val loss')\n",
    "plt.legend(loc='upper right');\n",
    "plt.xlabel(\"Epoch\")\n",
    "plt.ylabel(\"Loss (Kcal/mol)\")\n",
    "plt.ylim(0,100)\n",
    "plt.savefig('ind_loss.png')"
   ]
  },
  {
   "cell_type": "code",
   "execution_count": 861,
   "metadata": {},
   "outputs": [
    {
     "name": "stdout",
     "output_type": "stream",
     "text": [
      "1/1 [==============================] - 0s 37ms/step - loss: 12.1941\n"
     ]
    }
   ],
   "source": [
    "dd_model.input_shapes = [i.shape for i in x_preprocessed_test]\n",
    "dd_model.modify_graphgather(len(y_test))\n",
    "test_pgnn_loss = dd_model.evaluate(x_test, y_test.reshape([1, -1]))"
   ]
  },
  {
   "cell_type": "code",
   "execution_count": 862,
   "metadata": {},
   "outputs": [
    {
     "name": "stdout",
     "output_type": "stream",
     "text": [
      "3.4920012490531374\n"
     ]
    }
   ],
   "source": [
    "dd_rmse_test = np.sqrt(test_pgnn_loss)\n",
    "print(dd_rmse_test)"
   ]
  },
  {
   "cell_type": "code",
   "execution_count": 863,
   "metadata": {},
   "outputs": [
    {
     "data": {
      "text/plain": [
       "[6.21751594543457]"
      ]
     },
     "execution_count": 863,
     "metadata": {},
     "output_type": "execute_result"
    }
   ],
   "source": [
    "dd_train_loss = dd_losses[-1]\n",
    "dd_train_loss"
   ]
  },
  {
   "cell_type": "code",
   "execution_count": 864,
   "metadata": {},
   "outputs": [
    {
     "data": {
      "text/plain": [
       "2.4934947253673045"
      ]
     },
     "execution_count": 864,
     "metadata": {},
     "output_type": "execute_result"
    }
   ],
   "source": [
    "import math\n",
    "train_dd_rmse = math.sqrt(dd_train_loss[0])\n",
    "train_dd_rmse"
   ]
  },
  {
   "cell_type": "code",
   "execution_count": 865,
   "metadata": {},
   "outputs": [],
   "source": [
    "dd_test_accuracy.append(dd_rmse_test)\n",
    "dd_train_accuracy.append(train_dd_rmse)"
   ]
  },
  {
   "cell_type": "code",
   "execution_count": 866,
   "metadata": {},
   "outputs": [
    {
     "name": "stdout",
     "output_type": "stream",
     "text": [
      "[2.7476471459067344, 2.235096528189762, 2.450360727028965, 1.172321590522769, 3.5912934241373193, 2.7393148215714285, 2.6855213954757207, 2.295871022140655, 3.5633989504942187, 2.3038956655813476, 1.493962375754382, 3.4920012490531374]\n"
     ]
    }
   ],
   "source": [
    "print(dd_test_accuracy)"
   ]
  },
  {
   "cell_type": "markdown",
   "metadata": {},
   "source": [
    "<h1> Model Comparisons </h1>"
   ]
  },
  {
   "cell_type": "code",
   "execution_count": 730,
   "metadata": {
    "scrolled": true
   },
   "outputs": [
    {
     "ename": "NameError",
     "evalue": "name 'physics_based_rmse_test' is not defined",
     "output_type": "error",
     "traceback": [
      "\u001b[0;31m---------------------------------------------------------------------------\u001b[0m",
      "\u001b[0;31mNameError\u001b[0m                                 Traceback (most recent call last)",
      "\u001b[0;32m/var/folders/hb/w4jx_9s16rj63db5bscbr46h0000gp/T/ipykernel_61511/500204064.py\u001b[0m in \u001b[0;36m<module>\u001b[0;34m\u001b[0m\n\u001b[1;32m      4\u001b[0m \u001b[0mrmse_table\u001b[0m\u001b[0;34m.\u001b[0m\u001b[0mtitle\u001b[0m\u001b[0;34m=\u001b[0m\u001b[0;34m\"Test Set RMSE\"\u001b[0m\u001b[0;34m\u001b[0m\u001b[0;34m\u001b[0m\u001b[0m\n\u001b[1;32m      5\u001b[0m \u001b[0mrmse_table\u001b[0m\u001b[0;34m.\u001b[0m\u001b[0mfield_names\u001b[0m \u001b[0;34m=\u001b[0m \u001b[0;34m[\u001b[0m\u001b[0;34m\"GBNSR6\"\u001b[0m\u001b[0;34m,\u001b[0m \u001b[0;34m\"Data Driven\"\u001b[0m\u001b[0;34m,\u001b[0m \u001b[0;34m\"PGNN\"\u001b[0m\u001b[0;34m]\u001b[0m\u001b[0;34m\u001b[0m\u001b[0;34m\u001b[0m\u001b[0m\n\u001b[0;32m----> 6\u001b[0;31m \u001b[0mrmse_table\u001b[0m\u001b[0;34m.\u001b[0m\u001b[0madd_row\u001b[0m\u001b[0;34m(\u001b[0m\u001b[0;34m[\u001b[0m\u001b[0;34m\"{:.2f}\"\u001b[0m\u001b[0;34m.\u001b[0m\u001b[0mformat\u001b[0m\u001b[0;34m(\u001b[0m\u001b[0mphysics_based_rmse_test\u001b[0m\u001b[0;34m)\u001b[0m\u001b[0;34m,\u001b[0m \u001b[0;34m\"{:.2f}\"\u001b[0m\u001b[0;34m.\u001b[0m\u001b[0mformat\u001b[0m\u001b[0;34m(\u001b[0m\u001b[0mdd_rmse_test\u001b[0m\u001b[0;34m)\u001b[0m\u001b[0;34m,\u001b[0m\u001b[0;34m\"{:.2f}\"\u001b[0m\u001b[0;34m.\u001b[0m\u001b[0mformat\u001b[0m\u001b[0;34m(\u001b[0m\u001b[0mpgnn_rmse_test\u001b[0m\u001b[0;34m)\u001b[0m\u001b[0;34m]\u001b[0m\u001b[0;34m)\u001b[0m\u001b[0;34m\u001b[0m\u001b[0;34m\u001b[0m\u001b[0m\n\u001b[0m\u001b[1;32m      7\u001b[0m \u001b[0mprint\u001b[0m\u001b[0;34m(\u001b[0m\u001b[0mrmse_table\u001b[0m\u001b[0;34m)\u001b[0m\u001b[0;34m\u001b[0m\u001b[0;34m\u001b[0m\u001b[0m\n",
      "\u001b[0;31mNameError\u001b[0m: name 'physics_based_rmse_test' is not defined"
     ]
    }
   ],
   "source": [
    "# Test\n",
    "from prettytable import PrettyTable\n",
    "rmse_table = PrettyTable()\n",
    "rmse_table.title=\"Test Set RMSE\"\n",
    "rmse_table.field_names = [\"GBNSR6\", \"Data Driven\", \"PGNN\"]\n",
    "rmse_table.add_row([\"{:.2f}\".format(physics_based_rmse_test), \"{:.2f}\".format(dd_rmse_test),\"{:.2f}\".format(pgnn_rmse_test)])\n",
    "print(rmse_table)"
   ]
  },
  {
   "cell_type": "code",
   "execution_count": 94,
   "metadata": {},
   "outputs": [
    {
     "name": "stdout",
     "output_type": "stream",
     "text": [
      "+-----------------------------+\n",
      "|        Train Set RMSE       |\n",
      "+--------+-------------+------+\n",
      "| GBNSR6 | Data Driven | PGNN |\n",
      "+--------+-------------+------+\n",
      "|  9.17  |     1.94    | 3.79 |\n",
      "+--------+-------------+------+\n"
     ]
    }
   ],
   "source": [
    "# Train\n",
    "rmse_table = PrettyTable()\n",
    "rmse_table.title=\"Train Set RMSE\"\n",
    "rmse_table.field_names = [\"GBNSR6\", \"Data Driven\", \"PGNN\"]\n",
    "rmse_table.add_row([\"{:.2f}\".format(physics_based_rmse_train), \"{:.2f}\".format(train_dd_rmse),\"{:.2f}\".format(train_hybrid_rmse)])\n",
    "print(rmse_table)"
   ]
  },
  {
   "cell_type": "markdown",
   "metadata": {},
   "source": [
    "<h1> PGNN and DD model average performance analysis </h1>"
   ]
  },
  {
   "cell_type": "code",
   "execution_count": 867,
   "metadata": {},
   "outputs": [],
   "source": [
    "train_results_dict = {\n",
    "    \"pgnn_train\" : [x for x in pgnn_train_accuracy],\n",
    "    \"dd_train\" : [x for x in dd_train_accuracy]\n",
    "}\n",
    "test_results_dict ={\n",
    "    \"pgnn_test\" : [x for x in pgnn_test_accuracy],\n",
    "    \"dd_test\" : [x for x in dd_test_accuracy]\n",
    "}"
   ]
  },
  {
   "cell_type": "code",
   "execution_count": 883,
   "metadata": {},
   "outputs": [
    {
     "data": {
      "text/plain": [
       "(2.0, 5.0)"
      ]
     },
     "execution_count": 883,
     "metadata": {},
     "output_type": "execute_result"
    },
    {
     "data": {
      "image/png": "[encoded data removed]",
      "text/plain": [
       "<Figure size 720x864 with 1 Axes>"
      ]
     },
     "metadata": {
      "needs_background": "light"
     },
     "output_type": "display_data"
    }
   ],
   "source": [
    "import matplotlib.pyplot as plt\n",
    "# Train box plot\n",
    "plt.figure(figsize=(10,12))\n",
    "plt.title(\"Train RMSE comparison\")\n",
    "plt.boxplot([x for x in train_results_dict.values()],labels=[x for x in train_results_dict.keys()])\n",
    "plt.xlabel(\"PGNN and DD train\")\n",
    "plt.ylabel(\"RMSE\")\n",
    "plt.ylim(2, 5, 0.3)\n"
   ]
  },
  {
   "cell_type": "code",
   "execution_count": 884,
   "metadata": {},
   "outputs": [
    {
     "data": {
      "text/plain": [
       "(0.0, 8.0)"
      ]
     },
     "execution_count": 884,
     "metadata": {},
     "output_type": "execute_result"
    },
    {
     "data": {
      "image/png": "[encoded data removed]",
      "text/plain": [
       "<Figure size 720x864 with 1 Axes>"
      ]
     },
     "metadata": {
      "needs_background": "light"
     },
     "output_type": "display_data"
    }
   ],
   "source": [
    "import matplotlib.pyplot as plt\n",
    "# Test box plot\n",
    "plt.figure(figsize=(10,12))\n",
    "plt.title(\"Test RMSE comparison\")\n",
    "plt.boxplot([x for x in test_results_dict.values()],labels=[x for x in test_results_dict.keys()])\n",
    "plt.xlabel(\"PGNN and DD train\")\n",
    "plt.ylabel(\"RMSE\")\n",
    "plt.ylim(0, 8, 0.3)\n",
    "\n"
   ]
  },
  {
   "cell_type": "code",
   "execution_count": null,
   "metadata": {},
   "outputs": [],
   "source": []
  }
 ],
 "metadata": {
  "kernelspec": {
   "display_name": "rdkit-deepchem-jupyter",
   "language": "python",
   "name": "rdkit-deepchem-jupyter"
  },
  "language_info": {
   "codemirror_mode": {
    "name": "ipython",
    "version": 3
   },
   "file_extension": ".py",
   "mimetype": "text/x-python",
   "name": "python",
   "nbconvert_exporter": "python",
   "pygments_lexer": "ipython3",
   "version": "3.9.7"
  }
 },
 "nbformat": 4,
 "nbformat_minor": 4
}
