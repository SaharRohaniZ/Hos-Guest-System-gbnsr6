{
 "cells": [
  {
   "cell_type": "markdown",
   "metadata": {},
   "source": [
    "<h1>Installing RDKit</h1>"
   ]
  },
  {
   "cell_type": "code",
   "execution_count": 587,
   "metadata": {},
   "outputs": [],
   "source": [
    "import rdkit\n",
    "import deepchem as dc\n",
    "import pandas as pd\n",
    "import numpy as np\n",
    "import tensorflow as tf\n",
    "import sklearn"
   ]
  },
  {
   "cell_type": "code",
   "execution_count": 588,
   "metadata": {},
   "outputs": [
    {
     "data": {
      "text/plain": [
       "'2.5.0'"
      ]
     },
     "execution_count": 588,
     "metadata": {},
     "output_type": "execute_result"
    }
   ],
   "source": [
    "dc.__version__"
   ]
  },
  {
   "cell_type": "code",
   "execution_count": 589,
   "metadata": {},
   "outputs": [
    {
     "data": {
      "text/plain": [
       "'1.19.5'"
      ]
     },
     "execution_count": 589,
     "metadata": {},
     "output_type": "execute_result"
    }
   ],
   "source": [
    "np.__version__"
   ]
  },
  {
   "cell_type": "code",
   "execution_count": 590,
   "metadata": {},
   "outputs": [
    {
     "data": {
      "text/plain": [
       "'2.6.0'"
      ]
     },
     "execution_count": 590,
     "metadata": {},
     "output_type": "execute_result"
    }
   ],
   "source": [
    "tf.__version__"
   ]
  },
  {
   "cell_type": "code",
   "execution_count": 591,
   "metadata": {},
   "outputs": [],
   "source": [
    "df = pd.read_csv('https://raw.githubusercontent.com/saharctech/Binding-Free-Energy-Prediction-Host-Guest-System/master/Results/dataset.csv')"
   ]
  },
  {
   "cell_type": "code",
   "execution_count": 592,
   "metadata": {},
   "outputs": [
    {
     "data": {
      "text/html": [
       "<div>\n",
       "<style scoped>\n",
       "    .dataframe tbody tr th:only-of-type {\n",
       "        vertical-align: middle;\n",
       "    }\n",
       "\n",
       "    .dataframe tbody tr th {\n",
       "        vertical-align: top;\n",
       "    }\n",
       "\n",
       "    .dataframe thead th {\n",
       "        text-align: right;\n",
       "    }\n",
       "</style>\n",
       "<table border=\"1\" class=\"dataframe\">\n",
       "  <thead>\n",
       "    <tr style=\"text-align: right;\">\n",
       "      <th></th>\n",
       "      <th>dataset group name</th>\n",
       "      <th>Dataset Name</th>\n",
       "      <th>Host</th>\n",
       "      <th>Guest</th>\n",
       "      <th>Ex _G_(kcal/mol)</th>\n",
       "      <th>Ex _G_SEM</th>\n",
       "      <th>EX _H_(kcal/mol)</th>\n",
       "      <th>EX _H_SEM</th>\n",
       "      <th>pb_guest_Etot</th>\n",
       "      <th>pb_guest_VDWAALS</th>\n",
       "      <th>...</th>\n",
       "      <th>gb_host_1-4EEL</th>\n",
       "      <th>gb_host_EELEC</th>\n",
       "      <th>gb_host_EGB</th>\n",
       "      <th>gb_host_ESURF</th>\n",
       "      <th>gb_delta_H</th>\n",
       "      <th>pb_delta_H</th>\n",
       "      <th>EX _delta_H_(kcal/mol)</th>\n",
       "      <th>gb_Ex_difference</th>\n",
       "      <th>SQR_gbnsr6_Ex_difference</th>\n",
       "      <th>pb_Ex_difference</th>\n",
       "    </tr>\n",
       "  </thead>\n",
       "  <tbody>\n",
       "    <tr>\n",
       "      <th>0</th>\n",
       "      <td>Mobley benchmarkset</td>\n",
       "      <td>cd-set1</td>\n",
       "      <td>acd</td>\n",
       "      <td>guest-1</td>\n",
       "      <td>-1.575</td>\n",
       "      <td>0.019</td>\n",
       "      <td>-2.17</td>\n",
       "      <td>0.05</td>\n",
       "      <td>-47.8832</td>\n",
       "      <td>-0.0564</td>\n",
       "      <td>...</td>\n",
       "      <td>423.5761</td>\n",
       "      <td>-428.9520</td>\n",
       "      <td>-96.4471</td>\n",
       "      <td>5.1691</td>\n",
       "      <td>-1.9950</td>\n",
       "      <td>-0.8408</td>\n",
       "      <td>-2.17</td>\n",
       "      <td>0.1750</td>\n",
       "      <td>0.030625</td>\n",
       "      <td>1.3292</td>\n",
       "    </tr>\n",
       "    <tr>\n",
       "      <th>1</th>\n",
       "      <td>Mobley benchmarkset</td>\n",
       "      <td>cd-set1</td>\n",
       "      <td>acd</td>\n",
       "      <td>guest-2</td>\n",
       "      <td>-3.533</td>\n",
       "      <td>0.004</td>\n",
       "      <td>-4.19</td>\n",
       "      <td>0.02</td>\n",
       "      <td>-52.0758</td>\n",
       "      <td>-0.3831</td>\n",
       "      <td>...</td>\n",
       "      <td>412.6663</td>\n",
       "      <td>-397.9784</td>\n",
       "      <td>-106.4154</td>\n",
       "      <td>5.0726</td>\n",
       "      <td>-11.2624</td>\n",
       "      <td>-8.4809</td>\n",
       "      <td>-4.19</td>\n",
       "      <td>-7.0724</td>\n",
       "      <td>50.018842</td>\n",
       "      <td>-4.2909</td>\n",
       "    </tr>\n",
       "    <tr>\n",
       "      <th>2</th>\n",
       "      <td>Mobley benchmarkset</td>\n",
       "      <td>cd-set1</td>\n",
       "      <td>acd</td>\n",
       "      <td>guest-3</td>\n",
       "      <td>-4.606</td>\n",
       "      <td>0.007</td>\n",
       "      <td>-5.46</td>\n",
       "      <td>0.03</td>\n",
       "      <td>-51.5323</td>\n",
       "      <td>-0.6493</td>\n",
       "      <td>...</td>\n",
       "      <td>426.2925</td>\n",
       "      <td>-429.3068</td>\n",
       "      <td>-95.2452</td>\n",
       "      <td>5.1352</td>\n",
       "      <td>-15.4074</td>\n",
       "      <td>-13.8234</td>\n",
       "      <td>-5.46</td>\n",
       "      <td>-9.9474</td>\n",
       "      <td>98.950767</td>\n",
       "      <td>-8.3634</td>\n",
       "    </tr>\n",
       "    <tr>\n",
       "      <th>3</th>\n",
       "      <td>Mobley benchmarkset</td>\n",
       "      <td>cd-set1</td>\n",
       "      <td>acd</td>\n",
       "      <td>guest-4</td>\n",
       "      <td>-2.130</td>\n",
       "      <td>0.016</td>\n",
       "      <td>-2.74</td>\n",
       "      <td>0.02</td>\n",
       "      <td>2.3898</td>\n",
       "      <td>-0.0159</td>\n",
       "      <td>...</td>\n",
       "      <td>420.0687</td>\n",
       "      <td>-416.5215</td>\n",
       "      <td>-97.4461</td>\n",
       "      <td>5.0849</td>\n",
       "      <td>-10.5586</td>\n",
       "      <td>-11.3319</td>\n",
       "      <td>-2.74</td>\n",
       "      <td>-7.8186</td>\n",
       "      <td>61.130506</td>\n",
       "      <td>-8.5919</td>\n",
       "    </tr>\n",
       "    <tr>\n",
       "      <th>4</th>\n",
       "      <td>Mobley benchmarkset</td>\n",
       "      <td>cd-set1</td>\n",
       "      <td>acd</td>\n",
       "      <td>guest-5</td>\n",
       "      <td>-2.510</td>\n",
       "      <td>0.060</td>\n",
       "      <td>-2.99</td>\n",
       "      <td>0.23</td>\n",
       "      <td>-3.2280</td>\n",
       "      <td>-0.9041</td>\n",
       "      <td>...</td>\n",
       "      <td>425.7315</td>\n",
       "      <td>-435.9689</td>\n",
       "      <td>-91.2312</td>\n",
       "      <td>5.0881</td>\n",
       "      <td>-14.5517</td>\n",
       "      <td>-14.0485</td>\n",
       "      <td>-2.99</td>\n",
       "      <td>-11.5617</td>\n",
       "      <td>133.672907</td>\n",
       "      <td>-11.0585</td>\n",
       "    </tr>\n",
       "  </tbody>\n",
       "</table>\n",
       "<p>5 rows × 44 columns</p>\n",
       "</div>"
      ],
      "text/plain": [
       "    dataset group name Dataset Name Host    Guest  Ex _G_(kcal/mol)  \\\n",
       "0  Mobley benchmarkset      cd-set1  acd  guest-1            -1.575   \n",
       "1  Mobley benchmarkset      cd-set1  acd  guest-2            -3.533   \n",
       "2  Mobley benchmarkset      cd-set1  acd  guest-3            -4.606   \n",
       "3  Mobley benchmarkset      cd-set1  acd  guest-4            -2.130   \n",
       "4  Mobley benchmarkset      cd-set1  acd  guest-5            -2.510   \n",
       "\n",
       "   Ex _G_SEM  EX _H_(kcal/mol)  EX _H_SEM  pb_guest_Etot  pb_guest_VDWAALS  \\\n",
       "0      0.019             -2.17       0.05       -47.8832           -0.0564   \n",
       "1      0.004             -4.19       0.02       -52.0758           -0.3831   \n",
       "2      0.007             -5.46       0.03       -51.5323           -0.6493   \n",
       "3      0.016             -2.74       0.02         2.3898           -0.0159   \n",
       "4      0.060             -2.99       0.23        -3.2280           -0.9041   \n",
       "\n",
       "   ...  gb_host_1-4EEL  gb_host_EELEC  gb_host_EGB  gb_host_ESURF  gb_delta_H  \\\n",
       "0  ...        423.5761      -428.9520     -96.4471         5.1691     -1.9950   \n",
       "1  ...        412.6663      -397.9784    -106.4154         5.0726    -11.2624   \n",
       "2  ...        426.2925      -429.3068     -95.2452         5.1352    -15.4074   \n",
       "3  ...        420.0687      -416.5215     -97.4461         5.0849    -10.5586   \n",
       "4  ...        425.7315      -435.9689     -91.2312         5.0881    -14.5517   \n",
       "\n",
       "   pb_delta_H  EX _delta_H_(kcal/mol)  gb_Ex_difference  \\\n",
       "0     -0.8408                   -2.17            0.1750   \n",
       "1     -8.4809                   -4.19           -7.0724   \n",
       "2    -13.8234                   -5.46           -9.9474   \n",
       "3    -11.3319                   -2.74           -7.8186   \n",
       "4    -14.0485                   -2.99          -11.5617   \n",
       "\n",
       "   SQR_gbnsr6_Ex_difference  pb_Ex_difference  \n",
       "0                  0.030625            1.3292  \n",
       "1                 50.018842           -4.2909  \n",
       "2                 98.950767           -8.3634  \n",
       "3                 61.130506           -8.5919  \n",
       "4                133.672907          -11.0585  \n",
       "\n",
       "[5 rows x 44 columns]"
      ]
     },
     "execution_count": 592,
     "metadata": {},
     "output_type": "execute_result"
    }
   ],
   "source": [
    "df.head()"
   ]
  },
  {
   "cell_type": "markdown",
   "metadata": {},
   "source": [
    "<h1>Reading Mobley PDB files</h1>\n",
    "<p>Here each PDB file will be read and saved in Mol data type defined in RDKit and used by DeepChem</p>"
   ]
  },
  {
   "cell_type": "code",
   "execution_count": 833,
   "metadata": {},
   "outputs": [],
   "source": [
    "# Dictionary with complex names as keys and molecule as values\n",
    "PDBs = {}\n",
    "from os import listdir\n",
    "from os.path import isfile, join\n",
    "mypath = '/Users/misspotato/Documents/Github/Binding-Free-Energy-Prediction-Host-Guest-System/PDB'\n",
    "onlyfiles = [f for f in listdir(mypath) if isfile(join(mypath, f))]\n",
    "for f in onlyfiles:\n",
    "    PDBs.update({f.split('.')[0].replace('s', '') : rdkit.Chem.rdmolfiles.MolFromPDBFile(mypath + '/' + f)})"
   ]
  },
  {
   "cell_type": "code",
   "execution_count": 834,
   "metadata": {},
   "outputs": [],
   "source": [
    "# Randomly shuffling the PDBs\n",
    "import random\n",
    "l = list(PDBs.items())\n",
    "random.shuffle(l)\n",
    "PDBs = dict(l)"
   ]
  },
  {
   "cell_type": "markdown",
   "metadata": {},
   "source": [
    "<h1>Featurizing</h1>\n",
    "<p>GraphConv model needs ConvMolFeaturizer</p>"
   ]
  },
  {
   "cell_type": "code",
   "execution_count": 835,
   "metadata": {},
   "outputs": [],
   "source": [
    "featurizer = dc.feat.ConvMolFeaturizer(per_atom_fragmentation=False)\n",
    "TRAIN_SET = .7\n",
    "VAL_SET = .3"
   ]
  },
  {
   "cell_type": "code",
   "execution_count": 836,
   "metadata": {},
   "outputs": [],
   "source": [
    "PDBs.pop('',None)\n",
    "X = []\n",
    "X_ids = []\n",
    "# one_add = 0 if len(PDBs.keys()) % 2 == 0 else 1\n",
    "for k in PDBs.keys():\n",
    "    X_ids.append(k)\n",
    "    X.append(featurizer.featurize(PDBs[k]))\n",
    "train_split_index = int(len(X) * TRAIN_SET)\n",
    "val_split_index = int(len(X) * VAL_SET)\n",
    "X = [x[0] for x in X]\n",
    "X_train_featurized = X[:train_split_index]\n",
    "# X_val_featurized = X[train_split_index: (train_split_index + val_split_index)]\n",
    "X_val_featurized = X[train_split_index:]\n",
    "X_test_featurized = X[train_split_index:]"
   ]
  },
  {
   "cell_type": "code",
   "execution_count": 837,
   "metadata": {},
   "outputs": [],
   "source": [
    "host_names = [i.split('-')[0] for i in X_ids]\n",
    "guest_names = ['guest-' + (i.split('-')[1].replace('s', '')) for i in X_ids]"
   ]
  },
  {
   "cell_type": "code",
   "execution_count": 838,
   "metadata": {},
   "outputs": [],
   "source": [
    "# train\n",
    "host_names_train = host_names[:train_split_index]\n",
    "guest_names_train = guest_names[:train_split_index]\n",
    "# Val\n",
    "# host_names_val = host_names[train_split_index:(train_split_index + val_split_index)]\n",
    "# guest_names_val = guest_names[train_split_index:(train_split_index + val_split_index)]\n",
    "host_names_val = host_names[train_split_index:]\n",
    "guest_names_val = guest_names[train_split_index:]\n",
    "# test\n",
    "host_names_test = host_names[train_split_index:]\n",
    "guest_names_test = guest_names[train_split_index:]\n"
   ]
  },
  {
   "cell_type": "code",
   "execution_count": 839,
   "metadata": {},
   "outputs": [],
   "source": [
    "x_add_train, x_add_val, x_add_test, y_train, y_val, y_test = [], [], [], [], [], []\n",
    "# Train\n",
    "for i in range(len(host_names_train)):\n",
    "    new_df = df[(df['Host'] == host_names_train[i]) & (df['Guest'] == guest_names_train[i])]\n",
    "    y_train.append(new_df['Ex _G_(kcal/mol)'].to_numpy()[0])\n",
    "    x_add_train.append(new_df[[c for c in df.columns if ('Etot' not in c) and ('delta' not in c)\n",
    "                         and ('Ex_difference' not in c) and ('gb_' in c or 'VDWAALS' in c)]].to_numpy()[0])\n",
    "y_train = np.array(y_train)\n",
    "# Val\n",
    "for i in range(len(host_names_val)):\n",
    "    new_df = df[(df['Host'] == host_names_val[i]) & (df['Guest'] == guest_names_val[i])]\n",
    "    y_val.append(new_df['Ex _G_(kcal/mol)'].to_numpy()[0])\n",
    "    x_add_val.append(new_df[[c for c in df.columns if ('Etot' not in c) and ('delta' not in c)\n",
    "                         and ('Ex_difference' not in c) and ('gb_' in c or 'VDWAALS' in c)]].to_numpy()[0])\n",
    "y_val = np.array(y_val)\n",
    "\n",
    "# Test\n",
    "for i in range(len(host_names_test)):\n",
    "    new_df = df[(df['Host'] == host_names_test[i]) & (df['Guest'] == guest_names_test[i])]\n",
    "    y_test.append(new_df['Ex _G_(kcal/mol)'].to_numpy()[0])\n",
    "    x_add_test.append(new_df[[c for c in df.columns if ('Etot' not in c) and ('delta' not in c)\n",
    "                         and ('Ex_difference' not in c) and ('gb_' in c or 'VDWAALS' in c)]].to_numpy()[0])\n",
    "y_test = np.array(y_test)"
   ]
  },
  {
   "cell_type": "code",
   "execution_count": 840,
   "metadata": {},
   "outputs": [
    {
     "data": {
      "text/plain": [
       "22"
      ]
     },
     "execution_count": 840,
     "metadata": {},
     "output_type": "execute_result"
    }
   ],
   "source": [
    "len(y_val)"
   ]
  },
  {
   "cell_type": "code",
   "execution_count": 841,
   "metadata": {},
   "outputs": [],
   "source": [
    "from deepchem.metrics import to_one_hot\n",
    "from deepchem.feat.mol_graphs import ConvMol\n",
    "\n",
    "x_preprocessed_train, x_preprocessed_val, x_preprocessed_test = [], [], []\n",
    "\n",
    "## for X train\n",
    "multiConvMol = ConvMol.agglomerate_mols(X_train_featurized)\n",
    "x_preprocessed_train = [multiConvMol.get_atom_features(), multiConvMol.deg_slice, np.array(multiConvMol.membership)]\n",
    "for i in range(1, len(multiConvMol.get_deg_adjacency_lists())):\n",
    "    x_preprocessed_train.append(multiConvMol.get_deg_adjacency_lists()[i])\n",
    "x_preprocessed_train.append(np.array(x_add_train))\n",
    "\n",
    "## for X val\n",
    "multiConvMol = ConvMol.agglomerate_mols(X_val_featurized)\n",
    "x_preprocessed_val = [multiConvMol.get_atom_features(), multiConvMol.deg_slice, np.array(multiConvMol.membership)]\n",
    "for i in range(1, len(multiConvMol.get_deg_adjacency_lists())):\n",
    "    x_preprocessed_val.append(multiConvMol.get_deg_adjacency_lists()[i])\n",
    "x_preprocessed_val.append(np.array(x_add_val))\n",
    "\n",
    "\n",
    "## for X test\n",
    "multiConvMol = ConvMol.agglomerate_mols(X_test_featurized)\n",
    "x_preprocessed_test = [multiConvMol.get_atom_features(), multiConvMol.deg_slice, np.array(multiConvMol.membership)]\n",
    "for i in range(1, len(multiConvMol.get_deg_adjacency_lists())):\n",
    "    x_preprocessed_test.append(multiConvMol.get_deg_adjacency_lists()[i])\n",
    "x_preprocessed_test.append(np.array(x_add_test))"
   ]
  },
  {
   "cell_type": "code",
   "execution_count": 842,
   "metadata": {},
   "outputs": [],
   "source": [
    "# Train\n",
    "x_train = np.full([14, np.max([v.shape[0] for v in x_preprocessed_train]),\n",
    "                  np.max([v.shape[1] for v in x_preprocessed_train if len(v.shape) > 1])], 1.123456)\n",
    "for i,j in enumerate(x_preprocessed_train):\n",
    "    if len(j.shape) > 1:\n",
    "        x_train[i][:j.shape[0],:j.shape[1]] = np.array(j)\n",
    "    else:\n",
    "        x_train[i][:len(j), :1] = np.array(j).reshape(j.shape[0], 1)\n",
    "x_train = x_train.reshape([1] + list(x_train.shape))\n",
    "\n",
    "# Validation\n",
    "x_val = np.full([14, np.max([v.shape[0] for v in x_preprocessed_val]),\n",
    "                  np.max([v.shape[1] for v in x_preprocessed_val if len(v.shape) > 1])], 1.123456)\n",
    "for i,j in enumerate(x_preprocessed_val):\n",
    "    if len(j.shape) > 1:\n",
    "        x_val[i][:j.shape[0],:j.shape[1]] = np.array(j)\n",
    "    else:\n",
    "        x_val[i][:len(j), :1] = np.array(j).reshape(j.shape[0], 1)\n",
    "x_val = x_val.reshape([1] + list(x_val.shape))\n",
    "\n",
    "# Test\n",
    "x_test = np.full([14, np.max([v.shape[0] for v in x_preprocessed_test]),\n",
    "                  np.max([v.shape[1] for v in x_preprocessed_test if len(v.shape) > 1])], 1.123456)\n",
    "for i,j in enumerate(x_preprocessed_test):\n",
    "    if len(j.shape) > 1:\n",
    "        x_test[i][:j.shape[0],:j.shape[1]] = np.array(j)\n",
    "    else:\n",
    "        x_test[i][:len(j), :1] = np.array(j).reshape(j.shape[0], 1)\n",
    "x_test = x_test.reshape([1] + list(x_test.shape))"
   ]
  },
  {
   "cell_type": "markdown",
   "metadata": {},
   "source": [
    "<h1>Physics Guided Neural Network Model</h1>"
   ]
  },
  {
   "cell_type": "code",
   "execution_count": 843,
   "metadata": {},
   "outputs": [],
   "source": [
    "# pgnn_test_accuracy = []\n",
    "# pgnn_train_accuracy = []"
   ]
  },
  {
   "cell_type": "code",
   "execution_count": 844,
   "metadata": {},
   "outputs": [
    {
     "data": {
      "text/plain": [
       "50"
      ]
     },
     "execution_count": 844,
     "metadata": {},
     "output_type": "execute_result"
    }
   ],
   "source": [
    "## !!!!!!!! important\n",
    "## !!!!!!!! important\n",
    "## !!!!!!!! important\n",
    "## !!!!!!!! important\n",
    "batch_size = len(host_names_train)\n",
    "batch_size\n",
    "# batch_size=10"
   ]
  },
  {
   "cell_type": "code",
   "execution_count": 845,
   "metadata": {},
   "outputs": [],
   "source": [
    "from deepchem.models.layers import GraphConv, GraphPool, GraphGather\n",
    "import tensorflow as tf\n",
    "import tensorflow.keras.layers as layers\n",
    "from tensorflow.keras.layers import Dense, Input, BatchNormalization, Concatenate\n",
    "from tensorflow.keras import initializers\n",
    "\n",
    "\n",
    "class GBGraphConvModel(tf.keras.Model):\n",
    "\n",
    "  def modify_graphgather(self, batch_size):\n",
    "    self.readout.batch_size = batch_size\n",
    "    self.batch_size = batch_size\n",
    "  def __init__(self, batch_size):\n",
    "    super(GBGraphConvModel, self).__init__()\n",
    "    self.input_shapes = None\n",
    "    self.batch_size = batch_size\n",
    "    self.gc1 = GraphConv(32, activation_fn=tf.nn.tanh)\n",
    "    self.batch_norm1 = layers.BatchNormalization()\n",
    "    self.gp1 = GraphPool()\n",
    "\n",
    "    self.gc2 = GraphConv(32, activation_fn=tf.nn.tanh)\n",
    "    self.batch_norm2 = layers.BatchNormalization()\n",
    "    self.gp2 = GraphPool()\n",
    "\n",
    "    self.dense1 = layers.Dense(64, activation=tf.nn.tanh)\n",
    "    self.batch_norm3 = layers.BatchNormalization()\n",
    "    self.readout = GraphGather(batch_size=self.batch_size, activation_fn=tf.nn.tanh)\n",
    "\n",
    "    self.dense2 = layers.Dense(1)\n",
    "    self.dense3 = layers.Dense(1, \n",
    "         kernel_initializer=initializers.Constant([.5, -1, -1, 1, 1, 1, 1, 1, -1, -1, -1, -1, -1, -1, -1, -1]),\n",
    "         bias_initializer=initializers.Zeros())\n",
    "\n",
    "  def call(self, inputs):\n",
    "    inputs = inputs[0]\n",
    "    x = []\n",
    "#     input_shapes = [[4822, 75], [11, 2], [4822], [1142, 1], [1635, 2], [2042, 3],\n",
    "#                    [3, 4], [0, 5], [0, 6], [0, 7], [0, 8], [0, 9], [0, 10]]\n",
    "    for i in range(len(self.input_shapes)):\n",
    "        x.append(tf.reshape(inputs[i][inputs[i] != 1.123456], self.input_shapes[i]))\n",
    "    for i in range(1, len(self.input_shapes)):\n",
    "        x[i] = tf.cast(x[i], tf.int32)\n",
    "    x_add = tf.reshape(inputs[13][inputs[13] != 1.123456], [self.batch_size, 15])\n",
    "    gc1_output = self.gc1(x)\n",
    "    batch_norm1_output = self.batch_norm1(gc1_output)\n",
    "    gp1_output = self.gp1([batch_norm1_output] + x[1:])\n",
    "\n",
    "    gc2_output = self.gc2([gp1_output] + x[1:])\n",
    "    batch_norm2_output = self.batch_norm1(gc2_output)\n",
    "    gp2_output = self.gp2([batch_norm2_output] + x[1:])\n",
    "\n",
    "    dense1_output = self.dense1(gp2_output)\n",
    "    batch_norm3_output = self.batch_norm3(dense1_output)\n",
    "    readout_output = self.readout([batch_norm3_output] + x[1:])\n",
    "    \n",
    "    model_var = self.dense2(readout_output)\n",
    "    binding_affinity = tf.concat([model_var, x_add], axis=1)\n",
    "    return self.dense3(binding_affinity)\n",
    "hybrid_model = GBGraphConvModel(train_split_index)\n",
    "hybrid_model.compile(loss='mse', optimizer='adam')"
   ]
  },
  {
   "cell_type": "code",
   "execution_count": 846,
   "metadata": {},
   "outputs": [
    {
     "name": "stderr",
     "output_type": "stream",
     "text": [
      "/Users/misspotato/opt/miniconda3/envs/rdkit-deepchem-jupyter/lib/python3.9/site-packages/tensorflow/python/framework/indexed_slices.py:447: UserWarning: Converting sparse IndexedSlices(IndexedSlices(indices=Tensor(\"gradient_tape/gb_graph_conv_model_48/graph_pool_97/Reshape_14:0\", shape=(1057,), dtype=int32), values=Tensor(\"gradient_tape/gb_graph_conv_model_48/graph_pool_97/Reshape_13:0\", shape=(1057, 32), dtype=float32), dense_shape=Tensor(\"gradient_tape/gb_graph_conv_model_48/graph_pool_97/Cast_4:0\", shape=(2,), dtype=int32))) to a dense Tensor of unknown shape. This may consume a large amount of memory.\n",
      "  warnings.warn(\n",
      "/Users/misspotato/opt/miniconda3/envs/rdkit-deepchem-jupyter/lib/python3.9/site-packages/tensorflow/python/framework/indexed_slices.py:447: UserWarning: Converting sparse IndexedSlices(IndexedSlices(indices=Tensor(\"gradient_tape/gb_graph_conv_model_48/graph_pool_97/Reshape_17:0\", shape=(3502,), dtype=int32), values=Tensor(\"gradient_tape/gb_graph_conv_model_48/graph_pool_97/Reshape_16:0\", shape=(3502, 32), dtype=float32), dense_shape=Tensor(\"gradient_tape/gb_graph_conv_model_48/graph_pool_97/Cast_5:0\", shape=(2,), dtype=int32))) to a dense Tensor of unknown shape. This may consume a large amount of memory.\n",
      "  warnings.warn(\n",
      "/Users/misspotato/opt/miniconda3/envs/rdkit-deepchem-jupyter/lib/python3.9/site-packages/tensorflow/python/framework/indexed_slices.py:447: UserWarning: Converting sparse IndexedSlices(IndexedSlices(indices=Tensor(\"gradient_tape/gb_graph_conv_model_48/graph_pool_97/Reshape_20:0\", shape=(6855,), dtype=int32), values=Tensor(\"gradient_tape/gb_graph_conv_model_48/graph_pool_97/Reshape_19:0\", shape=(6855, 32), dtype=float32), dense_shape=Tensor(\"gradient_tape/gb_graph_conv_model_48/graph_pool_97/Cast_6:0\", shape=(2,), dtype=int32))) to a dense Tensor of unknown shape. This may consume a large amount of memory.\n",
      "  warnings.warn(\n",
      "/Users/misspotato/opt/miniconda3/envs/rdkit-deepchem-jupyter/lib/python3.9/site-packages/tensorflow/python/framework/indexed_slices.py:447: UserWarning: Converting sparse IndexedSlices(IndexedSlices(indices=Tensor(\"gradient_tape/gb_graph_conv_model_48/graph_pool_97/Reshape_23:0\", shape=(36,), dtype=int32), values=Tensor(\"gradient_tape/gb_graph_conv_model_48/graph_pool_97/Reshape_22:0\", shape=(36, 32), dtype=float32), dense_shape=Tensor(\"gradient_tape/gb_graph_conv_model_48/graph_pool_97/Cast_7:0\", shape=(2,), dtype=int32))) to a dense Tensor of unknown shape. This may consume a large amount of memory.\n",
      "  warnings.warn(\n",
      "/Users/misspotato/opt/miniconda3/envs/rdkit-deepchem-jupyter/lib/python3.9/site-packages/tensorflow/python/framework/indexed_slices.py:447: UserWarning: Converting sparse IndexedSlices(IndexedSlices(indices=Tensor(\"gradient_tape/gb_graph_conv_model_48/graph_conv_97/Reshape_11:0\", shape=(1057,), dtype=int32), values=Tensor(\"gradient_tape/gb_graph_conv_model_48/graph_conv_97/Reshape_10:0\", shape=(1057, 32), dtype=float32), dense_shape=Tensor(\"gradient_tape/gb_graph_conv_model_48/graph_conv_97/Cast:0\", shape=(2,), dtype=int32))) to a dense Tensor of unknown shape. This may consume a large amount of memory.\n",
      "  warnings.warn(\n",
      "/Users/misspotato/opt/miniconda3/envs/rdkit-deepchem-jupyter/lib/python3.9/site-packages/tensorflow/python/framework/indexed_slices.py:447: UserWarning: Converting sparse IndexedSlices(IndexedSlices(indices=Tensor(\"gradient_tape/gb_graph_conv_model_48/graph_conv_97/Reshape_13:0\", shape=(3502,), dtype=int32), values=Tensor(\"gradient_tape/gb_graph_conv_model_48/graph_conv_97/Reshape_12:0\", shape=(3502, 32), dtype=float32), dense_shape=Tensor(\"gradient_tape/gb_graph_conv_model_48/graph_conv_97/Cast_1:0\", shape=(2,), dtype=int32))) to a dense Tensor of unknown shape. This may consume a large amount of memory.\n",
      "  warnings.warn(\n",
      "/Users/misspotato/opt/miniconda3/envs/rdkit-deepchem-jupyter/lib/python3.9/site-packages/tensorflow/python/framework/indexed_slices.py:447: UserWarning: Converting sparse IndexedSlices(IndexedSlices(indices=Tensor(\"gradient_tape/gb_graph_conv_model_48/graph_conv_97/Reshape_15:0\", shape=(6855,), dtype=int32), values=Tensor(\"gradient_tape/gb_graph_conv_model_48/graph_conv_97/Reshape_14:0\", shape=(6855, 32), dtype=float32), dense_shape=Tensor(\"gradient_tape/gb_graph_conv_model_48/graph_conv_97/Cast_2:0\", shape=(2,), dtype=int32))) to a dense Tensor of unknown shape. This may consume a large amount of memory.\n",
      "  warnings.warn(\n",
      "/Users/misspotato/opt/miniconda3/envs/rdkit-deepchem-jupyter/lib/python3.9/site-packages/tensorflow/python/framework/indexed_slices.py:447: UserWarning: Converting sparse IndexedSlices(IndexedSlices(indices=Tensor(\"gradient_tape/gb_graph_conv_model_48/graph_conv_97/Reshape_17:0\", shape=(36,), dtype=int32), values=Tensor(\"gradient_tape/gb_graph_conv_model_48/graph_conv_97/Reshape_16:0\", shape=(36, 32), dtype=float32), dense_shape=Tensor(\"gradient_tape/gb_graph_conv_model_48/graph_conv_97/Cast_3:0\", shape=(2,), dtype=int32))) to a dense Tensor of unknown shape. This may consume a large amount of memory.\n",
      "  warnings.warn(\n",
      "/Users/misspotato/opt/miniconda3/envs/rdkit-deepchem-jupyter/lib/python3.9/site-packages/tensorflow/python/framework/indexed_slices.py:447: UserWarning: Converting sparse IndexedSlices(IndexedSlices(indices=Tensor(\"gradient_tape/gb_graph_conv_model_48/graph_conv_97/Reshape_19:0\", shape=(0,), dtype=int32), values=Tensor(\"gradient_tape/gb_graph_conv_model_48/graph_conv_97/Reshape_18:0\", shape=(0, 32), dtype=float32), dense_shape=Tensor(\"gradient_tape/gb_graph_conv_model_48/graph_conv_97/Cast_4:0\", shape=(2,), dtype=int32))) to a dense Tensor of unknown shape. This may consume a large amount of memory.\n",
      "  warnings.warn(\n",
      "/Users/misspotato/opt/miniconda3/envs/rdkit-deepchem-jupyter/lib/python3.9/site-packages/tensorflow/python/framework/indexed_slices.py:447: UserWarning: Converting sparse IndexedSlices(IndexedSlices(indices=Tensor(\"gradient_tape/gb_graph_conv_model_48/graph_conv_97/Reshape_21:0\", shape=(0,), dtype=int32), values=Tensor(\"gradient_tape/gb_graph_conv_model_48/graph_conv_97/Reshape_20:0\", shape=(0, 32), dtype=float32), dense_shape=Tensor(\"gradient_tape/gb_graph_conv_model_48/graph_conv_97/Cast_5:0\", shape=(2,), dtype=int32))) to a dense Tensor of unknown shape. This may consume a large amount of memory.\n",
      "  warnings.warn(\n",
      "/Users/misspotato/opt/miniconda3/envs/rdkit-deepchem-jupyter/lib/python3.9/site-packages/tensorflow/python/framework/indexed_slices.py:447: UserWarning: Converting sparse IndexedSlices(IndexedSlices(indices=Tensor(\"gradient_tape/gb_graph_conv_model_48/graph_conv_97/Reshape_23:0\", shape=(0,), dtype=int32), values=Tensor(\"gradient_tape/gb_graph_conv_model_48/graph_conv_97/Reshape_22:0\", shape=(0, 32), dtype=float32), dense_shape=Tensor(\"gradient_tape/gb_graph_conv_model_48/graph_conv_97/Cast_6:0\", shape=(2,), dtype=int32))) to a dense Tensor of unknown shape. This may consume a large amount of memory.\n",
      "  warnings.warn(\n",
      "/Users/misspotato/opt/miniconda3/envs/rdkit-deepchem-jupyter/lib/python3.9/site-packages/tensorflow/python/framework/indexed_slices.py:447: UserWarning: Converting sparse IndexedSlices(IndexedSlices(indices=Tensor(\"gradient_tape/gb_graph_conv_model_48/graph_conv_97/Reshape_25:0\", shape=(0,), dtype=int32), values=Tensor(\"gradient_tape/gb_graph_conv_model_48/graph_conv_97/Reshape_24:0\", shape=(0, 32), dtype=float32), dense_shape=Tensor(\"gradient_tape/gb_graph_conv_model_48/graph_conv_97/Cast_7:0\", shape=(2,), dtype=int32))) to a dense Tensor of unknown shape. This may consume a large amount of memory.\n",
      "  warnings.warn(\n",
      "/Users/misspotato/opt/miniconda3/envs/rdkit-deepchem-jupyter/lib/python3.9/site-packages/tensorflow/python/framework/indexed_slices.py:447: UserWarning: Converting sparse IndexedSlices(IndexedSlices(indices=Tensor(\"gradient_tape/gb_graph_conv_model_48/graph_conv_97/Reshape_27:0\", shape=(0,), dtype=int32), values=Tensor(\"gradient_tape/gb_graph_conv_model_48/graph_conv_97/Reshape_26:0\", shape=(0, 32), dtype=float32), dense_shape=Tensor(\"gradient_tape/gb_graph_conv_model_48/graph_conv_97/Cast_8:0\", shape=(2,), dtype=int32))) to a dense Tensor of unknown shape. This may consume a large amount of memory.\n",
      "  warnings.warn(\n",
      "/Users/misspotato/opt/miniconda3/envs/rdkit-deepchem-jupyter/lib/python3.9/site-packages/tensorflow/python/framework/indexed_slices.py:447: UserWarning: Converting sparse IndexedSlices(IndexedSlices(indices=Tensor(\"gradient_tape/gb_graph_conv_model_48/graph_conv_97/Reshape_29:0\", shape=(0,), dtype=int32), values=Tensor(\"gradient_tape/gb_graph_conv_model_48/graph_conv_97/Reshape_28:0\", shape=(0, 32), dtype=float32), dense_shape=Tensor(\"gradient_tape/gb_graph_conv_model_48/graph_conv_97/Cast_9:0\", shape=(2,), dtype=int32))) to a dense Tensor of unknown shape. This may consume a large amount of memory.\n",
      "  warnings.warn(\n",
      "/Users/misspotato/opt/miniconda3/envs/rdkit-deepchem-jupyter/lib/python3.9/site-packages/tensorflow/python/framework/indexed_slices.py:447: UserWarning: Converting sparse IndexedSlices(IndexedSlices(indices=Tensor(\"gradient_tape/gb_graph_conv_model_48/graph_pool_96/Reshape_14:0\", shape=(1057,), dtype=int32), values=Tensor(\"gradient_tape/gb_graph_conv_model_48/graph_pool_96/Reshape_13:0\", shape=(1057, 32), dtype=float32), dense_shape=Tensor(\"gradient_tape/gb_graph_conv_model_48/graph_pool_96/Cast_4:0\", shape=(2,), dtype=int32))) to a dense Tensor of unknown shape. This may consume a large amount of memory.\n",
      "  warnings.warn(\n",
      "/Users/misspotato/opt/miniconda3/envs/rdkit-deepchem-jupyter/lib/python3.9/site-packages/tensorflow/python/framework/indexed_slices.py:447: UserWarning: Converting sparse IndexedSlices(IndexedSlices(indices=Tensor(\"gradient_tape/gb_graph_conv_model_48/graph_pool_96/Reshape_17:0\", shape=(3502,), dtype=int32), values=Tensor(\"gradient_tape/gb_graph_conv_model_48/graph_pool_96/Reshape_16:0\", shape=(3502, 32), dtype=float32), dense_shape=Tensor(\"gradient_tape/gb_graph_conv_model_48/graph_pool_96/Cast_5:0\", shape=(2,), dtype=int32))) to a dense Tensor of unknown shape. This may consume a large amount of memory.\n",
      "  warnings.warn(\n",
      "/Users/misspotato/opt/miniconda3/envs/rdkit-deepchem-jupyter/lib/python3.9/site-packages/tensorflow/python/framework/indexed_slices.py:447: UserWarning: Converting sparse IndexedSlices(IndexedSlices(indices=Tensor(\"gradient_tape/gb_graph_conv_model_48/graph_pool_96/Reshape_20:0\", shape=(6855,), dtype=int32), values=Tensor(\"gradient_tape/gb_graph_conv_model_48/graph_pool_96/Reshape_19:0\", shape=(6855, 32), dtype=float32), dense_shape=Tensor(\"gradient_tape/gb_graph_conv_model_48/graph_pool_96/Cast_6:0\", shape=(2,), dtype=int32))) to a dense Tensor of unknown shape. This may consume a large amount of memory.\n",
      "  warnings.warn(\n",
      "/Users/misspotato/opt/miniconda3/envs/rdkit-deepchem-jupyter/lib/python3.9/site-packages/tensorflow/python/framework/indexed_slices.py:447: UserWarning: Converting sparse IndexedSlices(IndexedSlices(indices=Tensor(\"gradient_tape/gb_graph_conv_model_48/graph_pool_96/Reshape_23:0\", shape=(36,), dtype=int32), values=Tensor(\"gradient_tape/gb_graph_conv_model_48/graph_pool_96/Reshape_22:0\", shape=(36, 32), dtype=float32), dense_shape=Tensor(\"gradient_tape/gb_graph_conv_model_48/graph_pool_96/Cast_7:0\", shape=(2,), dtype=int32))) to a dense Tensor of unknown shape. This may consume a large amount of memory.\n",
      "  warnings.warn(\n"
     ]
    },
    {
     "name": "stdout",
     "output_type": "stream",
     "text": [
      "1/1 [==============================] - 6s 6s/step - loss: 92.0871\n",
      "1/1 [==============================] - 1s 1s/step - loss: 58.3910\n",
      "1/1 [==============================] - 0s 56ms/step - loss: 66.2755\n",
      "1/1 [==============================] - 0s 31ms/step - loss: 64.2636\n",
      "1/1 [==============================] - 0s 52ms/step - loss: 63.6536\n",
      "1/1 [==============================] - 0s 32ms/step - loss: 64.4825\n",
      "1/1 [==============================] - 0s 49ms/step - loss: 59.4496\n",
      "1/1 [==============================] - 0s 32ms/step - loss: 60.5986\n",
      "1/1 [==============================] - 0s 56ms/step - loss: 54.0575\n",
      "1/1 [==============================] - 0s 31ms/step - loss: 56.4803\n",
      "1/1 [==============================] - 0s 54ms/step - loss: 51.1407\n",
      "1/1 [==============================] - 0s 31ms/step - loss: 53.3759\n",
      "1/1 [==============================] - 0s 53ms/step - loss: 50.9624\n",
      "1/1 [==============================] - 0s 30ms/step - loss: 50.1041\n",
      "1/1 [==============================] - 0s 46ms/step - loss: 50.2668\n",
      "1/1 [==============================] - 0s 30ms/step - loss: 45.8801\n",
      "1/1 [==============================] - 0s 52ms/step - loss: 47.0790\n",
      "1/1 [==============================] - 0s 35ms/step - loss: 41.2165\n",
      "1/1 [==============================] - 0s 62ms/step - loss: 42.6962\n",
      "1/1 [==============================] - 0s 32ms/step - loss: 37.6176\n",
      "1/1 [==============================] - 0s 59ms/step - loss: 38.5711\n",
      "1/1 [==============================] - 0s 36ms/step - loss: 35.9113\n",
      "1/1 [==============================] - 0s 46ms/step - loss: 36.2364\n",
      "1/1 [==============================] - 0s 32ms/step - loss: 35.7974\n",
      "1/1 [==============================] - 0s 65ms/step - loss: 35.4820\n",
      "1/1 [==============================] - 0s 36ms/step - loss: 36.0208\n",
      "1/1 [==============================] - 0s 66ms/step - loss: 35.5555\n",
      "1/1 [==============================] - 0s 36ms/step - loss: 35.3798\n",
      "1/1 [==============================] - 0s 77ms/step - loss: 35.3467\n",
      "1/1 [==============================] - 0s 36ms/step - loss: 33.5421\n",
      "1/1 [==============================] - 0s 56ms/step - loss: 34.2935\n",
      "1/1 [==============================] - 0s 32ms/step - loss: 30.9641\n",
      "1/1 [==============================] - 0s 61ms/step - loss: 32.6686\n",
      "1/1 [==============================] - 0s 32ms/step - loss: 28.4530\n",
      "1/1 [==============================] - 0s 56ms/step - loss: 31.3443\n",
      "1/1 [==============================] - 0s 34ms/step - loss: 26.5952\n",
      "1/1 [==============================] - 0s 57ms/step - loss: 30.5275\n",
      "1/1 [==============================] - 0s 30ms/step - loss: 25.5268\n",
      "1/1 [==============================] - 0s 47ms/step - loss: 30.1409\n",
      "1/1 [==============================] - 0s 37ms/step - loss: 25.3753\n",
      "1/1 [==============================] - 0s 69ms/step - loss: 29.6843\n",
      "1/1 [==============================] - 0s 37ms/step - loss: 25.9569\n",
      "1/1 [==============================] - 0s 52ms/step - loss: 29.4482\n",
      "1/1 [==============================] - 0s 31ms/step - loss: 27.1300\n",
      "1/1 [==============================] - 0s 52ms/step - loss: 29.0689\n",
      "1/1 [==============================] - 0s 33ms/step - loss: 28.7043\n",
      "1/1 [==============================] - 0s 65ms/step - loss: 29.1304\n",
      "1/1 [==============================] - 0s 30ms/step - loss: 29.9180\n",
      "1/1 [==============================] - 0s 52ms/step - loss: 29.2041\n",
      "1/1 [==============================] - 0s 30ms/step - loss: 30.4981\n",
      "1/1 [==============================] - 0s 53ms/step - loss: 29.1196\n",
      "1/1 [==============================] - 0s 31ms/step - loss: 30.1172\n",
      "1/1 [==============================] - 0s 51ms/step - loss: 28.8661\n",
      "1/1 [==============================] - 0s 31ms/step - loss: 29.0190\n",
      "1/1 [==============================] - 0s 51ms/step - loss: 28.4205\n",
      "1/1 [==============================] - 0s 31ms/step - loss: 27.6821\n",
      "1/1 [==============================] - 0s 53ms/step - loss: 28.0772\n",
      "1/1 [==============================] - 0s 32ms/step - loss: 26.5503\n",
      "1/1 [==============================] - 0s 51ms/step - loss: 27.9570\n",
      "1/1 [==============================] - 0s 35ms/step - loss: 25.8381\n",
      "1/1 [==============================] - 0s 52ms/step - loss: 28.1217\n",
      "1/1 [==============================] - 0s 31ms/step - loss: 25.5576\n",
      "1/1 [==============================] - 0s 50ms/step - loss: 28.2316\n",
      "1/1 [==============================] - 0s 30ms/step - loss: 25.6451\n",
      "1/1 [==============================] - 0s 51ms/step - loss: 28.2667\n",
      "1/1 [==============================] - 0s 31ms/step - loss: 26.0589\n",
      "1/1 [==============================] - 0s 53ms/step - loss: 27.9112\n",
      "1/1 [==============================] - 0s 31ms/step - loss: 26.6658\n",
      "1/1 [==============================] - 0s 52ms/step - loss: 27.6508\n",
      "1/1 [==============================] - 0s 30ms/step - loss: 27.2821\n",
      "1/1 [==============================] - 0s 50ms/step - loss: 27.5121\n",
      "1/1 [==============================] - 0s 31ms/step - loss: 27.7001\n",
      "1/1 [==============================] - 0s 51ms/step - loss: 27.3795\n",
      "1/1 [==============================] - 0s 30ms/step - loss: 27.7506\n",
      "1/1 [==============================] - 0s 54ms/step - loss: 27.3185\n",
      "1/1 [==============================] - 0s 31ms/step - loss: 27.4307\n",
      "1/1 [==============================] - 0s 53ms/step - loss: 27.1919\n",
      "1/1 [==============================] - 0s 31ms/step - loss: 26.8554\n",
      "1/1 [==============================] - 0s 49ms/step - loss: 27.0101\n",
      "1/1 [==============================] - 0s 31ms/step - loss: 26.2181\n",
      "1/1 [==============================] - 0s 52ms/step - loss: 26.8908\n",
      "1/1 [==============================] - 0s 31ms/step - loss: 25.7017\n",
      "1/1 [==============================] - 0s 52ms/step - loss: 26.7460\n",
      "1/1 [==============================] - 0s 31ms/step - loss: 25.4444\n",
      "1/1 [==============================] - 0s 51ms/step - loss: 26.6551\n",
      "1/1 [==============================] - 0s 30ms/step - loss: 25.4863\n",
      "1/1 [==============================] - 0s 50ms/step - loss: 26.5773\n",
      "1/1 [==============================] - 0s 31ms/step - loss: 25.8062\n",
      "1/1 [==============================] - 0s 51ms/step - loss: 26.4113\n",
      "1/1 [==============================] - 0s 32ms/step - loss: 26.3176\n",
      "1/1 [==============================] - 0s 51ms/step - loss: 26.3048\n",
      "1/1 [==============================] - 0s 31ms/step - loss: 26.7769\n",
      "1/1 [==============================] - 0s 52ms/step - loss: 26.2321\n",
      "1/1 [==============================] - 0s 31ms/step - loss: 27.0109\n",
      "1/1 [==============================] - 0s 49ms/step - loss: 26.2026\n",
      "1/1 [==============================] - 0s 31ms/step - loss: 26.9165\n",
      "1/1 [==============================] - 0s 52ms/step - loss: 26.1227\n",
      "1/1 [==============================] - 0s 31ms/step - loss: 26.5750\n",
      "1/1 [==============================] - 0s 51ms/step - loss: 26.0194\n",
      "1/1 [==============================] - 0s 32ms/step - loss: 26.1418\n",
      "1/1 [==============================] - 0s 53ms/step - loss: 25.8889\n",
      "1/1 [==============================] - 0s 30ms/step - loss: 25.7681\n",
      "1/1 [==============================] - 0s 49ms/step - loss: 25.8206\n",
      "1/1 [==============================] - 0s 31ms/step - loss: 25.5571\n",
      "1/1 [==============================] - 0s 52ms/step - loss: 25.7676\n",
      "1/1 [==============================] - 0s 32ms/step - loss: 25.5199\n",
      "1/1 [==============================] - 0s 51ms/step - loss: 25.6636\n",
      "1/1 [==============================] - 0s 31ms/step - loss: 25.5926\n",
      "1/1 [==============================] - 0s 51ms/step - loss: 25.4778\n",
      "1/1 [==============================] - 0s 30ms/step - loss: 25.7265\n",
      "1/1 [==============================] - 0s 49ms/step - loss: 25.4378\n",
      "1/1 [==============================] - 0s 30ms/step - loss: 25.8667\n",
      "1/1 [==============================] - 0s 53ms/step - loss: 25.4239\n",
      "1/1 [==============================] - 0s 32ms/step - loss: 25.9049\n",
      "1/1 [==============================] - 0s 52ms/step - loss: 25.3779\n",
      "1/1 [==============================] - 0s 31ms/step - loss: 25.8146\n",
      "1/1 [==============================] - 0s 44ms/step - loss: 25.2879\n",
      "1/1 [==============================] - 0s 30ms/step - loss: 25.6490\n",
      "1/1 [==============================] - 0s 49ms/step - loss: 25.2024\n",
      "1/1 [==============================] - 0s 31ms/step - loss: 25.4610\n"
     ]
    },
    {
     "name": "stdout",
     "output_type": "stream",
     "text": [
      "1/1 [==============================] - 0s 52ms/step - loss: 25.1445\n",
      "1/1 [==============================] - 0s 31ms/step - loss: 25.2701\n",
      "1/1 [==============================] - 0s 54ms/step - loss: 25.1074\n",
      "1/1 [==============================] - 0s 31ms/step - loss: 25.0778\n",
      "1/1 [==============================] - 0s 43ms/step - loss: 25.0327\n",
      "1/1 [==============================] - 0s 30ms/step - loss: 24.9600\n",
      "1/1 [==============================] - 0s 51ms/step - loss: 24.8993\n",
      "1/1 [==============================] - 0s 30ms/step - loss: 24.9710\n",
      "1/1 [==============================] - 0s 51ms/step - loss: 24.8238\n",
      "1/1 [==============================] - 0s 32ms/step - loss: 25.0396\n",
      "1/1 [==============================] - 0s 52ms/step - loss: 24.7464\n",
      "1/1 [==============================] - 0s 29ms/step - loss: 25.0814\n",
      "1/1 [==============================] - 0s 43ms/step - loss: 24.7190\n",
      "1/1 [==============================] - 0s 29ms/step - loss: 25.0645\n",
      "1/1 [==============================] - 0s 50ms/step - loss: 24.7351\n",
      "1/1 [==============================] - 0s 30ms/step - loss: 24.9379\n",
      "1/1 [==============================] - 0s 52ms/step - loss: 24.7217\n",
      "1/1 [==============================] - 0s 30ms/step - loss: 24.7994\n",
      "1/1 [==============================] - 0s 52ms/step - loss: 24.6811\n",
      "1/1 [==============================] - 0s 30ms/step - loss: 24.6764\n",
      "1/1 [==============================] - 0s 43ms/step - loss: 24.5734\n",
      "1/1 [==============================] - 0s 29ms/step - loss: 24.6496\n",
      "1/1 [==============================] - 0s 49ms/step - loss: 24.3962\n",
      "1/1 [==============================] - 0s 29ms/step - loss: 24.6624\n",
      "1/1 [==============================] - 0s 51ms/step - loss: 24.5231\n",
      "1/1 [==============================] - 0s 31ms/step - loss: 24.5921\n",
      "1/1 [==============================] - 0s 53ms/step - loss: 24.3205\n",
      "1/1 [==============================] - 0s 30ms/step - loss: 24.4975\n",
      "1/1 [==============================] - 0s 43ms/step - loss: 24.2979\n",
      "1/1 [==============================] - 0s 30ms/step - loss: 24.5131\n",
      "1/1 [==============================] - 0s 48ms/step - loss: 24.3010\n",
      "1/1 [==============================] - 0s 31ms/step - loss: 24.4608\n",
      "1/1 [==============================] - 0s 51ms/step - loss: 24.1539\n",
      "1/1 [==============================] - 0s 30ms/step - loss: 24.2224\n",
      "1/1 [==============================] - 0s 52ms/step - loss: 24.2416\n",
      "1/1 [==============================] - 0s 31ms/step - loss: 24.1592\n",
      "1/1 [==============================] - 0s 44ms/step - loss: 24.2040\n",
      "1/1 [==============================] - 0s 30ms/step - loss: 24.2214\n",
      "1/1 [==============================] - 0s 50ms/step - loss: 24.1142\n",
      "1/1 [==============================] - 0s 30ms/step - loss: 24.2480\n",
      "1/1 [==============================] - 0s 50ms/step - loss: 23.9890\n",
      "1/1 [==============================] - 0s 31ms/step - loss: 24.1813\n",
      "1/1 [==============================] - 0s 52ms/step - loss: 23.9805\n",
      "1/1 [==============================] - 0s 30ms/step - loss: 24.0485\n",
      "1/1 [==============================] - 0s 47ms/step - loss: 23.8854\n",
      "1/1 [==============================] - 0s 28ms/step - loss: 23.8736\n",
      "1/1 [==============================] - 0s 53ms/step - loss: 23.8639\n",
      "1/1 [==============================] - 0s 30ms/step - loss: 23.7705\n",
      "1/1 [==============================] - 0s 50ms/step - loss: 23.7637\n",
      "1/1 [==============================] - 0s 31ms/step - loss: 23.7205\n",
      "1/1 [==============================] - 0s 53ms/step - loss: 23.7527\n",
      "1/1 [==============================] - 0s 30ms/step - loss: 23.6845\n",
      "1/1 [==============================] - 0s 48ms/step - loss: 23.6592\n",
      "1/1 [==============================] - 0s 30ms/step - loss: 23.6841\n",
      "1/1 [==============================] - 0s 50ms/step - loss: 23.6101\n",
      "1/1 [==============================] - 0s 30ms/step - loss: 23.6824\n",
      "1/1 [==============================] - 0s 52ms/step - loss: 23.5048\n",
      "1/1 [==============================] - 0s 30ms/step - loss: 23.6251\n",
      "1/1 [==============================] - 0s 53ms/step - loss: 23.4656\n",
      "1/1 [==============================] - 0s 29ms/step - loss: 23.4963\n",
      "1/1 [==============================] - 0s 49ms/step - loss: 23.4228\n",
      "1/1 [==============================] - 0s 30ms/step - loss: 23.3742\n",
      "1/1 [==============================] - 0s 51ms/step - loss: 23.3546\n",
      "1/1 [==============================] - 0s 30ms/step - loss: 23.2973\n",
      "1/1 [==============================] - 0s 61ms/step - loss: 23.2617\n",
      "1/1 [==============================] - 0s 31ms/step - loss: 23.2375\n",
      "1/1 [==============================] - 0s 51ms/step - loss: 23.1985\n",
      "1/1 [==============================] - 0s 31ms/step - loss: 23.2107\n",
      "1/1 [==============================] - 0s 53ms/step - loss: 23.1531\n",
      "1/1 [==============================] - 0s 32ms/step - loss: 23.2359\n",
      "1/1 [==============================] - 0s 49ms/step - loss: 23.0913\n",
      "1/1 [==============================] - 0s 31ms/step - loss: 23.2519\n",
      "1/1 [==============================] - 0s 52ms/step - loss: 22.9984\n",
      "1/1 [==============================] - 0s 31ms/step - loss: 23.2301\n",
      "1/1 [==============================] - 0s 53ms/step - loss: 22.9584\n",
      "1/1 [==============================] - 0s 30ms/step - loss: 23.1108\n",
      "1/1 [==============================] - 0s 48ms/step - loss: 22.8819\n",
      "1/1 [==============================] - 0s 31ms/step - loss: 22.9913\n",
      "1/1 [==============================] - 0s 49ms/step - loss: 22.8165\n",
      "1/1 [==============================] - 0s 31ms/step - loss: 22.9481\n"
     ]
    }
   ],
   "source": [
    "pgnn_losses, pgnn_val_losses = [], []\n",
    "max_epoch = 100\n",
    "val_size = len(y_val)\n",
    "train_size = len(y_train)\n",
    "\n",
    "for epoch in range(max_epoch):\n",
    "    hybrid_model.modify_graphgather(train_size)\n",
    "    hybrid_model.input_shapes = [i.shape for i in x_preprocessed_train]\n",
    "    loss = hybrid_model.fit(x_train, y_train.reshape([1, -1]), epochs=1)\n",
    "#     metric = dc.metrics.Metric(dc.metrics.score_function.rms_score)\n",
    "    pgnn_losses.append(loss.history['loss'])\n",
    "    hybrid_model.input_shapes = [i.shape for i in x_preprocessed_val]\n",
    "    hybrid_model.modify_graphgather(val_size)\n",
    "    pgnn_val_losses.append(hybrid_model.evaluate(x_val, y_val.reshape([1, -1])))"
   ]
  },
  {
   "cell_type": "code",
   "execution_count": 847,
   "metadata": {},
   "outputs": [
    {
     "data": {
      "image/png": "[encoded data removed]",
      "text/plain": [
       "<Figure size 432x288 with 1 Axes>"
      ]
     },
     "metadata": {
      "needs_background": "light"
     },
     "output_type": "display_data"
    }
   ],
   "source": [
    "import matplotlib.pyplot as plt\n",
    "# f, ax = plt.subplots()\n",
    "plt.plot(range(len(pgnn_losses)), pgnn_losses, label='train loss')\n",
    "plt.plot(range(len(pgnn_val_losses)), pgnn_val_losses, label='val loss')\n",
    "plt.legend(loc='upper right');\n",
    "plt.xlabel(\"Epoch\")\n",
    "plt.ylabel(\"Loss (Kcal/mol)\")\n",
    "plt.savefig('comb_loss.png')"
   ]
  },
  {
   "cell_type": "code",
   "execution_count": 848,
   "metadata": {},
   "outputs": [],
   "source": [
    "hybrid_model.input_shapes = [i.shape for i in x_preprocessed_test]\n",
    "hybrid_model.modify_graphgather(len(y_test))"
   ]
  },
  {
   "cell_type": "code",
   "execution_count": 849,
   "metadata": {},
   "outputs": [
    {
     "name": "stdout",
     "output_type": "stream",
     "text": [
      "1/1 [==============================] - 0s 33ms/step - loss: 22.9481\n"
     ]
    }
   ],
   "source": [
    "evalu = hybrid_model.evaluate(x_test, y_test.reshape([1, -1]))"
   ]
  },
  {
   "cell_type": "code",
   "execution_count": 850,
   "metadata": {},
   "outputs": [
    {
     "name": "stdout",
     "output_type": "stream",
     "text": [
      "4.790422206102478\n"
     ]
    }
   ],
   "source": [
    "pgnn_rmse_test = np.sqrt(evalu)\n",
    "print(pgnn_rmse_test)"
   ]
  },
  {
   "cell_type": "code",
   "execution_count": 851,
   "metadata": {},
   "outputs": [],
   "source": [
    "train_loss = pgnn_losses[-1]"
   ]
  },
  {
   "cell_type": "code",
   "execution_count": 852,
   "metadata": {},
   "outputs": [
    {
     "data": {
      "text/plain": [
       "4.776666975391819"
      ]
     },
     "execution_count": 852,
     "metadata": {},
     "output_type": "execute_result"
    }
   ],
   "source": [
    "import math\n",
    "train_hybrid_rmse = math.sqrt(train_loss[0])\n",
    "train_hybrid_rmse"
   ]
  },
  {
   "cell_type": "code",
   "execution_count": 853,
   "metadata": {},
   "outputs": [],
   "source": [
    "pgnn_test_accuracy.append(pgnn_rmse_test)\n",
    "pgnn_train_accuracy.append(train_hybrid_rmse)"
   ]
  },
  {
   "cell_type": "code",
   "execution_count": 854,
   "metadata": {},
   "outputs": [
    {
     "name": "stdout",
     "output_type": "stream",
     "text": [
      "[4.247915991158998, 4.35898908322064, 6.944077955959831, 6.510748852202416, 5.414611524347312, 5.933509208272808, 4.313666365638178, 4.970641537867484, 5.242358140968035, 6.948171569937173, 6.618310393952759, 4.790422206102478]\n"
     ]
    }
   ],
   "source": [
    "print(pgnn_test_accuracy)"
   ]
  },
  {
   "cell_type": "markdown",
   "metadata": {},
   "source": [
    "<h1> Physics based model RMSE </h1>"
   ]
  },
  {
   "cell_type": "code",
   "execution_count": 36,
   "metadata": {},
   "outputs": [],
   "source": [
    "import math\n",
    "train_sum=0\n",
    "for i in range(len(host_names_train)):\n",
    "    new_df = df[(df['Host'] == host_names_train[i]) & (df['Guest'] == guest_names_train[i])]\n",
    "    train_sum += new_df['gb_Ex_difference'].to_numpy()[0] **2\n",
    "\n",
    "\n",
    "test_sum = 0\n",
    "for i in range(len(host_names_test)):\n",
    "    new_df = df[(df['Host'] == host_names_test[i]) & (df['Guest'] == guest_names_test[i])]\n",
    "    test_sum += new_df['gb_Ex_difference'].to_numpy()[0] **2\n",
    "    "
   ]
  },
  {
   "cell_type": "code",
   "execution_count": 37,
   "metadata": {},
   "outputs": [],
   "source": [
    "physics_based_rmse_train = math.sqrt(train_sum / len(host_names_train))"
   ]
  },
  {
   "cell_type": "code",
   "execution_count": 38,
   "metadata": {},
   "outputs": [],
   "source": [
    "physics_based_rmse_test = math.sqrt((test_sum) / len(host_names_test))"
   ]
  },
  {
   "cell_type": "code",
   "execution_count": 47,
   "metadata": {},
   "outputs": [
    {
     "name": "stdout",
     "output_type": "stream",
     "text": [
      "RMSE on training set is : 9.566673166822417\n",
      "RMSE on testing set is : 7.9998636043486275\n",
      "RMSE of the total data: 9.116540038105953\n"
     ]
    }
   ],
   "source": [
    "print(f\"RMSE on training set is : {physics_based_rmse_train}\")\n",
    "print(f\"RMSE on testing set is : {physics_based_rmse_test}\")\n",
    "# Total rmse\n",
    "total_rmse_physics = np.sqrt(np.mean((df['EX _H_(kcal/mol)'].to_numpy() - df['gb_delta_H'].to_numpy())**2))\n",
    "print(f\"RMSE of the total data: {total_rmse_physics}\")"
   ]
  },
  {
   "cell_type": "code",
   "execution_count": 13,
   "metadata": {},
   "outputs": [
    {
     "name": "stdout",
     "output_type": "stream",
     "text": [
      "9.116540038105953\n"
     ]
    }
   ],
   "source": [
    "# RMSE gbnsr6 vs experimental\n",
    "from sklearn.metrics import mean_squared_error\n",
    "import math\n",
    "mse_gb_ex = mean_squared_error(df['EX _delta_H_(kcal/mol)'], df['gb_delta_H'])\n",
    "rmse_gbnsr6_ex = math.sqrt(mse_gb_ex)\n",
    "print(rmse_gbnsr6_ex)"
   ]
  },
  {
   "cell_type": "code",
   "execution_count": 14,
   "metadata": {},
   "outputs": [
    {
     "name": "stdout",
     "output_type": "stream",
     "text": [
      "7.662234345322445\n"
     ]
    }
   ],
   "source": [
    "# RMSE pbsa vs experimental\n",
    "mse_pb_ex = mean_squared_error(df['EX _delta_H_(kcal/mol)'], df['pb_delta_H'])\n",
    "rmse_pbsa_ex = math.sqrt(mse_pb_ex)\n",
    "print(rmse_pbsa_ex)"
   ]
  },
  {
   "cell_type": "code",
   "execution_count": 15,
   "metadata": {},
   "outputs": [
    {
     "name": "stdout",
     "output_type": "stream",
     "text": [
      "2.482988596122065\n"
     ]
    }
   ],
   "source": [
    "# RMSE gbnsr6 vs pbsa\n",
    "mse_gb_pb = mean_squared_error(df['pb_delta_H'], df['gb_delta_H'])\n",
    "rmse_gb_pb = math.sqrt(mse_gb_pb)\n",
    "print(rmse_gb_pb)"
   ]
  },
  {
   "cell_type": "code",
   "execution_count": 48,
   "metadata": {},
   "outputs": [
    {
     "data": {
      "text/plain": [
       "[<matplotlib.lines.Line2D at 0x7f8db5d015e0>]"
      ]
     },
     "execution_count": 48,
     "metadata": {},
     "output_type": "execute_result"
    },
    {
     "data": {
      "image/png": "[encoded data removed]",
      "text/plain": [
       "<Figure size 432x288 with 1 Axes>"
      ]
     },
     "metadata": {
      "needs_background": "light"
     },
     "output_type": "display_data"
    }
   ],
   "source": [
    "import matplotlib.pyplot as plt\n",
    "\n",
    "plt.title(\"Experimental vs GBNSR6\")\n",
    "plt.scatter(x=df['EX _H_(kcal/mol)'], y=df['gb_delta_H'])\n",
    "plt.xlabel(\"Experimental Delta H\")\n",
    "plt.ylabel(\"GBNSR6 Delta H\")\n",
    "plt.xlim(-25, 5)\n",
    "plt.ylim(-25,5)\n",
    "\n",
    "#reference line\n",
    "plt.plot([-25, 5], [-25, 5], color='green', lw=1)"
   ]
  },
  {
   "cell_type": "code",
   "execution_count": 49,
   "metadata": {},
   "outputs": [
    {
     "data": {
      "text/plain": [
       "[<matplotlib.lines.Line2D at 0x7f8d78c8bbb0>]"
      ]
     },
     "execution_count": 49,
     "metadata": {},
     "output_type": "execute_result"
    },
    {
     "data": {
      "image/png": "[encoded data removed]",
      "text/plain": [
       "<Figure size 432x288 with 1 Axes>"
      ]
     },
     "metadata": {
      "needs_background": "light"
     },
     "output_type": "display_data"
    }
   ],
   "source": [
    "plt.title(\"Experimental vs PBSA\")\n",
    "plt.scatter(x=df['EX _H_(kcal/mol)'] ,y=df['pb_delta_H'], color='orange')\n",
    "plt.xlabel(\"Experimental Delta H\")\n",
    "plt.ylabel(\"PBSA Delta H\")\n",
    "plt.xlim(-25, 5)\n",
    "plt.ylim(-25,5)\n",
    "#reference line\n",
    "plt.plot([-25,5],[-25,5], color='green')"
   ]
  },
  {
   "cell_type": "code",
   "execution_count": 77,
   "metadata": {},
   "outputs": [
    {
     "data": {
      "image/png": "[encoded data removed]",
      "text/plain": [
       "<Figure size 432x288 with 1 Axes>"
      ]
     },
     "metadata": {
      "needs_background": "light"
     },
     "output_type": "display_data"
    }
   ],
   "source": [
    "ax = plt.subplot()\n",
    "# plt.title(\"PBSA vs GBNSR6\")\n",
    "plt.xlabel('Experimental ∆H (kcal/mol)')\n",
    "plt.ylabel('Physics-based model ∆H (kcal/mol)')\n",
    "ax.scatter(x=df[\"EX _H_(kcal/mol)\"], y=df['gb_delta_H'], label=\"GBNSR6\")\n",
    "ax.scatter(x=df[\"EX _H_(kcal/mol)\"], y=df['pb_delta_H'], label=\"PBSA\", color=\"orange\")\n",
    "plt.xlim(-25,5)\n",
    "plt.ylim(-25,5)\n",
    "#reference line\n",
    "plt.plot([-25,5],[-25,5],color='green')\n",
    "plt.legend()\n",
    "plt.savefig('gb-pb.png')"
   ]
  },
  {
   "cell_type": "code",
   "execution_count": 51,
   "metadata": {},
   "outputs": [
    {
     "name": "stdout",
     "output_type": "stream",
     "text": [
      "0.16443424102892118\n"
     ]
    }
   ],
   "source": [
    "gb_correlation_matrix = np.corrcoef(df['gb_delta_H'], df['EX _H_(kcal/mol)'])\n",
    "gb_correlation_gbex = gb_correlation_matrix[0,1]\n",
    "gb_r_squared = gb_correlation_gbex**2\n",
    "print(gb_r_squared)"
   ]
  },
  {
   "cell_type": "code",
   "execution_count": 52,
   "metadata": {},
   "outputs": [
    {
     "name": "stdout",
     "output_type": "stream",
     "text": [
      "0.1098144445778738\n"
     ]
    }
   ],
   "source": [
    "pb_correlation_matrix = np.corrcoef(df['pb_delta_H'], df['EX _H_(kcal/mol)'])\n",
    "pb_correlation_pbex = pb_correlation_matrix[0,1]\n",
    "pb_r_squared = pb_correlation_pbex**2\n",
    "print(pb_r_squared)"
   ]
  },
  {
   "cell_type": "code",
   "execution_count": 17,
   "metadata": {},
   "outputs": [
    {
     "name": "stdout",
     "output_type": "stream",
     "text": [
      "0.8901482846824414\n"
     ]
    }
   ],
   "source": [
    "pbgb_correlation_matrix = np.corrcoef(df['gb_delta_H'], df['pb_delta_H'])\n",
    "pbgb_correlation = pbgb_correlation_matrix[0,1]\n",
    "pbgb_r_squared = pbgb_correlation**2\n",
    "print(pbgb_r_squared)"
   ]
  },
  {
   "cell_type": "markdown",
   "metadata": {},
   "source": [
    "<h1> Data Driven Model </h1>"
   ]
  },
  {
   "cell_type": "code",
   "execution_count": 855,
   "metadata": {},
   "outputs": [],
   "source": [
    "## !!!!!!!! important\n",
    "## !!!!!!!! important\n",
    "## !!!!!!!! important\n",
    "## !!!!!!!! important\n",
    "input_shapes = [i.shape for i in x_preprocessed_train]"
   ]
  },
  {
   "cell_type": "code",
   "execution_count": 856,
   "metadata": {},
   "outputs": [],
   "source": [
    "# dd_test_accuracy = []\n",
    "# dd_train_accuracy = []"
   ]
  },
  {
   "cell_type": "code",
   "execution_count": 857,
   "metadata": {},
   "outputs": [
    {
     "data": {
      "text/plain": [
       "50"
      ]
     },
     "execution_count": 857,
     "metadata": {},
     "output_type": "execute_result"
    }
   ],
   "source": [
    "batch_size = len(host_names_train)\n",
    "batch_size\n",
    "# batch_size=10"
   ]
  },
  {
   "cell_type": "code",
   "execution_count": 858,
   "metadata": {},
   "outputs": [],
   "source": [
    "from deepchem.models.layers import GraphConv, GraphPool, GraphGather\n",
    "import tensorflow as tf\n",
    "import tensorflow.keras.layers as layers\n",
    "from tensorflow.keras.layers import Dense, Input, BatchNormalization, Concatenate\n",
    "from tensorflow.keras import initializers\n",
    "\n",
    "# batch_size = int(len(df) / 2)\n",
    "\n",
    "class GBGraphConvModel(tf.keras.Model):\n",
    "   \n",
    "    def modify_graphgather(self, batch_size):\n",
    "        self.readout.batch_size = batch_size\n",
    "        self.batch_size = batch_size\n",
    "\n",
    "    def __init__(self, batch_size):\n",
    "        super(GBGraphConvModel, self).__init__()\n",
    "        self.input_shapes = None\n",
    "        self.batch_size = batch_size\n",
    "        self.gc1 = GraphConv(32, activation_fn=tf.nn.tanh)\n",
    "        self.batch_norm1 = layers.BatchNormalization()\n",
    "        self.gp1 = GraphPool()\n",
    "\n",
    "        self.gc2 = GraphConv(32, activation_fn=tf.nn.tanh)\n",
    "        self.batch_norm2 = layers.BatchNormalization()\n",
    "        self.gp2 = GraphPool()\n",
    "\n",
    "        self.dense1 = layers.Dense(64, activation=tf.nn.tanh)\n",
    "        self.batch_norm3 = layers.BatchNormalization()\n",
    "        self.readout = GraphGather(batch_size=self.batch_size, activation_fn=tf.nn.tanh)\n",
    "\n",
    "        self.dense2 = layers.Dense(1)\n",
    "    #     self.dense3 = layers.Dense(1, \n",
    "    #          kernel_initializer=initializers.Constant([.5, -1, -1, 1, 1, 1, 1, 1, -1, -1, -1, -1, -1, -1, -1, -1]),\n",
    "    #          bias_initializer=initializers.Zeros())\n",
    "\n",
    "    def call(self, inputs):\n",
    "        inputs = inputs[0]\n",
    "        x = []\n",
    "    #     input_shapes = [[4822, 75], [11, 2], [4822], [1142, 1], [1635, 2], [2042, 3],\n",
    "    #                    [3, 4], [0, 5], [0, 6], [0, 7], [0, 8], [0, 9], [0, 10]]\n",
    "        for i in range(len(self.input_shapes)):\n",
    "            x.append(tf.reshape(inputs[i][inputs[i] != 1.123456], self.input_shapes[i]))\n",
    "        for i in range(1, len(self.input_shapes)):\n",
    "            x[i] = tf.cast(x[i], tf.int32)\n",
    "        x_add = tf.reshape(inputs[13][inputs[13] != 1.123456], [self.batch_size, 15])\n",
    "        gc1_output = self.gc1(x)\n",
    "        batch_norm1_output = self.batch_norm1(gc1_output)\n",
    "        gp1_output = self.gp1([batch_norm1_output] + x[1:])\n",
    "\n",
    "        gc2_output = self.gc2([gp1_output] + x[1:])\n",
    "        batch_norm2_output = self.batch_norm1(gc2_output)\n",
    "        gp2_output = self.gp2([batch_norm2_output] + x[1:])\n",
    "\n",
    "        dense1_output = self.dense1(gp2_output)\n",
    "        batch_norm3_output = self.batch_norm3(dense1_output)\n",
    "        readout_output = self.readout([batch_norm3_output] + x[1:])\n",
    "\n",
    "        model_var = self.dense2(readout_output)\n",
    "    #     binding_affinity = tf.concat([model_var, x_add], axis=1)\n",
    "        return model_var #self.dense3(binding_affinity)\n",
    "dd_model = GBGraphConvModel(train_split_index)\n",
    "dd_model.compile(loss='mse', optimizer='adam')"
   ]
  },
  {
   "cell_type": "code",
   "execution_count": 859,
   "metadata": {},
   "outputs": [
    {
     "name": "stderr",
     "output_type": "stream",
     "text": [
      "/Users/misspotato/opt/miniconda3/envs/rdkit-deepchem-jupyter/lib/python3.9/site-packages/tensorflow/python/framework/indexed_slices.py:447: UserWarning: Converting sparse IndexedSlices(IndexedSlices(indices=Tensor(\"gradient_tape/gb_graph_conv_model_49/graph_pool_99/Reshape_14:0\", shape=(1057,), dtype=int32), values=Tensor(\"gradient_tape/gb_graph_conv_model_49/graph_pool_99/Reshape_13:0\", shape=(1057, 32), dtype=float32), dense_shape=Tensor(\"gradient_tape/gb_graph_conv_model_49/graph_pool_99/Cast_4:0\", shape=(2,), dtype=int32))) to a dense Tensor of unknown shape. This may consume a large amount of memory.\n",
      "  warnings.warn(\n",
      "/Users/misspotato/opt/miniconda3/envs/rdkit-deepchem-jupyter/lib/python3.9/site-packages/tensorflow/python/framework/indexed_slices.py:447: UserWarning: Converting sparse IndexedSlices(IndexedSlices(indices=Tensor(\"gradient_tape/gb_graph_conv_model_49/graph_pool_99/Reshape_17:0\", shape=(3502,), dtype=int32), values=Tensor(\"gradient_tape/gb_graph_conv_model_49/graph_pool_99/Reshape_16:0\", shape=(3502, 32), dtype=float32), dense_shape=Tensor(\"gradient_tape/gb_graph_conv_model_49/graph_pool_99/Cast_5:0\", shape=(2,), dtype=int32))) to a dense Tensor of unknown shape. This may consume a large amount of memory.\n",
      "  warnings.warn(\n",
      "/Users/misspotato/opt/miniconda3/envs/rdkit-deepchem-jupyter/lib/python3.9/site-packages/tensorflow/python/framework/indexed_slices.py:447: UserWarning: Converting sparse IndexedSlices(IndexedSlices(indices=Tensor(\"gradient_tape/gb_graph_conv_model_49/graph_pool_99/Reshape_20:0\", shape=(6855,), dtype=int32), values=Tensor(\"gradient_tape/gb_graph_conv_model_49/graph_pool_99/Reshape_19:0\", shape=(6855, 32), dtype=float32), dense_shape=Tensor(\"gradient_tape/gb_graph_conv_model_49/graph_pool_99/Cast_6:0\", shape=(2,), dtype=int32))) to a dense Tensor of unknown shape. This may consume a large amount of memory.\n",
      "  warnings.warn(\n",
      "/Users/misspotato/opt/miniconda3/envs/rdkit-deepchem-jupyter/lib/python3.9/site-packages/tensorflow/python/framework/indexed_slices.py:447: UserWarning: Converting sparse IndexedSlices(IndexedSlices(indices=Tensor(\"gradient_tape/gb_graph_conv_model_49/graph_pool_99/Reshape_23:0\", shape=(36,), dtype=int32), values=Tensor(\"gradient_tape/gb_graph_conv_model_49/graph_pool_99/Reshape_22:0\", shape=(36, 32), dtype=float32), dense_shape=Tensor(\"gradient_tape/gb_graph_conv_model_49/graph_pool_99/Cast_7:0\", shape=(2,), dtype=int32))) to a dense Tensor of unknown shape. This may consume a large amount of memory.\n",
      "  warnings.warn(\n",
      "/Users/misspotato/opt/miniconda3/envs/rdkit-deepchem-jupyter/lib/python3.9/site-packages/tensorflow/python/framework/indexed_slices.py:447: UserWarning: Converting sparse IndexedSlices(IndexedSlices(indices=Tensor(\"gradient_tape/gb_graph_conv_model_49/graph_conv_99/Reshape_11:0\", shape=(1057,), dtype=int32), values=Tensor(\"gradient_tape/gb_graph_conv_model_49/graph_conv_99/Reshape_10:0\", shape=(1057, 32), dtype=float32), dense_shape=Tensor(\"gradient_tape/gb_graph_conv_model_49/graph_conv_99/Cast:0\", shape=(2,), dtype=int32))) to a dense Tensor of unknown shape. This may consume a large amount of memory.\n",
      "  warnings.warn(\n",
      "/Users/misspotato/opt/miniconda3/envs/rdkit-deepchem-jupyter/lib/python3.9/site-packages/tensorflow/python/framework/indexed_slices.py:447: UserWarning: Converting sparse IndexedSlices(IndexedSlices(indices=Tensor(\"gradient_tape/gb_graph_conv_model_49/graph_conv_99/Reshape_13:0\", shape=(3502,), dtype=int32), values=Tensor(\"gradient_tape/gb_graph_conv_model_49/graph_conv_99/Reshape_12:0\", shape=(3502, 32), dtype=float32), dense_shape=Tensor(\"gradient_tape/gb_graph_conv_model_49/graph_conv_99/Cast_1:0\", shape=(2,), dtype=int32))) to a dense Tensor of unknown shape. This may consume a large amount of memory.\n",
      "  warnings.warn(\n",
      "/Users/misspotato/opt/miniconda3/envs/rdkit-deepchem-jupyter/lib/python3.9/site-packages/tensorflow/python/framework/indexed_slices.py:447: UserWarning: Converting sparse IndexedSlices(IndexedSlices(indices=Tensor(\"gradient_tape/gb_graph_conv_model_49/graph_conv_99/Reshape_15:0\", shape=(6855,), dtype=int32), values=Tensor(\"gradient_tape/gb_graph_conv_model_49/graph_conv_99/Reshape_14:0\", shape=(6855, 32), dtype=float32), dense_shape=Tensor(\"gradient_tape/gb_graph_conv_model_49/graph_conv_99/Cast_2:0\", shape=(2,), dtype=int32))) to a dense Tensor of unknown shape. This may consume a large amount of memory.\n",
      "  warnings.warn(\n",
      "/Users/misspotato/opt/miniconda3/envs/rdkit-deepchem-jupyter/lib/python3.9/site-packages/tensorflow/python/framework/indexed_slices.py:447: UserWarning: Converting sparse IndexedSlices(IndexedSlices(indices=Tensor(\"gradient_tape/gb_graph_conv_model_49/graph_conv_99/Reshape_17:0\", shape=(36,), dtype=int32), values=Tensor(\"gradient_tape/gb_graph_conv_model_49/graph_conv_99/Reshape_16:0\", shape=(36, 32), dtype=float32), dense_shape=Tensor(\"gradient_tape/gb_graph_conv_model_49/graph_conv_99/Cast_3:0\", shape=(2,), dtype=int32))) to a dense Tensor of unknown shape. This may consume a large amount of memory.\n",
      "  warnings.warn(\n",
      "/Users/misspotato/opt/miniconda3/envs/rdkit-deepchem-jupyter/lib/python3.9/site-packages/tensorflow/python/framework/indexed_slices.py:447: UserWarning: Converting sparse IndexedSlices(IndexedSlices(indices=Tensor(\"gradient_tape/gb_graph_conv_model_49/graph_conv_99/Reshape_19:0\", shape=(0,), dtype=int32), values=Tensor(\"gradient_tape/gb_graph_conv_model_49/graph_conv_99/Reshape_18:0\", shape=(0, 32), dtype=float32), dense_shape=Tensor(\"gradient_tape/gb_graph_conv_model_49/graph_conv_99/Cast_4:0\", shape=(2,), dtype=int32))) to a dense Tensor of unknown shape. This may consume a large amount of memory.\n",
      "  warnings.warn(\n",
      "/Users/misspotato/opt/miniconda3/envs/rdkit-deepchem-jupyter/lib/python3.9/site-packages/tensorflow/python/framework/indexed_slices.py:447: UserWarning: Converting sparse IndexedSlices(IndexedSlices(indices=Tensor(\"gradient_tape/gb_graph_conv_model_49/graph_conv_99/Reshape_21:0\", shape=(0,), dtype=int32), values=Tensor(\"gradient_tape/gb_graph_conv_model_49/graph_conv_99/Reshape_20:0\", shape=(0, 32), dtype=float32), dense_shape=Tensor(\"gradient_tape/gb_graph_conv_model_49/graph_conv_99/Cast_5:0\", shape=(2,), dtype=int32))) to a dense Tensor of unknown shape. This may consume a large amount of memory.\n",
      "  warnings.warn(\n",
      "/Users/misspotato/opt/miniconda3/envs/rdkit-deepchem-jupyter/lib/python3.9/site-packages/tensorflow/python/framework/indexed_slices.py:447: UserWarning: Converting sparse IndexedSlices(IndexedSlices(indices=Tensor(\"gradient_tape/gb_graph_conv_model_49/graph_conv_99/Reshape_23:0\", shape=(0,), dtype=int32), values=Tensor(\"gradient_tape/gb_graph_conv_model_49/graph_conv_99/Reshape_22:0\", shape=(0, 32), dtype=float32), dense_shape=Tensor(\"gradient_tape/gb_graph_conv_model_49/graph_conv_99/Cast_6:0\", shape=(2,), dtype=int32))) to a dense Tensor of unknown shape. This may consume a large amount of memory.\n",
      "  warnings.warn(\n",
      "/Users/misspotato/opt/miniconda3/envs/rdkit-deepchem-jupyter/lib/python3.9/site-packages/tensorflow/python/framework/indexed_slices.py:447: UserWarning: Converting sparse IndexedSlices(IndexedSlices(indices=Tensor(\"gradient_tape/gb_graph_conv_model_49/graph_conv_99/Reshape_25:0\", shape=(0,), dtype=int32), values=Tensor(\"gradient_tape/gb_graph_conv_model_49/graph_conv_99/Reshape_24:0\", shape=(0, 32), dtype=float32), dense_shape=Tensor(\"gradient_tape/gb_graph_conv_model_49/graph_conv_99/Cast_7:0\", shape=(2,), dtype=int32))) to a dense Tensor of unknown shape. This may consume a large amount of memory.\n",
      "  warnings.warn(\n",
      "/Users/misspotato/opt/miniconda3/envs/rdkit-deepchem-jupyter/lib/python3.9/site-packages/tensorflow/python/framework/indexed_slices.py:447: UserWarning: Converting sparse IndexedSlices(IndexedSlices(indices=Tensor(\"gradient_tape/gb_graph_conv_model_49/graph_conv_99/Reshape_27:0\", shape=(0,), dtype=int32), values=Tensor(\"gradient_tape/gb_graph_conv_model_49/graph_conv_99/Reshape_26:0\", shape=(0, 32), dtype=float32), dense_shape=Tensor(\"gradient_tape/gb_graph_conv_model_49/graph_conv_99/Cast_8:0\", shape=(2,), dtype=int32))) to a dense Tensor of unknown shape. This may consume a large amount of memory.\n",
      "  warnings.warn(\n",
      "/Users/misspotato/opt/miniconda3/envs/rdkit-deepchem-jupyter/lib/python3.9/site-packages/tensorflow/python/framework/indexed_slices.py:447: UserWarning: Converting sparse IndexedSlices(IndexedSlices(indices=Tensor(\"gradient_tape/gb_graph_conv_model_49/graph_conv_99/Reshape_29:0\", shape=(0,), dtype=int32), values=Tensor(\"gradient_tape/gb_graph_conv_model_49/graph_conv_99/Reshape_28:0\", shape=(0, 32), dtype=float32), dense_shape=Tensor(\"gradient_tape/gb_graph_conv_model_49/graph_conv_99/Cast_9:0\", shape=(2,), dtype=int32))) to a dense Tensor of unknown shape. This may consume a large amount of memory.\n",
      "  warnings.warn(\n",
      "/Users/misspotato/opt/miniconda3/envs/rdkit-deepchem-jupyter/lib/python3.9/site-packages/tensorflow/python/framework/indexed_slices.py:447: UserWarning: Converting sparse IndexedSlices(IndexedSlices(indices=Tensor(\"gradient_tape/gb_graph_conv_model_49/graph_pool_98/Reshape_14:0\", shape=(1057,), dtype=int32), values=Tensor(\"gradient_tape/gb_graph_conv_model_49/graph_pool_98/Reshape_13:0\", shape=(1057, 32), dtype=float32), dense_shape=Tensor(\"gradient_tape/gb_graph_conv_model_49/graph_pool_98/Cast_4:0\", shape=(2,), dtype=int32))) to a dense Tensor of unknown shape. This may consume a large amount of memory.\n",
      "  warnings.warn(\n",
      "/Users/misspotato/opt/miniconda3/envs/rdkit-deepchem-jupyter/lib/python3.9/site-packages/tensorflow/python/framework/indexed_slices.py:447: UserWarning: Converting sparse IndexedSlices(IndexedSlices(indices=Tensor(\"gradient_tape/gb_graph_conv_model_49/graph_pool_98/Reshape_17:0\", shape=(3502,), dtype=int32), values=Tensor(\"gradient_tape/gb_graph_conv_model_49/graph_pool_98/Reshape_16:0\", shape=(3502, 32), dtype=float32), dense_shape=Tensor(\"gradient_tape/gb_graph_conv_model_49/graph_pool_98/Cast_5:0\", shape=(2,), dtype=int32))) to a dense Tensor of unknown shape. This may consume a large amount of memory.\n",
      "  warnings.warn(\n",
      "/Users/misspotato/opt/miniconda3/envs/rdkit-deepchem-jupyter/lib/python3.9/site-packages/tensorflow/python/framework/indexed_slices.py:447: UserWarning: Converting sparse IndexedSlices(IndexedSlices(indices=Tensor(\"gradient_tape/gb_graph_conv_model_49/graph_pool_98/Reshape_20:0\", shape=(6855,), dtype=int32), values=Tensor(\"gradient_tape/gb_graph_conv_model_49/graph_pool_98/Reshape_19:0\", shape=(6855, 32), dtype=float32), dense_shape=Tensor(\"gradient_tape/gb_graph_conv_model_49/graph_pool_98/Cast_6:0\", shape=(2,), dtype=int32))) to a dense Tensor of unknown shape. This may consume a large amount of memory.\n",
      "  warnings.warn(\n",
      "/Users/misspotato/opt/miniconda3/envs/rdkit-deepchem-jupyter/lib/python3.9/site-packages/tensorflow/python/framework/indexed_slices.py:447: UserWarning: Converting sparse IndexedSlices(IndexedSlices(indices=Tensor(\"gradient_tape/gb_graph_conv_model_49/graph_pool_98/Reshape_23:0\", shape=(36,), dtype=int32), values=Tensor(\"gradient_tape/gb_graph_conv_model_49/graph_pool_98/Reshape_22:0\", shape=(36, 32), dtype=float32), dense_shape=Tensor(\"gradient_tape/gb_graph_conv_model_49/graph_pool_98/Cast_7:0\", shape=(2,), dtype=int32))) to a dense Tensor of unknown shape. This may consume a large amount of memory.\n",
      "  warnings.warn(\n"
     ]
    },
    {
     "name": "stdout",
     "output_type": "stream",
     "text": [
      "1/1 [==============================] - 5s 5s/step - loss: 27.7377\n",
      "1/1 [==============================] - 1s 780ms/step - loss: 16.4176\n",
      "1/1 [==============================] - 0s 51ms/step - loss: 23.6812\n",
      "1/1 [==============================] - 0s 31ms/step - loss: 16.4641\n",
      "1/1 [==============================] - 0s 51ms/step - loss: 21.0602\n",
      "1/1 [==============================] - 0s 31ms/step - loss: 16.6043\n",
      "1/1 [==============================] - 0s 51ms/step - loss: 18.6109\n",
      "1/1 [==============================] - 0s 32ms/step - loss: 16.9684\n",
      "1/1 [==============================] - 0s 52ms/step - loss: 17.1644\n",
      "1/1 [==============================] - 0s 31ms/step - loss: 17.2222\n",
      "1/1 [==============================] - 0s 51ms/step - loss: 16.0629\n",
      "1/1 [==============================] - 0s 31ms/step - loss: 17.1211\n",
      "1/1 [==============================] - 0s 51ms/step - loss: 14.9291\n",
      "1/1 [==============================] - 0s 32ms/step - loss: 16.9013\n",
      "1/1 [==============================] - 0s 51ms/step - loss: 13.7595\n",
      "1/1 [==============================] - 0s 33ms/step - loss: 16.7126\n",
      "1/1 [==============================] - 0s 52ms/step - loss: 13.2226\n",
      "1/1 [==============================] - 0s 31ms/step - loss: 16.7258\n",
      "1/1 [==============================] - 0s 51ms/step - loss: 12.6504\n",
      "1/1 [==============================] - 0s 32ms/step - loss: 16.5575\n",
      "1/1 [==============================] - 0s 50ms/step - loss: 12.1375\n",
      "1/1 [==============================] - 0s 32ms/step - loss: 16.3553\n",
      "1/1 [==============================] - 0s 51ms/step - loss: 11.6547\n",
      "1/1 [==============================] - 0s 32ms/step - loss: 16.1424\n",
      "1/1 [==============================] - 0s 51ms/step - loss: 11.4116\n",
      "1/1 [==============================] - 0s 30ms/step - loss: 16.0172\n",
      "1/1 [==============================] - 0s 50ms/step - loss: 10.9403\n",
      "1/1 [==============================] - 0s 31ms/step - loss: 16.0163\n",
      "1/1 [==============================] - 0s 52ms/step - loss: 10.5532\n",
      "1/1 [==============================] - 0s 31ms/step - loss: 16.0324\n",
      "1/1 [==============================] - 0s 50ms/step - loss: 10.1628\n",
      "1/1 [==============================] - 0s 31ms/step - loss: 16.0400\n",
      "1/1 [==============================] - 0s 53ms/step - loss: 9.7562\n",
      "1/1 [==============================] - 0s 37ms/step - loss: 16.1400\n",
      "1/1 [==============================] - 0s 51ms/step - loss: 9.4191\n",
      "1/1 [==============================] - 0s 31ms/step - loss: 16.5275\n",
      "1/1 [==============================] - 0s 51ms/step - loss: 9.1277\n",
      "1/1 [==============================] - 0s 32ms/step - loss: 17.1363\n",
      "1/1 [==============================] - 0s 51ms/step - loss: 8.8368\n",
      "1/1 [==============================] - 0s 31ms/step - loss: 17.7120\n",
      "1/1 [==============================] - 0s 44ms/step - loss: 8.6149\n",
      "1/1 [==============================] - 0s 31ms/step - loss: 18.0331\n",
      "1/1 [==============================] - 0s 52ms/step - loss: 8.3806\n",
      "1/1 [==============================] - 0s 32ms/step - loss: 18.0213\n",
      "1/1 [==============================] - 0s 53ms/step - loss: 8.1657\n",
      "1/1 [==============================] - 0s 32ms/step - loss: 17.8108\n",
      "1/1 [==============================] - 0s 50ms/step - loss: 7.9457\n",
      "1/1 [==============================] - 0s 31ms/step - loss: 17.5171\n",
      "1/1 [==============================] - 0s 45ms/step - loss: 7.7831\n",
      "1/1 [==============================] - 0s 31ms/step - loss: 17.2121\n",
      "1/1 [==============================] - 0s 50ms/step - loss: 7.6611\n",
      "1/1 [==============================] - 0s 32ms/step - loss: 16.9321\n",
      "1/1 [==============================] - 0s 51ms/step - loss: 7.5474\n",
      "1/1 [==============================] - 0s 32ms/step - loss: 16.7037\n",
      "1/1 [==============================] - 0s 50ms/step - loss: 7.3779\n",
      "1/1 [==============================] - 0s 33ms/step - loss: 16.4377\n",
      "1/1 [==============================] - 0s 44ms/step - loss: 7.2094\n",
      "1/1 [==============================] - 0s 32ms/step - loss: 16.2439\n",
      "1/1 [==============================] - 0s 51ms/step - loss: 7.1151\n",
      "1/1 [==============================] - 0s 31ms/step - loss: 16.0122\n",
      "1/1 [==============================] - 0s 51ms/step - loss: 7.0202\n",
      "1/1 [==============================] - 0s 32ms/step - loss: 15.7215\n",
      "1/1 [==============================] - 0s 51ms/step - loss: 6.9286\n",
      "1/1 [==============================] - 0s 33ms/step - loss: 15.3713\n",
      "1/1 [==============================] - 0s 44ms/step - loss: 6.8558\n",
      "1/1 [==============================] - 0s 32ms/step - loss: 14.9659\n",
      "1/1 [==============================] - 0s 52ms/step - loss: 6.7889\n",
      "1/1 [==============================] - 0s 31ms/step - loss: 14.4841\n",
      "1/1 [==============================] - 0s 52ms/step - loss: 6.7265\n",
      "1/1 [==============================] - 0s 32ms/step - loss: 14.1914\n",
      "1/1 [==============================] - 0s 52ms/step - loss: 6.6676\n",
      "1/1 [==============================] - 0s 32ms/step - loss: 13.9967\n",
      "1/1 [==============================] - 0s 42ms/step - loss: 6.6092\n",
      "1/1 [==============================] - 0s 31ms/step - loss: 13.8244\n",
      "1/1 [==============================] - 0s 50ms/step - loss: 6.5484\n",
      "1/1 [==============================] - 0s 33ms/step - loss: 13.6752\n",
      "1/1 [==============================] - 0s 50ms/step - loss: 6.5109\n",
      "1/1 [==============================] - 0s 34ms/step - loss: 13.5494\n",
      "1/1 [==============================] - 0s 51ms/step - loss: 6.4721\n",
      "1/1 [==============================] - 0s 33ms/step - loss: 13.4157\n",
      "1/1 [==============================] - 0s 42ms/step - loss: 6.4297\n",
      "1/1 [==============================] - 0s 32ms/step - loss: 13.2712\n",
      "1/1 [==============================] - 0s 50ms/step - loss: 6.4028\n",
      "1/1 [==============================] - 0s 33ms/step - loss: 13.1769\n",
      "1/1 [==============================] - 0s 51ms/step - loss: 6.3810\n",
      "1/1 [==============================] - 0s 34ms/step - loss: 13.0790\n",
      "1/1 [==============================] - 0s 81ms/step - loss: 6.3534\n",
      "1/1 [==============================] - 0s 50ms/step - loss: 12.8099\n",
      "1/1 [==============================] - 0s 89ms/step - loss: 6.3329\n",
      "1/1 [==============================] - 0s 46ms/step - loss: 12.4706\n",
      "1/1 [==============================] - 0s 64ms/step - loss: 6.3149\n",
      "1/1 [==============================] - 0s 34ms/step - loss: 12.1132\n",
      "1/1 [==============================] - 0s 52ms/step - loss: 6.3046\n",
      "1/1 [==============================] - 0s 33ms/step - loss: 11.7589\n",
      "1/1 [==============================] - 0s 53ms/step - loss: 6.2951\n",
      "1/1 [==============================] - 0s 33ms/step - loss: 11.4386\n",
      "1/1 [==============================] - 0s 46ms/step - loss: 6.2867\n",
      "1/1 [==============================] - 0s 32ms/step - loss: 11.1694\n",
      "1/1 [==============================] - 0s 53ms/step - loss: 6.2789\n",
      "1/1 [==============================] - 0s 33ms/step - loss: 10.9368\n",
      "1/1 [==============================] - 0s 50ms/step - loss: 6.2715\n",
      "1/1 [==============================] - 0s 33ms/step - loss: 10.7259\n",
      "1/1 [==============================] - 0s 50ms/step - loss: 6.2645\n",
      "1/1 [==============================] - 0s 30ms/step - loss: 10.5340\n",
      "1/1 [==============================] - 0s 50ms/step - loss: 6.2584\n",
      "1/1 [==============================] - 0s 32ms/step - loss: 10.3443\n",
      "1/1 [==============================] - 0s 50ms/step - loss: 6.2529\n",
      "1/1 [==============================] - 0s 32ms/step - loss: 10.1511\n",
      "1/1 [==============================] - 0s 51ms/step - loss: 6.2457\n",
      "1/1 [==============================] - 0s 32ms/step - loss: 9.9717\n",
      "1/1 [==============================] - 0s 51ms/step - loss: 6.2442\n",
      "1/1 [==============================] - 0s 32ms/step - loss: 9.8091\n",
      "1/1 [==============================] - 0s 50ms/step - loss: 6.2411\n",
      "1/1 [==============================] - 0s 32ms/step - loss: 9.6649\n",
      "1/1 [==============================] - 0s 51ms/step - loss: 6.2402\n",
      "1/1 [==============================] - 0s 32ms/step - loss: 9.5492\n",
      "1/1 [==============================] - 0s 50ms/step - loss: 6.2408\n",
      "1/1 [==============================] - 0s 32ms/step - loss: 9.4694\n",
      "1/1 [==============================] - 0s 52ms/step - loss: 6.2410\n",
      "1/1 [==============================] - 0s 31ms/step - loss: 9.4137\n",
      "1/1 [==============================] - 0s 50ms/step - loss: 6.2412\n"
     ]
    },
    {
     "name": "stdout",
     "output_type": "stream",
     "text": [
      "1/1 [==============================] - 0s 32ms/step - loss: 9.3575\n",
      "1/1 [==============================] - 0s 50ms/step - loss: 6.2411\n",
      "1/1 [==============================] - 0s 31ms/step - loss: 9.3039\n",
      "1/1 [==============================] - 0s 50ms/step - loss: 6.2407\n",
      "1/1 [==============================] - 0s 31ms/step - loss: 9.2725\n",
      "1/1 [==============================] - 0s 51ms/step - loss: 6.2398\n",
      "1/1 [==============================] - 0s 30ms/step - loss: 9.2721\n",
      "1/1 [==============================] - 0s 49ms/step - loss: 6.2387\n",
      "1/1 [==============================] - 0s 31ms/step - loss: 9.2881\n",
      "1/1 [==============================] - 0s 52ms/step - loss: 6.2378\n",
      "1/1 [==============================] - 0s 31ms/step - loss: 9.3079\n",
      "1/1 [==============================] - 0s 52ms/step - loss: 6.2369\n",
      "1/1 [==============================] - 0s 31ms/step - loss: 9.3332\n",
      "1/1 [==============================] - 0s 52ms/step - loss: 6.2361\n",
      "1/1 [==============================] - 0s 30ms/step - loss: 9.3620\n",
      "1/1 [==============================] - 0s 50ms/step - loss: 6.2354\n",
      "1/1 [==============================] - 0s 31ms/step - loss: 9.3931\n",
      "1/1 [==============================] - 0s 51ms/step - loss: 6.2349\n",
      "1/1 [==============================] - 0s 31ms/step - loss: 9.4512\n",
      "1/1 [==============================] - 0s 51ms/step - loss: 6.2344\n",
      "1/1 [==============================] - 0s 31ms/step - loss: 9.5367\n",
      "1/1 [==============================] - 0s 51ms/step - loss: 6.2340\n",
      "1/1 [==============================] - 0s 30ms/step - loss: 9.6100\n",
      "1/1 [==============================] - 0s 49ms/step - loss: 6.2334\n",
      "1/1 [==============================] - 0s 31ms/step - loss: 9.6781\n",
      "1/1 [==============================] - 0s 51ms/step - loss: 6.2320\n",
      "1/1 [==============================] - 0s 31ms/step - loss: 9.7556\n",
      "1/1 [==============================] - 0s 51ms/step - loss: 6.2309\n",
      "1/1 [==============================] - 0s 31ms/step - loss: 9.8522\n",
      "1/1 [==============================] - 0s 51ms/step - loss: 6.2305\n",
      "1/1 [==============================] - 0s 31ms/step - loss: 9.9676\n",
      "1/1 [==============================] - 0s 49ms/step - loss: 6.2301\n",
      "1/1 [==============================] - 0s 31ms/step - loss: 10.0877\n",
      "1/1 [==============================] - 0s 51ms/step - loss: 6.2291\n",
      "1/1 [==============================] - 0s 31ms/step - loss: 10.2264\n",
      "1/1 [==============================] - 0s 50ms/step - loss: 6.2280\n",
      "1/1 [==============================] - 0s 31ms/step - loss: 10.3890\n",
      "1/1 [==============================] - 0s 51ms/step - loss: 6.2274\n",
      "1/1 [==============================] - 0s 30ms/step - loss: 10.5539\n",
      "1/1 [==============================] - 0s 50ms/step - loss: 6.2272\n",
      "1/1 [==============================] - 0s 31ms/step - loss: 10.7125\n",
      "1/1 [==============================] - 0s 50ms/step - loss: 6.2269\n",
      "1/1 [==============================] - 0s 30ms/step - loss: 10.8694\n",
      "1/1 [==============================] - 0s 52ms/step - loss: 6.2265\n",
      "1/1 [==============================] - 0s 31ms/step - loss: 11.0227\n",
      "1/1 [==============================] - 0s 51ms/step - loss: 6.2260\n",
      "1/1 [==============================] - 0s 31ms/step - loss: 11.1710\n",
      "1/1 [==============================] - 0s 51ms/step - loss: 6.2255\n",
      "1/1 [==============================] - 0s 31ms/step - loss: 11.3141\n",
      "1/1 [==============================] - 0s 51ms/step - loss: 6.2250\n",
      "1/1 [==============================] - 0s 30ms/step - loss: 11.4494\n",
      "1/1 [==============================] - 0s 58ms/step - loss: 6.2244\n",
      "1/1 [==============================] - 0s 34ms/step - loss: 11.5744\n",
      "1/1 [==============================] - 0s 48ms/step - loss: 6.2239\n",
      "1/1 [==============================] - 0s 30ms/step - loss: 11.6907\n",
      "1/1 [==============================] - 0s 50ms/step - loss: 6.2234\n",
      "1/1 [==============================] - 0s 31ms/step - loss: 11.7930\n",
      "1/1 [==============================] - 0s 51ms/step - loss: 6.2228\n",
      "1/1 [==============================] - 0s 31ms/step - loss: 11.8631\n",
      "1/1 [==============================] - 0s 50ms/step - loss: 6.2222\n",
      "1/1 [==============================] - 0s 30ms/step - loss: 11.8987\n",
      "1/1 [==============================] - 0s 44ms/step - loss: 6.2216\n",
      "1/1 [==============================] - 0s 31ms/step - loss: 11.9355\n",
      "1/1 [==============================] - 0s 51ms/step - loss: 6.2209\n",
      "1/1 [==============================] - 0s 31ms/step - loss: 11.9651\n",
      "1/1 [==============================] - 0s 50ms/step - loss: 6.2202\n",
      "1/1 [==============================] - 0s 31ms/step - loss: 11.9836\n",
      "1/1 [==============================] - 0s 50ms/step - loss: 6.2193\n",
      "1/1 [==============================] - 0s 32ms/step - loss: 12.0103\n",
      "1/1 [==============================] - 0s 44ms/step - loss: 6.2188\n",
      "1/1 [==============================] - 0s 32ms/step - loss: 12.0397\n",
      "1/1 [==============================] - 0s 51ms/step - loss: 6.2186\n",
      "1/1 [==============================] - 0s 32ms/step - loss: 12.0808\n",
      "1/1 [==============================] - 0s 51ms/step - loss: 6.2182\n",
      "1/1 [==============================] - 0s 32ms/step - loss: 12.1299\n",
      "1/1 [==============================] - 0s 50ms/step - loss: 6.2179\n",
      "1/1 [==============================] - 0s 32ms/step - loss: 12.1688\n",
      "1/1 [==============================] - 0s 43ms/step - loss: 6.2175\n",
      "1/1 [==============================] - 0s 32ms/step - loss: 12.1941\n"
     ]
    }
   ],
   "source": [
    "dd_losses, dd_val_losses = [], []\n",
    "max_epoch = 100\n",
    "val_size = len(y_val)\n",
    "train_size = len(y_train)\n",
    "\n",
    "for epoch in range(max_epoch):\n",
    "    dd_model.modify_graphgather(train_size)\n",
    "    dd_model.input_shapes = [i.shape for i in x_preprocessed_train]\n",
    "    loss = dd_model.fit(x_train, y_train.reshape([1, -1]), epochs=1)\n",
    "#     metric = dc.metrics.Metric(dc.metrics.score_function.rms_score)\n",
    "    dd_losses.append(loss.history['loss'])\n",
    "    dd_model.input_shapes = [i.shape for i in x_preprocessed_val]\n",
    "    dd_model.modify_graphgather(val_size)\n",
    "    dd_val_losses.append(dd_model.evaluate(x_val, y_val.reshape([1, -1])))"
   ]
  },
  {
   "cell_type": "code",
   "execution_count": 860,
   "metadata": {},
   "outputs": [
    {
     "data": {
      "image/png": "[encoded data removed]",
      "text/plain": [
       "<Figure size 432x288 with 1 Axes>"
      ]
     },
     "metadata": {
      "needs_background": "light"
     },
     "output_type": "display_data"
    }
   ],
   "source": [
    "import matplotlib.pyplot as plt\n",
    "# f, ax = plt.subplots()\n",
    "plt.plot(range(len(dd_losses)), dd_losses, label='train loss')\n",
    "plt.plot(range(len(dd_val_losses)), dd_val_losses, label='val loss')\n",
    "plt.legend(loc='upper right');\n",
    "plt.xlabel(\"Epoch\")\n",
    "plt.ylabel(\"Loss (Kcal/mol)\")\n",
    "plt.ylim(0,100)\n",
    "plt.savefig('ind_loss.png')"
   ]
  },
  {
   "cell_type": "code",
   "execution_count": 861,
   "metadata": {},
   "outputs": [
    {
     "name": "stdout",
     "output_type": "stream",
     "text": [
      "1/1 [==============================] - 0s 37ms/step - loss: 12.1941\n"
     ]
    }
   ],
   "source": [
    "dd_model.input_shapes = [i.shape for i in x_preprocessed_test]\n",
    "dd_model.modify_graphgather(len(y_test))\n",
    "test_pgnn_loss = dd_model.evaluate(x_test, y_test.reshape([1, -1]))"
   ]
  },
  {
   "cell_type": "code",
   "execution_count": 862,
   "metadata": {},
   "outputs": [
    {
     "name": "stdout",
     "output_type": "stream",
     "text": [
      "3.4920012490531374\n"
     ]
    }
   ],
   "source": [
    "dd_rmse_test = np.sqrt(test_pgnn_loss)\n",
    "print(dd_rmse_test)"
   ]
  },
  {
   "cell_type": "code",
   "execution_count": 863,
   "metadata": {},
   "outputs": [
    {
     "data": {
      "text/plain": [
       "[6.21751594543457]"
      ]
     },
     "execution_count": 863,
     "metadata": {},
     "output_type": "execute_result"
    }
   ],
   "source": [
    "dd_train_loss = dd_losses[-1]\n",
    "dd_train_loss"
   ]
  },
  {
   "cell_type": "code",
   "execution_count": 864,
   "metadata": {},
   "outputs": [
    {
     "data": {
      "text/plain": [
       "2.4934947253673045"
      ]
     },
     "execution_count": 864,
     "metadata": {},
     "output_type": "execute_result"
    }
   ],
   "source": [
    "import math\n",
    "train_dd_rmse = math.sqrt(dd_train_loss[0])\n",
    "train_dd_rmse"
   ]
  },
  {
   "cell_type": "code",
   "execution_count": 865,
   "metadata": {},
   "outputs": [],
   "source": [
    "dd_test_accuracy.append(dd_rmse_test)\n",
    "dd_train_accuracy.append(train_dd_rmse)"
   ]
  },
  {
   "cell_type": "code",
   "execution_count": 866,
   "metadata": {},
   "outputs": [
    {
     "name": "stdout",
     "output_type": "stream",
     "text": [
      "[2.7476471459067344, 2.235096528189762, 2.450360727028965, 1.172321590522769, 3.5912934241373193, 2.7393148215714285, 2.6855213954757207, 2.295871022140655, 3.5633989504942187, 2.3038956655813476, 1.493962375754382, 3.4920012490531374]\n"
     ]
    }
   ],
   "source": [
    "print(dd_test_accuracy)"
   ]
  },
  {
   "cell_type": "markdown",
   "metadata": {},
   "source": [
    "<h1> Model Comparisons </h1>"
   ]
  },
  {
   "cell_type": "code",
   "execution_count": 730,
   "metadata": {
    "scrolled": true
   },
   "outputs": [
    {
     "ename": "NameError",
     "evalue": "name 'physics_based_rmse_test' is not defined",
     "output_type": "error",
     "traceback": [
      "\u001b[0;31m---------------------------------------------------------------------------\u001b[0m",
      "\u001b[0;31mNameError\u001b[0m                                 Traceback (most recent call last)",
      "\u001b[0;32m/var/folders/hb/w4jx_9s16rj63db5bscbr46h0000gp/T/ipykernel_61511/500204064.py\u001b[0m in \u001b[0;36m<module>\u001b[0;34m\u001b[0m\n\u001b[1;32m      4\u001b[0m \u001b[0mrmse_table\u001b[0m\u001b[0;34m.\u001b[0m\u001b[0mtitle\u001b[0m\u001b[0;34m=\u001b[0m\u001b[0;34m\"Test Set RMSE\"\u001b[0m\u001b[0;34m\u001b[0m\u001b[0;34m\u001b[0m\u001b[0m\n\u001b[1;32m      5\u001b[0m \u001b[0mrmse_table\u001b[0m\u001b[0;34m.\u001b[0m\u001b[0mfield_names\u001b[0m \u001b[0;34m=\u001b[0m \u001b[0;34m[\u001b[0m\u001b[0;34m\"GBNSR6\"\u001b[0m\u001b[0;34m,\u001b[0m \u001b[0;34m\"Data Driven\"\u001b[0m\u001b[0;34m,\u001b[0m \u001b[0;34m\"PGNN\"\u001b[0m\u001b[0;34m]\u001b[0m\u001b[0;34m\u001b[0m\u001b[0;34m\u001b[0m\u001b[0m\n\u001b[0;32m----> 6\u001b[0;31m \u001b[0mrmse_table\u001b[0m\u001b[0;34m.\u001b[0m\u001b[0madd_row\u001b[0m\u001b[0;34m(\u001b[0m\u001b[0;34m[\u001b[0m\u001b[0;34m\"{:.2f}\"\u001b[0m\u001b[0;34m.\u001b[0m\u001b[0mformat\u001b[0m\u001b[0;34m(\u001b[0m\u001b[0mphysics_based_rmse_test\u001b[0m\u001b[0;34m)\u001b[0m\u001b[0;34m,\u001b[0m \u001b[0;34m\"{:.2f}\"\u001b[0m\u001b[0;34m.\u001b[0m\u001b[0mformat\u001b[0m\u001b[0;34m(\u001b[0m\u001b[0mdd_rmse_test\u001b[0m\u001b[0;34m)\u001b[0m\u001b[0;34m,\u001b[0m\u001b[0;34m\"{:.2f}\"\u001b[0m\u001b[0;34m.\u001b[0m\u001b[0mformat\u001b[0m\u001b[0;34m(\u001b[0m\u001b[0mpgnn_rmse_test\u001b[0m\u001b[0;34m)\u001b[0m\u001b[0;34m]\u001b[0m\u001b[0;34m)\u001b[0m\u001b[0;34m\u001b[0m\u001b[0;34m\u001b[0m\u001b[0m\n\u001b[0m\u001b[1;32m      7\u001b[0m \u001b[0mprint\u001b[0m\u001b[0;34m(\u001b[0m\u001b[0mrmse_table\u001b[0m\u001b[0;34m)\u001b[0m\u001b[0;34m\u001b[0m\u001b[0;34m\u001b[0m\u001b[0m\n",
      "\u001b[0;31mNameError\u001b[0m: name 'physics_based_rmse_test' is not defined"
     ]
    }
   ],
   "source": [
    "# Test\n",
    "from prettytable import PrettyTable\n",
    "rmse_table = PrettyTable()\n",
    "rmse_table.title=\"Test Set RMSE\"\n",
    "rmse_table.field_names = [\"GBNSR6\", \"Data Driven\", \"PGNN\"]\n",
    "rmse_table.add_row([\"{:.2f}\".format(physics_based_rmse_test), \"{:.2f}\".format(dd_rmse_test),\"{:.2f}\".format(pgnn_rmse_test)])\n",
    "print(rmse_table)"
   ]
  },
  {
   "cell_type": "code",
   "execution_count": 94,
   "metadata": {},
   "outputs": [
    {
     "name": "stdout",
     "output_type": "stream",
     "text": [
      "+-----------------------------+\n",
      "|        Train Set RMSE       |\n",
      "+--------+-------------+------+\n",
      "| GBNSR6 | Data Driven | PGNN |\n",
      "+--------+-------------+------+\n",
      "|  9.17  |     1.94    | 3.79 |\n",
      "+--------+-------------+------+\n"
     ]
    }
   ],
   "source": [
    "# Train\n",
    "rmse_table = PrettyTable()\n",
    "rmse_table.title=\"Train Set RMSE\"\n",
    "rmse_table.field_names = [\"GBNSR6\", \"Data Driven\", \"PGNN\"]\n",
    "rmse_table.add_row([\"{:.2f}\".format(physics_based_rmse_train), \"{:.2f}\".format(train_dd_rmse),\"{:.2f}\".format(train_hybrid_rmse)])\n",
    "print(rmse_table)"
   ]
  },
  {
   "cell_type": "markdown",
   "metadata": {},
   "source": [
    "<h1> PGNN and DD model average performance analysis </h1>"
   ]
  },
  {
   "cell_type": "code",
   "execution_count": 867,
   "metadata": {},
   "outputs": [],
   "source": [
    "train_results_dict = {\n",
    "    \"pgnn_train\" : [x for x in pgnn_train_accuracy],\n",
    "    \"dd_train\" : [x for x in dd_train_accuracy]\n",
    "}\n",
    "test_results_dict ={\n",
    "    \"pgnn_test\" : [x for x in pgnn_test_accuracy],\n",
    "    \"dd_test\" : [x for x in dd_test_accuracy]\n",
    "}"
   ]
  },
  {
   "cell_type": "code",
   "execution_count": 883,
   "metadata": {},
   "outputs": [
    {
     "data": {
      "text/plain": [
       "(2.0, 5.0)"
      ]
     },
     "execution_count": 883,
     "metadata": {},
     "output_type": "execute_result"
    },
    {
     "data": {
      "image/png": "[encoded data removed]",
      "text/plain": [
       "<Figure size 720x864 with 1 Axes>"
      ]
     },
     "metadata": {
      "needs_background": "light"
     },
     "output_type": "display_data"
    }
   ],
   "source": [
    "import matplotlib.pyplot as plt\n",
    "# Train box plot\n",
    "plt.figure(figsize=(10,12))\n",
    "plt.title(\"Train RMSE comparison\")\n",
    "plt.boxplot([x for x in train_results_dict.values()],labels=[x for x in train_results_dict.keys()])\n",
    "plt.xlabel(\"PGNN and DD train\")\n",
    "plt.ylabel(\"RMSE\")\n",
    "plt.ylim(2, 5, 0.3)\n"
   ]
  },
  {
   "cell_type": "code",
   "execution_count": 884,
   "metadata": {},
   "outputs": [
    {
     "data": {
      "text/plain": [
       "(0.0, 8.0)"
      ]
     },
     "execution_count": 884,
     "metadata": {},
     "output_type": "execute_result"
    },
    {
     "data": {
      "image/png": "[encoded data removed]",
      "text/plain": [
       "<Figure size 720x864 with 1 Axes>"
      ]
     },
     "metadata": {
      "needs_background": "light"
     },
     "output_type": "display_data"
    }
   ],
   "source": [
    "import matplotlib.pyplot as plt\n",
    "# Test box plot\n",
    "plt.figure(figsize=(10,12))\n",
    "plt.title(\"Test RMSE comparison\")\n",
    "plt.boxplot([x for x in test_results_dict.values()],labels=[x for x in test_results_dict.keys()])\n",
    "plt.xlabel(\"PGNN and DD train\")\n",
    "plt.ylabel(\"RMSE\")\n",
    "plt.ylim(0, 8, 0.3)\n",
    "\n"
   ]
  },
  {
   "cell_type": "code",
   "execution_count": null,
   "metadata": {},
   "outputs": [],
   "source": []
  }
 ],
 "metadata": {
  "kernelspec": {
   "display_name": "rdkit-deepchem-jupyter",
   "language": "python",
   "name": "rdkit-deepchem-jupyter"
  },
  "language_info": {
   "codemirror_mode": {
    "name": "ipython",
    "version": 3
   },
   "file_extension": ".py",
   "mimetype": "text/x-python",
   "name": "python",
   "nbconvert_exporter": "python",
   "pygments_lexer": "ipython3",
   "version": "3.9.7"
  }
 },
 "nbformat": 4,
 "nbformat_minor": 4
}
