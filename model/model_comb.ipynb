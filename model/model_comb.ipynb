{
 "cells": [
  {
   "cell_type": "markdown",
   "metadata": {},
   "source": [
    "<h1>Installing RDKit</h1>"
   ]
  },
  {
   "cell_type": "code",
   "execution_count": 1,
   "metadata": {},
   "outputs": [],
   "source": [
    "import rdkit\n",
    "import deepchem as dc\n",
    "import pandas as pd\n",
    "import numpy as np\n",
    "import tensorflow as tf\n",
    "import sklearn"
   ]
  },
  {
   "cell_type": "code",
   "execution_count": 2,
   "metadata": {},
   "outputs": [
    {
     "data": {
      "text/plain": [
       "'2.5.0'"
      ]
     },
     "execution_count": 2,
     "metadata": {},
     "output_type": "execute_result"
    }
   ],
   "source": [
    "dc.__version__"
   ]
  },
  {
   "cell_type": "code",
   "execution_count": 3,
   "metadata": {},
   "outputs": [
    {
     "data": {
      "text/plain": [
       "'1.19.5'"
      ]
     },
     "execution_count": 3,
     "metadata": {},
     "output_type": "execute_result"
    }
   ],
   "source": [
    "np.__version__"
   ]
  },
  {
   "cell_type": "code",
   "execution_count": 4,
   "metadata": {},
   "outputs": [
    {
     "data": {
      "text/plain": [
       "'2.6.0'"
      ]
     },
     "execution_count": 4,
     "metadata": {},
     "output_type": "execute_result"
    }
   ],
   "source": [
    "tf.__version__"
   ]
  },
  {
   "cell_type": "code",
   "execution_count": 5,
   "metadata": {},
   "outputs": [],
   "source": [
    "df = pd.read_csv('https://raw.githubusercontent.com/saharctech/Binding-Free-Energy-Prediction-Host-Guest-System/master/Results/dataset.csv')"
   ]
  },
  {
   "cell_type": "code",
   "execution_count": 6,
   "metadata": {},
   "outputs": [
    {
     "data": {
      "text/html": [
       "<div>\n",
       "<style scoped>\n",
       "    .dataframe tbody tr th:only-of-type {\n",
       "        vertical-align: middle;\n",
       "    }\n",
       "\n",
       "    .dataframe tbody tr th {\n",
       "        vertical-align: top;\n",
       "    }\n",
       "\n",
       "    .dataframe thead th {\n",
       "        text-align: right;\n",
       "    }\n",
       "</style>\n",
       "<table border=\"1\" class=\"dataframe\">\n",
       "  <thead>\n",
       "    <tr style=\"text-align: right;\">\n",
       "      <th></th>\n",
       "      <th>dataset group name</th>\n",
       "      <th>Dataset Name</th>\n",
       "      <th>Host</th>\n",
       "      <th>Guest</th>\n",
       "      <th>Ex _G_(kcal/mol)</th>\n",
       "      <th>Ex _G_SEM</th>\n",
       "      <th>EX _H_(kcal/mol)</th>\n",
       "      <th>EX _H_SEM</th>\n",
       "      <th>pb_guest_Etot</th>\n",
       "      <th>pb_guest_VDWAALS</th>\n",
       "      <th>...</th>\n",
       "      <th>gb_host_1-4EEL</th>\n",
       "      <th>gb_host_EELEC</th>\n",
       "      <th>gb_host_EGB</th>\n",
       "      <th>gb_host_ESURF</th>\n",
       "      <th>gb_delta_H</th>\n",
       "      <th>pb_delta_H</th>\n",
       "      <th>EX _delta_H_(kcal/mol)</th>\n",
       "      <th>gb_Ex_difference</th>\n",
       "      <th>SQR_gbnsr6_Ex_difference</th>\n",
       "      <th>pb_Ex_difference</th>\n",
       "    </tr>\n",
       "  </thead>\n",
       "  <tbody>\n",
       "    <tr>\n",
       "      <th>0</th>\n",
       "      <td>Mobley benchmarkset</td>\n",
       "      <td>cd-set1</td>\n",
       "      <td>acd</td>\n",
       "      <td>guest-1</td>\n",
       "      <td>-1.575</td>\n",
       "      <td>0.019</td>\n",
       "      <td>-2.17</td>\n",
       "      <td>0.05</td>\n",
       "      <td>-47.8832</td>\n",
       "      <td>-0.0564</td>\n",
       "      <td>...</td>\n",
       "      <td>423.5761</td>\n",
       "      <td>-428.9520</td>\n",
       "      <td>-96.4471</td>\n",
       "      <td>5.1691</td>\n",
       "      <td>-1.9950</td>\n",
       "      <td>-0.8408</td>\n",
       "      <td>-2.17</td>\n",
       "      <td>0.1750</td>\n",
       "      <td>0.030625</td>\n",
       "      <td>1.3292</td>\n",
       "    </tr>\n",
       "    <tr>\n",
       "      <th>1</th>\n",
       "      <td>Mobley benchmarkset</td>\n",
       "      <td>cd-set1</td>\n",
       "      <td>acd</td>\n",
       "      <td>guest-2</td>\n",
       "      <td>-3.533</td>\n",
       "      <td>0.004</td>\n",
       "      <td>-4.19</td>\n",
       "      <td>0.02</td>\n",
       "      <td>-52.0758</td>\n",
       "      <td>-0.3831</td>\n",
       "      <td>...</td>\n",
       "      <td>412.6663</td>\n",
       "      <td>-397.9784</td>\n",
       "      <td>-106.4154</td>\n",
       "      <td>5.0726</td>\n",
       "      <td>-11.2624</td>\n",
       "      <td>-8.4809</td>\n",
       "      <td>-4.19</td>\n",
       "      <td>-7.0724</td>\n",
       "      <td>50.018842</td>\n",
       "      <td>-4.2909</td>\n",
       "    </tr>\n",
       "    <tr>\n",
       "      <th>2</th>\n",
       "      <td>Mobley benchmarkset</td>\n",
       "      <td>cd-set1</td>\n",
       "      <td>acd</td>\n",
       "      <td>guest-3</td>\n",
       "      <td>-4.606</td>\n",
       "      <td>0.007</td>\n",
       "      <td>-5.46</td>\n",
       "      <td>0.03</td>\n",
       "      <td>-51.5323</td>\n",
       "      <td>-0.6493</td>\n",
       "      <td>...</td>\n",
       "      <td>426.2925</td>\n",
       "      <td>-429.3068</td>\n",
       "      <td>-95.2452</td>\n",
       "      <td>5.1352</td>\n",
       "      <td>-15.4074</td>\n",
       "      <td>-13.8234</td>\n",
       "      <td>-5.46</td>\n",
       "      <td>-9.9474</td>\n",
       "      <td>98.950767</td>\n",
       "      <td>-8.3634</td>\n",
       "    </tr>\n",
       "    <tr>\n",
       "      <th>3</th>\n",
       "      <td>Mobley benchmarkset</td>\n",
       "      <td>cd-set1</td>\n",
       "      <td>acd</td>\n",
       "      <td>guest-4</td>\n",
       "      <td>-2.130</td>\n",
       "      <td>0.016</td>\n",
       "      <td>-2.74</td>\n",
       "      <td>0.02</td>\n",
       "      <td>2.3898</td>\n",
       "      <td>-0.0159</td>\n",
       "      <td>...</td>\n",
       "      <td>420.0687</td>\n",
       "      <td>-416.5215</td>\n",
       "      <td>-97.4461</td>\n",
       "      <td>5.0849</td>\n",
       "      <td>-10.5586</td>\n",
       "      <td>-11.3319</td>\n",
       "      <td>-2.74</td>\n",
       "      <td>-7.8186</td>\n",
       "      <td>61.130506</td>\n",
       "      <td>-8.5919</td>\n",
       "    </tr>\n",
       "    <tr>\n",
       "      <th>4</th>\n",
       "      <td>Mobley benchmarkset</td>\n",
       "      <td>cd-set1</td>\n",
       "      <td>acd</td>\n",
       "      <td>guest-5</td>\n",
       "      <td>-2.510</td>\n",
       "      <td>0.060</td>\n",
       "      <td>-2.99</td>\n",
       "      <td>0.23</td>\n",
       "      <td>-3.2280</td>\n",
       "      <td>-0.9041</td>\n",
       "      <td>...</td>\n",
       "      <td>425.7315</td>\n",
       "      <td>-435.9689</td>\n",
       "      <td>-91.2312</td>\n",
       "      <td>5.0881</td>\n",
       "      <td>-14.5517</td>\n",
       "      <td>-14.0485</td>\n",
       "      <td>-2.99</td>\n",
       "      <td>-11.5617</td>\n",
       "      <td>133.672907</td>\n",
       "      <td>-11.0585</td>\n",
       "    </tr>\n",
       "  </tbody>\n",
       "</table>\n",
       "<p>5 rows × 44 columns</p>\n",
       "</div>"
      ],
      "text/plain": [
       "    dataset group name Dataset Name Host    Guest  Ex _G_(kcal/mol)  \\\n",
       "0  Mobley benchmarkset      cd-set1  acd  guest-1            -1.575   \n",
       "1  Mobley benchmarkset      cd-set1  acd  guest-2            -3.533   \n",
       "2  Mobley benchmarkset      cd-set1  acd  guest-3            -4.606   \n",
       "3  Mobley benchmarkset      cd-set1  acd  guest-4            -2.130   \n",
       "4  Mobley benchmarkset      cd-set1  acd  guest-5            -2.510   \n",
       "\n",
       "   Ex _G_SEM  EX _H_(kcal/mol)  EX _H_SEM  pb_guest_Etot  pb_guest_VDWAALS  \\\n",
       "0      0.019             -2.17       0.05       -47.8832           -0.0564   \n",
       "1      0.004             -4.19       0.02       -52.0758           -0.3831   \n",
       "2      0.007             -5.46       0.03       -51.5323           -0.6493   \n",
       "3      0.016             -2.74       0.02         2.3898           -0.0159   \n",
       "4      0.060             -2.99       0.23        -3.2280           -0.9041   \n",
       "\n",
       "   ...  gb_host_1-4EEL  gb_host_EELEC  gb_host_EGB  gb_host_ESURF  gb_delta_H  \\\n",
       "0  ...        423.5761      -428.9520     -96.4471         5.1691     -1.9950   \n",
       "1  ...        412.6663      -397.9784    -106.4154         5.0726    -11.2624   \n",
       "2  ...        426.2925      -429.3068     -95.2452         5.1352    -15.4074   \n",
       "3  ...        420.0687      -416.5215     -97.4461         5.0849    -10.5586   \n",
       "4  ...        425.7315      -435.9689     -91.2312         5.0881    -14.5517   \n",
       "\n",
       "   pb_delta_H  EX _delta_H_(kcal/mol)  gb_Ex_difference  \\\n",
       "0     -0.8408                   -2.17            0.1750   \n",
       "1     -8.4809                   -4.19           -7.0724   \n",
       "2    -13.8234                   -5.46           -9.9474   \n",
       "3    -11.3319                   -2.74           -7.8186   \n",
       "4    -14.0485                   -2.99          -11.5617   \n",
       "\n",
       "   SQR_gbnsr6_Ex_difference  pb_Ex_difference  \n",
       "0                  0.030625            1.3292  \n",
       "1                 50.018842           -4.2909  \n",
       "2                 98.950767           -8.3634  \n",
       "3                 61.130506           -8.5919  \n",
       "4                133.672907          -11.0585  \n",
       "\n",
       "[5 rows x 44 columns]"
      ]
     },
     "execution_count": 6,
     "metadata": {},
     "output_type": "execute_result"
    }
   ],
   "source": [
    "df.head()"
   ]
  },
  {
   "cell_type": "markdown",
   "metadata": {},
   "source": [
    "<h1>Reading Mobley PDB files</h1>\n",
    "<p>Here each PDB file will be read and saved in Mol data type defined in RDKit and used by DeepChem</p>"
   ]
  },
  {
   "cell_type": "code",
   "execution_count": 7,
   "metadata": {},
   "outputs": [],
   "source": [
    "# Dictionary with complex names as keys and molecule as values\n",
    "PDBs = {}\n",
    "from os import listdir\n",
    "from os.path import isfile, join\n",
    "mypath = '/Users/misspotato/Documents/Github/Binding-Free-Energy-Prediction-Host-Guest-System/PDB'\n",
    "onlyfiles = [f for f in listdir(mypath) if isfile(join(mypath, f))]\n",
    "for f in onlyfiles:\n",
    "    PDBs.update({f.split('.')[0].replace('s', '') : rdkit.Chem.rdmolfiles.MolFromPDBFile(mypath + '/' + f)})"
   ]
  },
  {
   "cell_type": "code",
   "execution_count": 8,
   "metadata": {},
   "outputs": [],
   "source": [
    "# Randomly shuffling the PDBs\n",
    "import random\n",
    "l = list(PDBs.items())\n",
    "random.shuffle(l)\n",
    "PDBs = dict(l)"
   ]
  },
  {
   "cell_type": "markdown",
   "metadata": {},
   "source": [
    "<h1>Featurizing</h1>\n",
    "<p>GraphConv model needs ConvMolFeaturizer</p>"
   ]
  },
  {
   "cell_type": "code",
   "execution_count": 9,
   "metadata": {},
   "outputs": [],
   "source": [
    "featurizer = dc.feat.ConvMolFeaturizer(per_atom_fragmentation=False)\n",
    "TRAIN_SET = .7\n",
    "VAL_SET = .3"
   ]
  },
  {
   "cell_type": "code",
   "execution_count": 10,
   "metadata": {},
   "outputs": [],
   "source": [
    "# PDBs.pop('',None)\n",
    "# X = []\n",
    "# X_ids = []\n",
    "# # one_add = 0 if len(PDBs.keys()) % 2 == 0 else 1\n",
    "# for k in PDBs.keys():\n",
    "#     X_ids.append(k)\n",
    "#     X.append(featurizer.featurize(PDBs[k]))\n",
    "# split_index = int(len(X) * TRAIN_SET)\n",
    "# X = [x[0] for x in X]\n",
    "# X_train_featurized = X[:split_index]\n",
    "# X_test_featurized = X[split_index:]"
   ]
  },
  {
   "cell_type": "code",
   "execution_count": 11,
   "metadata": {},
   "outputs": [],
   "source": [
    "PDBs.pop('',None)\n",
    "X = []\n",
    "X_ids = []\n",
    "# one_add = 0 if len(PDBs.keys()) % 2 == 0 else 1\n",
    "for k in PDBs.keys():\n",
    "    X_ids.append(k)\n",
    "    X.append(featurizer.featurize(PDBs[k]))\n",
    "train_split_index = int(len(X) * TRAIN_SET)\n",
    "val_split_index = int(len(X) * VAL_SET)\n",
    "X = [x[0] for x in X]\n",
    "X_train_featurized = X[:train_split_index]\n",
    "# X_val_featurized = X[train_split_index: (train_split_index + val_split_index)]\n",
    "X_val_featurized = X[train_split_index:]\n",
    "X_test_featurized = X[train_split_index:]"
   ]
  },
  {
   "cell_type": "code",
   "execution_count": 12,
   "metadata": {},
   "outputs": [],
   "source": [
    "host_names = [i.split('-')[0] for i in X_ids]\n",
    "guest_names = ['guest-' + (i.split('-')[1].replace('s', '')) for i in X_ids]"
   ]
  },
  {
   "cell_type": "code",
   "execution_count": 13,
   "metadata": {},
   "outputs": [],
   "source": [
    "# host_names_train = host_names[:split_index]\n",
    "# guest_names_train = guest_names[:split_index]\n",
    "# host_names_test = host_names[split_index:]\n",
    "# guest_names_test = guest_names[split_index:]"
   ]
  },
  {
   "cell_type": "code",
   "execution_count": 14,
   "metadata": {},
   "outputs": [],
   "source": [
    "# train\n",
    "host_names_train = host_names[:train_split_index]\n",
    "guest_names_train = guest_names[:train_split_index]\n",
    "# Val\n",
    "# host_names_val = host_names[train_split_index:(train_split_index + val_split_index)]\n",
    "# guest_names_val = guest_names[train_split_index:(train_split_index + val_split_index)]\n",
    "host_names_val = host_names[train_split_index:]\n",
    "guest_names_val = guest_names[train_split_index:]\n",
    "# test\n",
    "host_names_test = host_names[train_split_index:]\n",
    "guest_names_test = guest_names[train_split_index:]\n"
   ]
  },
  {
   "cell_type": "code",
   "execution_count": 15,
   "metadata": {},
   "outputs": [
    {
     "name": "stdout",
     "output_type": "stream",
     "text": [
      "8\n"
     ]
    }
   ],
   "source": [
    "a = set(host_names_train)\n",
    "print(len(a))"
   ]
  },
  {
   "cell_type": "code",
   "execution_count": 16,
   "metadata": {},
   "outputs": [
    {
     "name": "stdout",
     "output_type": "stream",
     "text": [
      "7\n"
     ]
    }
   ],
   "source": [
    "a = set(host_names_test)\n",
    "print(len(a))"
   ]
  },
  {
   "cell_type": "code",
   "execution_count": 18,
   "metadata": {},
   "outputs": [
    {
     "data": {
      "text/plain": [
       "['acd',\n",
       " 'bcd',\n",
       " 'acd',\n",
       " 'OAA',\n",
       " 'bcd',\n",
       " 'bcd',\n",
       " 'acd',\n",
       " 'bcd',\n",
       " 'acd',\n",
       " 'temoa',\n",
       " 'acd',\n",
       " 'bcd',\n",
       " 'bcd',\n",
       " 'temoa',\n",
       " 'temoa',\n",
       " 'acd',\n",
       " 'OAME',\n",
       " 'acd',\n",
       " 'acd',\n",
       " 'bcd',\n",
       " 'oa',\n",
       " 'bcd',\n",
       " 'CB8',\n",
       " 'CB8',\n",
       " 'bcd',\n",
       " 'bcd',\n",
       " 'acd',\n",
       " 'bcd',\n",
       " 'acd',\n",
       " 'bcd',\n",
       " 'bcd',\n",
       " 'CB8',\n",
       " 'OAH',\n",
       " 'OAH',\n",
       " 'oa',\n",
       " 'CB8',\n",
       " 'OAH',\n",
       " 'OAME',\n",
       " 'CB8',\n",
       " 'oa',\n",
       " 'CB8',\n",
       " 'acd',\n",
       " 'acd',\n",
       " 'bcd',\n",
       " 'bcd',\n",
       " 'OAH',\n",
       " 'acd',\n",
       " 'bcd',\n",
       " 'oa',\n",
       " 'bcd']"
      ]
     },
     "execution_count": 18,
     "metadata": {},
     "output_type": "execute_result"
    }
   ],
   "source": [
    "host_names_train"
   ]
  },
  {
   "cell_type": "code",
   "execution_count": 19,
   "metadata": {},
   "outputs": [
    {
     "data": {
      "text/plain": [
       "22"
      ]
     },
     "execution_count": 19,
     "metadata": {},
     "output_type": "execute_result"
    }
   ],
   "source": [
    "len(host_names_test)"
   ]
  },
  {
   "cell_type": "code",
   "execution_count": 20,
   "metadata": {},
   "outputs": [
    {
     "data": {
      "text/plain": [
       "50"
      ]
     },
     "execution_count": 20,
     "metadata": {},
     "output_type": "execute_result"
    }
   ],
   "source": [
    "len(host_names_train)"
   ]
  },
  {
   "cell_type": "code",
   "execution_count": 21,
   "metadata": {},
   "outputs": [
    {
     "data": {
      "text/plain": [
       "22"
      ]
     },
     "execution_count": 21,
     "metadata": {},
     "output_type": "execute_result"
    }
   ],
   "source": [
    "len(host_names_val)"
   ]
  },
  {
   "cell_type": "code",
   "execution_count": 22,
   "metadata": {},
   "outputs": [],
   "source": [
    "# x_add_train, x_add_test, y_train, y_test = [], [], [], []\n",
    "# for i in range(len(host_names_train)):\n",
    "#     new_df = df[(df['Host'] == host_names_train[i]) & (df['Guest'] == guest_names_train[i])]\n",
    "#     y_train.append(new_df['EX _H_(kcal/mol)'].to_numpy()[0])\n",
    "#     x_add_train.append(new_df[[c for c in df.columns if ('Etot' not in c) and ('delta' not in c)\n",
    "#                          and ('Ex_difference' not in c) and ('gb_' in c or 'VDWAALS' in c)]].to_numpy()[0])\n",
    "# y_train = np.array(y_train)\n",
    "    \n",
    "# for i in range(len(host_names_test)):\n",
    "#     new_df = df[(df['Host'] == host_names_test[i]) & (df['Guest'] == guest_names_test[i])]\n",
    "#     y_test.append(new_df['EX _H_(kcal/mol)'].to_numpy()[0])\n",
    "#     x_add_test.append(new_df[[c for c in df.columns if ('Etot' not in c) and ('delta' not in c)\n",
    "#                          and ('Ex_difference' not in c) and ('gb_' in c or 'VDWAALS' in c)]].to_numpy()[0])\n",
    "# y_test = np.array(y_test)"
   ]
  },
  {
   "cell_type": "code",
   "execution_count": 23,
   "metadata": {},
   "outputs": [],
   "source": [
    "x_add_train, x_add_val, x_add_test, y_train, y_val, y_test = [], [], [], [], [], []\n",
    "# Train\n",
    "for i in range(len(host_names_train)):\n",
    "    new_df = df[(df['Host'] == host_names_train[i]) & (df['Guest'] == guest_names_train[i])]\n",
    "    y_train.append(new_df['EX _H_(kcal/mol)'].to_numpy()[0])\n",
    "    x_add_train.append(new_df[[c for c in df.columns if ('Etot' not in c) and ('delta' not in c)\n",
    "                         and ('Ex_difference' not in c) and ('gb_' in c or 'VDWAALS' in c)]].to_numpy()[0])\n",
    "y_train = np.array(y_train)\n",
    "# Val\n",
    "for i in range(len(host_names_val)):\n",
    "    new_df = df[(df['Host'] == host_names_val[i]) & (df['Guest'] == guest_names_val[i])]\n",
    "    y_val.append(new_df['EX _H_(kcal/mol)'].to_numpy()[0])\n",
    "    x_add_val.append(new_df[[c for c in df.columns if ('Etot' not in c) and ('delta' not in c)\n",
    "                         and ('Ex_difference' not in c) and ('gb_' in c or 'VDWAALS' in c)]].to_numpy()[0])\n",
    "y_val = np.array(y_val)\n",
    "\n",
    "# Test\n",
    "for i in range(len(host_names_test)):\n",
    "    new_df = df[(df['Host'] == host_names_test[i]) & (df['Guest'] == guest_names_test[i])]\n",
    "    y_test.append(new_df['EX _H_(kcal/mol)'].to_numpy()[0])\n",
    "    x_add_test.append(new_df[[c for c in df.columns if ('Etot' not in c) and ('delta' not in c)\n",
    "                         and ('Ex_difference' not in c) and ('gb_' in c or 'VDWAALS' in c)]].to_numpy()[0])\n",
    "y_test = np.array(y_test)"
   ]
  },
  {
   "cell_type": "code",
   "execution_count": 24,
   "metadata": {},
   "outputs": [
    {
     "data": {
      "text/plain": [
       "22"
      ]
     },
     "execution_count": 24,
     "metadata": {},
     "output_type": "execute_result"
    }
   ],
   "source": [
    "len(y_val)"
   ]
  },
  {
   "cell_type": "code",
   "execution_count": 25,
   "metadata": {},
   "outputs": [],
   "source": [
    "# from deepchem.metrics import to_one_hot\n",
    "# from deepchem.feat.mol_graphs import ConvMol\n",
    "\n",
    "# x_preprocessed_train, x_preprocessed_test = [], []\n",
    "\n",
    "# ## for X train\n",
    "# multiConvMol = ConvMol.agglomerate_mols(X_train_featurized)\n",
    "# x_preprocessed_train = [multiConvMol.get_atom_features(), multiConvMol.deg_slice, np.array(multiConvMol.membership)]\n",
    "# for i in range(1, len(multiConvMol.get_deg_adjacency_lists())):\n",
    "#     x_preprocessed_train.append(multiConvMol.get_deg_adjacency_lists()[i])\n",
    "# x_preprocessed_train.append(np.array(x_add_train))\n",
    "\n",
    "# ## for X test\n",
    "# multiConvMol = ConvMol.agglomerate_mols(X_test_featurized)\n",
    "# x_preprocessed_test = [multiConvMol.get_atom_features(), multiConvMol.deg_slice, np.array(multiConvMol.membership)]\n",
    "# for i in range(1, len(multiConvMol.get_deg_adjacency_lists())):\n",
    "#     x_preprocessed_test.append(multiConvMol.get_deg_adjacency_lists()[i])\n",
    "# x_preprocessed_test.append(np.array(x_add_test))"
   ]
  },
  {
   "cell_type": "code",
   "execution_count": 26,
   "metadata": {},
   "outputs": [],
   "source": [
    "from deepchem.metrics import to_one_hot\n",
    "from deepchem.feat.mol_graphs import ConvMol\n",
    "\n",
    "x_preprocessed_train, x_preprocessed_val, x_preprocessed_test = [], [], []\n",
    "\n",
    "## for X train\n",
    "multiConvMol = ConvMol.agglomerate_mols(X_train_featurized)\n",
    "x_preprocessed_train = [multiConvMol.get_atom_features(), multiConvMol.deg_slice, np.array(multiConvMol.membership)]\n",
    "for i in range(1, len(multiConvMol.get_deg_adjacency_lists())):\n",
    "    x_preprocessed_train.append(multiConvMol.get_deg_adjacency_lists()[i])\n",
    "x_preprocessed_train.append(np.array(x_add_train))\n",
    "\n",
    "## for X val\n",
    "multiConvMol = ConvMol.agglomerate_mols(X_val_featurized)\n",
    "x_preprocessed_val = [multiConvMol.get_atom_features(), multiConvMol.deg_slice, np.array(multiConvMol.membership)]\n",
    "for i in range(1, len(multiConvMol.get_deg_adjacency_lists())):\n",
    "    x_preprocessed_val.append(multiConvMol.get_deg_adjacency_lists()[i])\n",
    "x_preprocessed_val.append(np.array(x_add_val))\n",
    "\n",
    "\n",
    "## for X test\n",
    "multiConvMol = ConvMol.agglomerate_mols(X_test_featurized)\n",
    "x_preprocessed_test = [multiConvMol.get_atom_features(), multiConvMol.deg_slice, np.array(multiConvMol.membership)]\n",
    "for i in range(1, len(multiConvMol.get_deg_adjacency_lists())):\n",
    "    x_preprocessed_test.append(multiConvMol.get_deg_adjacency_lists()[i])\n",
    "x_preprocessed_test.append(np.array(x_add_test))"
   ]
  },
  {
   "cell_type": "code",
   "execution_count": 27,
   "metadata": {},
   "outputs": [],
   "source": [
    "# x_train = np.full([14, np.max([v.shape[0] for v in x_preprocessed_train]),\n",
    "#                   np.max([v.shape[1] for v in x_preprocessed_train if len(v.shape) > 1])], 1.123456)\n",
    "# for i,j in enumerate(x_preprocessed_train):\n",
    "#     if len(j.shape) > 1:\n",
    "#         x_train[i][:j.shape[0],:j.shape[1]] = np.array(j)\n",
    "#     else:\n",
    "#         x_train[i][:len(j), :1] = np.array(j).reshape(j.shape[0], 1)\n",
    "# x_train = x_train.reshape([1] + list(x_train.shape))\n",
    "\n",
    "# x_test = np.full([14, np.max([v.shape[0] for v in x_preprocessed_test]),\n",
    "#                   np.max([v.shape[1] for v in x_preprocessed_test if len(v.shape) > 1])], 1.123456)\n",
    "# for i,j in enumerate(x_preprocessed_test):\n",
    "#     if len(j.shape) > 1:\n",
    "#         x_test[i][:j.shape[0],:j.shape[1]] = np.array(j)\n",
    "#     else:\n",
    "#         x_test[i][:len(j), :1] = np.array(j).reshape(j.shape[0], 1)\n",
    "# x_test = x_test.reshape([1] + list(x_test.shape))"
   ]
  },
  {
   "cell_type": "code",
   "execution_count": 28,
   "metadata": {},
   "outputs": [],
   "source": [
    "# Train\n",
    "x_train = np.full([14, np.max([v.shape[0] for v in x_preprocessed_train]),\n",
    "                  np.max([v.shape[1] for v in x_preprocessed_train if len(v.shape) > 1])], 1.123456)\n",
    "for i,j in enumerate(x_preprocessed_train):\n",
    "    if len(j.shape) > 1:\n",
    "        x_train[i][:j.shape[0],:j.shape[1]] = np.array(j)\n",
    "    else:\n",
    "        x_train[i][:len(j), :1] = np.array(j).reshape(j.shape[0], 1)\n",
    "x_train = x_train.reshape([1] + list(x_train.shape))\n",
    "\n",
    "# Validation\n",
    "x_val = np.full([14, np.max([v.shape[0] for v in x_preprocessed_val]),\n",
    "                  np.max([v.shape[1] for v in x_preprocessed_val if len(v.shape) > 1])], 1.123456)\n",
    "for i,j in enumerate(x_preprocessed_val):\n",
    "    if len(j.shape) > 1:\n",
    "        x_val[i][:j.shape[0],:j.shape[1]] = np.array(j)\n",
    "    else:\n",
    "        x_val[i][:len(j), :1] = np.array(j).reshape(j.shape[0], 1)\n",
    "x_val = x_val.reshape([1] + list(x_val.shape))\n",
    "\n",
    "# Test\n",
    "x_test = np.full([14, np.max([v.shape[0] for v in x_preprocessed_test]),\n",
    "                  np.max([v.shape[1] for v in x_preprocessed_test if len(v.shape) > 1])], 1.123456)\n",
    "for i,j in enumerate(x_preprocessed_test):\n",
    "    if len(j.shape) > 1:\n",
    "        x_test[i][:j.shape[0],:j.shape[1]] = np.array(j)\n",
    "    else:\n",
    "        x_test[i][:len(j), :1] = np.array(j).reshape(j.shape[0], 1)\n",
    "x_test = x_test.reshape([1] + list(x_test.shape))"
   ]
  },
  {
   "cell_type": "markdown",
   "metadata": {},
   "source": [
    "<h1>Physics Guided Neural Network Model</h1>"
   ]
  },
  {
   "cell_type": "code",
   "execution_count": 29,
   "metadata": {},
   "outputs": [],
   "source": [
    "# X_features = []\n",
    "# for x_feat in X:\n",
    "#     multiConvMol = ConvMol.agglomerate_mols([x_feat])\n",
    "#     new_x_feat = [multiConvMol.get_atom_features(), multiConvMol.deg_slice, np.array(multiConvMol.membership)]\n",
    "#     for i in range(1, len(multiConvMol.get_deg_adjacency_lists())):\n",
    "#         new_x_feat.append(multiConvMol.get_deg_adjacency_lists()[i])\n",
    "#     X_features.append(new_x_feat)"
   ]
  },
  {
   "cell_type": "code",
   "execution_count": 30,
   "metadata": {},
   "outputs": [
    {
     "data": {
      "text/plain": [
       "50"
      ]
     },
     "execution_count": 30,
     "metadata": {},
     "output_type": "execute_result"
    }
   ],
   "source": [
    "## !!!!!!!! important\n",
    "## !!!!!!!! important\n",
    "## !!!!!!!! important\n",
    "## !!!!!!!! important\n",
    "batch_size = len(host_names_train)\n",
    "batch_size\n",
    "# batch_size=10"
   ]
  },
  {
   "cell_type": "code",
   "execution_count": 31,
   "metadata": {},
   "outputs": [
    {
     "name": "stderr",
     "output_type": "stream",
     "text": [
      "2021-10-13 14:21:19.788399: I tensorflow/core/platform/cpu_feature_guard.cc:142] This TensorFlow binary is optimized with oneAPI Deep Neural Network Library (oneDNN) to use the following CPU instructions in performance-critical operations:  AVX2 FMA\n",
      "To enable them in other operations, rebuild TensorFlow with the appropriate compiler flags.\n"
     ]
    }
   ],
   "source": [
    "from deepchem.models.layers import GraphConv, GraphPool, GraphGather\n",
    "import tensorflow as tf\n",
    "import tensorflow.keras.layers as layers\n",
    "from tensorflow.keras.layers import Dense, Input, BatchNormalization, Concatenate\n",
    "from tensorflow.keras import initializers\n",
    "\n",
    "\n",
    "class GBGraphConvModel(tf.keras.Model):\n",
    "\n",
    "  def modify_graphgather(self, batch_size):\n",
    "    self.readout.batch_size = batch_size\n",
    "    self.batch_size = batch_size\n",
    "  def __init__(self, batch_size):\n",
    "    super(GBGraphConvModel, self).__init__()\n",
    "    self.input_shapes = None\n",
    "    self.batch_size = batch_size\n",
    "    self.gc1 = GraphConv(32, activation_fn=tf.nn.tanh)\n",
    "    self.batch_norm1 = layers.BatchNormalization()\n",
    "    self.gp1 = GraphPool()\n",
    "\n",
    "    self.gc2 = GraphConv(32, activation_fn=tf.nn.tanh)\n",
    "    self.batch_norm2 = layers.BatchNormalization()\n",
    "    self.gp2 = GraphPool()\n",
    "\n",
    "    self.dense1 = layers.Dense(64, activation=tf.nn.tanh)\n",
    "    self.batch_norm3 = layers.BatchNormalization()\n",
    "    self.readout = GraphGather(batch_size=self.batch_size, activation_fn=tf.nn.tanh)\n",
    "\n",
    "    self.dense2 = layers.Dense(1)\n",
    "    self.dense3 = layers.Dense(1, \n",
    "         kernel_initializer=initializers.Constant([.5, -1, -1, 1, 1, 1, 1, 1, -1, -1, -1, -1, -1, -1, -1, -1]),\n",
    "         bias_initializer=initializers.Zeros())\n",
    "\n",
    "  def call(self, inputs):\n",
    "    inputs = inputs[0]\n",
    "    x = []\n",
    "#     input_shapes = [[4822, 75], [11, 2], [4822], [1142, 1], [1635, 2], [2042, 3],\n",
    "#                    [3, 4], [0, 5], [0, 6], [0, 7], [0, 8], [0, 9], [0, 10]]\n",
    "    for i in range(len(self.input_shapes)):\n",
    "        x.append(tf.reshape(inputs[i][inputs[i] != 1.123456], self.input_shapes[i]))\n",
    "    for i in range(1, len(self.input_shapes)):\n",
    "        x[i] = tf.cast(x[i], tf.int32)\n",
    "    x_add = tf.reshape(inputs[13][inputs[13] != 1.123456], [self.batch_size, 15])\n",
    "    gc1_output = self.gc1(x)\n",
    "    batch_norm1_output = self.batch_norm1(gc1_output)\n",
    "    gp1_output = self.gp1([batch_norm1_output] + x[1:])\n",
    "\n",
    "    gc2_output = self.gc2([gp1_output] + x[1:])\n",
    "    batch_norm2_output = self.batch_norm1(gc2_output)\n",
    "    gp2_output = self.gp2([batch_norm2_output] + x[1:])\n",
    "\n",
    "    dense1_output = self.dense1(gp2_output)\n",
    "    batch_norm3_output = self.batch_norm3(dense1_output)\n",
    "    readout_output = self.readout([batch_norm3_output] + x[1:])\n",
    "    \n",
    "    model_var = self.dense2(readout_output)\n",
    "    binding_affinity = tf.concat([model_var, x_add], axis=1)\n",
    "    return self.dense3(binding_affinity)\n",
    "hybrid_model = GBGraphConvModel(train_split_index)\n",
    "hybrid_model.compile(loss='mse', optimizer='adam')"
   ]
  },
  {
   "cell_type": "code",
   "execution_count": 32,
   "metadata": {
    "scrolled": true
   },
   "outputs": [],
   "source": [
    "# # Training\n",
    "# model.input_shapes = [i.shape for i in x_preprocessed_train]\n",
    "# history_train_hybrid = model.fit(x_train, y_train.reshape([1, -1]), epochs=100)"
   ]
  },
  {
   "cell_type": "code",
   "execution_count": 33,
   "metadata": {},
   "outputs": [],
   "source": [
    "# loss = model.fit(x_train, y_train.reshape([1, -1]), epochs=1)"
   ]
  },
  {
   "cell_type": "code",
   "execution_count": 34,
   "metadata": {},
   "outputs": [],
   "source": [
    "# loss.history['loss']"
   ]
  },
  {
   "cell_type": "code",
   "execution_count": 35,
   "metadata": {},
   "outputs": [
    {
     "name": "stderr",
     "output_type": "stream",
     "text": [
      "2021-10-13 14:21:19.886073: I tensorflow/compiler/mlir/mlir_graph_optimization_pass.cc:185] None of the MLIR Optimization Passes are enabled (registered 2)\n",
      "/Users/misspotato/opt/miniconda3/envs/rdkit-deepchem-jupyter/lib/python3.9/site-packages/tensorflow/python/framework/indexed_slices.py:447: UserWarning: Converting sparse IndexedSlices(IndexedSlices(indices=Tensor(\"gradient_tape/gb_graph_conv_model/graph_pool_1/Reshape_14:0\", shape=(1056,), dtype=int32), values=Tensor(\"gradient_tape/gb_graph_conv_model/graph_pool_1/Reshape_13:0\", shape=(1056, 32), dtype=float32), dense_shape=Tensor(\"gradient_tape/gb_graph_conv_model/graph_pool_1/Cast_4:0\", shape=(2,), dtype=int32))) to a dense Tensor of unknown shape. This may consume a large amount of memory.\n",
      "  warnings.warn(\n",
      "/Users/misspotato/opt/miniconda3/envs/rdkit-deepchem-jupyter/lib/python3.9/site-packages/tensorflow/python/framework/indexed_slices.py:447: UserWarning: Converting sparse IndexedSlices(IndexedSlices(indices=Tensor(\"gradient_tape/gb_graph_conv_model/graph_pool_1/Reshape_17:0\", shape=(3408,), dtype=int32), values=Tensor(\"gradient_tape/gb_graph_conv_model/graph_pool_1/Reshape_16:0\", shape=(3408, 32), dtype=float32), dense_shape=Tensor(\"gradient_tape/gb_graph_conv_model/graph_pool_1/Cast_5:0\", shape=(2,), dtype=int32))) to a dense Tensor of unknown shape. This may consume a large amount of memory.\n",
      "  warnings.warn(\n",
      "/Users/misspotato/opt/miniconda3/envs/rdkit-deepchem-jupyter/lib/python3.9/site-packages/tensorflow/python/framework/indexed_slices.py:447: UserWarning: Converting sparse IndexedSlices(IndexedSlices(indices=Tensor(\"gradient_tape/gb_graph_conv_model/graph_pool_1/Reshape_20:0\", shape=(6780,), dtype=int32), values=Tensor(\"gradient_tape/gb_graph_conv_model/graph_pool_1/Reshape_19:0\", shape=(6780, 32), dtype=float32), dense_shape=Tensor(\"gradient_tape/gb_graph_conv_model/graph_pool_1/Cast_6:0\", shape=(2,), dtype=int32))) to a dense Tensor of unknown shape. This may consume a large amount of memory.\n",
      "  warnings.warn(\n",
      "/Users/misspotato/opt/miniconda3/envs/rdkit-deepchem-jupyter/lib/python3.9/site-packages/tensorflow/python/framework/indexed_slices.py:447: UserWarning: Converting sparse IndexedSlices(IndexedSlices(indices=Tensor(\"gradient_tape/gb_graph_conv_model/graph_pool_1/Reshape_23:0\", shape=(36,), dtype=int32), values=Tensor(\"gradient_tape/gb_graph_conv_model/graph_pool_1/Reshape_22:0\", shape=(36, 32), dtype=float32), dense_shape=Tensor(\"gradient_tape/gb_graph_conv_model/graph_pool_1/Cast_7:0\", shape=(2,), dtype=int32))) to a dense Tensor of unknown shape. This may consume a large amount of memory.\n",
      "  warnings.warn(\n",
      "/Users/misspotato/opt/miniconda3/envs/rdkit-deepchem-jupyter/lib/python3.9/site-packages/tensorflow/python/framework/indexed_slices.py:447: UserWarning: Converting sparse IndexedSlices(IndexedSlices(indices=Tensor(\"gradient_tape/gb_graph_conv_model/graph_conv_1/Reshape_11:0\", shape=(1056,), dtype=int32), values=Tensor(\"gradient_tape/gb_graph_conv_model/graph_conv_1/Reshape_10:0\", shape=(1056, 32), dtype=float32), dense_shape=Tensor(\"gradient_tape/gb_graph_conv_model/graph_conv_1/Cast:0\", shape=(2,), dtype=int32))) to a dense Tensor of unknown shape. This may consume a large amount of memory.\n",
      "  warnings.warn(\n",
      "/Users/misspotato/opt/miniconda3/envs/rdkit-deepchem-jupyter/lib/python3.9/site-packages/tensorflow/python/framework/indexed_slices.py:447: UserWarning: Converting sparse IndexedSlices(IndexedSlices(indices=Tensor(\"gradient_tape/gb_graph_conv_model/graph_conv_1/Reshape_13:0\", shape=(3408,), dtype=int32), values=Tensor(\"gradient_tape/gb_graph_conv_model/graph_conv_1/Reshape_12:0\", shape=(3408, 32), dtype=float32), dense_shape=Tensor(\"gradient_tape/gb_graph_conv_model/graph_conv_1/Cast_1:0\", shape=(2,), dtype=int32))) to a dense Tensor of unknown shape. This may consume a large amount of memory.\n",
      "  warnings.warn(\n",
      "/Users/misspotato/opt/miniconda3/envs/rdkit-deepchem-jupyter/lib/python3.9/site-packages/tensorflow/python/framework/indexed_slices.py:447: UserWarning: Converting sparse IndexedSlices(IndexedSlices(indices=Tensor(\"gradient_tape/gb_graph_conv_model/graph_conv_1/Reshape_15:0\", shape=(6780,), dtype=int32), values=Tensor(\"gradient_tape/gb_graph_conv_model/graph_conv_1/Reshape_14:0\", shape=(6780, 32), dtype=float32), dense_shape=Tensor(\"gradient_tape/gb_graph_conv_model/graph_conv_1/Cast_2:0\", shape=(2,), dtype=int32))) to a dense Tensor of unknown shape. This may consume a large amount of memory.\n",
      "  warnings.warn(\n",
      "/Users/misspotato/opt/miniconda3/envs/rdkit-deepchem-jupyter/lib/python3.9/site-packages/tensorflow/python/framework/indexed_slices.py:447: UserWarning: Converting sparse IndexedSlices(IndexedSlices(indices=Tensor(\"gradient_tape/gb_graph_conv_model/graph_conv_1/Reshape_17:0\", shape=(36,), dtype=int32), values=Tensor(\"gradient_tape/gb_graph_conv_model/graph_conv_1/Reshape_16:0\", shape=(36, 32), dtype=float32), dense_shape=Tensor(\"gradient_tape/gb_graph_conv_model/graph_conv_1/Cast_3:0\", shape=(2,), dtype=int32))) to a dense Tensor of unknown shape. This may consume a large amount of memory.\n",
      "  warnings.warn(\n",
      "/Users/misspotato/opt/miniconda3/envs/rdkit-deepchem-jupyter/lib/python3.9/site-packages/tensorflow/python/framework/indexed_slices.py:447: UserWarning: Converting sparse IndexedSlices(IndexedSlices(indices=Tensor(\"gradient_tape/gb_graph_conv_model/graph_conv_1/Reshape_19:0\", shape=(0,), dtype=int32), values=Tensor(\"gradient_tape/gb_graph_conv_model/graph_conv_1/Reshape_18:0\", shape=(0, 32), dtype=float32), dense_shape=Tensor(\"gradient_tape/gb_graph_conv_model/graph_conv_1/Cast_4:0\", shape=(2,), dtype=int32))) to a dense Tensor of unknown shape. This may consume a large amount of memory.\n",
      "  warnings.warn(\n",
      "/Users/misspotato/opt/miniconda3/envs/rdkit-deepchem-jupyter/lib/python3.9/site-packages/tensorflow/python/framework/indexed_slices.py:447: UserWarning: Converting sparse IndexedSlices(IndexedSlices(indices=Tensor(\"gradient_tape/gb_graph_conv_model/graph_conv_1/Reshape_21:0\", shape=(0,), dtype=int32), values=Tensor(\"gradient_tape/gb_graph_conv_model/graph_conv_1/Reshape_20:0\", shape=(0, 32), dtype=float32), dense_shape=Tensor(\"gradient_tape/gb_graph_conv_model/graph_conv_1/Cast_5:0\", shape=(2,), dtype=int32))) to a dense Tensor of unknown shape. This may consume a large amount of memory.\n",
      "  warnings.warn(\n",
      "/Users/misspotato/opt/miniconda3/envs/rdkit-deepchem-jupyter/lib/python3.9/site-packages/tensorflow/python/framework/indexed_slices.py:447: UserWarning: Converting sparse IndexedSlices(IndexedSlices(indices=Tensor(\"gradient_tape/gb_graph_conv_model/graph_conv_1/Reshape_23:0\", shape=(0,), dtype=int32), values=Tensor(\"gradient_tape/gb_graph_conv_model/graph_conv_1/Reshape_22:0\", shape=(0, 32), dtype=float32), dense_shape=Tensor(\"gradient_tape/gb_graph_conv_model/graph_conv_1/Cast_6:0\", shape=(2,), dtype=int32))) to a dense Tensor of unknown shape. This may consume a large amount of memory.\n",
      "  warnings.warn(\n",
      "/Users/misspotato/opt/miniconda3/envs/rdkit-deepchem-jupyter/lib/python3.9/site-packages/tensorflow/python/framework/indexed_slices.py:447: UserWarning: Converting sparse IndexedSlices(IndexedSlices(indices=Tensor(\"gradient_tape/gb_graph_conv_model/graph_conv_1/Reshape_25:0\", shape=(0,), dtype=int32), values=Tensor(\"gradient_tape/gb_graph_conv_model/graph_conv_1/Reshape_24:0\", shape=(0, 32), dtype=float32), dense_shape=Tensor(\"gradient_tape/gb_graph_conv_model/graph_conv_1/Cast_7:0\", shape=(2,), dtype=int32))) to a dense Tensor of unknown shape. This may consume a large amount of memory.\n",
      "  warnings.warn(\n",
      "/Users/misspotato/opt/miniconda3/envs/rdkit-deepchem-jupyter/lib/python3.9/site-packages/tensorflow/python/framework/indexed_slices.py:447: UserWarning: Converting sparse IndexedSlices(IndexedSlices(indices=Tensor(\"gradient_tape/gb_graph_conv_model/graph_conv_1/Reshape_27:0\", shape=(0,), dtype=int32), values=Tensor(\"gradient_tape/gb_graph_conv_model/graph_conv_1/Reshape_26:0\", shape=(0, 32), dtype=float32), dense_shape=Tensor(\"gradient_tape/gb_graph_conv_model/graph_conv_1/Cast_8:0\", shape=(2,), dtype=int32))) to a dense Tensor of unknown shape. This may consume a large amount of memory.\n",
      "  warnings.warn(\n",
      "/Users/misspotato/opt/miniconda3/envs/rdkit-deepchem-jupyter/lib/python3.9/site-packages/tensorflow/python/framework/indexed_slices.py:447: UserWarning: Converting sparse IndexedSlices(IndexedSlices(indices=Tensor(\"gradient_tape/gb_graph_conv_model/graph_conv_1/Reshape_29:0\", shape=(0,), dtype=int32), values=Tensor(\"gradient_tape/gb_graph_conv_model/graph_conv_1/Reshape_28:0\", shape=(0, 32), dtype=float32), dense_shape=Tensor(\"gradient_tape/gb_graph_conv_model/graph_conv_1/Cast_9:0\", shape=(2,), dtype=int32))) to a dense Tensor of unknown shape. This may consume a large amount of memory.\n",
      "  warnings.warn(\n",
      "/Users/misspotato/opt/miniconda3/envs/rdkit-deepchem-jupyter/lib/python3.9/site-packages/tensorflow/python/framework/indexed_slices.py:447: UserWarning: Converting sparse IndexedSlices(IndexedSlices(indices=Tensor(\"gradient_tape/gb_graph_conv_model/graph_pool/Reshape_14:0\", shape=(1056,), dtype=int32), values=Tensor(\"gradient_tape/gb_graph_conv_model/graph_pool/Reshape_13:0\", shape=(1056, 32), dtype=float32), dense_shape=Tensor(\"gradient_tape/gb_graph_conv_model/graph_pool/Cast_4:0\", shape=(2,), dtype=int32))) to a dense Tensor of unknown shape. This may consume a large amount of memory.\n",
      "  warnings.warn(\n",
      "/Users/misspotato/opt/miniconda3/envs/rdkit-deepchem-jupyter/lib/python3.9/site-packages/tensorflow/python/framework/indexed_slices.py:447: UserWarning: Converting sparse IndexedSlices(IndexedSlices(indices=Tensor(\"gradient_tape/gb_graph_conv_model/graph_pool/Reshape_17:0\", shape=(3408,), dtype=int32), values=Tensor(\"gradient_tape/gb_graph_conv_model/graph_pool/Reshape_16:0\", shape=(3408, 32), dtype=float32), dense_shape=Tensor(\"gradient_tape/gb_graph_conv_model/graph_pool/Cast_5:0\", shape=(2,), dtype=int32))) to a dense Tensor of unknown shape. This may consume a large amount of memory.\n",
      "  warnings.warn(\n",
      "/Users/misspotato/opt/miniconda3/envs/rdkit-deepchem-jupyter/lib/python3.9/site-packages/tensorflow/python/framework/indexed_slices.py:447: UserWarning: Converting sparse IndexedSlices(IndexedSlices(indices=Tensor(\"gradient_tape/gb_graph_conv_model/graph_pool/Reshape_20:0\", shape=(6780,), dtype=int32), values=Tensor(\"gradient_tape/gb_graph_conv_model/graph_pool/Reshape_19:0\", shape=(6780, 32), dtype=float32), dense_shape=Tensor(\"gradient_tape/gb_graph_conv_model/graph_pool/Cast_6:0\", shape=(2,), dtype=int32))) to a dense Tensor of unknown shape. This may consume a large amount of memory.\n",
      "  warnings.warn(\n",
      "/Users/misspotato/opt/miniconda3/envs/rdkit-deepchem-jupyter/lib/python3.9/site-packages/tensorflow/python/framework/indexed_slices.py:447: UserWarning: Converting sparse IndexedSlices(IndexedSlices(indices=Tensor(\"gradient_tape/gb_graph_conv_model/graph_pool/Reshape_23:0\", shape=(36,), dtype=int32), values=Tensor(\"gradient_tape/gb_graph_conv_model/graph_pool/Reshape_22:0\", shape=(36, 32), dtype=float32), dense_shape=Tensor(\"gradient_tape/gb_graph_conv_model/graph_pool/Cast_7:0\", shape=(2,), dtype=int32))) to a dense Tensor of unknown shape. This may consume a large amount of memory.\n",
      "  warnings.warn(\n"
     ]
    },
    {
     "name": "stdout",
     "output_type": "stream",
     "text": [
      "1/1 [==============================] - 5s 5s/step - loss: 92.0415\n",
      "1/1 [==============================] - 1s 891ms/step - loss: 55.7440\n",
      "1/1 [==============================] - 0s 52ms/step - loss: 71.4980\n",
      "1/1 [==============================] - 0s 37ms/step - loss: 49.2565\n",
      "1/1 [==============================] - 0s 64ms/step - loss: 66.2890\n",
      "1/1 [==============================] - 0s 31ms/step - loss: 49.1287\n",
      "1/1 [==============================] - 0s 51ms/step - loss: 58.8255\n",
      "1/1 [==============================] - 0s 30ms/step - loss: 53.4026\n",
      "1/1 [==============================] - 0s 46ms/step - loss: 54.4128\n",
      "1/1 [==============================] - 0s 33ms/step - loss: 59.2849\n",
      "1/1 [==============================] - 0s 67ms/step - loss: 53.3770\n",
      "1/1 [==============================] - 0s 32ms/step - loss: 61.2144\n",
      "1/1 [==============================] - 0s 52ms/step - loss: 51.4333\n",
      "1/1 [==============================] - 0s 30ms/step - loss: 58.1088\n",
      "1/1 [==============================] - 0s 53ms/step - loss: 47.3027\n",
      "1/1 [==============================] - 0s 35ms/step - loss: 51.9817\n",
      "1/1 [==============================] - 0s 47ms/step - loss: 42.1763\n",
      "1/1 [==============================] - 0s 31ms/step - loss: 45.6551\n",
      "1/1 [==============================] - 0s 52ms/step - loss: 38.2472\n",
      "1/1 [==============================] - 0s 30ms/step - loss: 41.0396\n",
      "1/1 [==============================] - 0s 53ms/step - loss: 36.1461\n",
      "1/1 [==============================] - 0s 37ms/step - loss: 38.6540\n",
      "1/1 [==============================] - 0s 61ms/step - loss: 35.7462\n",
      "1/1 [==============================] - 0s 30ms/step - loss: 38.1752\n",
      "1/1 [==============================] - 0s 45ms/step - loss: 35.6310\n",
      "1/1 [==============================] - 0s 29ms/step - loss: 39.0223\n",
      "1/1 [==============================] - 0s 50ms/step - loss: 34.9191\n",
      "1/1 [==============================] - 0s 29ms/step - loss: 40.4813\n",
      "1/1 [==============================] - 0s 51ms/step - loss: 33.8492\n",
      "1/1 [==============================] - 0s 32ms/step - loss: 42.1364\n",
      "1/1 [==============================] - 0s 50ms/step - loss: 32.8158\n",
      "1/1 [==============================] - 0s 29ms/step - loss: 43.4271\n",
      "1/1 [==============================] - 0s 45ms/step - loss: 31.9346\n",
      "1/1 [==============================] - 0s 31ms/step - loss: 43.8352\n",
      "1/1 [==============================] - 0s 52ms/step - loss: 31.1612\n",
      "1/1 [==============================] - 0s 31ms/step - loss: 43.2606\n",
      "1/1 [==============================] - 0s 50ms/step - loss: 30.4813\n",
      "1/1 [==============================] - 0s 30ms/step - loss: 42.1403\n",
      "1/1 [==============================] - 0s 50ms/step - loss: 30.0319\n",
      "1/1 [==============================] - 0s 30ms/step - loss: 41.0246\n",
      "1/1 [==============================] - 0s 45ms/step - loss: 30.0134\n",
      "1/1 [==============================] - 0s 32ms/step - loss: 40.2629\n",
      "1/1 [==============================] - 0s 51ms/step - loss: 30.2656\n",
      "1/1 [==============================] - 0s 30ms/step - loss: 39.8753\n",
      "1/1 [==============================] - 0s 51ms/step - loss: 30.2926\n",
      "1/1 [==============================] - 0s 30ms/step - loss: 39.8107\n",
      "1/1 [==============================] - 0s 51ms/step - loss: 29.9866\n",
      "1/1 [==============================] - 0s 33ms/step - loss: 40.1750\n",
      "1/1 [==============================] - 0s 53ms/step - loss: 29.3372\n",
      "1/1 [==============================] - 0s 30ms/step - loss: 41.0687\n",
      "1/1 [==============================] - 0s 53ms/step - loss: 28.9709\n",
      "1/1 [==============================] - 0s 30ms/step - loss: 42.2080\n",
      "1/1 [==============================] - 0s 52ms/step - loss: 28.8391\n",
      "1/1 [==============================] - 0s 30ms/step - loss: 43.0234\n",
      "1/1 [==============================] - 0s 51ms/step - loss: 28.8468\n",
      "1/1 [==============================] - 0s 31ms/step - loss: 43.1190\n",
      "1/1 [==============================] - 0s 52ms/step - loss: 28.8082\n",
      "1/1 [==============================] - 0s 29ms/step - loss: 42.4248\n",
      "1/1 [==============================] - 0s 52ms/step - loss: 28.5961\n",
      "1/1 [==============================] - 0s 31ms/step - loss: 41.1080\n",
      "1/1 [==============================] - 0s 53ms/step - loss: 28.5251\n",
      "1/1 [==============================] - 0s 31ms/step - loss: 39.8123\n",
      "1/1 [==============================] - 0s 51ms/step - loss: 28.3886\n",
      "1/1 [==============================] - 0s 31ms/step - loss: 39.0697\n",
      "1/1 [==============================] - 0s 51ms/step - loss: 28.1976\n",
      "1/1 [==============================] - 0s 30ms/step - loss: 39.0065\n",
      "1/1 [==============================] - 0s 54ms/step - loss: 27.7660\n",
      "1/1 [==============================] - 0s 30ms/step - loss: 39.7950\n",
      "1/1 [==============================] - 0s 51ms/step - loss: 27.5126\n",
      "1/1 [==============================] - 0s 30ms/step - loss: 41.3497\n",
      "1/1 [==============================] - 0s 51ms/step - loss: 27.2423\n",
      "1/1 [==============================] - 0s 31ms/step - loss: 42.7571\n",
      "1/1 [==============================] - 0s 52ms/step - loss: 27.0888\n",
      "1/1 [==============================] - 0s 30ms/step - loss: 43.5479\n",
      "1/1 [==============================] - 0s 51ms/step - loss: 27.1374\n",
      "1/1 [==============================] - 0s 30ms/step - loss: 43.5209\n",
      "1/1 [==============================] - 0s 52ms/step - loss: 26.8748\n",
      "1/1 [==============================] - 0s 30ms/step - loss: 42.8885\n",
      "1/1 [==============================] - 0s 54ms/step - loss: 26.3180\n",
      "1/1 [==============================] - 0s 30ms/step - loss: 42.0428\n",
      "1/1 [==============================] - 0s 50ms/step - loss: 26.1753\n",
      "1/1 [==============================] - 0s 30ms/step - loss: 41.4666\n",
      "1/1 [==============================] - 0s 52ms/step - loss: 26.1777\n",
      "1/1 [==============================] - 0s 30ms/step - loss: 41.5573\n",
      "1/1 [==============================] - 0s 54ms/step - loss: 25.9938\n",
      "1/1 [==============================] - 0s 30ms/step - loss: 42.1603\n",
      "1/1 [==============================] - 0s 51ms/step - loss: 25.8237\n",
      "1/1 [==============================] - 0s 30ms/step - loss: 42.8031\n",
      "1/1 [==============================] - 0s 52ms/step - loss: 25.7317\n",
      "1/1 [==============================] - 0s 30ms/step - loss: 43.5088\n",
      "1/1 [==============================] - 0s 54ms/step - loss: 25.6986\n",
      "1/1 [==============================] - 0s 30ms/step - loss: 43.7386\n",
      "1/1 [==============================] - 0s 57ms/step - loss: 25.5990\n",
      "1/1 [==============================] - 0s 33ms/step - loss: 43.4129\n",
      "1/1 [==============================] - 0s 56ms/step - loss: 25.3971\n",
      "1/1 [==============================] - 0s 33ms/step - loss: 42.7850\n",
      "1/1 [==============================] - 0s 55ms/step - loss: 25.1709\n",
      "1/1 [==============================] - 0s 33ms/step - loss: 42.1986\n",
      "1/1 [==============================] - 0s 57ms/step - loss: 25.0626\n",
      "1/1 [==============================] - 0s 31ms/step - loss: 41.8756\n",
      "1/1 [==============================] - 0s 53ms/step - loss: 24.9069\n",
      "1/1 [==============================] - 0s 30ms/step - loss: 41.8368\n",
      "1/1 [==============================] - 0s 55ms/step - loss: 24.8126\n",
      "1/1 [==============================] - 0s 32ms/step - loss: 42.0586\n",
      "1/1 [==============================] - 0s 55ms/step - loss: 24.7031\n",
      "1/1 [==============================] - 0s 31ms/step - loss: 42.4278\n",
      "1/1 [==============================] - 0s 52ms/step - loss: 24.6393\n",
      "1/1 [==============================] - 0s 31ms/step - loss: 42.8588\n",
      "1/1 [==============================] - 0s 54ms/step - loss: 24.5224\n",
      "1/1 [==============================] - 0s 34ms/step - loss: 43.1037\n",
      "1/1 [==============================] - 0s 60ms/step - loss: 24.4304\n",
      "1/1 [==============================] - 0s 37ms/step - loss: 42.9432\n",
      "1/1 [==============================] - 0s 70ms/step - loss: 24.3091\n",
      "1/1 [==============================] - 0s 39ms/step - loss: 42.5470\n",
      "1/1 [==============================] - 0s 83ms/step - loss: 24.1767\n",
      "1/1 [==============================] - 0s 37ms/step - loss: 42.2410\n",
      "1/1 [==============================] - 0s 53ms/step - loss: 24.1971\n",
      "1/1 [==============================] - 0s 30ms/step - loss: 42.1354\n",
      "1/1 [==============================] - 0s 47ms/step - loss: 24.0435\n",
      "1/1 [==============================] - 0s 30ms/step - loss: 42.1605\n",
      "1/1 [==============================] - 0s 51ms/step - loss: 24.0526\n",
      "1/1 [==============================] - 0s 30ms/step - loss: 42.2035\n",
      "1/1 [==============================] - 0s 52ms/step - loss: 23.9452\n",
      "1/1 [==============================] - 0s 29ms/step - loss: 42.2621\n",
      "1/1 [==============================] - 0s 54ms/step - loss: 23.8169\n",
      "1/1 [==============================] - 0s 35ms/step - loss: 42.2912\n",
      "1/1 [==============================] - 0s 48ms/step - loss: 23.7972\n",
      "1/1 [==============================] - 0s 30ms/step - loss: 42.3107\n",
      "1/1 [==============================] - 0s 50ms/step - loss: 23.6464\n",
      "1/1 [==============================] - 0s 29ms/step - loss: 42.2124\n",
      "1/1 [==============================] - 0s 51ms/step - loss: 23.6423\n",
      "1/1 [==============================] - 0s 30ms/step - loss: 41.9466\n",
      "1/1 [==============================] - 0s 51ms/step - loss: 23.5468\n",
      "1/1 [==============================] - 0s 29ms/step - loss: 41.6639\n",
      "1/1 [==============================] - 0s 46ms/step - loss: 23.4529\n",
      "1/1 [==============================] - 0s 30ms/step - loss: 41.5415\n",
      "1/1 [==============================] - 0s 52ms/step - loss: 23.3490\n",
      "1/1 [==============================] - 0s 32ms/step - loss: 41.6264\n",
      "1/1 [==============================] - 0s 65ms/step - loss: 23.2547\n",
      "1/1 [==============================] - 0s 35ms/step - loss: 41.7491\n",
      "1/1 [==============================] - 0s 56ms/step - loss: 23.2494\n",
      "1/1 [==============================] - 0s 31ms/step - loss: 41.7139\n",
      "1/1 [==============================] - 0s 45ms/step - loss: 23.1414\n",
      "1/1 [==============================] - 0s 30ms/step - loss: 41.6481\n",
      "1/1 [==============================] - 0s 52ms/step - loss: 23.0863\n",
      "1/1 [==============================] - 0s 29ms/step - loss: 41.5684\n",
      "1/1 [==============================] - 0s 56ms/step - loss: 23.0318\n",
      "1/1 [==============================] - 0s 34ms/step - loss: 41.5697\n",
      "1/1 [==============================] - 0s 64ms/step - loss: 22.9236\n",
      "1/1 [==============================] - 0s 33ms/step - loss: 41.6314\n",
      "1/1 [==============================] - 0s 45ms/step - loss: 22.9344\n",
      "1/1 [==============================] - 0s 30ms/step - loss: 41.5079\n",
      "1/1 [==============================] - 0s 51ms/step - loss: 22.8820\n",
      "1/1 [==============================] - 0s 29ms/step - loss: 41.1560\n",
      "1/1 [==============================] - 0s 50ms/step - loss: 22.8581\n",
      "1/1 [==============================] - 0s 29ms/step - loss: 40.7344\n",
      "1/1 [==============================] - 0s 53ms/step - loss: 22.7360\n",
      "1/1 [==============================] - 0s 31ms/step - loss: 40.4380\n",
      "1/1 [==============================] - 0s 52ms/step - loss: 22.6802\n",
      "1/1 [==============================] - 0s 29ms/step - loss: 40.4751\n",
      "1/1 [==============================] - 0s 52ms/step - loss: 22.6361\n",
      "1/1 [==============================] - 0s 31ms/step - loss: 40.7290\n",
      "1/1 [==============================] - 0s 51ms/step - loss: 22.5345\n",
      "1/1 [==============================] - 0s 30ms/step - loss: 40.9261\n",
      "1/1 [==============================] - 0s 52ms/step - loss: 22.4915\n",
      "1/1 [==============================] - 0s 32ms/step - loss: 40.9554\n",
      "1/1 [==============================] - 0s 52ms/step - loss: 22.4313\n",
      "1/1 [==============================] - 0s 30ms/step - loss: 40.7643\n",
      "1/1 [==============================] - 0s 52ms/step - loss: 22.3587\n",
      "1/1 [==============================] - 0s 30ms/step - loss: 40.4527\n",
      "1/1 [==============================] - 0s 54ms/step - loss: 22.3032\n",
      "1/1 [==============================] - 0s 36ms/step - loss: 40.1805\n",
      "1/1 [==============================] - 0s 71ms/step - loss: 22.2256\n",
      "1/1 [==============================] - 0s 43ms/step - loss: 40.0064\n",
      "1/1 [==============================] - 0s 67ms/step - loss: 22.1802\n",
      "1/1 [==============================] - 0s 33ms/step - loss: 39.9249\n",
      "1/1 [==============================] - 0s 51ms/step - loss: 22.1104\n",
      "1/1 [==============================] - 0s 29ms/step - loss: 39.9276\n",
      "1/1 [==============================] - 0s 50ms/step - loss: 22.0442\n",
      "1/1 [==============================] - 0s 30ms/step - loss: 40.0230\n",
      "1/1 [==============================] - 0s 52ms/step - loss: 21.9921\n",
      "1/1 [==============================] - 0s 31ms/step - loss: 40.1460\n",
      "1/1 [==============================] - 0s 52ms/step - loss: 21.9231\n",
      "1/1 [==============================] - 0s 30ms/step - loss: 40.2053\n",
      "1/1 [==============================] - 0s 52ms/step - loss: 21.8793\n",
      "1/1 [==============================] - 0s 30ms/step - loss: 40.1539\n",
      "1/1 [==============================] - 0s 52ms/step - loss: 21.7982\n",
      "1/1 [==============================] - 0s 29ms/step - loss: 40.0229\n",
      "1/1 [==============================] - 0s 49ms/step - loss: 21.7499\n",
      "1/1 [==============================] - 0s 27ms/step - loss: 39.9588\n",
      "1/1 [==============================] - 0s 52ms/step - loss: 21.6737\n",
      "1/1 [==============================] - 0s 28ms/step - loss: 40.0119\n",
      "1/1 [==============================] - 0s 50ms/step - loss: 21.6041\n",
      "1/1 [==============================] - 0s 26ms/step - loss: 40.0835\n",
      "1/1 [==============================] - 0s 51ms/step - loss: 21.5375\n",
      "1/1 [==============================] - 0s 30ms/step - loss: 40.1920\n",
      "1/1 [==============================] - 0s 52ms/step - loss: 21.4753\n",
      "1/1 [==============================] - 0s 30ms/step - loss: 40.3156\n",
      "1/1 [==============================] - 0s 52ms/step - loss: 21.4119\n",
      "1/1 [==============================] - 0s 30ms/step - loss: 40.3584\n"
     ]
    }
   ],
   "source": [
    "pgnn_losses, pgnn_val_losses = [], []\n",
    "max_epoch = 100\n",
    "val_size = len(y_val)\n",
    "train_size = len(y_train)\n",
    "\n",
    "for epoch in range(max_epoch):\n",
    "    hybrid_model.modify_graphgather(train_size)\n",
    "    hybrid_model.input_shapes = [i.shape for i in x_preprocessed_train]\n",
    "    loss = hybrid_model.fit(x_train, y_train.reshape([1, -1]), epochs=1)\n",
    "#     metric = dc.metrics.Metric(dc.metrics.score_function.rms_score)\n",
    "    pgnn_losses.append(loss.history['loss'])\n",
    "    hybrid_model.input_shapes = [i.shape for i in x_preprocessed_val]\n",
    "    hybrid_model.modify_graphgather(val_size)\n",
    "    pgnn_val_losses.append(hybrid_model.evaluate(x_val, y_val.reshape([1, -1])))"
   ]
  },
  {
   "cell_type": "code",
   "execution_count": 76,
   "metadata": {},
   "outputs": [
    {
     "data": {
      "image/png": "[encoded data removed]",
      "text/plain": [
       "<Figure size 432x288 with 1 Axes>"
      ]
     },
     "metadata": {
      "needs_background": "light"
     },
     "output_type": "display_data"
    }
   ],
   "source": [
    "import matplotlib.pyplot as plt\n",
    "# f, ax = plt.subplots()\n",
    "plt.plot(range(len(pgnn_losses)), pgnn_losses, label='train loss')\n",
    "plt.plot(range(len(pgnn_val_losses)), pgnn_val_losses, label='val loss')\n",
    "plt.legend(loc='upper right');\n",
    "plt.xlabel(\"Epoch\")\n",
    "plt.ylabel(\"Loss (Kcal/mol)\")\n",
    "plt.savefig('comb_loss.png')"
   ]
  },
  {
   "cell_type": "code",
   "execution_count": 37,
   "metadata": {},
   "outputs": [],
   "source": [
    "# import matplotlib.pyplot as plt\n",
    "# plt.plot(history_val_hybrid.history['loss'])\n",
    "# plt.xlabel(\"Epoch\")\n",
    "# plt.ylabel(\"Loss (Kcal/mol)\")\n",
    "# plt.xlim(-1, 60)"
   ]
  },
  {
   "cell_type": "code",
   "execution_count": 38,
   "metadata": {},
   "outputs": [
    {
     "data": {
      "text/plain": [
       "22"
      ]
     },
     "execution_count": 38,
     "metadata": {},
     "output_type": "execute_result"
    }
   ],
   "source": [
    "len(y_test)"
   ]
  },
  {
   "cell_type": "code",
   "execution_count": 39,
   "metadata": {},
   "outputs": [],
   "source": [
    "hybrid_model.input_shapes = [i.shape for i in x_preprocessed_test]\n",
    "hybrid_model.modify_graphgather(len(y_test))"
   ]
  },
  {
   "cell_type": "code",
   "execution_count": 40,
   "metadata": {},
   "outputs": [
    {
     "name": "stdout",
     "output_type": "stream",
     "text": [
      "1/1 [==============================] - 0s 34ms/step - loss: 40.3584\n"
     ]
    }
   ],
   "source": [
    "evalu = hybrid_model.evaluate(x_test, y_test.reshape([1, -1]))"
   ]
  },
  {
   "cell_type": "code",
   "execution_count": 41,
   "metadata": {},
   "outputs": [
    {
     "name": "stdout",
     "output_type": "stream",
     "text": [
      "6.352828121425989\n"
     ]
    }
   ],
   "source": [
    "pgnn_rmse_test = np.sqrt(evalu)\n",
    "print(pgnn_rmse_test)"
   ]
  },
  {
   "cell_type": "code",
   "execution_count": 42,
   "metadata": {},
   "outputs": [],
   "source": [
    "train_loss = pgnn_losses[-1]"
   ]
  },
  {
   "cell_type": "code",
   "execution_count": 43,
   "metadata": {},
   "outputs": [
    {
     "data": {
      "text/plain": [
       "4.627304740095993"
      ]
     },
     "execution_count": 43,
     "metadata": {},
     "output_type": "execute_result"
    }
   ],
   "source": [
    "import math\n",
    "train_hybrid_rmse = math.sqrt(train_loss[0])\n",
    "train_hybrid_rmse"
   ]
  },
  {
   "cell_type": "markdown",
   "metadata": {},
   "source": [
    "<h1> Physics based model RMSE </h1>"
   ]
  },
  {
   "cell_type": "code",
   "execution_count": 44,
   "metadata": {},
   "outputs": [],
   "source": [
    "import math\n",
    "train_sum=0\n",
    "for i in range(len(host_names_train)):\n",
    "    new_df = df[(df['Host'] == host_names_train[i]) & (df['Guest'] == guest_names_train[i])]\n",
    "    train_sum += new_df['gb_Ex_difference'].to_numpy()[0] **2\n",
    "\n",
    "\n",
    "test_sum = 0\n",
    "for i in range(len(host_names_test)):\n",
    "    new_df = df[(df['Host'] == host_names_test[i]) & (df['Guest'] == guest_names_test[i])]\n",
    "    test_sum += new_df['gb_Ex_difference'].to_numpy()[0] **2\n",
    "    "
   ]
  },
  {
   "cell_type": "code",
   "execution_count": 45,
   "metadata": {},
   "outputs": [],
   "source": [
    "physics_based_rmse_train = math.sqrt(train_sum / len(host_names_train))"
   ]
  },
  {
   "cell_type": "code",
   "execution_count": 46,
   "metadata": {},
   "outputs": [],
   "source": [
    "physics_based_rmse_test = math.sqrt((test_sum) / len(host_names_test))"
   ]
  },
  {
   "cell_type": "code",
   "execution_count": 47,
   "metadata": {},
   "outputs": [
    {
     "name": "stdout",
     "output_type": "stream",
     "text": [
      "RMSE on training set is : 9.566673166822417\n",
      "RMSE on testing set is : 7.9998636043486275\n",
      "RMSE of the total data: 9.116540038105953\n"
     ]
    }
   ],
   "source": [
    "print(f\"RMSE on training set is : {physics_based_rmse_train}\")\n",
    "print(f\"RMSE on testing set is : {physics_based_rmse_test}\")\n",
    "# Total rmse\n",
    "total_rmse_physics = np.sqrt(np.mean((df['EX _H_(kcal/mol)'].to_numpy() - df['gb_delta_H'].to_numpy())**2))\n",
    "print(f\"RMSE of the total data: {total_rmse_physics}\")"
   ]
  },
  {
   "cell_type": "code",
   "execution_count": 48,
   "metadata": {},
   "outputs": [
    {
     "data": {
      "text/plain": [
       "[<matplotlib.lines.Line2D at 0x7f8db5d015e0>]"
      ]
     },
     "execution_count": 48,
     "metadata": {},
     "output_type": "execute_result"
    },
    {
     "data": {
      "image/png": "[encoded data removed]",
      "text/plain": [
       "<Figure size 432x288 with 1 Axes>"
      ]
     },
     "metadata": {
      "needs_background": "light"
     },
     "output_type": "display_data"
    }
   ],
   "source": [
    "import matplotlib.pyplot as plt\n",
    "\n",
    "plt.title(\"Experimental vs GBNSR6\")\n",
    "plt.scatter(x=df['EX _H_(kcal/mol)'], y=df['gb_delta_H'])\n",
    "plt.xlabel(\"Experimental Delta H\")\n",
    "plt.ylabel(\"GBNSR6 Delta H\")\n",
    "plt.xlim(-25, 5)\n",
    "plt.ylim(-25,5)\n",
    "\n",
    "#reference line\n",
    "plt.plot([-25, 5], [-25, 5], color='green', lw=1)"
   ]
  },
  {
   "cell_type": "code",
   "execution_count": 49,
   "metadata": {},
   "outputs": [
    {
     "data": {
      "text/plain": [
       "[<matplotlib.lines.Line2D at 0x7f8d78c8bbb0>]"
      ]
     },
     "execution_count": 49,
     "metadata": {},
     "output_type": "execute_result"
    },
    {
     "data": {
      "image/png": "[encoded data removed]",
      "text/plain": [
       "<Figure size 432x288 with 1 Axes>"
      ]
     },
     "metadata": {
      "needs_background": "light"
     },
     "output_type": "display_data"
    }
   ],
   "source": [
    "plt.title(\"Experimental vs PBSA\")\n",
    "plt.scatter(x=df['EX _H_(kcal/mol)'] ,y=df['pb_delta_H'], color='orange')\n",
    "plt.xlabel(\"Experimental Delta H\")\n",
    "plt.ylabel(\"PBSA Delta H\")\n",
    "plt.xlim(-25, 5)\n",
    "plt.ylim(-25,5)\n",
    "#reference line\n",
    "plt.plot([-25,5],[-25,5], color='green')"
   ]
  },
  {
   "cell_type": "code",
   "execution_count": 77,
   "metadata": {},
   "outputs": [
    {
     "data": {
      "image/png": "[encoded data removed]",
      "text/plain": [
       "<Figure size 432x288 with 1 Axes>"
      ]
     },
     "metadata": {
      "needs_background": "light"
     },
     "output_type": "display_data"
    }
   ],
   "source": [
    "ax = plt.subplot()\n",
    "# plt.title(\"PBSA vs GBNSR6\")\n",
    "plt.xlabel('Experimental ∆H (kcal/mol)')\n",
    "plt.ylabel('Physics-based model ∆H (kcal/mol)')\n",
    "ax.scatter(x=df[\"EX _H_(kcal/mol)\"], y=df['gb_delta_H'], label=\"GBNSR6\")\n",
    "ax.scatter(x=df[\"EX _H_(kcal/mol)\"], y=df['pb_delta_H'], label=\"PBSA\", color=\"orange\")\n",
    "plt.xlim(-25,5)\n",
    "plt.ylim(-25,5)\n",
    "#reference line\n",
    "plt.plot([-25,5],[-25,5],color='green')\n",
    "plt.legend()\n",
    "plt.savefig('gb-pb.png')"
   ]
  },
  {
   "cell_type": "code",
   "execution_count": 51,
   "metadata": {},
   "outputs": [
    {
     "name": "stdout",
     "output_type": "stream",
     "text": [
      "0.16443424102892118\n"
     ]
    }
   ],
   "source": [
    "gb_correlation_matrix = np.corrcoef(df['gb_delta_H'], df['EX _H_(kcal/mol)'])\n",
    "gb_correlation_gbex = gb_correlation_matrix[0,1]\n",
    "gb_r_squared = gb_correlation_gbex**2\n",
    "print(gb_r_squared)"
   ]
  },
  {
   "cell_type": "code",
   "execution_count": 52,
   "metadata": {},
   "outputs": [
    {
     "name": "stdout",
     "output_type": "stream",
     "text": [
      "0.1098144445778738\n"
     ]
    }
   ],
   "source": [
    "pb_correlation_matrix = np.corrcoef(df['pb_delta_H'], df['EX _H_(kcal/mol)'])\n",
    "pb_correlation_pbex = pb_correlation_matrix[0,1]\n",
    "pb_r_squared = pb_correlation_pbex**2\n",
    "print(pb_r_squared)"
   ]
  },
  {
   "cell_type": "markdown",
   "metadata": {},
   "source": [
    "<h1> Data Driven Model </h1>"
   ]
  },
  {
   "cell_type": "code",
   "execution_count": 53,
   "metadata": {},
   "outputs": [],
   "source": [
    "## !!!!!!!! important\n",
    "## !!!!!!!! important\n",
    "## !!!!!!!! important\n",
    "## !!!!!!!! important\n",
    "input_shapes = [i.shape for i in x_preprocessed_train]"
   ]
  },
  {
   "cell_type": "code",
   "execution_count": 54,
   "metadata": {},
   "outputs": [
    {
     "data": {
      "text/plain": [
       "50"
      ]
     },
     "execution_count": 54,
     "metadata": {},
     "output_type": "execute_result"
    }
   ],
   "source": [
    "batch_size = len(host_names_train)\n",
    "batch_size\n",
    "# batch_size=10"
   ]
  },
  {
   "cell_type": "code",
   "execution_count": 55,
   "metadata": {},
   "outputs": [],
   "source": [
    "# from deepchem.models.layers import GraphConv, GraphPool, GraphGather\n",
    "# import tensorflow as tf\n",
    "# import tensorflow.keras.layers as layers\n",
    "# from tensorflow.keras.layers import Dense, Input, BatchNormalization, Concatenate\n",
    "# from tensorflow.keras import initializers\n",
    "\n",
    "# # batch_size = int(len(df) / 2)\n",
    "\n",
    "# class GBGraphConvModel(tf.keras.Model):\n",
    "\n",
    "#     def __init__(self):\n",
    "#         super(GBGraphConvModel, self).__init__()\n",
    "#         self.input_shapes = input_shapes\n",
    "#         self.gc1 = GraphConv(64, activation_fn=tf.nn.tanh)\n",
    "#         self.batch_norm1 = layers.BatchNormalization()\n",
    "#         self.gp1 = GraphPool()\n",
    "\n",
    "#         self.gc2 = GraphConv(64, activation_fn=tf.nn.tanh)\n",
    "#         self.batch_norm2 = layers.BatchNormalization()\n",
    "#         self.gp2 = GraphPool()\n",
    "\n",
    "#         self.dense1 = layers.Dense(128, activation=tf.nn.tanh)\n",
    "#         self.batch_norm3 = layers.BatchNormalization()\n",
    "#         self.readout = GraphGather(batch_size=batch_size, activation_fn=tf.nn.tanh)\n",
    "\n",
    "#         self.dense2 = layers.Dense(1)\n",
    "#     #     self.dense3 = layers.Dense(1, \n",
    "#     #          kernel_initializer=initializers.Constant([.5, -1, -1, 1, 1, 1, 1, 1, -1, -1, -1, -1, -1, -1, -1, -1]),\n",
    "#     #          bias_initializer=initializers.Zeros())\n",
    "\n",
    "#     def call(self, inputs):\n",
    "#         inputs = inputs[0]\n",
    "#         x = []\n",
    "#     #     input_shapes = [[4822, 75], [11, 2], [4822], [1142, 1], [1635, 2], [2042, 3],\n",
    "#     #                    [3, 4], [0, 5], [0, 6], [0, 7], [0, 8], [0, 9], [0, 10]]\n",
    "#         for i in range(len(self.input_shapes)):\n",
    "#             x.append(tf.reshape(inputs[i][inputs[i] != 1.123456], self.input_shapes[i]))\n",
    "#         for i in range(1, len(self.input_shapes)):\n",
    "#             x[i] = tf.cast(x[i], tf.int32)\n",
    "#         x_add = tf.reshape(inputs[13][inputs[13] != 1.123456], [batch_size, 15])\n",
    "#         gc1_output = self.gc1(x)\n",
    "#         batch_norm1_output = self.batch_norm1(gc1_output)\n",
    "#         gp1_output = self.gp1([batch_norm1_output] + x[1:])\n",
    "\n",
    "#         gc2_output = self.gc2([gp1_output] + x[1:])\n",
    "#         batch_norm2_output = self.batch_norm1(gc2_output)\n",
    "#         gp2_output = self.gp2([batch_norm2_output] + x[1:])\n",
    "\n",
    "#         dense1_output = self.dense1(gp2_output)\n",
    "#         batch_norm3_output = self.batch_norm3(dense1_output)\n",
    "#         readout_output = self.readout([batch_norm3_output] + x[1:])\n",
    "\n",
    "#         model_var = self.dense2(readout_output)\n",
    "#     #     binding_affinity = tf.concat([model_var, x_add], axis=1)\n",
    "#         return model_var #self.dense3(binding_affinity)\n",
    "# model = GBGraphConvModel()\n",
    "# model.compile(loss='mse', optimizer='adam')"
   ]
  },
  {
   "cell_type": "code",
   "execution_count": 56,
   "metadata": {},
   "outputs": [],
   "source": [
    "from deepchem.models.layers import GraphConv, GraphPool, GraphGather\n",
    "import tensorflow as tf\n",
    "import tensorflow.keras.layers as layers\n",
    "from tensorflow.keras.layers import Dense, Input, BatchNormalization, Concatenate\n",
    "from tensorflow.keras import initializers\n",
    "\n",
    "# batch_size = int(len(df) / 2)\n",
    "\n",
    "class GBGraphConvModel(tf.keras.Model):\n",
    "   \n",
    "    def modify_graphgather(self, batch_size):\n",
    "        self.readout.batch_size = batch_size\n",
    "        self.batch_size = batch_size\n",
    "\n",
    "    def __init__(self, batch_size):\n",
    "        super(GBGraphConvModel, self).__init__()\n",
    "        self.input_shapes = None\n",
    "        self.batch_size = batch_size\n",
    "        self.gc1 = GraphConv(32, activation_fn=tf.nn.tanh)\n",
    "        self.batch_norm1 = layers.BatchNormalization()\n",
    "        self.gp1 = GraphPool()\n",
    "\n",
    "        self.gc2 = GraphConv(32, activation_fn=tf.nn.tanh)\n",
    "        self.batch_norm2 = layers.BatchNormalization()\n",
    "        self.gp2 = GraphPool()\n",
    "\n",
    "        self.dense1 = layers.Dense(64, activation=tf.nn.tanh)\n",
    "        self.batch_norm3 = layers.BatchNormalization()\n",
    "        self.readout = GraphGather(batch_size=self.batch_size, activation_fn=tf.nn.tanh)\n",
    "\n",
    "        self.dense2 = layers.Dense(1)\n",
    "    #     self.dense3 = layers.Dense(1, \n",
    "    #          kernel_initializer=initializers.Constant([.5, -1, -1, 1, 1, 1, 1, 1, -1, -1, -1, -1, -1, -1, -1, -1]),\n",
    "    #          bias_initializer=initializers.Zeros())\n",
    "\n",
    "    def call(self, inputs):\n",
    "        inputs = inputs[0]\n",
    "        x = []\n",
    "    #     input_shapes = [[4822, 75], [11, 2], [4822], [1142, 1], [1635, 2], [2042, 3],\n",
    "    #                    [3, 4], [0, 5], [0, 6], [0, 7], [0, 8], [0, 9], [0, 10]]\n",
    "        for i in range(len(self.input_shapes)):\n",
    "            x.append(tf.reshape(inputs[i][inputs[i] != 1.123456], self.input_shapes[i]))\n",
    "        for i in range(1, len(self.input_shapes)):\n",
    "            x[i] = tf.cast(x[i], tf.int32)\n",
    "        x_add = tf.reshape(inputs[13][inputs[13] != 1.123456], [self.batch_size, 15])\n",
    "        gc1_output = self.gc1(x)\n",
    "        batch_norm1_output = self.batch_norm1(gc1_output)\n",
    "        gp1_output = self.gp1([batch_norm1_output] + x[1:])\n",
    "\n",
    "        gc2_output = self.gc2([gp1_output] + x[1:])\n",
    "        batch_norm2_output = self.batch_norm1(gc2_output)\n",
    "        gp2_output = self.gp2([batch_norm2_output] + x[1:])\n",
    "\n",
    "        dense1_output = self.dense1(gp2_output)\n",
    "        batch_norm3_output = self.batch_norm3(dense1_output)\n",
    "        readout_output = self.readout([batch_norm3_output] + x[1:])\n",
    "\n",
    "        model_var = self.dense2(readout_output)\n",
    "    #     binding_affinity = tf.concat([model_var, x_add], axis=1)\n",
    "        return model_var #self.dense3(binding_affinity)\n",
    "dd_model = GBGraphConvModel(train_split_index)\n",
    "dd_model.compile(loss='mse', optimizer='adam')"
   ]
  },
  {
   "cell_type": "code",
   "execution_count": 57,
   "metadata": {},
   "outputs": [],
   "source": [
    "# history_dd_train = model.fit(x_train, y_train.reshape([1, -1]), epochs=200)\n",
    "\n",
    "# history_dd_train = model.fit(x_train, y_train.reshape([1, -1]), epochs=100)"
   ]
  },
  {
   "cell_type": "code",
   "execution_count": 58,
   "metadata": {},
   "outputs": [
    {
     "name": "stderr",
     "output_type": "stream",
     "text": [
      "/Users/misspotato/opt/miniconda3/envs/rdkit-deepchem-jupyter/lib/python3.9/site-packages/tensorflow/python/framework/indexed_slices.py:447: UserWarning: Converting sparse IndexedSlices(IndexedSlices(indices=Tensor(\"gradient_tape/gb_graph_conv_model_1/graph_pool_3/Reshape_14:0\", shape=(1056,), dtype=int32), values=Tensor(\"gradient_tape/gb_graph_conv_model_1/graph_pool_3/Reshape_13:0\", shape=(1056, 64), dtype=float32), dense_shape=Tensor(\"gradient_tape/gb_graph_conv_model_1/graph_pool_3/Cast_4:0\", shape=(2,), dtype=int32))) to a dense Tensor of unknown shape. This may consume a large amount of memory.\n",
      "  warnings.warn(\n",
      "/Users/misspotato/opt/miniconda3/envs/rdkit-deepchem-jupyter/lib/python3.9/site-packages/tensorflow/python/framework/indexed_slices.py:447: UserWarning: Converting sparse IndexedSlices(IndexedSlices(indices=Tensor(\"gradient_tape/gb_graph_conv_model_1/graph_pool_3/Reshape_17:0\", shape=(3408,), dtype=int32), values=Tensor(\"gradient_tape/gb_graph_conv_model_1/graph_pool_3/Reshape_16:0\", shape=(3408, 64), dtype=float32), dense_shape=Tensor(\"gradient_tape/gb_graph_conv_model_1/graph_pool_3/Cast_5:0\", shape=(2,), dtype=int32))) to a dense Tensor of unknown shape. This may consume a large amount of memory.\n",
      "  warnings.warn(\n",
      "/Users/misspotato/opt/miniconda3/envs/rdkit-deepchem-jupyter/lib/python3.9/site-packages/tensorflow/python/framework/indexed_slices.py:447: UserWarning: Converting sparse IndexedSlices(IndexedSlices(indices=Tensor(\"gradient_tape/gb_graph_conv_model_1/graph_pool_3/Reshape_20:0\", shape=(6780,), dtype=int32), values=Tensor(\"gradient_tape/gb_graph_conv_model_1/graph_pool_3/Reshape_19:0\", shape=(6780, 64), dtype=float32), dense_shape=Tensor(\"gradient_tape/gb_graph_conv_model_1/graph_pool_3/Cast_6:0\", shape=(2,), dtype=int32))) to a dense Tensor of unknown shape. This may consume a large amount of memory.\n",
      "  warnings.warn(\n",
      "/Users/misspotato/opt/miniconda3/envs/rdkit-deepchem-jupyter/lib/python3.9/site-packages/tensorflow/python/framework/indexed_slices.py:447: UserWarning: Converting sparse IndexedSlices(IndexedSlices(indices=Tensor(\"gradient_tape/gb_graph_conv_model_1/graph_pool_3/Reshape_23:0\", shape=(36,), dtype=int32), values=Tensor(\"gradient_tape/gb_graph_conv_model_1/graph_pool_3/Reshape_22:0\", shape=(36, 64), dtype=float32), dense_shape=Tensor(\"gradient_tape/gb_graph_conv_model_1/graph_pool_3/Cast_7:0\", shape=(2,), dtype=int32))) to a dense Tensor of unknown shape. This may consume a large amount of memory.\n",
      "  warnings.warn(\n",
      "/Users/misspotato/opt/miniconda3/envs/rdkit-deepchem-jupyter/lib/python3.9/site-packages/tensorflow/python/framework/indexed_slices.py:447: UserWarning: Converting sparse IndexedSlices(IndexedSlices(indices=Tensor(\"gradient_tape/gb_graph_conv_model_1/graph_conv_3/Reshape_11:0\", shape=(1056,), dtype=int32), values=Tensor(\"gradient_tape/gb_graph_conv_model_1/graph_conv_3/Reshape_10:0\", shape=(1056, 64), dtype=float32), dense_shape=Tensor(\"gradient_tape/gb_graph_conv_model_1/graph_conv_3/Cast:0\", shape=(2,), dtype=int32))) to a dense Tensor of unknown shape. This may consume a large amount of memory.\n",
      "  warnings.warn(\n",
      "/Users/misspotato/opt/miniconda3/envs/rdkit-deepchem-jupyter/lib/python3.9/site-packages/tensorflow/python/framework/indexed_slices.py:447: UserWarning: Converting sparse IndexedSlices(IndexedSlices(indices=Tensor(\"gradient_tape/gb_graph_conv_model_1/graph_conv_3/Reshape_13:0\", shape=(3408,), dtype=int32), values=Tensor(\"gradient_tape/gb_graph_conv_model_1/graph_conv_3/Reshape_12:0\", shape=(3408, 64), dtype=float32), dense_shape=Tensor(\"gradient_tape/gb_graph_conv_model_1/graph_conv_3/Cast_1:0\", shape=(2,), dtype=int32))) to a dense Tensor of unknown shape. This may consume a large amount of memory.\n",
      "  warnings.warn(\n",
      "/Users/misspotato/opt/miniconda3/envs/rdkit-deepchem-jupyter/lib/python3.9/site-packages/tensorflow/python/framework/indexed_slices.py:447: UserWarning: Converting sparse IndexedSlices(IndexedSlices(indices=Tensor(\"gradient_tape/gb_graph_conv_model_1/graph_conv_3/Reshape_15:0\", shape=(6780,), dtype=int32), values=Tensor(\"gradient_tape/gb_graph_conv_model_1/graph_conv_3/Reshape_14:0\", shape=(6780, 64), dtype=float32), dense_shape=Tensor(\"gradient_tape/gb_graph_conv_model_1/graph_conv_3/Cast_2:0\", shape=(2,), dtype=int32))) to a dense Tensor of unknown shape. This may consume a large amount of memory.\n",
      "  warnings.warn(\n",
      "/Users/misspotato/opt/miniconda3/envs/rdkit-deepchem-jupyter/lib/python3.9/site-packages/tensorflow/python/framework/indexed_slices.py:447: UserWarning: Converting sparse IndexedSlices(IndexedSlices(indices=Tensor(\"gradient_tape/gb_graph_conv_model_1/graph_conv_3/Reshape_17:0\", shape=(36,), dtype=int32), values=Tensor(\"gradient_tape/gb_graph_conv_model_1/graph_conv_3/Reshape_16:0\", shape=(36, 64), dtype=float32), dense_shape=Tensor(\"gradient_tape/gb_graph_conv_model_1/graph_conv_3/Cast_3:0\", shape=(2,), dtype=int32))) to a dense Tensor of unknown shape. This may consume a large amount of memory.\n",
      "  warnings.warn(\n",
      "/Users/misspotato/opt/miniconda3/envs/rdkit-deepchem-jupyter/lib/python3.9/site-packages/tensorflow/python/framework/indexed_slices.py:447: UserWarning: Converting sparse IndexedSlices(IndexedSlices(indices=Tensor(\"gradient_tape/gb_graph_conv_model_1/graph_conv_3/Reshape_19:0\", shape=(0,), dtype=int32), values=Tensor(\"gradient_tape/gb_graph_conv_model_1/graph_conv_3/Reshape_18:0\", shape=(0, 64), dtype=float32), dense_shape=Tensor(\"gradient_tape/gb_graph_conv_model_1/graph_conv_3/Cast_4:0\", shape=(2,), dtype=int32))) to a dense Tensor of unknown shape. This may consume a large amount of memory.\n",
      "  warnings.warn(\n",
      "/Users/misspotato/opt/miniconda3/envs/rdkit-deepchem-jupyter/lib/python3.9/site-packages/tensorflow/python/framework/indexed_slices.py:447: UserWarning: Converting sparse IndexedSlices(IndexedSlices(indices=Tensor(\"gradient_tape/gb_graph_conv_model_1/graph_conv_3/Reshape_21:0\", shape=(0,), dtype=int32), values=Tensor(\"gradient_tape/gb_graph_conv_model_1/graph_conv_3/Reshape_20:0\", shape=(0, 64), dtype=float32), dense_shape=Tensor(\"gradient_tape/gb_graph_conv_model_1/graph_conv_3/Cast_5:0\", shape=(2,), dtype=int32))) to a dense Tensor of unknown shape. This may consume a large amount of memory.\n",
      "  warnings.warn(\n",
      "/Users/misspotato/opt/miniconda3/envs/rdkit-deepchem-jupyter/lib/python3.9/site-packages/tensorflow/python/framework/indexed_slices.py:447: UserWarning: Converting sparse IndexedSlices(IndexedSlices(indices=Tensor(\"gradient_tape/gb_graph_conv_model_1/graph_conv_3/Reshape_23:0\", shape=(0,), dtype=int32), values=Tensor(\"gradient_tape/gb_graph_conv_model_1/graph_conv_3/Reshape_22:0\", shape=(0, 64), dtype=float32), dense_shape=Tensor(\"gradient_tape/gb_graph_conv_model_1/graph_conv_3/Cast_6:0\", shape=(2,), dtype=int32))) to a dense Tensor of unknown shape. This may consume a large amount of memory.\n",
      "  warnings.warn(\n",
      "/Users/misspotato/opt/miniconda3/envs/rdkit-deepchem-jupyter/lib/python3.9/site-packages/tensorflow/python/framework/indexed_slices.py:447: UserWarning: Converting sparse IndexedSlices(IndexedSlices(indices=Tensor(\"gradient_tape/gb_graph_conv_model_1/graph_conv_3/Reshape_25:0\", shape=(0,), dtype=int32), values=Tensor(\"gradient_tape/gb_graph_conv_model_1/graph_conv_3/Reshape_24:0\", shape=(0, 64), dtype=float32), dense_shape=Tensor(\"gradient_tape/gb_graph_conv_model_1/graph_conv_3/Cast_7:0\", shape=(2,), dtype=int32))) to a dense Tensor of unknown shape. This may consume a large amount of memory.\n",
      "  warnings.warn(\n",
      "/Users/misspotato/opt/miniconda3/envs/rdkit-deepchem-jupyter/lib/python3.9/site-packages/tensorflow/python/framework/indexed_slices.py:447: UserWarning: Converting sparse IndexedSlices(IndexedSlices(indices=Tensor(\"gradient_tape/gb_graph_conv_model_1/graph_conv_3/Reshape_27:0\", shape=(0,), dtype=int32), values=Tensor(\"gradient_tape/gb_graph_conv_model_1/graph_conv_3/Reshape_26:0\", shape=(0, 64), dtype=float32), dense_shape=Tensor(\"gradient_tape/gb_graph_conv_model_1/graph_conv_3/Cast_8:0\", shape=(2,), dtype=int32))) to a dense Tensor of unknown shape. This may consume a large amount of memory.\n",
      "  warnings.warn(\n",
      "/Users/misspotato/opt/miniconda3/envs/rdkit-deepchem-jupyter/lib/python3.9/site-packages/tensorflow/python/framework/indexed_slices.py:447: UserWarning: Converting sparse IndexedSlices(IndexedSlices(indices=Tensor(\"gradient_tape/gb_graph_conv_model_1/graph_conv_3/Reshape_29:0\", shape=(0,), dtype=int32), values=Tensor(\"gradient_tape/gb_graph_conv_model_1/graph_conv_3/Reshape_28:0\", shape=(0, 64), dtype=float32), dense_shape=Tensor(\"gradient_tape/gb_graph_conv_model_1/graph_conv_3/Cast_9:0\", shape=(2,), dtype=int32))) to a dense Tensor of unknown shape. This may consume a large amount of memory.\n",
      "  warnings.warn(\n",
      "/Users/misspotato/opt/miniconda3/envs/rdkit-deepchem-jupyter/lib/python3.9/site-packages/tensorflow/python/framework/indexed_slices.py:447: UserWarning: Converting sparse IndexedSlices(IndexedSlices(indices=Tensor(\"gradient_tape/gb_graph_conv_model_1/graph_pool_2/Reshape_14:0\", shape=(1056,), dtype=int32), values=Tensor(\"gradient_tape/gb_graph_conv_model_1/graph_pool_2/Reshape_13:0\", shape=(1056, 64), dtype=float32), dense_shape=Tensor(\"gradient_tape/gb_graph_conv_model_1/graph_pool_2/Cast_4:0\", shape=(2,), dtype=int32))) to a dense Tensor of unknown shape. This may consume a large amount of memory.\n",
      "  warnings.warn(\n",
      "/Users/misspotato/opt/miniconda3/envs/rdkit-deepchem-jupyter/lib/python3.9/site-packages/tensorflow/python/framework/indexed_slices.py:447: UserWarning: Converting sparse IndexedSlices(IndexedSlices(indices=Tensor(\"gradient_tape/gb_graph_conv_model_1/graph_pool_2/Reshape_17:0\", shape=(3408,), dtype=int32), values=Tensor(\"gradient_tape/gb_graph_conv_model_1/graph_pool_2/Reshape_16:0\", shape=(3408, 64), dtype=float32), dense_shape=Tensor(\"gradient_tape/gb_graph_conv_model_1/graph_pool_2/Cast_5:0\", shape=(2,), dtype=int32))) to a dense Tensor of unknown shape. This may consume a large amount of memory.\n",
      "  warnings.warn(\n",
      "/Users/misspotato/opt/miniconda3/envs/rdkit-deepchem-jupyter/lib/python3.9/site-packages/tensorflow/python/framework/indexed_slices.py:447: UserWarning: Converting sparse IndexedSlices(IndexedSlices(indices=Tensor(\"gradient_tape/gb_graph_conv_model_1/graph_pool_2/Reshape_20:0\", shape=(6780,), dtype=int32), values=Tensor(\"gradient_tape/gb_graph_conv_model_1/graph_pool_2/Reshape_19:0\", shape=(6780, 64), dtype=float32), dense_shape=Tensor(\"gradient_tape/gb_graph_conv_model_1/graph_pool_2/Cast_6:0\", shape=(2,), dtype=int32))) to a dense Tensor of unknown shape. This may consume a large amount of memory.\n",
      "  warnings.warn(\n",
      "/Users/misspotato/opt/miniconda3/envs/rdkit-deepchem-jupyter/lib/python3.9/site-packages/tensorflow/python/framework/indexed_slices.py:447: UserWarning: Converting sparse IndexedSlices(IndexedSlices(indices=Tensor(\"gradient_tape/gb_graph_conv_model_1/graph_pool_2/Reshape_23:0\", shape=(36,), dtype=int32), values=Tensor(\"gradient_tape/gb_graph_conv_model_1/graph_pool_2/Reshape_22:0\", shape=(36, 64), dtype=float32), dense_shape=Tensor(\"gradient_tape/gb_graph_conv_model_1/graph_pool_2/Cast_7:0\", shape=(2,), dtype=int32))) to a dense Tensor of unknown shape. This may consume a large amount of memory.\n",
      "  warnings.warn(\n"
     ]
    },
    {
     "name": "stdout",
     "output_type": "stream",
     "text": [
      "1/1 [==============================] - 4s 4s/step - loss: 23.8490\n",
      "1/1 [==============================] - 1s 904ms/step - loss: 70.6674\n",
      "1/1 [==============================] - 0s 69ms/step - loss: 19.1070\n",
      "1/1 [==============================] - 0s 30ms/step - loss: 69.4705\n",
      "1/1 [==============================] - 0s 69ms/step - loss: 16.5586\n",
      "1/1 [==============================] - 0s 30ms/step - loss: 68.2718\n",
      "1/1 [==============================] - 0s 70ms/step - loss: 15.4057\n",
      "1/1 [==============================] - 0s 32ms/step - loss: 65.4304\n",
      "1/1 [==============================] - 0s 66ms/step - loss: 14.1111\n",
      "1/1 [==============================] - 0s 28ms/step - loss: 63.4046\n",
      "1/1 [==============================] - 0s 66ms/step - loss: 12.9895\n",
      "1/1 [==============================] - 0s 27ms/step - loss: 62.5269\n",
      "1/1 [==============================] - 0s 67ms/step - loss: 11.7074\n",
      "1/1 [==============================] - 0s 30ms/step - loss: 62.4149\n",
      "1/1 [==============================] - 0s 73ms/step - loss: 10.8839\n",
      "1/1 [==============================] - 0s 33ms/step - loss: 62.1260\n",
      "1/1 [==============================] - 0s 77ms/step - loss: 10.2340\n",
      "1/1 [==============================] - 0s 34ms/step - loss: 61.4073\n",
      "1/1 [==============================] - 0s 77ms/step - loss: 9.6300\n",
      "1/1 [==============================] - 0s 36ms/step - loss: 60.8808\n",
      "1/1 [==============================] - 0s 75ms/step - loss: 9.2236\n",
      "1/1 [==============================] - 0s 31ms/step - loss: 60.3591\n",
      "1/1 [==============================] - 0s 77ms/step - loss: 8.8328\n",
      "1/1 [==============================] - 0s 33ms/step - loss: 59.9848\n",
      "1/1 [==============================] - 0s 74ms/step - loss: 8.4326\n",
      "1/1 [==============================] - 0s 34ms/step - loss: 59.3493\n",
      "1/1 [==============================] - 0s 80ms/step - loss: 8.2450\n",
      "1/1 [==============================] - 0s 41ms/step - loss: 58.9077\n",
      "1/1 [==============================] - 0s 75ms/step - loss: 8.1399\n",
      "1/1 [==============================] - 0s 32ms/step - loss: 58.6630\n",
      "1/1 [==============================] - 0s 72ms/step - loss: 8.0433\n",
      "1/1 [==============================] - 0s 33ms/step - loss: 58.3218\n",
      "1/1 [==============================] - 0s 74ms/step - loss: 7.9839\n",
      "1/1 [==============================] - 0s 33ms/step - loss: 57.9156\n",
      "1/1 [==============================] - 0s 70ms/step - loss: 7.9528\n",
      "1/1 [==============================] - 0s 37ms/step - loss: 57.3549\n",
      "1/1 [==============================] - 0s 72ms/step - loss: 7.9496\n",
      "1/1 [==============================] - 0s 32ms/step - loss: 56.7348\n",
      "1/1 [==============================] - 0s 76ms/step - loss: 7.9482\n",
      "1/1 [==============================] - 0s 34ms/step - loss: 56.2350\n",
      "1/1 [==============================] - 0s 78ms/step - loss: 7.9458\n",
      "1/1 [==============================] - 0s 33ms/step - loss: 55.8557\n",
      "1/1 [==============================] - 0s 73ms/step - loss: 7.9412\n",
      "1/1 [==============================] - 0s 35ms/step - loss: 55.5785\n",
      "1/1 [==============================] - 0s 74ms/step - loss: 7.9365\n",
      "1/1 [==============================] - 0s 32ms/step - loss: 55.3762\n",
      "1/1 [==============================] - 0s 74ms/step - loss: 7.9393\n",
      "1/1 [==============================] - 0s 32ms/step - loss: 55.1795\n",
      "1/1 [==============================] - 0s 71ms/step - loss: 7.9420\n",
      "1/1 [==============================] - 0s 33ms/step - loss: 54.9329\n",
      "1/1 [==============================] - 0s 72ms/step - loss: 7.9384\n",
      "1/1 [==============================] - 0s 32ms/step - loss: 54.6495\n",
      "1/1 [==============================] - 0s 76ms/step - loss: 7.9358\n",
      "1/1 [==============================] - 0s 34ms/step - loss: 54.3616\n",
      "1/1 [==============================] - 0s 72ms/step - loss: 7.9333\n",
      "1/1 [==============================] - 0s 30ms/step - loss: 54.0700\n",
      "1/1 [==============================] - 0s 75ms/step - loss: 7.9236\n",
      "1/1 [==============================] - 0s 32ms/step - loss: 53.7415\n",
      "1/1 [==============================] - 0s 72ms/step - loss: 7.9181\n",
      "1/1 [==============================] - 0s 33ms/step - loss: 53.4156\n",
      "1/1 [==============================] - 0s 77ms/step - loss: 7.9151\n",
      "1/1 [==============================] - 0s 32ms/step - loss: 53.1419\n",
      "1/1 [==============================] - 0s 66ms/step - loss: 7.9152\n",
      "1/1 [==============================] - 0s 32ms/step - loss: 52.9241\n",
      "1/1 [==============================] - 0s 72ms/step - loss: 7.9101\n",
      "1/1 [==============================] - 0s 33ms/step - loss: 52.8397\n",
      "1/1 [==============================] - 0s 72ms/step - loss: 7.9081\n",
      "1/1 [==============================] - 0s 32ms/step - loss: 52.8421\n",
      "1/1 [==============================] - 0s 75ms/step - loss: 7.9058\n",
      "1/1 [==============================] - 0s 34ms/step - loss: 52.8751\n",
      "1/1 [==============================] - 0s 68ms/step - loss: 7.9033\n",
      "1/1 [==============================] - 0s 32ms/step - loss: 52.8925\n",
      "1/1 [==============================] - 0s 71ms/step - loss: 7.9013\n",
      "1/1 [==============================] - 0s 34ms/step - loss: 52.8992\n",
      "1/1 [==============================] - 0s 72ms/step - loss: 7.8980\n",
      "1/1 [==============================] - 0s 32ms/step - loss: 52.9012\n",
      "1/1 [==============================] - 0s 77ms/step - loss: 7.8970\n",
      "1/1 [==============================] - 0s 34ms/step - loss: 52.8922\n",
      "1/1 [==============================] - 0s 70ms/step - loss: 7.8956\n",
      "1/1 [==============================] - 0s 33ms/step - loss: 52.8423\n",
      "1/1 [==============================] - 0s 76ms/step - loss: 7.8944\n",
      "1/1 [==============================] - 0s 32ms/step - loss: 52.7287\n",
      "1/1 [==============================] - 0s 76ms/step - loss: 7.8933\n",
      "1/1 [==============================] - 0s 38ms/step - loss: 52.5507\n",
      "1/1 [==============================] - 0s 91ms/step - loss: 7.8927\n",
      "1/1 [==============================] - 0s 33ms/step - loss: 52.3112\n",
      "1/1 [==============================] - 0s 69ms/step - loss: 7.8923\n",
      "1/1 [==============================] - 0s 34ms/step - loss: 52.0280\n",
      "1/1 [==============================] - 0s 77ms/step - loss: 7.8917\n",
      "1/1 [==============================] - 0s 36ms/step - loss: 51.7673\n",
      "1/1 [==============================] - 0s 78ms/step - loss: 7.8908\n",
      "1/1 [==============================] - 0s 33ms/step - loss: 51.5458\n",
      "1/1 [==============================] - 0s 76ms/step - loss: 7.8902\n",
      "1/1 [==============================] - 0s 33ms/step - loss: 51.3731\n",
      "1/1 [==============================] - 0s 68ms/step - loss: 7.8896\n",
      "1/1 [==============================] - 0s 36ms/step - loss: 51.3124\n",
      "1/1 [==============================] - 0s 74ms/step - loss: 7.8889\n",
      "1/1 [==============================] - 0s 36ms/step - loss: 51.3249\n",
      "1/1 [==============================] - 0s 72ms/step - loss: 7.8883\n",
      "1/1 [==============================] - 0s 33ms/step - loss: 51.3106\n",
      "1/1 [==============================] - 0s 73ms/step - loss: 7.8880\n",
      "1/1 [==============================] - 0s 32ms/step - loss: 51.2709\n",
      "1/1 [==============================] - 0s 65ms/step - loss: 7.8877\n",
      "1/1 [==============================] - 0s 39ms/step - loss: 51.2042\n",
      "1/1 [==============================] - 0s 93ms/step - loss: 7.8874\n",
      "1/1 [==============================] - 0s 43ms/step - loss: 51.0882\n",
      "1/1 [==============================] - 0s 82ms/step - loss: 7.8871\n",
      "1/1 [==============================] - 0s 34ms/step - loss: 50.9719\n",
      "1/1 [==============================] - 0s 83ms/step - loss: 7.8870\n",
      "1/1 [==============================] - 0s 34ms/step - loss: 50.8497\n",
      "1/1 [==============================] - 0s 75ms/step - loss: 7.8869\n",
      "1/1 [==============================] - 0s 34ms/step - loss: 50.6849\n",
      "1/1 [==============================] - 0s 82ms/step - loss: 7.8867\n",
      "1/1 [==============================] - 0s 33ms/step - loss: 50.4605\n",
      "1/1 [==============================] - 0s 82ms/step - loss: 7.8865\n",
      "1/1 [==============================] - 0s 35ms/step - loss: 50.2346\n",
      "1/1 [==============================] - 0s 80ms/step - loss: 7.8864\n",
      "1/1 [==============================] - 0s 33ms/step - loss: 49.9979\n",
      "1/1 [==============================] - 0s 78ms/step - loss: 7.8861\n",
      "1/1 [==============================] - 0s 36ms/step - loss: 49.7637\n",
      "1/1 [==============================] - 0s 80ms/step - loss: 7.8859\n",
      "1/1 [==============================] - 0s 35ms/step - loss: 49.5347\n",
      "1/1 [==============================] - 0s 85ms/step - loss: 7.8857\n",
      "1/1 [==============================] - 0s 32ms/step - loss: 49.3184\n",
      "1/1 [==============================] - 0s 71ms/step - loss: 7.8855\n",
      "1/1 [==============================] - 0s 33ms/step - loss: 49.1133\n",
      "1/1 [==============================] - 0s 78ms/step - loss: 7.8854\n",
      "1/1 [==============================] - 0s 34ms/step - loss: 48.8933\n",
      "1/1 [==============================] - 0s 75ms/step - loss: 7.8852\n",
      "1/1 [==============================] - 0s 33ms/step - loss: 48.6576\n",
      "1/1 [==============================] - 0s 74ms/step - loss: 7.8851\n",
      "1/1 [==============================] - 0s 34ms/step - loss: 48.4079\n",
      "1/1 [==============================] - 0s 74ms/step - loss: 7.8850\n",
      "1/1 [==============================] - 0s 32ms/step - loss: 48.1456\n",
      "1/1 [==============================] - 0s 77ms/step - loss: 7.8849\n",
      "1/1 [==============================] - 0s 34ms/step - loss: 47.8750\n",
      "1/1 [==============================] - 0s 71ms/step - loss: 7.8848\n",
      "1/1 [==============================] - 0s 32ms/step - loss: 47.6081\n",
      "1/1 [==============================] - 0s 71ms/step - loss: 7.8847\n",
      "1/1 [==============================] - 0s 33ms/step - loss: 47.3485\n",
      "1/1 [==============================] - 0s 75ms/step - loss: 7.8846\n",
      "1/1 [==============================] - 0s 38ms/step - loss: 47.0949\n",
      "1/1 [==============================] - 0s 72ms/step - loss: 7.8846\n",
      "1/1 [==============================] - 0s 32ms/step - loss: 46.8674\n",
      "1/1 [==============================] - 0s 71ms/step - loss: 7.8845\n",
      "1/1 [==============================] - 0s 31ms/step - loss: 46.6447\n",
      "1/1 [==============================] - 0s 71ms/step - loss: 7.8844\n",
      "1/1 [==============================] - 0s 30ms/step - loss: 46.3808\n",
      "1/1 [==============================] - 0s 78ms/step - loss: 7.8844\n",
      "1/1 [==============================] - 0s 33ms/step - loss: 46.1032\n",
      "1/1 [==============================] - 0s 80ms/step - loss: 7.8843\n",
      "1/1 [==============================] - 0s 33ms/step - loss: 45.8731\n",
      "1/1 [==============================] - 0s 72ms/step - loss: 7.8843\n",
      "1/1 [==============================] - 0s 32ms/step - loss: 45.7142\n",
      "1/1 [==============================] - 0s 78ms/step - loss: 7.8842\n",
      "1/1 [==============================] - 0s 33ms/step - loss: 45.6000\n",
      "1/1 [==============================] - 0s 77ms/step - loss: 7.8842\n",
      "1/1 [==============================] - 0s 34ms/step - loss: 45.4863\n",
      "1/1 [==============================] - 0s 75ms/step - loss: 7.8841\n",
      "1/1 [==============================] - 0s 34ms/step - loss: 45.3583\n",
      "1/1 [==============================] - 0s 75ms/step - loss: 7.8841\n",
      "1/1 [==============================] - 0s 36ms/step - loss: 45.2327\n",
      "1/1 [==============================] - 0s 99ms/step - loss: 7.8840\n",
      "1/1 [==============================] - 0s 33ms/step - loss: 45.1122\n",
      "1/1 [==============================] - 0s 70ms/step - loss: 7.8840\n",
      "1/1 [==============================] - 0s 32ms/step - loss: 44.9963\n",
      "1/1 [==============================] - 0s 70ms/step - loss: 7.8839\n",
      "1/1 [==============================] - 0s 33ms/step - loss: 44.8798\n",
      "1/1 [==============================] - 0s 73ms/step - loss: 7.8839\n",
      "1/1 [==============================] - 0s 33ms/step - loss: 44.7535\n",
      "1/1 [==============================] - 0s 71ms/step - loss: 7.8839\n",
      "1/1 [==============================] - 0s 35ms/step - loss: 44.6230\n",
      "1/1 [==============================] - 0s 81ms/step - loss: 7.8838\n",
      "1/1 [==============================] - 0s 34ms/step - loss: 44.5119\n",
      "1/1 [==============================] - 0s 79ms/step - loss: 7.8838\n",
      "1/1 [==============================] - 0s 34ms/step - loss: 44.4064\n",
      "1/1 [==============================] - 0s 82ms/step - loss: 7.8837\n",
      "1/1 [==============================] - 0s 34ms/step - loss: 44.2784\n",
      "1/1 [==============================] - 0s 81ms/step - loss: 7.8837\n",
      "1/1 [==============================] - 0s 35ms/step - loss: 44.1421\n",
      "1/1 [==============================] - 0s 76ms/step - loss: 7.8837\n",
      "1/1 [==============================] - 0s 34ms/step - loss: 44.0077\n",
      "1/1 [==============================] - 0s 78ms/step - loss: 7.8836\n",
      "1/1 [==============================] - 0s 33ms/step - loss: 43.8532\n",
      "1/1 [==============================] - 0s 72ms/step - loss: 7.8836\n",
      "1/1 [==============================] - 0s 32ms/step - loss: 43.6776\n",
      "1/1 [==============================] - 0s 82ms/step - loss: 7.8836\n",
      "1/1 [==============================] - 0s 32ms/step - loss: 43.5108\n",
      "1/1 [==============================] - 0s 67ms/step - loss: 7.8836\n",
      "1/1 [==============================] - 0s 32ms/step - loss: 43.3729\n",
      "1/1 [==============================] - 0s 71ms/step - loss: 7.8835\n",
      "1/1 [==============================] - 0s 33ms/step - loss: 43.2735\n",
      "1/1 [==============================] - 0s 74ms/step - loss: 7.8835\n",
      "1/1 [==============================] - 0s 33ms/step - loss: 43.2029\n",
      "1/1 [==============================] - 0s 82ms/step - loss: 7.8835\n",
      "1/1 [==============================] - 0s 36ms/step - loss: 43.0540\n",
      "1/1 [==============================] - 0s 74ms/step - loss: 7.8834\n",
      "1/1 [==============================] - 0s 34ms/step - loss: 42.8458\n",
      "1/1 [==============================] - 0s 80ms/step - loss: 7.8834\n",
      "1/1 [==============================] - 0s 31ms/step - loss: 42.6853\n"
     ]
    }
   ],
   "source": [
    "dd_losses, dd_val_losses = [], []\n",
    "max_epoch = 100\n",
    "val_size = len(y_val)\n",
    "train_size = len(y_train)\n",
    "\n",
    "for epoch in range(max_epoch):\n",
    "    dd_model.modify_graphgather(train_size)\n",
    "    dd_model.input_shapes = [i.shape for i in x_preprocessed_train]\n",
    "    loss = dd_model.fit(x_train, y_train.reshape([1, -1]), epochs=1)\n",
    "#     metric = dc.metrics.Metric(dc.metrics.score_function.rms_score)\n",
    "    dd_losses.append(loss.history['loss'])\n",
    "    dd_model.input_shapes = [i.shape for i in x_preprocessed_val]\n",
    "    dd_model.modify_graphgather(val_size)\n",
    "    dd_val_losses.append(dd_model.evaluate(x_val, y_val.reshape([1, -1])))"
   ]
  },
  {
   "cell_type": "code",
   "execution_count": 78,
   "metadata": {},
   "outputs": [
    {
     "data": {
      "image/png": "[encoded data removed]",
      "text/plain": [
       "<Figure size 432x288 with 1 Axes>"
      ]
     },
     "metadata": {
      "needs_background": "light"
     },
     "output_type": "display_data"
    }
   ],
   "source": [
    "import matplotlib.pyplot as plt\n",
    "# f, ax = plt.subplots()\n",
    "plt.plot(range(len(dd_losses)), dd_losses, label='train loss')\n",
    "plt.plot(range(len(dd_val_losses)), dd_val_losses, label='val loss')\n",
    "plt.legend(loc='upper right');\n",
    "plt.xlabel(\"Epoch\")\n",
    "plt.ylabel(\"Loss (Kcal/mol)\")\n",
    "plt.ylim(0,100)\n",
    "plt.savefig('ind_loss.png')"
   ]
  },
  {
   "cell_type": "code",
   "execution_count": 60,
   "metadata": {},
   "outputs": [
    {
     "name": "stdout",
     "output_type": "stream",
     "text": [
      "1/1 [==============================] - 0s 31ms/step - loss: 42.6853\n"
     ]
    }
   ],
   "source": [
    "dd_model.input_shapes = [i.shape for i in x_preprocessed_test]\n",
    "dd_model.modify_graphgather(len(y_test))\n",
    "test_pgnn_loss = dd_model.evaluate(x_test, y_test.reshape([1, -1]))"
   ]
  },
  {
   "cell_type": "code",
   "execution_count": 61,
   "metadata": {},
   "outputs": [
    {
     "name": "stdout",
     "output_type": "stream",
     "text": [
      "6.533396099074534\n"
     ]
    }
   ],
   "source": [
    "dd_rmse_test = np.sqrt(test_pgnn_loss)\n",
    "print(dd_rmse_test)"
   ]
  },
  {
   "cell_type": "code",
   "execution_count": 62,
   "metadata": {},
   "outputs": [
    {
     "data": {
      "text/plain": [
       "[7.8834099769592285]"
      ]
     },
     "execution_count": 62,
     "metadata": {},
     "output_type": "execute_result"
    }
   ],
   "source": [
    "dd_train_loss = dd_losses[-1]\n",
    "dd_train_loss"
   ]
  },
  {
   "cell_type": "code",
   "execution_count": 63,
   "metadata": {},
   "outputs": [
    {
     "data": {
      "text/plain": [
       "2.8077410808262266"
      ]
     },
     "execution_count": 63,
     "metadata": {},
     "output_type": "execute_result"
    }
   ],
   "source": [
    "import math\n",
    "train_dd_rmse = math.sqrt(dd_train_loss[0])\n",
    "train_dd_rmse"
   ]
  },
  {
   "cell_type": "markdown",
   "metadata": {},
   "source": [
    "<h1> Model Comparisons </h1>"
   ]
  },
  {
   "cell_type": "code",
   "execution_count": 64,
   "metadata": {},
   "outputs": [
    {
     "name": "stdout",
     "output_type": "stream",
     "text": [
      "+-----------------------------+\n",
      "|        Test Set RMSE        |\n",
      "+--------+-------------+------+\n",
      "| GBNSR6 | Data Driven | PGNN |\n",
      "+--------+-------------+------+\n",
      "|  8.00  |     6.53    | 6.35 |\n",
      "+--------+-------------+------+\n"
     ]
    }
   ],
   "source": [
    "# Test\n",
    "from prettytable import PrettyTable\n",
    "rmse_table = PrettyTable()\n",
    "rmse_table.title=\"Test Set RMSE\"\n",
    "rmse_table.field_names = [\"GBNSR6\", \"Data Driven\", \"PGNN\"]\n",
    "rmse_table.add_row([\"{:.2f}\".format(physics_based_rmse_test), \"{:.2f}\".format(dd_rmse_test),\"{:.2f}\".format(pgnn_rmse_test)])\n",
    "print(rmse_table)"
   ]
  },
  {
   "cell_type": "code",
   "execution_count": 65,
   "metadata": {},
   "outputs": [
    {
     "name": "stdout",
     "output_type": "stream",
     "text": [
      "+-----------------------------+\n",
      "|        Train Set RMSE       |\n",
      "+--------+-------------+------+\n",
      "| GBNSR6 | Data Driven | PGNN |\n",
      "+--------+-------------+------+\n",
      "|  9.57  |     2.81    | 4.63 |\n",
      "+--------+-------------+------+\n"
     ]
    }
   ],
   "source": [
    "# Train\n",
    "rmse_table = PrettyTable()\n",
    "rmse_table.title=\"Train Set RMSE\"\n",
    "rmse_table.field_names = [\"GBNSR6\", \"Data Driven\", \"PGNN\"]\n",
    "rmse_table.add_row([\"{:.2f}\".format(physics_based_rmse_train), \"{:.2f}\".format(train_dd_rmse),\"{:.2f}\".format(train_hybrid_rmse)])\n",
    "print(rmse_table)"
   ]
  }
 ],
 "metadata": {
  "kernelspec": {
   "display_name": "rdkit-deepchem-jupyter",
   "language": "python",
   "name": "rdkit-deepchem-jupyter"
  },
  "language_info": {
   "codemirror_mode": {
    "name": "ipython",
    "version": 3
   },
   "file_extension": ".py",
   "mimetype": "text/x-python",
   "name": "python",
   "nbconvert_exporter": "python",
   "pygments_lexer": "ipython3",
   "version": "3.9.7"
  }
 },
 "nbformat": 4,
 "nbformat_minor": 4
}
